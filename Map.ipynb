{
 "cells": [
  {
   "cell_type": "code",
   "execution_count": 427,
   "metadata": {},
   "outputs": [],
   "source": [
    "import pandas as pd\n",
    "import numpy as np\n",
    "import datetime as dt"
   ]
  },
  {
   "cell_type": "code",
   "execution_count": 428,
   "metadata": {},
   "outputs": [],
   "source": [
    "eventsData = pd.read_csv(\"data/Eventos(+completo).csv\",low_memory = False)"
   ]
  },
  {
   "cell_type": "code",
   "execution_count": 429,
   "metadata": {},
   "outputs": [
    {
     "data": {
      "text/plain": [
       "Index(['Unnamed: 0', 'timestamp', 'event', 'person', 'url', 'sku', 'model',\n",
       "       'condition', 'storage', 'color', 'skus', 'search_term', 'staticpage',\n",
       "       'campaign_source', 'search_engine', 'channel', 'new_vs_returning',\n",
       "       'city', 'region', 'country', 'device_type', 'screen_resolution',\n",
       "       'operating_system_version', 'browser_version', 'Parte del dia'],\n",
       "      dtype='object')"
      ]
     },
     "execution_count": 429,
     "metadata": {},
     "output_type": "execute_result"
    }
   ],
   "source": [
    "eventsData.columns"
   ]
  },
  {
   "cell_type": "code",
   "execution_count": 430,
   "metadata": {},
   "outputs": [],
   "source": [
    "eventsData = eventsData.drop(\"Unnamed: 0\", axis=1)"
   ]
  },
  {
   "cell_type": "code",
   "execution_count": 431,
   "metadata": {},
   "outputs": [],
   "source": [
    "geoData = eventsData[[\"person\",\"event\",\"city\",\"region\",\"country\"]]"
   ]
  },
  {
   "cell_type": "code",
   "execution_count": 432,
   "metadata": {},
   "outputs": [],
   "source": [
    "deviceUsersData = eventsData[[\"person\",\"browser_version\",\"operating_system_version\",\"screen_resolution\",\"device_type\"]]"
   ]
  },
  {
   "cell_type": "code",
   "execution_count": 433,
   "metadata": {},
   "outputs": [],
   "source": [
    "productData = eventsData[[\"person\",\"event\",\"sku\",\"model\",\"condition\",\"storage\",\"skus\"]]"
   ]
  },
  {
   "cell_type": "code",
   "execution_count": 434,
   "metadata": {},
   "outputs": [],
   "source": [
    "infoUserData = eventsData[[\"person\",\"timestamp\",\"search_term\",\"staticpage\",\"campaign_source\",\"search_engine\",\"channel\",\"new_vs_returning\"]]"
   ]
  },
  {
   "cell_type": "code",
   "execution_count": 435,
   "metadata": {},
   "outputs": [],
   "source": [
    "timeData = eventsData[[\"person\",\"timestamp\",\"Parte del dia\",\"event\"]]"
   ]
  },
  {
   "cell_type": "code",
   "execution_count": 436,
   "metadata": {},
   "outputs": [],
   "source": [
    "personColor = eventsData[[\"person\",\"event\",\"color\"]]"
   ]
  },
  {
   "cell_type": "markdown",
   "metadata": {},
   "source": [
    "Busco crear nuevo features "
   ]
  },
  {
   "cell_type": "markdown",
   "metadata": {},
   "source": [
    "temporales"
   ]
  },
  {
   "cell_type": "code",
   "execution_count": 437,
   "metadata": {},
   "outputs": [
    {
     "data": {
      "text/html": [
       "<div>\n",
       "<table border=\"1\" class=\"dataframe\">\n",
       "  <thead>\n",
       "    <tr style=\"text-align: right;\">\n",
       "      <th></th>\n",
       "      <th>person</th>\n",
       "      <th>timestamp</th>\n",
       "      <th>Parte del dia</th>\n",
       "      <th>event</th>\n",
       "    </tr>\n",
       "  </thead>\n",
       "  <tbody>\n",
       "    <tr>\n",
       "      <th>0</th>\n",
       "      <td>4886f805</td>\n",
       "      <td>2018-05-18 00:11:59</td>\n",
       "      <td>Noche</td>\n",
       "      <td>viewed product</td>\n",
       "    </tr>\n",
       "    <tr>\n",
       "      <th>1</th>\n",
       "      <td>ad93850f</td>\n",
       "      <td>2018-05-18 00:11:27</td>\n",
       "      <td>Noche</td>\n",
       "      <td>viewed product</td>\n",
       "    </tr>\n",
       "    <tr>\n",
       "      <th>2</th>\n",
       "      <td>0297fc1e</td>\n",
       "      <td>2018-05-18 00:11:16</td>\n",
       "      <td>Noche</td>\n",
       "      <td>viewed product</td>\n",
       "    </tr>\n",
       "    <tr>\n",
       "      <th>3</th>\n",
       "      <td>2d681dd8</td>\n",
       "      <td>2018-05-18 00:11:14</td>\n",
       "      <td>Noche</td>\n",
       "      <td>viewed product</td>\n",
       "    </tr>\n",
       "    <tr>\n",
       "      <th>4</th>\n",
       "      <td>cccea85e</td>\n",
       "      <td>2018-05-18 00:11:09</td>\n",
       "      <td>Noche</td>\n",
       "      <td>viewed product</td>\n",
       "    </tr>\n",
       "  </tbody>\n",
       "</table>\n",
       "</div>"
      ],
      "text/plain": [
       "     person            timestamp Parte del dia           event\n",
       "0  4886f805  2018-05-18 00:11:59         Noche  viewed product\n",
       "1  ad93850f  2018-05-18 00:11:27         Noche  viewed product\n",
       "2  0297fc1e  2018-05-18 00:11:16         Noche  viewed product\n",
       "3  2d681dd8  2018-05-18 00:11:14         Noche  viewed product\n",
       "4  cccea85e  2018-05-18 00:11:09         Noche  viewed product"
      ]
     },
     "execution_count": 437,
     "metadata": {},
     "output_type": "execute_result"
    }
   ],
   "source": [
    "timeData.head()"
   ]
  },
  {
   "cell_type": "code",
   "execution_count": 438,
   "metadata": {},
   "outputs": [],
   "source": [
    "users_partedeldia = timeData[[\"person\",\"Parte del dia\"]]"
   ]
  },
  {
   "cell_type": "code",
   "execution_count": 439,
   "metadata": {},
   "outputs": [],
   "source": [
    "users_partedeldia = pd.get_dummies(users_partedeldia, columns=[\"Parte del dia\"])"
   ]
  },
  {
   "cell_type": "code",
   "execution_count": 440,
   "metadata": {},
   "outputs": [],
   "source": [
    "users_partedeldia = users_partedeldia.groupby(\"person\",as_index = False).sum()"
   ]
  },
  {
   "cell_type": "code",
   "execution_count": 441,
   "metadata": {},
   "outputs": [
    {
     "name": "stderr",
     "output_type": "stream",
     "text": [
      "/anaconda/lib/python3.6/site-packages/ipykernel/__main__.py:5: SettingWithCopyWarning: \n",
      "A value is trying to be set on a copy of a slice from a DataFrame.\n",
      "Try using .loc[row_indexer,col_indexer] = value instead\n",
      "\n",
      "See the caveats in the documentation: http://pandas.pydata.org/pandas-docs/stable/indexing.html#indexing-view-versus-copy\n"
     ]
    },
    {
     "data": {
      "text/plain": [
       "pandas.tslib.Timestamp"
      ]
     },
     "execution_count": 441,
     "metadata": {},
     "output_type": "execute_result"
    }
   ],
   "source": [
    "#Funcion que pasa a formato datetime las fechas que recibimos.\n",
    "def datetime(date,format_string):\n",
    "    return pd.to_datetime(date,format= format_string,errors='coerce')\n",
    "\n",
    "timeData[\"timestamp\"]= datetime(timeData[\"timestamp\"],\"%Y-%m-%dT%H:%M:%S\")\n",
    "\n",
    "type(timeData[\"timestamp\"][0])"
   ]
  },
  {
   "cell_type": "code",
   "execution_count": 442,
   "metadata": {},
   "outputs": [
    {
     "name": "stderr",
     "output_type": "stream",
     "text": [
      "/anaconda/lib/python3.6/site-packages/ipykernel/__main__.py:1: SettingWithCopyWarning: \n",
      "A value is trying to be set on a copy of a slice from a DataFrame.\n",
      "Try using .loc[row_indexer,col_indexer] = value instead\n",
      "\n",
      "See the caveats in the documentation: http://pandas.pydata.org/pandas-docs/stable/indexing.html#indexing-view-versus-copy\n",
      "  if __name__ == '__main__':\n",
      "/anaconda/lib/python3.6/site-packages/ipykernel/__main__.py:2: SettingWithCopyWarning: \n",
      "A value is trying to be set on a copy of a slice from a DataFrame.\n",
      "Try using .loc[row_indexer,col_indexer] = value instead\n",
      "\n",
      "See the caveats in the documentation: http://pandas.pydata.org/pandas-docs/stable/indexing.html#indexing-view-versus-copy\n",
      "  from ipykernel import kernelapp as app\n",
      "/anaconda/lib/python3.6/site-packages/ipykernel/__main__.py:3: SettingWithCopyWarning: \n",
      "A value is trying to be set on a copy of a slice from a DataFrame.\n",
      "Try using .loc[row_indexer,col_indexer] = value instead\n",
      "\n",
      "See the caveats in the documentation: http://pandas.pydata.org/pandas-docs/stable/indexing.html#indexing-view-versus-copy\n",
      "  app.launch_new_instance()\n",
      "/anaconda/lib/python3.6/site-packages/ipykernel/__main__.py:4: SettingWithCopyWarning: \n",
      "A value is trying to be set on a copy of a slice from a DataFrame.\n",
      "Try using .loc[row_indexer,col_indexer] = value instead\n",
      "\n",
      "See the caveats in the documentation: http://pandas.pydata.org/pandas-docs/stable/indexing.html#indexing-view-versus-copy\n"
     ]
    }
   ],
   "source": [
    "timeData[\"year\"] = timeData[\"timestamp\"].map(lambda x: x.year)\n",
    "timeData[\"month\"] = timeData[\"timestamp\"].map(lambda x: x.month)\n",
    "timeData[\"day\"] = timeData[\"timestamp\"].map(lambda x: x.day)\n",
    "timeData[\"hour\"] = timeData[\"timestamp\"].map(lambda x: x.hour)"
   ]
  },
  {
   "cell_type": "code",
   "execution_count": 443,
   "metadata": {},
   "outputs": [],
   "source": [
    "last_15days = timeData[[\"person\",\"event\",\"month\",\"day\"]]"
   ]
  },
  {
   "cell_type": "code",
   "execution_count": 444,
   "metadata": {},
   "outputs": [
    {
     "data": {
      "text/html": [
       "<div>\n",
       "<table border=\"1\" class=\"dataframe\">\n",
       "  <thead>\n",
       "    <tr style=\"text-align: right;\">\n",
       "      <th></th>\n",
       "      <th>person</th>\n",
       "      <th>event</th>\n",
       "      <th>month</th>\n",
       "      <th>day</th>\n",
       "    </tr>\n",
       "  </thead>\n",
       "  <tbody>\n",
       "    <tr>\n",
       "      <th>0</th>\n",
       "      <td>4886f805</td>\n",
       "      <td>viewed product</td>\n",
       "      <td>5</td>\n",
       "      <td>18</td>\n",
       "    </tr>\n",
       "    <tr>\n",
       "      <th>1</th>\n",
       "      <td>ad93850f</td>\n",
       "      <td>viewed product</td>\n",
       "      <td>5</td>\n",
       "      <td>18</td>\n",
       "    </tr>\n",
       "    <tr>\n",
       "      <th>2</th>\n",
       "      <td>0297fc1e</td>\n",
       "      <td>viewed product</td>\n",
       "      <td>5</td>\n",
       "      <td>18</td>\n",
       "    </tr>\n",
       "    <tr>\n",
       "      <th>3</th>\n",
       "      <td>2d681dd8</td>\n",
       "      <td>viewed product</td>\n",
       "      <td>5</td>\n",
       "      <td>18</td>\n",
       "    </tr>\n",
       "    <tr>\n",
       "      <th>4</th>\n",
       "      <td>cccea85e</td>\n",
       "      <td>viewed product</td>\n",
       "      <td>5</td>\n",
       "      <td>18</td>\n",
       "    </tr>\n",
       "  </tbody>\n",
       "</table>\n",
       "</div>"
      ],
      "text/plain": [
       "     person           event  month  day\n",
       "0  4886f805  viewed product      5   18\n",
       "1  ad93850f  viewed product      5   18\n",
       "2  0297fc1e  viewed product      5   18\n",
       "3  2d681dd8  viewed product      5   18\n",
       "4  cccea85e  viewed product      5   18"
      ]
     },
     "execution_count": 444,
     "metadata": {},
     "output_type": "execute_result"
    }
   ],
   "source": [
    "\n",
    "last_15days.head()"
   ]
  },
  {
   "cell_type": "code",
   "execution_count": 445,
   "metadata": {},
   "outputs": [],
   "source": [
    "last_15days = last_15days[last_15days[\"month\"] == 5]"
   ]
  },
  {
   "cell_type": "code",
   "execution_count": 446,
   "metadata": {},
   "outputs": [
    {
     "data": {
      "text/html": [
       "<div>\n",
       "<table border=\"1\" class=\"dataframe\">\n",
       "  <thead>\n",
       "    <tr style=\"text-align: right;\">\n",
       "      <th></th>\n",
       "      <th>person</th>\n",
       "      <th>event</th>\n",
       "    </tr>\n",
       "  </thead>\n",
       "  <tbody>\n",
       "    <tr>\n",
       "      <th>0</th>\n",
       "      <td>4886f805</td>\n",
       "      <td>viewed product</td>\n",
       "    </tr>\n",
       "    <tr>\n",
       "      <th>1</th>\n",
       "      <td>ad93850f</td>\n",
       "      <td>viewed product</td>\n",
       "    </tr>\n",
       "    <tr>\n",
       "      <th>2</th>\n",
       "      <td>0297fc1e</td>\n",
       "      <td>viewed product</td>\n",
       "    </tr>\n",
       "    <tr>\n",
       "      <th>3</th>\n",
       "      <td>2d681dd8</td>\n",
       "      <td>viewed product</td>\n",
       "    </tr>\n",
       "    <tr>\n",
       "      <th>4</th>\n",
       "      <td>cccea85e</td>\n",
       "      <td>viewed product</td>\n",
       "    </tr>\n",
       "  </tbody>\n",
       "</table>\n",
       "</div>"
      ],
      "text/plain": [
       "     person           event\n",
       "0  4886f805  viewed product\n",
       "1  ad93850f  viewed product\n",
       "2  0297fc1e  viewed product\n",
       "3  2d681dd8  viewed product\n",
       "4  cccea85e  viewed product"
      ]
     },
     "execution_count": 446,
     "metadata": {},
     "output_type": "execute_result"
    }
   ],
   "source": [
    "last_15days = last_15days[last_15days[\"day\"] > 14]\n",
    "last_15days = last_15days[[\"person\",\"event\"]]\n",
    "last_15days.head()"
   ]
  },
  {
   "cell_type": "code",
   "execution_count": 447,
   "metadata": {},
   "outputs": [],
   "source": [
    "last_15days[\"count_activity\"] = 1"
   ]
  },
  {
   "cell_type": "code",
   "execution_count": 448,
   "metadata": {},
   "outputs": [
    {
     "data": {
      "text/html": [
       "<div>\n",
       "<table border=\"1\" class=\"dataframe\">\n",
       "  <thead>\n",
       "    <tr style=\"text-align: right;\">\n",
       "      <th></th>\n",
       "      <th>person</th>\n",
       "      <th>count_activity</th>\n",
       "      <th>event_ad campaign hit</th>\n",
       "      <th>event_brand listing</th>\n",
       "      <th>event_checkout</th>\n",
       "      <th>event_conversion</th>\n",
       "      <th>event_generic listing</th>\n",
       "      <th>event_lead</th>\n",
       "      <th>event_search engine hit</th>\n",
       "      <th>event_searched products</th>\n",
       "      <th>event_staticpage</th>\n",
       "      <th>event_viewed product</th>\n",
       "      <th>event_visited site</th>\n",
       "    </tr>\n",
       "  </thead>\n",
       "  <tbody>\n",
       "    <tr>\n",
       "      <th>0</th>\n",
       "      <td>4886f805</td>\n",
       "      <td>1</td>\n",
       "      <td>0</td>\n",
       "      <td>0</td>\n",
       "      <td>0</td>\n",
       "      <td>0</td>\n",
       "      <td>0</td>\n",
       "      <td>0</td>\n",
       "      <td>0</td>\n",
       "      <td>0</td>\n",
       "      <td>0</td>\n",
       "      <td>1</td>\n",
       "      <td>0</td>\n",
       "    </tr>\n",
       "    <tr>\n",
       "      <th>1</th>\n",
       "      <td>ad93850f</td>\n",
       "      <td>1</td>\n",
       "      <td>0</td>\n",
       "      <td>0</td>\n",
       "      <td>0</td>\n",
       "      <td>0</td>\n",
       "      <td>0</td>\n",
       "      <td>0</td>\n",
       "      <td>0</td>\n",
       "      <td>0</td>\n",
       "      <td>0</td>\n",
       "      <td>1</td>\n",
       "      <td>0</td>\n",
       "    </tr>\n",
       "    <tr>\n",
       "      <th>2</th>\n",
       "      <td>0297fc1e</td>\n",
       "      <td>1</td>\n",
       "      <td>0</td>\n",
       "      <td>0</td>\n",
       "      <td>0</td>\n",
       "      <td>0</td>\n",
       "      <td>0</td>\n",
       "      <td>0</td>\n",
       "      <td>0</td>\n",
       "      <td>0</td>\n",
       "      <td>0</td>\n",
       "      <td>1</td>\n",
       "      <td>0</td>\n",
       "    </tr>\n",
       "    <tr>\n",
       "      <th>3</th>\n",
       "      <td>2d681dd8</td>\n",
       "      <td>1</td>\n",
       "      <td>0</td>\n",
       "      <td>0</td>\n",
       "      <td>0</td>\n",
       "      <td>0</td>\n",
       "      <td>0</td>\n",
       "      <td>0</td>\n",
       "      <td>0</td>\n",
       "      <td>0</td>\n",
       "      <td>0</td>\n",
       "      <td>1</td>\n",
       "      <td>0</td>\n",
       "    </tr>\n",
       "    <tr>\n",
       "      <th>4</th>\n",
       "      <td>cccea85e</td>\n",
       "      <td>1</td>\n",
       "      <td>0</td>\n",
       "      <td>0</td>\n",
       "      <td>0</td>\n",
       "      <td>0</td>\n",
       "      <td>0</td>\n",
       "      <td>0</td>\n",
       "      <td>0</td>\n",
       "      <td>0</td>\n",
       "      <td>0</td>\n",
       "      <td>1</td>\n",
       "      <td>0</td>\n",
       "    </tr>\n",
       "  </tbody>\n",
       "</table>\n",
       "</div>"
      ],
      "text/plain": [
       "     person  count_activity  event_ad campaign hit  event_brand listing  \\\n",
       "0  4886f805               1                      0                    0   \n",
       "1  ad93850f               1                      0                    0   \n",
       "2  0297fc1e               1                      0                    0   \n",
       "3  2d681dd8               1                      0                    0   \n",
       "4  cccea85e               1                      0                    0   \n",
       "\n",
       "   event_checkout  event_conversion  event_generic listing  event_lead  \\\n",
       "0               0                 0                      0           0   \n",
       "1               0                 0                      0           0   \n",
       "2               0                 0                      0           0   \n",
       "3               0                 0                      0           0   \n",
       "4               0                 0                      0           0   \n",
       "\n",
       "   event_search engine hit  event_searched products  event_staticpage  \\\n",
       "0                        0                        0                 0   \n",
       "1                        0                        0                 0   \n",
       "2                        0                        0                 0   \n",
       "3                        0                        0                 0   \n",
       "4                        0                        0                 0   \n",
       "\n",
       "   event_viewed product  event_visited site  \n",
       "0                     1                   0  \n",
       "1                     1                   0  \n",
       "2                     1                   0  \n",
       "3                     1                   0  \n",
       "4                     1                   0  "
      ]
     },
     "execution_count": 448,
     "metadata": {},
     "output_type": "execute_result"
    }
   ],
   "source": [
    "last_15days = pd.get_dummies(last_15days, columns=[\"event\"])\n",
    "last_15days.head()"
   ]
  },
  {
   "cell_type": "code",
   "execution_count": 449,
   "metadata": {},
   "outputs": [
    {
     "data": {
      "text/html": [
       "<div>\n",
       "<table border=\"1\" class=\"dataframe\">\n",
       "  <thead>\n",
       "    <tr style=\"text-align: right;\">\n",
       "      <th></th>\n",
       "      <th>person</th>\n",
       "      <th>count_activity</th>\n",
       "      <th>event_conversion</th>\n",
       "      <th>event_checkout</th>\n",
       "      <th>event_viewed product</th>\n",
       "    </tr>\n",
       "  </thead>\n",
       "  <tbody>\n",
       "    <tr>\n",
       "      <th>0</th>\n",
       "      <td>0008ed71</td>\n",
       "      <td>6</td>\n",
       "      <td>0.0</td>\n",
       "      <td>3.0</td>\n",
       "      <td>0.0</td>\n",
       "    </tr>\n",
       "    <tr>\n",
       "      <th>1</th>\n",
       "      <td>00091926</td>\n",
       "      <td>283</td>\n",
       "      <td>0.0</td>\n",
       "      <td>2.0</td>\n",
       "      <td>250.0</td>\n",
       "    </tr>\n",
       "    <tr>\n",
       "      <th>2</th>\n",
       "      <td>000ba417</td>\n",
       "      <td>206</td>\n",
       "      <td>1.0</td>\n",
       "      <td>6.0</td>\n",
       "      <td>153.0</td>\n",
       "    </tr>\n",
       "    <tr>\n",
       "      <th>3</th>\n",
       "      <td>000c79fe</td>\n",
       "      <td>17</td>\n",
       "      <td>0.0</td>\n",
       "      <td>1.0</td>\n",
       "      <td>3.0</td>\n",
       "    </tr>\n",
       "    <tr>\n",
       "      <th>4</th>\n",
       "      <td>000e4d9e</td>\n",
       "      <td>411</td>\n",
       "      <td>0.0</td>\n",
       "      <td>1.0</td>\n",
       "      <td>339.0</td>\n",
       "    </tr>\n",
       "  </tbody>\n",
       "</table>\n",
       "</div>"
      ],
      "text/plain": [
       "     person  count_activity  event_conversion  event_checkout  \\\n",
       "0  0008ed71               6               0.0             3.0   \n",
       "1  00091926             283               0.0             2.0   \n",
       "2  000ba417             206               1.0             6.0   \n",
       "3  000c79fe              17               0.0             1.0   \n",
       "4  000e4d9e             411               0.0             1.0   \n",
       "\n",
       "   event_viewed product  \n",
       "0                   0.0  \n",
       "1                 250.0  \n",
       "2                 153.0  \n",
       "3                   3.0  \n",
       "4                 339.0  "
      ]
     },
     "execution_count": 449,
     "metadata": {},
     "output_type": "execute_result"
    }
   ],
   "source": [
    "last_15days = last_15days.groupby(\"person\",as_index=False).sum()\n",
    "last_15days = last_15days[[\"person\",\"count_activity\",\"event_conversion\",\"event_checkout\",\"event_viewed product\"]]\n",
    "last_15days.head()"
   ]
  },
  {
   "cell_type": "code",
   "execution_count": 450,
   "metadata": {},
   "outputs": [
    {
     "data": {
      "text/html": [
       "<div>\n",
       "<table border=\"1\" class=\"dataframe\">\n",
       "  <thead>\n",
       "    <tr style=\"text-align: right;\">\n",
       "      <th></th>\n",
       "      <th>person</th>\n",
       "      <th>count_activity</th>\n",
       "      <th>conversiones_15lastdays</th>\n",
       "      <th>checkout_15lastdays</th>\n",
       "      <th>viewed_15lastday</th>\n",
       "    </tr>\n",
       "  </thead>\n",
       "  <tbody>\n",
       "    <tr>\n",
       "      <th>0</th>\n",
       "      <td>0008ed71</td>\n",
       "      <td>6</td>\n",
       "      <td>0.0</td>\n",
       "      <td>3.0</td>\n",
       "      <td>0.0</td>\n",
       "    </tr>\n",
       "    <tr>\n",
       "      <th>1</th>\n",
       "      <td>00091926</td>\n",
       "      <td>283</td>\n",
       "      <td>0.0</td>\n",
       "      <td>2.0</td>\n",
       "      <td>250.0</td>\n",
       "    </tr>\n",
       "    <tr>\n",
       "      <th>2</th>\n",
       "      <td>000ba417</td>\n",
       "      <td>206</td>\n",
       "      <td>1.0</td>\n",
       "      <td>6.0</td>\n",
       "      <td>153.0</td>\n",
       "    </tr>\n",
       "    <tr>\n",
       "      <th>3</th>\n",
       "      <td>000c79fe</td>\n",
       "      <td>17</td>\n",
       "      <td>0.0</td>\n",
       "      <td>1.0</td>\n",
       "      <td>3.0</td>\n",
       "    </tr>\n",
       "    <tr>\n",
       "      <th>4</th>\n",
       "      <td>000e4d9e</td>\n",
       "      <td>411</td>\n",
       "      <td>0.0</td>\n",
       "      <td>1.0</td>\n",
       "      <td>339.0</td>\n",
       "    </tr>\n",
       "  </tbody>\n",
       "</table>\n",
       "</div>"
      ],
      "text/plain": [
       "     person  count_activity  conversiones_15lastdays  checkout_15lastdays  \\\n",
       "0  0008ed71               6                      0.0                  3.0   \n",
       "1  00091926             283                      0.0                  2.0   \n",
       "2  000ba417             206                      1.0                  6.0   \n",
       "3  000c79fe              17                      0.0                  1.0   \n",
       "4  000e4d9e             411                      0.0                  1.0   \n",
       "\n",
       "   viewed_15lastday  \n",
       "0               0.0  \n",
       "1             250.0  \n",
       "2             153.0  \n",
       "3               3.0  \n",
       "4             339.0  "
      ]
     },
     "execution_count": 450,
     "metadata": {},
     "output_type": "execute_result"
    }
   ],
   "source": [
    "last_15days.columns = [\"person\",\"count_activity\",\"conversiones_15lastdays\",\"checkout_15lastdays\",\"viewed_15lastday\"]\n",
    "last_15days.head()"
   ]
  },
  {
   "cell_type": "code",
   "execution_count": 451,
   "metadata": {},
   "outputs": [
    {
     "data": {
      "text/html": [
       "<div>\n",
       "<table border=\"1\" class=\"dataframe\">\n",
       "  <thead>\n",
       "    <tr style=\"text-align: right;\">\n",
       "      <th></th>\n",
       "      <th>person</th>\n",
       "      <th>timestamp</th>\n",
       "      <th>Parte del dia</th>\n",
       "      <th>event</th>\n",
       "      <th>year</th>\n",
       "      <th>month</th>\n",
       "      <th>day</th>\n",
       "      <th>hour</th>\n",
       "    </tr>\n",
       "  </thead>\n",
       "  <tbody>\n",
       "    <tr>\n",
       "      <th>0</th>\n",
       "      <td>4886f805</td>\n",
       "      <td>2018-05-18 00:11:59</td>\n",
       "      <td>Noche</td>\n",
       "      <td>viewed product</td>\n",
       "      <td>2018</td>\n",
       "      <td>5</td>\n",
       "      <td>18</td>\n",
       "      <td>0</td>\n",
       "    </tr>\n",
       "    <tr>\n",
       "      <th>1</th>\n",
       "      <td>ad93850f</td>\n",
       "      <td>2018-05-18 00:11:27</td>\n",
       "      <td>Noche</td>\n",
       "      <td>viewed product</td>\n",
       "      <td>2018</td>\n",
       "      <td>5</td>\n",
       "      <td>18</td>\n",
       "      <td>0</td>\n",
       "    </tr>\n",
       "    <tr>\n",
       "      <th>2</th>\n",
       "      <td>0297fc1e</td>\n",
       "      <td>2018-05-18 00:11:16</td>\n",
       "      <td>Noche</td>\n",
       "      <td>viewed product</td>\n",
       "      <td>2018</td>\n",
       "      <td>5</td>\n",
       "      <td>18</td>\n",
       "      <td>0</td>\n",
       "    </tr>\n",
       "    <tr>\n",
       "      <th>3</th>\n",
       "      <td>2d681dd8</td>\n",
       "      <td>2018-05-18 00:11:14</td>\n",
       "      <td>Noche</td>\n",
       "      <td>viewed product</td>\n",
       "      <td>2018</td>\n",
       "      <td>5</td>\n",
       "      <td>18</td>\n",
       "      <td>0</td>\n",
       "    </tr>\n",
       "    <tr>\n",
       "      <th>4</th>\n",
       "      <td>cccea85e</td>\n",
       "      <td>2018-05-18 00:11:09</td>\n",
       "      <td>Noche</td>\n",
       "      <td>viewed product</td>\n",
       "      <td>2018</td>\n",
       "      <td>5</td>\n",
       "      <td>18</td>\n",
       "      <td>0</td>\n",
       "    </tr>\n",
       "  </tbody>\n",
       "</table>\n",
       "</div>"
      ],
      "text/plain": [
       "     person           timestamp Parte del dia           event  year  month  \\\n",
       "0  4886f805 2018-05-18 00:11:59         Noche  viewed product  2018      5   \n",
       "1  ad93850f 2018-05-18 00:11:27         Noche  viewed product  2018      5   \n",
       "2  0297fc1e 2018-05-18 00:11:16         Noche  viewed product  2018      5   \n",
       "3  2d681dd8 2018-05-18 00:11:14         Noche  viewed product  2018      5   \n",
       "4  cccea85e 2018-05-18 00:11:09         Noche  viewed product  2018      5   \n",
       "\n",
       "   day  hour  \n",
       "0   18     0  \n",
       "1   18     0  \n",
       "2   18     0  \n",
       "3   18     0  \n",
       "4   18     0  "
      ]
     },
     "execution_count": 451,
     "metadata": {},
     "output_type": "execute_result"
    }
   ],
   "source": [
    "timeData.head()"
   ]
  },
  {
   "cell_type": "code",
   "execution_count": 452,
   "metadata": {},
   "outputs": [
    {
     "name": "stderr",
     "output_type": "stream",
     "text": [
      "/anaconda/lib/python3.6/site-packages/ipykernel/__main__.py:1: SettingWithCopyWarning: \n",
      "A value is trying to be set on a copy of a slice from a DataFrame.\n",
      "Try using .loc[row_indexer,col_indexer] = value instead\n",
      "\n",
      "See the caveats in the documentation: http://pandas.pydata.org/pandas-docs/stable/indexing.html#indexing-view-versus-copy\n",
      "  if __name__ == '__main__':\n"
     ]
    }
   ],
   "source": [
    "timeData[\"minute\"] = timeData[\"timestamp\"].map(lambda x: x.minute)"
   ]
  },
  {
   "cell_type": "code",
   "execution_count": 453,
   "metadata": {},
   "outputs": [
    {
     "data": {
      "text/html": [
       "<div>\n",
       "<table border=\"1\" class=\"dataframe\">\n",
       "  <thead>\n",
       "    <tr style=\"text-align: right;\">\n",
       "      <th></th>\n",
       "      <th>person</th>\n",
       "      <th>timestamp</th>\n",
       "      <th>Parte del dia</th>\n",
       "      <th>event</th>\n",
       "      <th>year</th>\n",
       "      <th>month</th>\n",
       "      <th>day</th>\n",
       "      <th>hour</th>\n",
       "      <th>minute</th>\n",
       "    </tr>\n",
       "  </thead>\n",
       "  <tbody>\n",
       "    <tr>\n",
       "      <th>0</th>\n",
       "      <td>4886f805</td>\n",
       "      <td>2018-05-18 00:11:59</td>\n",
       "      <td>Noche</td>\n",
       "      <td>viewed product</td>\n",
       "      <td>2018</td>\n",
       "      <td>5</td>\n",
       "      <td>18</td>\n",
       "      <td>0</td>\n",
       "      <td>11</td>\n",
       "    </tr>\n",
       "    <tr>\n",
       "      <th>1</th>\n",
       "      <td>ad93850f</td>\n",
       "      <td>2018-05-18 00:11:27</td>\n",
       "      <td>Noche</td>\n",
       "      <td>viewed product</td>\n",
       "      <td>2018</td>\n",
       "      <td>5</td>\n",
       "      <td>18</td>\n",
       "      <td>0</td>\n",
       "      <td>11</td>\n",
       "    </tr>\n",
       "    <tr>\n",
       "      <th>2</th>\n",
       "      <td>0297fc1e</td>\n",
       "      <td>2018-05-18 00:11:16</td>\n",
       "      <td>Noche</td>\n",
       "      <td>viewed product</td>\n",
       "      <td>2018</td>\n",
       "      <td>5</td>\n",
       "      <td>18</td>\n",
       "      <td>0</td>\n",
       "      <td>11</td>\n",
       "    </tr>\n",
       "    <tr>\n",
       "      <th>3</th>\n",
       "      <td>2d681dd8</td>\n",
       "      <td>2018-05-18 00:11:14</td>\n",
       "      <td>Noche</td>\n",
       "      <td>viewed product</td>\n",
       "      <td>2018</td>\n",
       "      <td>5</td>\n",
       "      <td>18</td>\n",
       "      <td>0</td>\n",
       "      <td>11</td>\n",
       "    </tr>\n",
       "    <tr>\n",
       "      <th>4</th>\n",
       "      <td>cccea85e</td>\n",
       "      <td>2018-05-18 00:11:09</td>\n",
       "      <td>Noche</td>\n",
       "      <td>viewed product</td>\n",
       "      <td>2018</td>\n",
       "      <td>5</td>\n",
       "      <td>18</td>\n",
       "      <td>0</td>\n",
       "      <td>11</td>\n",
       "    </tr>\n",
       "  </tbody>\n",
       "</table>\n",
       "</div>"
      ],
      "text/plain": [
       "     person           timestamp Parte del dia           event  year  month  \\\n",
       "0  4886f805 2018-05-18 00:11:59         Noche  viewed product  2018      5   \n",
       "1  ad93850f 2018-05-18 00:11:27         Noche  viewed product  2018      5   \n",
       "2  0297fc1e 2018-05-18 00:11:16         Noche  viewed product  2018      5   \n",
       "3  2d681dd8 2018-05-18 00:11:14         Noche  viewed product  2018      5   \n",
       "4  cccea85e 2018-05-18 00:11:09         Noche  viewed product  2018      5   \n",
       "\n",
       "   day  hour  minute  \n",
       "0   18     0      11  \n",
       "1   18     0      11  \n",
       "2   18     0      11  \n",
       "3   18     0      11  \n",
       "4   18     0      11  "
      ]
     },
     "execution_count": 453,
     "metadata": {},
     "output_type": "execute_result"
    }
   ],
   "source": [
    "timeData.head()"
   ]
  },
  {
   "cell_type": "code",
   "execution_count": 454,
   "metadata": {},
   "outputs": [
    {
     "data": {
      "text/plain": [
       "2018    2341681\n",
       "Name: year, dtype: int64"
      ]
     },
     "execution_count": 454,
     "metadata": {},
     "output_type": "execute_result"
    }
   ],
   "source": [
    "timeData[\"year\"].value_counts()"
   ]
  },
  {
   "cell_type": "code",
   "execution_count": 455,
   "metadata": {},
   "outputs": [],
   "source": [
    "timeData = timeData.drop(\"year\",axis = 1)"
   ]
  },
  {
   "cell_type": "code",
   "execution_count": 456,
   "metadata": {},
   "outputs": [
    {
     "data": {
      "text/html": [
       "<div>\n",
       "<table border=\"1\" class=\"dataframe\">\n",
       "  <thead>\n",
       "    <tr style=\"text-align: right;\">\n",
       "      <th></th>\n",
       "      <th>person</th>\n",
       "      <th>timestamp</th>\n",
       "      <th>Parte del dia</th>\n",
       "      <th>month</th>\n",
       "      <th>day</th>\n",
       "      <th>hour</th>\n",
       "      <th>minute</th>\n",
       "      <th>event_ad campaign hit</th>\n",
       "      <th>event_brand listing</th>\n",
       "      <th>event_checkout</th>\n",
       "      <th>event_conversion</th>\n",
       "      <th>event_generic listing</th>\n",
       "      <th>event_lead</th>\n",
       "      <th>event_search engine hit</th>\n",
       "      <th>event_searched products</th>\n",
       "      <th>event_staticpage</th>\n",
       "      <th>event_viewed product</th>\n",
       "      <th>event_visited site</th>\n",
       "    </tr>\n",
       "  </thead>\n",
       "  <tbody>\n",
       "    <tr>\n",
       "      <th>0</th>\n",
       "      <td>4886f805</td>\n",
       "      <td>2018-05-18 00:11:59</td>\n",
       "      <td>Noche</td>\n",
       "      <td>5</td>\n",
       "      <td>18</td>\n",
       "      <td>0</td>\n",
       "      <td>11</td>\n",
       "      <td>0</td>\n",
       "      <td>0</td>\n",
       "      <td>0</td>\n",
       "      <td>0</td>\n",
       "      <td>0</td>\n",
       "      <td>0</td>\n",
       "      <td>0</td>\n",
       "      <td>0</td>\n",
       "      <td>0</td>\n",
       "      <td>1</td>\n",
       "      <td>0</td>\n",
       "    </tr>\n",
       "    <tr>\n",
       "      <th>1</th>\n",
       "      <td>ad93850f</td>\n",
       "      <td>2018-05-18 00:11:27</td>\n",
       "      <td>Noche</td>\n",
       "      <td>5</td>\n",
       "      <td>18</td>\n",
       "      <td>0</td>\n",
       "      <td>11</td>\n",
       "      <td>0</td>\n",
       "      <td>0</td>\n",
       "      <td>0</td>\n",
       "      <td>0</td>\n",
       "      <td>0</td>\n",
       "      <td>0</td>\n",
       "      <td>0</td>\n",
       "      <td>0</td>\n",
       "      <td>0</td>\n",
       "      <td>1</td>\n",
       "      <td>0</td>\n",
       "    </tr>\n",
       "    <tr>\n",
       "      <th>2</th>\n",
       "      <td>0297fc1e</td>\n",
       "      <td>2018-05-18 00:11:16</td>\n",
       "      <td>Noche</td>\n",
       "      <td>5</td>\n",
       "      <td>18</td>\n",
       "      <td>0</td>\n",
       "      <td>11</td>\n",
       "      <td>0</td>\n",
       "      <td>0</td>\n",
       "      <td>0</td>\n",
       "      <td>0</td>\n",
       "      <td>0</td>\n",
       "      <td>0</td>\n",
       "      <td>0</td>\n",
       "      <td>0</td>\n",
       "      <td>0</td>\n",
       "      <td>1</td>\n",
       "      <td>0</td>\n",
       "    </tr>\n",
       "    <tr>\n",
       "      <th>3</th>\n",
       "      <td>2d681dd8</td>\n",
       "      <td>2018-05-18 00:11:14</td>\n",
       "      <td>Noche</td>\n",
       "      <td>5</td>\n",
       "      <td>18</td>\n",
       "      <td>0</td>\n",
       "      <td>11</td>\n",
       "      <td>0</td>\n",
       "      <td>0</td>\n",
       "      <td>0</td>\n",
       "      <td>0</td>\n",
       "      <td>0</td>\n",
       "      <td>0</td>\n",
       "      <td>0</td>\n",
       "      <td>0</td>\n",
       "      <td>0</td>\n",
       "      <td>1</td>\n",
       "      <td>0</td>\n",
       "    </tr>\n",
       "    <tr>\n",
       "      <th>4</th>\n",
       "      <td>cccea85e</td>\n",
       "      <td>2018-05-18 00:11:09</td>\n",
       "      <td>Noche</td>\n",
       "      <td>5</td>\n",
       "      <td>18</td>\n",
       "      <td>0</td>\n",
       "      <td>11</td>\n",
       "      <td>0</td>\n",
       "      <td>0</td>\n",
       "      <td>0</td>\n",
       "      <td>0</td>\n",
       "      <td>0</td>\n",
       "      <td>0</td>\n",
       "      <td>0</td>\n",
       "      <td>0</td>\n",
       "      <td>0</td>\n",
       "      <td>1</td>\n",
       "      <td>0</td>\n",
       "    </tr>\n",
       "  </tbody>\n",
       "</table>\n",
       "</div>"
      ],
      "text/plain": [
       "     person           timestamp Parte del dia  month  day  hour  minute  \\\n",
       "0  4886f805 2018-05-18 00:11:59         Noche      5   18     0      11   \n",
       "1  ad93850f 2018-05-18 00:11:27         Noche      5   18     0      11   \n",
       "2  0297fc1e 2018-05-18 00:11:16         Noche      5   18     0      11   \n",
       "3  2d681dd8 2018-05-18 00:11:14         Noche      5   18     0      11   \n",
       "4  cccea85e 2018-05-18 00:11:09         Noche      5   18     0      11   \n",
       "\n",
       "   event_ad campaign hit  event_brand listing  event_checkout  \\\n",
       "0                      0                    0               0   \n",
       "1                      0                    0               0   \n",
       "2                      0                    0               0   \n",
       "3                      0                    0               0   \n",
       "4                      0                    0               0   \n",
       "\n",
       "   event_conversion  event_generic listing  event_lead  \\\n",
       "0                 0                      0           0   \n",
       "1                 0                      0           0   \n",
       "2                 0                      0           0   \n",
       "3                 0                      0           0   \n",
       "4                 0                      0           0   \n",
       "\n",
       "   event_search engine hit  event_searched products  event_staticpage  \\\n",
       "0                        0                        0                 0   \n",
       "1                        0                        0                 0   \n",
       "2                        0                        0                 0   \n",
       "3                        0                        0                 0   \n",
       "4                        0                        0                 0   \n",
       "\n",
       "   event_viewed product  event_visited site  \n",
       "0                     1                   0  \n",
       "1                     1                   0  \n",
       "2                     1                   0  \n",
       "3                     1                   0  \n",
       "4                     1                   0  "
      ]
     },
     "execution_count": 456,
     "metadata": {},
     "output_type": "execute_result"
    }
   ],
   "source": [
    "timeData = pd.get_dummies(timeData, columns=[\"event\"])\n",
    "timeData.head()"
   ]
  },
  {
   "cell_type": "code",
   "execution_count": 457,
   "metadata": {},
   "outputs": [],
   "source": [
    "timeData = timeData.drop([\"timestamp\",\"Parte del dia\"], axis=1)"
   ]
  },
  {
   "cell_type": "code",
   "execution_count": 458,
   "metadata": {},
   "outputs": [
    {
     "data": {
      "text/html": [
       "<div>\n",
       "<table border=\"1\" class=\"dataframe\">\n",
       "  <thead>\n",
       "    <tr style=\"text-align: right;\">\n",
       "      <th></th>\n",
       "      <th>person</th>\n",
       "      <th>month</th>\n",
       "      <th>day</th>\n",
       "      <th>hour</th>\n",
       "      <th>minute</th>\n",
       "      <th>event_ad campaign hit</th>\n",
       "      <th>event_brand listing</th>\n",
       "      <th>event_checkout</th>\n",
       "      <th>event_conversion</th>\n",
       "      <th>event_generic listing</th>\n",
       "      <th>event_lead</th>\n",
       "      <th>event_search engine hit</th>\n",
       "      <th>event_searched products</th>\n",
       "      <th>event_staticpage</th>\n",
       "      <th>event_viewed product</th>\n",
       "      <th>event_visited site</th>\n",
       "    </tr>\n",
       "  </thead>\n",
       "  <tbody>\n",
       "    <tr>\n",
       "      <th>0</th>\n",
       "      <td>4886f805</td>\n",
       "      <td>5</td>\n",
       "      <td>18</td>\n",
       "      <td>0</td>\n",
       "      <td>11</td>\n",
       "      <td>0</td>\n",
       "      <td>0</td>\n",
       "      <td>0</td>\n",
       "      <td>0</td>\n",
       "      <td>0</td>\n",
       "      <td>0</td>\n",
       "      <td>0</td>\n",
       "      <td>0</td>\n",
       "      <td>0</td>\n",
       "      <td>1</td>\n",
       "      <td>0</td>\n",
       "    </tr>\n",
       "    <tr>\n",
       "      <th>1</th>\n",
       "      <td>ad93850f</td>\n",
       "      <td>5</td>\n",
       "      <td>18</td>\n",
       "      <td>0</td>\n",
       "      <td>11</td>\n",
       "      <td>0</td>\n",
       "      <td>0</td>\n",
       "      <td>0</td>\n",
       "      <td>0</td>\n",
       "      <td>0</td>\n",
       "      <td>0</td>\n",
       "      <td>0</td>\n",
       "      <td>0</td>\n",
       "      <td>0</td>\n",
       "      <td>1</td>\n",
       "      <td>0</td>\n",
       "    </tr>\n",
       "    <tr>\n",
       "      <th>2</th>\n",
       "      <td>0297fc1e</td>\n",
       "      <td>5</td>\n",
       "      <td>18</td>\n",
       "      <td>0</td>\n",
       "      <td>11</td>\n",
       "      <td>0</td>\n",
       "      <td>0</td>\n",
       "      <td>0</td>\n",
       "      <td>0</td>\n",
       "      <td>0</td>\n",
       "      <td>0</td>\n",
       "      <td>0</td>\n",
       "      <td>0</td>\n",
       "      <td>0</td>\n",
       "      <td>1</td>\n",
       "      <td>0</td>\n",
       "    </tr>\n",
       "    <tr>\n",
       "      <th>3</th>\n",
       "      <td>2d681dd8</td>\n",
       "      <td>5</td>\n",
       "      <td>18</td>\n",
       "      <td>0</td>\n",
       "      <td>11</td>\n",
       "      <td>0</td>\n",
       "      <td>0</td>\n",
       "      <td>0</td>\n",
       "      <td>0</td>\n",
       "      <td>0</td>\n",
       "      <td>0</td>\n",
       "      <td>0</td>\n",
       "      <td>0</td>\n",
       "      <td>0</td>\n",
       "      <td>1</td>\n",
       "      <td>0</td>\n",
       "    </tr>\n",
       "    <tr>\n",
       "      <th>4</th>\n",
       "      <td>cccea85e</td>\n",
       "      <td>5</td>\n",
       "      <td>18</td>\n",
       "      <td>0</td>\n",
       "      <td>11</td>\n",
       "      <td>0</td>\n",
       "      <td>0</td>\n",
       "      <td>0</td>\n",
       "      <td>0</td>\n",
       "      <td>0</td>\n",
       "      <td>0</td>\n",
       "      <td>0</td>\n",
       "      <td>0</td>\n",
       "      <td>0</td>\n",
       "      <td>1</td>\n",
       "      <td>0</td>\n",
       "    </tr>\n",
       "  </tbody>\n",
       "</table>\n",
       "</div>"
      ],
      "text/plain": [
       "     person  month  day  hour  minute  event_ad campaign hit  \\\n",
       "0  4886f805      5   18     0      11                      0   \n",
       "1  ad93850f      5   18     0      11                      0   \n",
       "2  0297fc1e      5   18     0      11                      0   \n",
       "3  2d681dd8      5   18     0      11                      0   \n",
       "4  cccea85e      5   18     0      11                      0   \n",
       "\n",
       "   event_brand listing  event_checkout  event_conversion  \\\n",
       "0                    0               0                 0   \n",
       "1                    0               0                 0   \n",
       "2                    0               0                 0   \n",
       "3                    0               0                 0   \n",
       "4                    0               0                 0   \n",
       "\n",
       "   event_generic listing  event_lead  event_search engine hit  \\\n",
       "0                      0           0                        0   \n",
       "1                      0           0                        0   \n",
       "2                      0           0                        0   \n",
       "3                      0           0                        0   \n",
       "4                      0           0                        0   \n",
       "\n",
       "   event_searched products  event_staticpage  event_viewed product  \\\n",
       "0                        0                 0                     1   \n",
       "1                        0                 0                     1   \n",
       "2                        0                 0                     1   \n",
       "3                        0                 0                     1   \n",
       "4                        0                 0                     1   \n",
       "\n",
       "   event_visited site  \n",
       "0                   0  \n",
       "1                   0  \n",
       "2                   0  \n",
       "3                   0  \n",
       "4                   0  "
      ]
     },
     "execution_count": 458,
     "metadata": {},
     "output_type": "execute_result"
    }
   ],
   "source": [
    "timeData.head()"
   ]
  },
  {
   "cell_type": "code",
   "execution_count": 459,
   "metadata": {},
   "outputs": [],
   "source": [
    "timeData = timeData.drop(\"minute\",axis=1)"
   ]
  },
  {
   "cell_type": "code",
   "execution_count": 460,
   "metadata": {},
   "outputs": [],
   "source": [
    "secionesUsuarios = timeData.groupby([\"person\",\"month\",\"day\",\"hour\"]).sum()"
   ]
  },
  {
   "cell_type": "code",
   "execution_count": 461,
   "metadata": {},
   "outputs": [],
   "source": [
    "secionesUsuarios[\"cant_seciones\"] = 1"
   ]
  },
  {
   "cell_type": "code",
   "execution_count": 462,
   "metadata": {},
   "outputs": [
    {
     "data": {
      "text/html": [
       "<div>\n",
       "<table border=\"1\" class=\"dataframe\">\n",
       "  <thead>\n",
       "    <tr style=\"text-align: right;\">\n",
       "      <th></th>\n",
       "      <th></th>\n",
       "      <th></th>\n",
       "      <th></th>\n",
       "      <th>event_ad campaign hit</th>\n",
       "      <th>event_brand listing</th>\n",
       "      <th>event_checkout</th>\n",
       "      <th>event_conversion</th>\n",
       "      <th>event_generic listing</th>\n",
       "      <th>event_lead</th>\n",
       "      <th>event_search engine hit</th>\n",
       "      <th>event_searched products</th>\n",
       "      <th>event_staticpage</th>\n",
       "      <th>event_viewed product</th>\n",
       "      <th>event_visited site</th>\n",
       "      <th>cant_seciones</th>\n",
       "    </tr>\n",
       "    <tr>\n",
       "      <th>person</th>\n",
       "      <th>month</th>\n",
       "      <th>day</th>\n",
       "      <th>hour</th>\n",
       "      <th></th>\n",
       "      <th></th>\n",
       "      <th></th>\n",
       "      <th></th>\n",
       "      <th></th>\n",
       "      <th></th>\n",
       "      <th></th>\n",
       "      <th></th>\n",
       "      <th></th>\n",
       "      <th></th>\n",
       "      <th></th>\n",
       "      <th></th>\n",
       "    </tr>\n",
       "  </thead>\n",
       "  <tbody>\n",
       "    <tr>\n",
       "      <th rowspan=\"3\" valign=\"top\">0008ed71</th>\n",
       "      <th rowspan=\"3\" valign=\"top\">5</th>\n",
       "      <th rowspan=\"3\" valign=\"top\">17</th>\n",
       "      <th>12</th>\n",
       "      <td>0.0</td>\n",
       "      <td>0.0</td>\n",
       "      <td>1.0</td>\n",
       "      <td>0.0</td>\n",
       "      <td>0.0</td>\n",
       "      <td>0.0</td>\n",
       "      <td>0.0</td>\n",
       "      <td>0.0</td>\n",
       "      <td>0.0</td>\n",
       "      <td>0.0</td>\n",
       "      <td>0.0</td>\n",
       "      <td>1</td>\n",
       "    </tr>\n",
       "    <tr>\n",
       "      <th>13</th>\n",
       "      <td>0.0</td>\n",
       "      <td>0.0</td>\n",
       "      <td>1.0</td>\n",
       "      <td>0.0</td>\n",
       "      <td>0.0</td>\n",
       "      <td>0.0</td>\n",
       "      <td>0.0</td>\n",
       "      <td>0.0</td>\n",
       "      <td>0.0</td>\n",
       "      <td>0.0</td>\n",
       "      <td>1.0</td>\n",
       "      <td>1</td>\n",
       "    </tr>\n",
       "    <tr>\n",
       "      <th>16</th>\n",
       "      <td>0.0</td>\n",
       "      <td>0.0</td>\n",
       "      <td>1.0</td>\n",
       "      <td>0.0</td>\n",
       "      <td>1.0</td>\n",
       "      <td>0.0</td>\n",
       "      <td>0.0</td>\n",
       "      <td>0.0</td>\n",
       "      <td>0.0</td>\n",
       "      <td>0.0</td>\n",
       "      <td>1.0</td>\n",
       "      <td>1</td>\n",
       "    </tr>\n",
       "    <tr>\n",
       "      <th rowspan=\"2\" valign=\"top\">00091926</th>\n",
       "      <th rowspan=\"2\" valign=\"top\">5</th>\n",
       "      <th>3</th>\n",
       "      <th>22</th>\n",
       "      <td>0.0</td>\n",
       "      <td>0.0</td>\n",
       "      <td>0.0</td>\n",
       "      <td>0.0</td>\n",
       "      <td>0.0</td>\n",
       "      <td>0.0</td>\n",
       "      <td>0.0</td>\n",
       "      <td>0.0</td>\n",
       "      <td>0.0</td>\n",
       "      <td>6.0</td>\n",
       "      <td>1.0</td>\n",
       "      <td>1</td>\n",
       "    </tr>\n",
       "    <tr>\n",
       "      <th>5</th>\n",
       "      <th>3</th>\n",
       "      <td>0.0</td>\n",
       "      <td>0.0</td>\n",
       "      <td>0.0</td>\n",
       "      <td>0.0</td>\n",
       "      <td>0.0</td>\n",
       "      <td>0.0</td>\n",
       "      <td>0.0</td>\n",
       "      <td>0.0</td>\n",
       "      <td>0.0</td>\n",
       "      <td>5.0</td>\n",
       "      <td>1.0</td>\n",
       "      <td>1</td>\n",
       "    </tr>\n",
       "  </tbody>\n",
       "</table>\n",
       "</div>"
      ],
      "text/plain": [
       "                         event_ad campaign hit  event_brand listing  \\\n",
       "person   month day hour                                               \n",
       "0008ed71 5     17  12                      0.0                  0.0   \n",
       "                   13                      0.0                  0.0   \n",
       "                   16                      0.0                  0.0   \n",
       "00091926 5     3   22                      0.0                  0.0   \n",
       "               5   3                       0.0                  0.0   \n",
       "\n",
       "                         event_checkout  event_conversion  \\\n",
       "person   month day hour                                     \n",
       "0008ed71 5     17  12               1.0               0.0   \n",
       "                   13               1.0               0.0   \n",
       "                   16               1.0               0.0   \n",
       "00091926 5     3   22               0.0               0.0   \n",
       "               5   3                0.0               0.0   \n",
       "\n",
       "                         event_generic listing  event_lead  \\\n",
       "person   month day hour                                      \n",
       "0008ed71 5     17  12                      0.0         0.0   \n",
       "                   13                      0.0         0.0   \n",
       "                   16                      1.0         0.0   \n",
       "00091926 5     3   22                      0.0         0.0   \n",
       "               5   3                       0.0         0.0   \n",
       "\n",
       "                         event_search engine hit  event_searched products  \\\n",
       "person   month day hour                                                     \n",
       "0008ed71 5     17  12                        0.0                      0.0   \n",
       "                   13                        0.0                      0.0   \n",
       "                   16                        0.0                      0.0   \n",
       "00091926 5     3   22                        0.0                      0.0   \n",
       "               5   3                         0.0                      0.0   \n",
       "\n",
       "                         event_staticpage  event_viewed product  \\\n",
       "person   month day hour                                           \n",
       "0008ed71 5     17  12                 0.0                   0.0   \n",
       "                   13                 0.0                   0.0   \n",
       "                   16                 0.0                   0.0   \n",
       "00091926 5     3   22                 0.0                   6.0   \n",
       "               5   3                  0.0                   5.0   \n",
       "\n",
       "                         event_visited site  cant_seciones  \n",
       "person   month day hour                                     \n",
       "0008ed71 5     17  12                   0.0              1  \n",
       "                   13                   1.0              1  \n",
       "                   16                   1.0              1  \n",
       "00091926 5     3   22                   1.0              1  \n",
       "               5   3                    1.0              1  "
      ]
     },
     "execution_count": 462,
     "metadata": {},
     "output_type": "execute_result"
    }
   ],
   "source": [
    "secionesUsuarios.head()"
   ]
  },
  {
   "cell_type": "code",
   "execution_count": 463,
   "metadata": {},
   "outputs": [
    {
     "data": {
      "text/html": [
       "<div>\n",
       "<table border=\"1\" class=\"dataframe\">\n",
       "  <thead>\n",
       "    <tr style=\"text-align: right;\">\n",
       "      <th></th>\n",
       "      <th></th>\n",
       "      <th></th>\n",
       "      <th></th>\n",
       "      <th>cant_seciones</th>\n",
       "      <th>event_checkout</th>\n",
       "      <th>event_conversion</th>\n",
       "      <th>event_ad campaign hit</th>\n",
       "      <th>event_lead</th>\n",
       "    </tr>\n",
       "    <tr>\n",
       "      <th>person</th>\n",
       "      <th>month</th>\n",
       "      <th>day</th>\n",
       "      <th>hour</th>\n",
       "      <th></th>\n",
       "      <th></th>\n",
       "      <th></th>\n",
       "      <th></th>\n",
       "      <th></th>\n",
       "    </tr>\n",
       "  </thead>\n",
       "  <tbody>\n",
       "    <tr>\n",
       "      <th rowspan=\"3\" valign=\"top\">0008ed71</th>\n",
       "      <th rowspan=\"3\" valign=\"top\">5</th>\n",
       "      <th rowspan=\"3\" valign=\"top\">17</th>\n",
       "      <th>12</th>\n",
       "      <td>1</td>\n",
       "      <td>1.0</td>\n",
       "      <td>0.0</td>\n",
       "      <td>0.0</td>\n",
       "      <td>0.0</td>\n",
       "    </tr>\n",
       "    <tr>\n",
       "      <th>13</th>\n",
       "      <td>1</td>\n",
       "      <td>1.0</td>\n",
       "      <td>0.0</td>\n",
       "      <td>0.0</td>\n",
       "      <td>0.0</td>\n",
       "    </tr>\n",
       "    <tr>\n",
       "      <th>16</th>\n",
       "      <td>1</td>\n",
       "      <td>1.0</td>\n",
       "      <td>0.0</td>\n",
       "      <td>0.0</td>\n",
       "      <td>0.0</td>\n",
       "    </tr>\n",
       "    <tr>\n",
       "      <th rowspan=\"2\" valign=\"top\">00091926</th>\n",
       "      <th rowspan=\"2\" valign=\"top\">5</th>\n",
       "      <th>3</th>\n",
       "      <th>22</th>\n",
       "      <td>1</td>\n",
       "      <td>0.0</td>\n",
       "      <td>0.0</td>\n",
       "      <td>0.0</td>\n",
       "      <td>0.0</td>\n",
       "    </tr>\n",
       "    <tr>\n",
       "      <th>5</th>\n",
       "      <th>3</th>\n",
       "      <td>1</td>\n",
       "      <td>0.0</td>\n",
       "      <td>0.0</td>\n",
       "      <td>0.0</td>\n",
       "      <td>0.0</td>\n",
       "    </tr>\n",
       "  </tbody>\n",
       "</table>\n",
       "</div>"
      ],
      "text/plain": [
       "                         cant_seciones  event_checkout  event_conversion  \\\n",
       "person   month day hour                                                    \n",
       "0008ed71 5     17  12                1             1.0               0.0   \n",
       "                   13                1             1.0               0.0   \n",
       "                   16                1             1.0               0.0   \n",
       "00091926 5     3   22                1             0.0               0.0   \n",
       "               5   3                 1             0.0               0.0   \n",
       "\n",
       "                         event_ad campaign hit  event_lead  \n",
       "person   month day hour                                     \n",
       "0008ed71 5     17  12                      0.0         0.0  \n",
       "                   13                      0.0         0.0  \n",
       "                   16                      0.0         0.0  \n",
       "00091926 5     3   22                      0.0         0.0  \n",
       "               5   3                       0.0         0.0  "
      ]
     },
     "execution_count": 463,
     "metadata": {},
     "output_type": "execute_result"
    }
   ],
   "source": [
    "secionesUsuarios = secionesUsuarios[[\"cant_seciones\",\"event_checkout\",\"event_conversion\",\"event_ad campaign hit\",\"event_lead\"]]\n",
    "secionesUsuarios.head()"
   ]
  },
  {
   "cell_type": "code",
   "execution_count": 464,
   "metadata": {},
   "outputs": [],
   "source": [
    "secionesUsuarios = secionesUsuarios.reset_index()"
   ]
  },
  {
   "cell_type": "code",
   "execution_count": 465,
   "metadata": {},
   "outputs": [
    {
     "data": {
      "text/html": [
       "<div>\n",
       "<table border=\"1\" class=\"dataframe\">\n",
       "  <thead>\n",
       "    <tr style=\"text-align: right;\">\n",
       "      <th></th>\n",
       "      <th>person</th>\n",
       "      <th>month</th>\n",
       "      <th>day</th>\n",
       "      <th>hour</th>\n",
       "      <th>cant_seciones</th>\n",
       "      <th>event_checkout</th>\n",
       "      <th>event_conversion</th>\n",
       "      <th>event_ad campaign hit</th>\n",
       "      <th>event_lead</th>\n",
       "    </tr>\n",
       "  </thead>\n",
       "  <tbody>\n",
       "    <tr>\n",
       "      <th>0</th>\n",
       "      <td>0008ed71</td>\n",
       "      <td>5</td>\n",
       "      <td>17</td>\n",
       "      <td>12</td>\n",
       "      <td>1</td>\n",
       "      <td>1.0</td>\n",
       "      <td>0.0</td>\n",
       "      <td>0.0</td>\n",
       "      <td>0.0</td>\n",
       "    </tr>\n",
       "    <tr>\n",
       "      <th>1</th>\n",
       "      <td>0008ed71</td>\n",
       "      <td>5</td>\n",
       "      <td>17</td>\n",
       "      <td>13</td>\n",
       "      <td>1</td>\n",
       "      <td>1.0</td>\n",
       "      <td>0.0</td>\n",
       "      <td>0.0</td>\n",
       "      <td>0.0</td>\n",
       "    </tr>\n",
       "    <tr>\n",
       "      <th>2</th>\n",
       "      <td>0008ed71</td>\n",
       "      <td>5</td>\n",
       "      <td>17</td>\n",
       "      <td>16</td>\n",
       "      <td>1</td>\n",
       "      <td>1.0</td>\n",
       "      <td>0.0</td>\n",
       "      <td>0.0</td>\n",
       "      <td>0.0</td>\n",
       "    </tr>\n",
       "    <tr>\n",
       "      <th>3</th>\n",
       "      <td>00091926</td>\n",
       "      <td>5</td>\n",
       "      <td>3</td>\n",
       "      <td>22</td>\n",
       "      <td>1</td>\n",
       "      <td>0.0</td>\n",
       "      <td>0.0</td>\n",
       "      <td>0.0</td>\n",
       "      <td>0.0</td>\n",
       "    </tr>\n",
       "    <tr>\n",
       "      <th>4</th>\n",
       "      <td>00091926</td>\n",
       "      <td>5</td>\n",
       "      <td>5</td>\n",
       "      <td>3</td>\n",
       "      <td>1</td>\n",
       "      <td>0.0</td>\n",
       "      <td>0.0</td>\n",
       "      <td>0.0</td>\n",
       "      <td>0.0</td>\n",
       "    </tr>\n",
       "  </tbody>\n",
       "</table>\n",
       "</div>"
      ],
      "text/plain": [
       "     person  month  day  hour  cant_seciones  event_checkout  \\\n",
       "0  0008ed71      5   17    12              1             1.0   \n",
       "1  0008ed71      5   17    13              1             1.0   \n",
       "2  0008ed71      5   17    16              1             1.0   \n",
       "3  00091926      5    3    22              1             0.0   \n",
       "4  00091926      5    5     3              1             0.0   \n",
       "\n",
       "   event_conversion  event_ad campaign hit  event_lead  \n",
       "0               0.0                    0.0         0.0  \n",
       "1               0.0                    0.0         0.0  \n",
       "2               0.0                    0.0         0.0  \n",
       "3               0.0                    0.0         0.0  \n",
       "4               0.0                    0.0         0.0  "
      ]
     },
     "execution_count": 465,
     "metadata": {},
     "output_type": "execute_result"
    }
   ],
   "source": [
    "secionesUsuarios.head()"
   ]
  },
  {
   "cell_type": "code",
   "execution_count": 466,
   "metadata": {},
   "outputs": [],
   "source": [
    "secionesUsuarios = secionesUsuarios.drop([\"day\",\"hour\",\"month\"],axis=1)"
   ]
  },
  {
   "cell_type": "code",
   "execution_count": 467,
   "metadata": {},
   "outputs": [],
   "source": [
    "secionesUsuarios = secionesUsuarios.groupby([\"person\"]).sum().fillna(0)"
   ]
  },
  {
   "cell_type": "code",
   "execution_count": 468,
   "metadata": {},
   "outputs": [
    {
     "data": {
      "text/html": [
       "<div>\n",
       "<table border=\"1\" class=\"dataframe\">\n",
       "  <thead>\n",
       "    <tr style=\"text-align: right;\">\n",
       "      <th></th>\n",
       "      <th>cant_seciones</th>\n",
       "      <th>event_checkout</th>\n",
       "      <th>event_conversion</th>\n",
       "      <th>event_ad campaign hit</th>\n",
       "      <th>event_lead</th>\n",
       "    </tr>\n",
       "    <tr>\n",
       "      <th>person</th>\n",
       "      <th></th>\n",
       "      <th></th>\n",
       "      <th></th>\n",
       "      <th></th>\n",
       "      <th></th>\n",
       "    </tr>\n",
       "  </thead>\n",
       "  <tbody>\n",
       "    <tr>\n",
       "      <th>0008ed71</th>\n",
       "      <td>3</td>\n",
       "      <td>3.0</td>\n",
       "      <td>0.0</td>\n",
       "      <td>0.0</td>\n",
       "      <td>0.0</td>\n",
       "    </tr>\n",
       "    <tr>\n",
       "      <th>00091926</th>\n",
       "      <td>37</td>\n",
       "      <td>2.0</td>\n",
       "      <td>0.0</td>\n",
       "      <td>15.0</td>\n",
       "      <td>0.0</td>\n",
       "    </tr>\n",
       "    <tr>\n",
       "      <th>00091a7a</th>\n",
       "      <td>1</td>\n",
       "      <td>0.0</td>\n",
       "      <td>0.0</td>\n",
       "      <td>1.0</td>\n",
       "      <td>0.0</td>\n",
       "    </tr>\n",
       "    <tr>\n",
       "      <th>000ba417</th>\n",
       "      <td>9</td>\n",
       "      <td>6.0</td>\n",
       "      <td>1.0</td>\n",
       "      <td>1.0</td>\n",
       "      <td>0.0</td>\n",
       "    </tr>\n",
       "    <tr>\n",
       "      <th>000c79fe</th>\n",
       "      <td>1</td>\n",
       "      <td>1.0</td>\n",
       "      <td>0.0</td>\n",
       "      <td>1.0</td>\n",
       "      <td>0.0</td>\n",
       "    </tr>\n",
       "  </tbody>\n",
       "</table>\n",
       "</div>"
      ],
      "text/plain": [
       "          cant_seciones  event_checkout  event_conversion  \\\n",
       "person                                                      \n",
       "0008ed71              3             3.0               0.0   \n",
       "00091926             37             2.0               0.0   \n",
       "00091a7a              1             0.0               0.0   \n",
       "000ba417              9             6.0               1.0   \n",
       "000c79fe              1             1.0               0.0   \n",
       "\n",
       "          event_ad campaign hit  event_lead  \n",
       "person                                       \n",
       "0008ed71                    0.0         0.0  \n",
       "00091926                   15.0         0.0  \n",
       "00091a7a                    1.0         0.0  \n",
       "000ba417                    1.0         0.0  \n",
       "000c79fe                    1.0         0.0  "
      ]
     },
     "execution_count": 468,
     "metadata": {},
     "output_type": "execute_result"
    }
   ],
   "source": [
    "secionesUsuarios.head()"
   ]
  },
  {
   "cell_type": "code",
   "execution_count": 469,
   "metadata": {},
   "outputs": [],
   "source": [
    "secionesUsuarios = secionesUsuarios.reset_index()"
   ]
  },
  {
   "cell_type": "code",
   "execution_count": 470,
   "metadata": {},
   "outputs": [
    {
     "data": {
      "text/plain": [
       "Index(['person', 'cant_seciones', 'event_checkout', 'event_conversion',\n",
       "       'event_ad campaign hit', 'event_lead'],\n",
       "      dtype='object')"
      ]
     },
     "execution_count": 470,
     "metadata": {},
     "output_type": "execute_result"
    }
   ],
   "source": [
    "secionesUsuarios.columns"
   ]
  },
  {
   "cell_type": "code",
   "execution_count": 471,
   "metadata": {},
   "outputs": [
    {
     "data": {
      "text/html": [
       "<div>\n",
       "<table border=\"1\" class=\"dataframe\">\n",
       "  <thead>\n",
       "    <tr style=\"text-align: right;\">\n",
       "      <th></th>\n",
       "      <th>person</th>\n",
       "      <th>cant_seciones</th>\n",
       "      <th>event_checkout</th>\n",
       "      <th>event_conversion</th>\n",
       "      <th>event_ad campaign hit</th>\n",
       "      <th>event_lead</th>\n",
       "    </tr>\n",
       "  </thead>\n",
       "  <tbody>\n",
       "    <tr>\n",
       "      <th>0</th>\n",
       "      <td>0008ed71</td>\n",
       "      <td>3</td>\n",
       "      <td>3.0</td>\n",
       "      <td>0.0</td>\n",
       "      <td>0.0</td>\n",
       "      <td>0.0</td>\n",
       "    </tr>\n",
       "    <tr>\n",
       "      <th>1</th>\n",
       "      <td>00091926</td>\n",
       "      <td>37</td>\n",
       "      <td>2.0</td>\n",
       "      <td>0.0</td>\n",
       "      <td>15.0</td>\n",
       "      <td>0.0</td>\n",
       "    </tr>\n",
       "    <tr>\n",
       "      <th>2</th>\n",
       "      <td>00091a7a</td>\n",
       "      <td>1</td>\n",
       "      <td>0.0</td>\n",
       "      <td>0.0</td>\n",
       "      <td>1.0</td>\n",
       "      <td>0.0</td>\n",
       "    </tr>\n",
       "    <tr>\n",
       "      <th>3</th>\n",
       "      <td>000ba417</td>\n",
       "      <td>9</td>\n",
       "      <td>6.0</td>\n",
       "      <td>1.0</td>\n",
       "      <td>1.0</td>\n",
       "      <td>0.0</td>\n",
       "    </tr>\n",
       "    <tr>\n",
       "      <th>4</th>\n",
       "      <td>000c79fe</td>\n",
       "      <td>1</td>\n",
       "      <td>1.0</td>\n",
       "      <td>0.0</td>\n",
       "      <td>1.0</td>\n",
       "      <td>0.0</td>\n",
       "    </tr>\n",
       "  </tbody>\n",
       "</table>\n",
       "</div>"
      ],
      "text/plain": [
       "     person  cant_seciones  event_checkout  event_conversion  \\\n",
       "0  0008ed71              3             3.0               0.0   \n",
       "1  00091926             37             2.0               0.0   \n",
       "2  00091a7a              1             0.0               0.0   \n",
       "3  000ba417              9             6.0               1.0   \n",
       "4  000c79fe              1             1.0               0.0   \n",
       "\n",
       "   event_ad campaign hit  event_lead  \n",
       "0                    0.0         0.0  \n",
       "1                   15.0         0.0  \n",
       "2                    1.0         0.0  \n",
       "3                    1.0         0.0  \n",
       "4                    1.0         0.0  "
      ]
     },
     "execution_count": 471,
     "metadata": {},
     "output_type": "execute_result"
    }
   ],
   "source": [
    "secionesUsuarios.head()"
   ]
  },
  {
   "cell_type": "markdown",
   "metadata": {},
   "source": [
    "Por dispositivo que usa el usuario para entrar al sitio"
   ]
  },
  {
   "cell_type": "code",
   "execution_count": 472,
   "metadata": {},
   "outputs": [
    {
     "data": {
      "text/html": [
       "<div>\n",
       "<table border=\"1\" class=\"dataframe\">\n",
       "  <thead>\n",
       "    <tr style=\"text-align: right;\">\n",
       "      <th></th>\n",
       "      <th>person</th>\n",
       "      <th>browser_version</th>\n",
       "      <th>operating_system_version</th>\n",
       "      <th>screen_resolution</th>\n",
       "      <th>device_type</th>\n",
       "    </tr>\n",
       "  </thead>\n",
       "  <tbody>\n",
       "    <tr>\n",
       "      <th>0</th>\n",
       "      <td>4886f805</td>\n",
       "      <td>Chrome Mobile 64.0</td>\n",
       "      <td>Android 7</td>\n",
       "      <td>360x640</td>\n",
       "      <td>Smartphone</td>\n",
       "    </tr>\n",
       "    <tr>\n",
       "      <th>1</th>\n",
       "      <td>ad93850f</td>\n",
       "      <td>Chrome Mobile 66.0</td>\n",
       "      <td>Android 5.1.1</td>\n",
       "      <td>360x640</td>\n",
       "      <td>Smartphone</td>\n",
       "    </tr>\n",
       "    <tr>\n",
       "      <th>2</th>\n",
       "      <td>0297fc1e</td>\n",
       "      <td>Chrome Mobile 61.0</td>\n",
       "      <td>Android 6.0.1</td>\n",
       "      <td>360x640</td>\n",
       "      <td>Smartphone</td>\n",
       "    </tr>\n",
       "    <tr>\n",
       "      <th>3</th>\n",
       "      <td>2d681dd8</td>\n",
       "      <td>Chrome 66.0</td>\n",
       "      <td>Windows 8.1</td>\n",
       "      <td>1360x768</td>\n",
       "      <td>Computer</td>\n",
       "    </tr>\n",
       "    <tr>\n",
       "      <th>4</th>\n",
       "      <td>cccea85e</td>\n",
       "      <td>Chrome 66.0</td>\n",
       "      <td>Windows 7</td>\n",
       "      <td>1536x864</td>\n",
       "      <td>Computer</td>\n",
       "    </tr>\n",
       "  </tbody>\n",
       "</table>\n",
       "</div>"
      ],
      "text/plain": [
       "     person     browser_version operating_system_version screen_resolution  \\\n",
       "0  4886f805  Chrome Mobile 64.0                Android 7           360x640   \n",
       "1  ad93850f  Chrome Mobile 66.0            Android 5.1.1           360x640   \n",
       "2  0297fc1e  Chrome Mobile 61.0            Android 6.0.1           360x640   \n",
       "3  2d681dd8         Chrome 66.0             Windows 8.1           1360x768   \n",
       "4  cccea85e         Chrome 66.0               Windows 7           1536x864   \n",
       "\n",
       "  device_type  \n",
       "0  Smartphone  \n",
       "1  Smartphone  \n",
       "2  Smartphone  \n",
       "3    Computer  \n",
       "4    Computer  "
      ]
     },
     "execution_count": 472,
     "metadata": {},
     "output_type": "execute_result"
    }
   ],
   "source": [
    "deviceUsersData.head()"
   ]
  },
  {
   "cell_type": "code",
   "execution_count": 473,
   "metadata": {},
   "outputs": [
    {
     "data": {
      "text/plain": [
       "Windows       1262240\n",
       "Android        975740\n",
       "iOS             73279\n",
       "Mac             10206\n",
       "Linux            9456\n",
       "Ubuntu           3313\n",
       "nan              2870\n",
       "Chrome           2376\n",
       "Other            1048\n",
       "Tizen             531\n",
       "BlackBerry        518\n",
       "Fedora             92\n",
       "FreeBSD             8\n",
       "Symbian             4\n",
       "Name: operating_system_version, dtype: int64"
      ]
     },
     "execution_count": 473,
     "metadata": {},
     "output_type": "execute_result"
    }
   ],
   "source": [
    "deviceUsersData[\"operating_system_version\"].map(lambda x: str(x).split(\" \")[0]).value_counts()"
   ]
  },
  {
   "cell_type": "code",
   "execution_count": 474,
   "metadata": {},
   "outputs": [
    {
     "name": "stderr",
     "output_type": "stream",
     "text": [
      "/anaconda/lib/python3.6/site-packages/ipykernel/__main__.py:1: SettingWithCopyWarning: \n",
      "A value is trying to be set on a copy of a slice from a DataFrame.\n",
      "Try using .loc[row_indexer,col_indexer] = value instead\n",
      "\n",
      "See the caveats in the documentation: http://pandas.pydata.org/pandas-docs/stable/indexing.html#indexing-view-versus-copy\n",
      "  if __name__ == '__main__':\n"
     ]
    }
   ],
   "source": [
    "deviceUsersData[\"operating_system_version\"] = deviceUsersData[\"operating_system_version\"].map(lambda x: str(x).split(\" \")[0])"
   ]
  },
  {
   "cell_type": "code",
   "execution_count": 475,
   "metadata": {},
   "outputs": [
    {
     "data": {
      "text/plain": [
       "Computer      1276520\n",
       "Smartphone    1028684\n",
       "Tablet          29896\n",
       "Unknown          3711\n",
       "Name: device_type, dtype: int64"
      ]
     },
     "execution_count": 475,
     "metadata": {},
     "output_type": "execute_result"
    }
   ],
   "source": [
    "deviceUsersData[\"device_type\"].value_counts()"
   ]
  },
  {
   "cell_type": "code",
   "execution_count": 476,
   "metadata": {},
   "outputs": [
    {
     "name": "stderr",
     "output_type": "stream",
     "text": [
      "/anaconda/lib/python3.6/site-packages/ipykernel/__main__.py:1: SettingWithCopyWarning: \n",
      "A value is trying to be set on a copy of a slice from a DataFrame.\n",
      "Try using .loc[row_indexer,col_indexer] = value instead\n",
      "\n",
      "See the caveats in the documentation: http://pandas.pydata.org/pandas-docs/stable/indexing.html#indexing-view-versus-copy\n",
      "  if __name__ == '__main__':\n"
     ]
    }
   ],
   "source": [
    "deviceUsersData[\"device_type\"] = deviceUsersData[\"device_type\"].map(lambda x: \"otros\" if(x == \"Tablet\" or x==\"Unknown\") else x)"
   ]
  },
  {
   "cell_type": "code",
   "execution_count": 477,
   "metadata": {},
   "outputs": [],
   "source": [
    "device_user_type = deviceUsersData[[\"person\",\"device_type\"]]"
   ]
  },
  {
   "cell_type": "code",
   "execution_count": 478,
   "metadata": {},
   "outputs": [
    {
     "name": "stderr",
     "output_type": "stream",
     "text": [
      "/anaconda/lib/python3.6/site-packages/ipykernel/__main__.py:1: SettingWithCopyWarning: \n",
      "A value is trying to be set on a copy of a slice from a DataFrame.\n",
      "Try using .loc[row_indexer,col_indexer] = value instead\n",
      "\n",
      "See the caveats in the documentation: http://pandas.pydata.org/pandas-docs/stable/indexing.html#indexing-view-versus-copy\n",
      "  if __name__ == '__main__':\n"
     ]
    }
   ],
   "source": [
    "device_user_type[\"count\"] = 1"
   ]
  },
  {
   "cell_type": "code",
   "execution_count": 479,
   "metadata": {},
   "outputs": [],
   "source": [
    "device_user_type = device_user_type.groupby([\"person\",\"device_type\"]).max().unstack().fillna(0).reset_index()"
   ]
  },
  {
   "cell_type": "code",
   "execution_count": 480,
   "metadata": {},
   "outputs": [
    {
     "data": {
      "text/html": [
       "<div>\n",
       "<table border=\"1\" class=\"dataframe\">\n",
       "  <thead>\n",
       "    <tr>\n",
       "      <th></th>\n",
       "      <th>person</th>\n",
       "      <th colspan=\"3\" halign=\"left\">count</th>\n",
       "    </tr>\n",
       "    <tr>\n",
       "      <th>device_type</th>\n",
       "      <th></th>\n",
       "      <th>Computer</th>\n",
       "      <th>Smartphone</th>\n",
       "      <th>otros</th>\n",
       "    </tr>\n",
       "  </thead>\n",
       "  <tbody>\n",
       "    <tr>\n",
       "      <th>0</th>\n",
       "      <td>0008ed71</td>\n",
       "      <td>1.0</td>\n",
       "      <td>0.0</td>\n",
       "      <td>0.0</td>\n",
       "    </tr>\n",
       "    <tr>\n",
       "      <th>1</th>\n",
       "      <td>00091926</td>\n",
       "      <td>1.0</td>\n",
       "      <td>0.0</td>\n",
       "      <td>0.0</td>\n",
       "    </tr>\n",
       "    <tr>\n",
       "      <th>2</th>\n",
       "      <td>00091a7a</td>\n",
       "      <td>0.0</td>\n",
       "      <td>1.0</td>\n",
       "      <td>0.0</td>\n",
       "    </tr>\n",
       "    <tr>\n",
       "      <th>3</th>\n",
       "      <td>000ba417</td>\n",
       "      <td>1.0</td>\n",
       "      <td>0.0</td>\n",
       "      <td>0.0</td>\n",
       "    </tr>\n",
       "    <tr>\n",
       "      <th>4</th>\n",
       "      <td>000c79fe</td>\n",
       "      <td>0.0</td>\n",
       "      <td>1.0</td>\n",
       "      <td>0.0</td>\n",
       "    </tr>\n",
       "  </tbody>\n",
       "</table>\n",
       "</div>"
      ],
      "text/plain": [
       "               person    count                 \n",
       "device_type           Computer Smartphone otros\n",
       "0            0008ed71      1.0        0.0   0.0\n",
       "1            00091926      1.0        0.0   0.0\n",
       "2            00091a7a      0.0        1.0   0.0\n",
       "3            000ba417      1.0        0.0   0.0\n",
       "4            000c79fe      0.0        1.0   0.0"
      ]
     },
     "execution_count": 480,
     "metadata": {},
     "output_type": "execute_result"
    }
   ],
   "source": [
    "device_user_type.head()"
   ]
  },
  {
   "cell_type": "code",
   "execution_count": 481,
   "metadata": {},
   "outputs": [
    {
     "data": {
      "text/html": [
       "<div>\n",
       "<table border=\"1\" class=\"dataframe\">\n",
       "  <thead>\n",
       "    <tr style=\"text-align: right;\">\n",
       "      <th></th>\n",
       "      <th>person</th>\n",
       "      <th>Computer</th>\n",
       "      <th>Smartphone</th>\n",
       "      <th>otros</th>\n",
       "    </tr>\n",
       "  </thead>\n",
       "  <tbody>\n",
       "    <tr>\n",
       "      <th>0</th>\n",
       "      <td>0008ed71</td>\n",
       "      <td>1.0</td>\n",
       "      <td>0.0</td>\n",
       "      <td>0.0</td>\n",
       "    </tr>\n",
       "    <tr>\n",
       "      <th>1</th>\n",
       "      <td>00091926</td>\n",
       "      <td>1.0</td>\n",
       "      <td>0.0</td>\n",
       "      <td>0.0</td>\n",
       "    </tr>\n",
       "    <tr>\n",
       "      <th>2</th>\n",
       "      <td>00091a7a</td>\n",
       "      <td>0.0</td>\n",
       "      <td>1.0</td>\n",
       "      <td>0.0</td>\n",
       "    </tr>\n",
       "    <tr>\n",
       "      <th>3</th>\n",
       "      <td>000ba417</td>\n",
       "      <td>1.0</td>\n",
       "      <td>0.0</td>\n",
       "      <td>0.0</td>\n",
       "    </tr>\n",
       "    <tr>\n",
       "      <th>4</th>\n",
       "      <td>000c79fe</td>\n",
       "      <td>0.0</td>\n",
       "      <td>1.0</td>\n",
       "      <td>0.0</td>\n",
       "    </tr>\n",
       "  </tbody>\n",
       "</table>\n",
       "</div>"
      ],
      "text/plain": [
       "     person  Computer  Smartphone  otros\n",
       "0  0008ed71       1.0         0.0    0.0\n",
       "1  00091926       1.0         0.0    0.0\n",
       "2  00091a7a       0.0         1.0    0.0\n",
       "3  000ba417       1.0         0.0    0.0\n",
       "4  000c79fe       0.0         1.0    0.0"
      ]
     },
     "execution_count": 481,
     "metadata": {},
     "output_type": "execute_result"
    }
   ],
   "source": [
    "multiindex = device_user_type.columns\n",
    "multiindex = multiindex.tolist()\n",
    "multiindex\n",
    "ind = pd.Index([ (e[1] if e[0]!= \"person\" else e[0]) for e in multiindex])\n",
    "device_user_type.columns = ind\n",
    "device_user_type.head()"
   ]
  },
  {
   "cell_type": "code",
   "execution_count": 482,
   "metadata": {},
   "outputs": [],
   "source": [
    "device_user_system = deviceUsersData[[\"person\",\"operating_system_version\"]]"
   ]
  },
  {
   "cell_type": "code",
   "execution_count": 483,
   "metadata": {},
   "outputs": [
    {
     "name": "stderr",
     "output_type": "stream",
     "text": [
      "/anaconda/lib/python3.6/site-packages/ipykernel/__main__.py:1: SettingWithCopyWarning: \n",
      "A value is trying to be set on a copy of a slice from a DataFrame.\n",
      "Try using .loc[row_indexer,col_indexer] = value instead\n",
      "\n",
      "See the caveats in the documentation: http://pandas.pydata.org/pandas-docs/stable/indexing.html#indexing-view-versus-copy\n",
      "  if __name__ == '__main__':\n"
     ]
    }
   ],
   "source": [
    "device_user_system[\"count\"] = 1"
   ]
  },
  {
   "cell_type": "code",
   "execution_count": 484,
   "metadata": {},
   "outputs": [],
   "source": [
    "device_user_system = device_user_system.groupby([\"person\",\"operating_system_version\"]).max().unstack().fillna(0).reset_index()"
   ]
  },
  {
   "cell_type": "code",
   "execution_count": 485,
   "metadata": {},
   "outputs": [
    {
     "data": {
      "text/html": [
       "<div>\n",
       "<table border=\"1\" class=\"dataframe\">\n",
       "  <thead>\n",
       "    <tr>\n",
       "      <th></th>\n",
       "      <th>person</th>\n",
       "      <th colspan=\"14\" halign=\"left\">count</th>\n",
       "    </tr>\n",
       "    <tr>\n",
       "      <th>operating_system_version</th>\n",
       "      <th></th>\n",
       "      <th>Android</th>\n",
       "      <th>BlackBerry</th>\n",
       "      <th>Chrome</th>\n",
       "      <th>Fedora</th>\n",
       "      <th>FreeBSD</th>\n",
       "      <th>Linux</th>\n",
       "      <th>Mac</th>\n",
       "      <th>Other</th>\n",
       "      <th>Symbian</th>\n",
       "      <th>Tizen</th>\n",
       "      <th>Ubuntu</th>\n",
       "      <th>Windows</th>\n",
       "      <th>iOS</th>\n",
       "      <th>nan</th>\n",
       "    </tr>\n",
       "  </thead>\n",
       "  <tbody>\n",
       "    <tr>\n",
       "      <th>0</th>\n",
       "      <td>0008ed71</td>\n",
       "      <td>0.0</td>\n",
       "      <td>0.0</td>\n",
       "      <td>0.0</td>\n",
       "      <td>0.0</td>\n",
       "      <td>0.0</td>\n",
       "      <td>0.0</td>\n",
       "      <td>0.0</td>\n",
       "      <td>0.0</td>\n",
       "      <td>0.0</td>\n",
       "      <td>0.0</td>\n",
       "      <td>0.0</td>\n",
       "      <td>1.0</td>\n",
       "      <td>0.0</td>\n",
       "      <td>0.0</td>\n",
       "    </tr>\n",
       "    <tr>\n",
       "      <th>1</th>\n",
       "      <td>00091926</td>\n",
       "      <td>0.0</td>\n",
       "      <td>0.0</td>\n",
       "      <td>0.0</td>\n",
       "      <td>0.0</td>\n",
       "      <td>0.0</td>\n",
       "      <td>0.0</td>\n",
       "      <td>0.0</td>\n",
       "      <td>0.0</td>\n",
       "      <td>0.0</td>\n",
       "      <td>0.0</td>\n",
       "      <td>0.0</td>\n",
       "      <td>1.0</td>\n",
       "      <td>0.0</td>\n",
       "      <td>0.0</td>\n",
       "    </tr>\n",
       "    <tr>\n",
       "      <th>2</th>\n",
       "      <td>00091a7a</td>\n",
       "      <td>1.0</td>\n",
       "      <td>0.0</td>\n",
       "      <td>0.0</td>\n",
       "      <td>0.0</td>\n",
       "      <td>0.0</td>\n",
       "      <td>0.0</td>\n",
       "      <td>0.0</td>\n",
       "      <td>0.0</td>\n",
       "      <td>0.0</td>\n",
       "      <td>0.0</td>\n",
       "      <td>0.0</td>\n",
       "      <td>0.0</td>\n",
       "      <td>0.0</td>\n",
       "      <td>0.0</td>\n",
       "    </tr>\n",
       "    <tr>\n",
       "      <th>3</th>\n",
       "      <td>000ba417</td>\n",
       "      <td>0.0</td>\n",
       "      <td>0.0</td>\n",
       "      <td>0.0</td>\n",
       "      <td>0.0</td>\n",
       "      <td>0.0</td>\n",
       "      <td>0.0</td>\n",
       "      <td>0.0</td>\n",
       "      <td>0.0</td>\n",
       "      <td>0.0</td>\n",
       "      <td>0.0</td>\n",
       "      <td>0.0</td>\n",
       "      <td>1.0</td>\n",
       "      <td>0.0</td>\n",
       "      <td>0.0</td>\n",
       "    </tr>\n",
       "    <tr>\n",
       "      <th>4</th>\n",
       "      <td>000c79fe</td>\n",
       "      <td>1.0</td>\n",
       "      <td>0.0</td>\n",
       "      <td>0.0</td>\n",
       "      <td>0.0</td>\n",
       "      <td>0.0</td>\n",
       "      <td>0.0</td>\n",
       "      <td>0.0</td>\n",
       "      <td>0.0</td>\n",
       "      <td>0.0</td>\n",
       "      <td>0.0</td>\n",
       "      <td>0.0</td>\n",
       "      <td>0.0</td>\n",
       "      <td>0.0</td>\n",
       "      <td>0.0</td>\n",
       "    </tr>\n",
       "  </tbody>\n",
       "</table>\n",
       "</div>"
      ],
      "text/plain": [
       "                            person   count                                   \\\n",
       "operating_system_version           Android BlackBerry Chrome Fedora FreeBSD   \n",
       "0                         0008ed71     0.0        0.0    0.0    0.0     0.0   \n",
       "1                         00091926     0.0        0.0    0.0    0.0     0.0   \n",
       "2                         00091a7a     1.0        0.0    0.0    0.0     0.0   \n",
       "3                         000ba417     0.0        0.0    0.0    0.0     0.0   \n",
       "4                         000c79fe     1.0        0.0    0.0    0.0     0.0   \n",
       "\n",
       "                                                                             \\\n",
       "operating_system_version Linux  Mac Other Symbian Tizen Ubuntu Windows  iOS   \n",
       "0                          0.0  0.0   0.0     0.0   0.0    0.0     1.0  0.0   \n",
       "1                          0.0  0.0   0.0     0.0   0.0    0.0     1.0  0.0   \n",
       "2                          0.0  0.0   0.0     0.0   0.0    0.0     0.0  0.0   \n",
       "3                          0.0  0.0   0.0     0.0   0.0    0.0     1.0  0.0   \n",
       "4                          0.0  0.0   0.0     0.0   0.0    0.0     0.0  0.0   \n",
       "\n",
       "                               \n",
       "operating_system_version  nan  \n",
       "0                         0.0  \n",
       "1                         0.0  \n",
       "2                         0.0  \n",
       "3                         0.0  \n",
       "4                         0.0  "
      ]
     },
     "execution_count": 485,
     "metadata": {},
     "output_type": "execute_result"
    }
   ],
   "source": [
    "device_user_system.head()"
   ]
  },
  {
   "cell_type": "code",
   "execution_count": 486,
   "metadata": {},
   "outputs": [
    {
     "data": {
      "text/html": [
       "<div>\n",
       "<table border=\"1\" class=\"dataframe\">\n",
       "  <thead>\n",
       "    <tr style=\"text-align: right;\">\n",
       "      <th></th>\n",
       "      <th>person</th>\n",
       "      <th>Android</th>\n",
       "      <th>BlackBerry</th>\n",
       "      <th>Chrome</th>\n",
       "      <th>Fedora</th>\n",
       "      <th>FreeBSD</th>\n",
       "      <th>Linux</th>\n",
       "      <th>Mac</th>\n",
       "      <th>Other</th>\n",
       "      <th>Symbian</th>\n",
       "      <th>Tizen</th>\n",
       "      <th>Ubuntu</th>\n",
       "      <th>Windows</th>\n",
       "      <th>iOS</th>\n",
       "      <th>nan</th>\n",
       "    </tr>\n",
       "  </thead>\n",
       "  <tbody>\n",
       "    <tr>\n",
       "      <th>0</th>\n",
       "      <td>0008ed71</td>\n",
       "      <td>0.0</td>\n",
       "      <td>0.0</td>\n",
       "      <td>0.0</td>\n",
       "      <td>0.0</td>\n",
       "      <td>0.0</td>\n",
       "      <td>0.0</td>\n",
       "      <td>0.0</td>\n",
       "      <td>0.0</td>\n",
       "      <td>0.0</td>\n",
       "      <td>0.0</td>\n",
       "      <td>0.0</td>\n",
       "      <td>1.0</td>\n",
       "      <td>0.0</td>\n",
       "      <td>0.0</td>\n",
       "    </tr>\n",
       "    <tr>\n",
       "      <th>1</th>\n",
       "      <td>00091926</td>\n",
       "      <td>0.0</td>\n",
       "      <td>0.0</td>\n",
       "      <td>0.0</td>\n",
       "      <td>0.0</td>\n",
       "      <td>0.0</td>\n",
       "      <td>0.0</td>\n",
       "      <td>0.0</td>\n",
       "      <td>0.0</td>\n",
       "      <td>0.0</td>\n",
       "      <td>0.0</td>\n",
       "      <td>0.0</td>\n",
       "      <td>1.0</td>\n",
       "      <td>0.0</td>\n",
       "      <td>0.0</td>\n",
       "    </tr>\n",
       "    <tr>\n",
       "      <th>2</th>\n",
       "      <td>00091a7a</td>\n",
       "      <td>1.0</td>\n",
       "      <td>0.0</td>\n",
       "      <td>0.0</td>\n",
       "      <td>0.0</td>\n",
       "      <td>0.0</td>\n",
       "      <td>0.0</td>\n",
       "      <td>0.0</td>\n",
       "      <td>0.0</td>\n",
       "      <td>0.0</td>\n",
       "      <td>0.0</td>\n",
       "      <td>0.0</td>\n",
       "      <td>0.0</td>\n",
       "      <td>0.0</td>\n",
       "      <td>0.0</td>\n",
       "    </tr>\n",
       "    <tr>\n",
       "      <th>3</th>\n",
       "      <td>000ba417</td>\n",
       "      <td>0.0</td>\n",
       "      <td>0.0</td>\n",
       "      <td>0.0</td>\n",
       "      <td>0.0</td>\n",
       "      <td>0.0</td>\n",
       "      <td>0.0</td>\n",
       "      <td>0.0</td>\n",
       "      <td>0.0</td>\n",
       "      <td>0.0</td>\n",
       "      <td>0.0</td>\n",
       "      <td>0.0</td>\n",
       "      <td>1.0</td>\n",
       "      <td>0.0</td>\n",
       "      <td>0.0</td>\n",
       "    </tr>\n",
       "    <tr>\n",
       "      <th>4</th>\n",
       "      <td>000c79fe</td>\n",
       "      <td>1.0</td>\n",
       "      <td>0.0</td>\n",
       "      <td>0.0</td>\n",
       "      <td>0.0</td>\n",
       "      <td>0.0</td>\n",
       "      <td>0.0</td>\n",
       "      <td>0.0</td>\n",
       "      <td>0.0</td>\n",
       "      <td>0.0</td>\n",
       "      <td>0.0</td>\n",
       "      <td>0.0</td>\n",
       "      <td>0.0</td>\n",
       "      <td>0.0</td>\n",
       "      <td>0.0</td>\n",
       "    </tr>\n",
       "  </tbody>\n",
       "</table>\n",
       "</div>"
      ],
      "text/plain": [
       "     person  Android  BlackBerry  Chrome  Fedora  FreeBSD  Linux  Mac  Other  \\\n",
       "0  0008ed71      0.0         0.0     0.0     0.0      0.0    0.0  0.0    0.0   \n",
       "1  00091926      0.0         0.0     0.0     0.0      0.0    0.0  0.0    0.0   \n",
       "2  00091a7a      1.0         0.0     0.0     0.0      0.0    0.0  0.0    0.0   \n",
       "3  000ba417      0.0         0.0     0.0     0.0      0.0    0.0  0.0    0.0   \n",
       "4  000c79fe      1.0         0.0     0.0     0.0      0.0    0.0  0.0    0.0   \n",
       "\n",
       "   Symbian  Tizen  Ubuntu  Windows  iOS  nan  \n",
       "0      0.0    0.0     0.0      1.0  0.0  0.0  \n",
       "1      0.0    0.0     0.0      1.0  0.0  0.0  \n",
       "2      0.0    0.0     0.0      0.0  0.0  0.0  \n",
       "3      0.0    0.0     0.0      1.0  0.0  0.0  \n",
       "4      0.0    0.0     0.0      0.0  0.0  0.0  "
      ]
     },
     "execution_count": 486,
     "metadata": {},
     "output_type": "execute_result"
    }
   ],
   "source": [
    "multiindex = device_user_system.columns\n",
    "multiindex = multiindex.tolist()\n",
    "multiindex\n",
    "ind = pd.Index([ (e[1] if e[0]!= \"person\" else e[0]) for e in multiindex])\n",
    "device_user_system.columns = ind\n",
    "device_user_system.head()"
   ]
  },
  {
   "cell_type": "code",
   "execution_count": 487,
   "metadata": {},
   "outputs": [],
   "source": [
    "device_user_system = device_user_system[[\"person\",\"Windows\",\"Android\",\"iOS\"]]"
   ]
  },
  {
   "cell_type": "markdown",
   "metadata": {},
   "source": [
    "Informacion usuarios"
   ]
  },
  {
   "cell_type": "code",
   "execution_count": 488,
   "metadata": {},
   "outputs": [
    {
     "data": {
      "text/html": [
       "<div>\n",
       "<table border=\"1\" class=\"dataframe\">\n",
       "  <thead>\n",
       "    <tr style=\"text-align: right;\">\n",
       "      <th></th>\n",
       "      <th>person</th>\n",
       "      <th>timestamp</th>\n",
       "      <th>search_term</th>\n",
       "      <th>staticpage</th>\n",
       "      <th>campaign_source</th>\n",
       "      <th>search_engine</th>\n",
       "      <th>channel</th>\n",
       "      <th>new_vs_returning</th>\n",
       "    </tr>\n",
       "  </thead>\n",
       "  <tbody>\n",
       "    <tr>\n",
       "      <th>0</th>\n",
       "      <td>4886f805</td>\n",
       "      <td>2018-05-18 00:11:59</td>\n",
       "      <td>NaN</td>\n",
       "      <td>NaN</td>\n",
       "      <td>NaN</td>\n",
       "      <td>NaN</td>\n",
       "      <td>NaN</td>\n",
       "      <td>NaN</td>\n",
       "    </tr>\n",
       "    <tr>\n",
       "      <th>1</th>\n",
       "      <td>ad93850f</td>\n",
       "      <td>2018-05-18 00:11:27</td>\n",
       "      <td>NaN</td>\n",
       "      <td>NaN</td>\n",
       "      <td>NaN</td>\n",
       "      <td>NaN</td>\n",
       "      <td>NaN</td>\n",
       "      <td>NaN</td>\n",
       "    </tr>\n",
       "    <tr>\n",
       "      <th>2</th>\n",
       "      <td>0297fc1e</td>\n",
       "      <td>2018-05-18 00:11:16</td>\n",
       "      <td>NaN</td>\n",
       "      <td>NaN</td>\n",
       "      <td>NaN</td>\n",
       "      <td>NaN</td>\n",
       "      <td>NaN</td>\n",
       "      <td>NaN</td>\n",
       "    </tr>\n",
       "    <tr>\n",
       "      <th>3</th>\n",
       "      <td>2d681dd8</td>\n",
       "      <td>2018-05-18 00:11:14</td>\n",
       "      <td>NaN</td>\n",
       "      <td>NaN</td>\n",
       "      <td>NaN</td>\n",
       "      <td>NaN</td>\n",
       "      <td>NaN</td>\n",
       "      <td>NaN</td>\n",
       "    </tr>\n",
       "    <tr>\n",
       "      <th>4</th>\n",
       "      <td>cccea85e</td>\n",
       "      <td>2018-05-18 00:11:09</td>\n",
       "      <td>NaN</td>\n",
       "      <td>NaN</td>\n",
       "      <td>NaN</td>\n",
       "      <td>NaN</td>\n",
       "      <td>NaN</td>\n",
       "      <td>NaN</td>\n",
       "    </tr>\n",
       "  </tbody>\n",
       "</table>\n",
       "</div>"
      ],
      "text/plain": [
       "     person            timestamp search_term staticpage campaign_source  \\\n",
       "0  4886f805  2018-05-18 00:11:59         NaN        NaN             NaN   \n",
       "1  ad93850f  2018-05-18 00:11:27         NaN        NaN             NaN   \n",
       "2  0297fc1e  2018-05-18 00:11:16         NaN        NaN             NaN   \n",
       "3  2d681dd8  2018-05-18 00:11:14         NaN        NaN             NaN   \n",
       "4  cccea85e  2018-05-18 00:11:09         NaN        NaN             NaN   \n",
       "\n",
       "  search_engine channel new_vs_returning  \n",
       "0           NaN     NaN              NaN  \n",
       "1           NaN     NaN              NaN  \n",
       "2           NaN     NaN              NaN  \n",
       "3           NaN     NaN              NaN  \n",
       "4           NaN     NaN              NaN  "
      ]
     },
     "execution_count": 488,
     "metadata": {},
     "output_type": "execute_result"
    }
   ],
   "source": [
    "infoUserData.head()"
   ]
  },
  {
   "cell_type": "code",
   "execution_count": 489,
   "metadata": {},
   "outputs": [],
   "source": [
    "dic_terminos = {}\n",
    "for busqueda in infoUserData[\"search_term\"]:\n",
    "    for term in str(busqueda).split(\" \"):\n",
    "        if (not term in dic_terminos.keys()):\n",
    "            dic_terminos[term] = 1\n",
    "        else:\n",
    "            dic_terminos[term]+=1\n",
    "            "
   ]
  },
  {
   "cell_type": "code",
   "execution_count": 490,
   "metadata": {},
   "outputs": [],
   "source": [
    "list_terminos = sorted(dic_terminos.items(), key=lambda kv: kv[1])\n"
   ]
  },
  {
   "cell_type": "code",
   "execution_count": 491,
   "metadata": {},
   "outputs": [],
   "source": [
    "list_terminos = list_terminos[::-1]"
   ]
  },
  {
   "cell_type": "code",
   "execution_count": 492,
   "metadata": {},
   "outputs": [
    {
     "data": {
      "text/plain": [
       "('nan', 2227918)"
      ]
     },
     "execution_count": 492,
     "metadata": {},
     "output_type": "execute_result"
    }
   ],
   "source": [
    "list_terminos.pop(0)"
   ]
  },
  {
   "cell_type": "code",
   "execution_count": 493,
   "metadata": {},
   "outputs": [],
   "source": [
    "terminos = []\n",
    "for name,count in list_terminos:\n",
    "    if(len(name)>2):\n",
    "        terminos.append((name,count))\n",
    "        "
   ]
  },
  {
   "cell_type": "code",
   "execution_count": 494,
   "metadata": {},
   "outputs": [
    {
     "data": {
      "text/plain": [
       "3640"
      ]
     },
     "execution_count": 494,
     "metadata": {},
     "output_type": "execute_result"
    }
   ],
   "source": [
    "len(terminos)"
   ]
  },
  {
   "cell_type": "code",
   "execution_count": 495,
   "metadata": {},
   "outputs": [],
   "source": [
    "terminos_populares = terminos[:300]"
   ]
  },
  {
   "cell_type": "code",
   "execution_count": 496,
   "metadata": {},
   "outputs": [
    {
     "name": "stderr",
     "output_type": "stream",
     "text": [
      "/anaconda/lib/python3.6/site-packages/ipykernel/__main__.py:1: SettingWithCopyWarning: \n",
      "A value is trying to be set on a copy of a slice from a DataFrame.\n",
      "Try using .loc[row_indexer,col_indexer] = value instead\n",
      "\n",
      "See the caveats in the documentation: http://pandas.pydata.org/pandas-docs/stable/indexing.html#indexing-view-versus-copy\n",
      "  if __name__ == '__main__':\n"
     ]
    }
   ],
   "source": [
    "infoUserData[\"search_term\"] = infoUserData[\"search_term\"].fillna(\"0\")"
   ]
  },
  {
   "cell_type": "code",
   "execution_count": 497,
   "metadata": {},
   "outputs": [],
   "source": [
    "def verificarPopularidadElTermino(string,terminospopulares):\n",
    "    if (string==0):\n",
    "        return False\n",
    "    for palabra in string.split(\" \"):\n",
    "        \n",
    "        if(palabra in [name for name,count in terminospopulares]):\n",
    "            return True\n",
    "        \n",
    "    return False"
   ]
  },
  {
   "cell_type": "code",
   "execution_count": 498,
   "metadata": {},
   "outputs": [
    {
     "name": "stderr",
     "output_type": "stream",
     "text": [
      "/anaconda/lib/python3.6/site-packages/ipykernel/__main__.py:1: SettingWithCopyWarning: \n",
      "A value is trying to be set on a copy of a slice from a DataFrame.\n",
      "Try using .loc[row_indexer,col_indexer] = value instead\n",
      "\n",
      "See the caveats in the documentation: http://pandas.pydata.org/pandas-docs/stable/indexing.html#indexing-view-versus-copy\n",
      "  if __name__ == '__main__':\n"
     ]
    }
   ],
   "source": [
    "infoUserData[\"Busca_terminos_populares\"] = infoUserData[\"search_term\"].map(lambda x:1 if(verificarPopularidadElTermino(x,terminos_populares)) else 0)"
   ]
  },
  {
   "cell_type": "code",
   "execution_count": 499,
   "metadata": {},
   "outputs": [
    {
     "data": {
      "text/plain": [
       "0    2251274\n",
       "1      90407\n",
       "Name: Busca_terminos_populares, dtype: int64"
      ]
     },
     "execution_count": 499,
     "metadata": {},
     "output_type": "execute_result"
    }
   ],
   "source": [
    "infoUserData[\"Busca_terminos_populares\"].value_counts()"
   ]
  },
  {
   "cell_type": "code",
   "execution_count": 500,
   "metadata": {},
   "outputs": [
    {
     "data": {
      "text/html": [
       "<div>\n",
       "<table border=\"1\" class=\"dataframe\">\n",
       "  <thead>\n",
       "    <tr style=\"text-align: right;\">\n",
       "      <th></th>\n",
       "      <th>person</th>\n",
       "      <th>timestamp</th>\n",
       "      <th>search_term</th>\n",
       "      <th>staticpage</th>\n",
       "      <th>campaign_source</th>\n",
       "      <th>search_engine</th>\n",
       "      <th>channel</th>\n",
       "      <th>new_vs_returning</th>\n",
       "      <th>Busca_terminos_populares</th>\n",
       "    </tr>\n",
       "  </thead>\n",
       "  <tbody>\n",
       "    <tr>\n",
       "      <th>0</th>\n",
       "      <td>4886f805</td>\n",
       "      <td>2018-05-18 00:11:59</td>\n",
       "      <td>0</td>\n",
       "      <td>NaN</td>\n",
       "      <td>NaN</td>\n",
       "      <td>NaN</td>\n",
       "      <td>NaN</td>\n",
       "      <td>NaN</td>\n",
       "      <td>0</td>\n",
       "    </tr>\n",
       "    <tr>\n",
       "      <th>1</th>\n",
       "      <td>ad93850f</td>\n",
       "      <td>2018-05-18 00:11:27</td>\n",
       "      <td>0</td>\n",
       "      <td>NaN</td>\n",
       "      <td>NaN</td>\n",
       "      <td>NaN</td>\n",
       "      <td>NaN</td>\n",
       "      <td>NaN</td>\n",
       "      <td>0</td>\n",
       "    </tr>\n",
       "    <tr>\n",
       "      <th>2</th>\n",
       "      <td>0297fc1e</td>\n",
       "      <td>2018-05-18 00:11:16</td>\n",
       "      <td>0</td>\n",
       "      <td>NaN</td>\n",
       "      <td>NaN</td>\n",
       "      <td>NaN</td>\n",
       "      <td>NaN</td>\n",
       "      <td>NaN</td>\n",
       "      <td>0</td>\n",
       "    </tr>\n",
       "    <tr>\n",
       "      <th>3</th>\n",
       "      <td>2d681dd8</td>\n",
       "      <td>2018-05-18 00:11:14</td>\n",
       "      <td>0</td>\n",
       "      <td>NaN</td>\n",
       "      <td>NaN</td>\n",
       "      <td>NaN</td>\n",
       "      <td>NaN</td>\n",
       "      <td>NaN</td>\n",
       "      <td>0</td>\n",
       "    </tr>\n",
       "    <tr>\n",
       "      <th>4</th>\n",
       "      <td>cccea85e</td>\n",
       "      <td>2018-05-18 00:11:09</td>\n",
       "      <td>0</td>\n",
       "      <td>NaN</td>\n",
       "      <td>NaN</td>\n",
       "      <td>NaN</td>\n",
       "      <td>NaN</td>\n",
       "      <td>NaN</td>\n",
       "      <td>0</td>\n",
       "    </tr>\n",
       "  </tbody>\n",
       "</table>\n",
       "</div>"
      ],
      "text/plain": [
       "     person            timestamp search_term staticpage campaign_source  \\\n",
       "0  4886f805  2018-05-18 00:11:59           0        NaN             NaN   \n",
       "1  ad93850f  2018-05-18 00:11:27           0        NaN             NaN   \n",
       "2  0297fc1e  2018-05-18 00:11:16           0        NaN             NaN   \n",
       "3  2d681dd8  2018-05-18 00:11:14           0        NaN             NaN   \n",
       "4  cccea85e  2018-05-18 00:11:09           0        NaN             NaN   \n",
       "\n",
       "  search_engine channel new_vs_returning  Busca_terminos_populares  \n",
       "0           NaN     NaN              NaN                         0  \n",
       "1           NaN     NaN              NaN                         0  \n",
       "2           NaN     NaN              NaN                         0  \n",
       "3           NaN     NaN              NaN                         0  \n",
       "4           NaN     NaN              NaN                         0  "
      ]
     },
     "execution_count": 500,
     "metadata": {},
     "output_type": "execute_result"
    }
   ],
   "source": [
    "infoUserData.head()"
   ]
  },
  {
   "cell_type": "code",
   "execution_count": 501,
   "metadata": {},
   "outputs": [
    {
     "data": {
      "text/plain": [
       "Paid        91753\n",
       "Direct      50675\n",
       "Referral    33990\n",
       "Organic     25867\n",
       "Social       1406\n",
       "Email         371\n",
       "Unknown         7\n",
       "Name: channel, dtype: int64"
      ]
     },
     "execution_count": 501,
     "metadata": {},
     "output_type": "execute_result"
    }
   ],
   "source": [
    "infoUserData[\"channel\"].value_counts()"
   ]
  },
  {
   "cell_type": "code",
   "execution_count": 502,
   "metadata": {},
   "outputs": [
    {
     "data": {
      "text/plain": [
       "Google    105195\n",
       "Bing         676\n",
       "Yahoo        519\n",
       "Ask           16\n",
       "Name: search_engine, dtype: int64"
      ]
     },
     "execution_count": 502,
     "metadata": {},
     "output_type": "execute_result"
    }
   ],
   "source": [
    "infoUserData[\"search_engine\"].value_counts() #Tira todo a google"
   ]
  },
  {
   "cell_type": "code",
   "execution_count": 503,
   "metadata": {},
   "outputs": [
    {
     "data": {
      "text/plain": [
       "CustomerService                      5239\n",
       "FaqEcommerce                         1317\n",
       "AboutUs                              1217\n",
       "Quiosks                               868\n",
       "trust-trocafone                       632\n",
       "TermsAndConditionsReturnEcommerce     528\n",
       "galaxy-s8                             380\n",
       "Conditions                            285\n",
       "how-to-sell                           234\n",
       "how-to-buy                            232\n",
       "TermsAndConditionsEcommerce           119\n",
       "club-trocafone                        107\n",
       "PrivacyEcommerce                       28\n",
       "black_friday                           15\n",
       "Name: staticpage, dtype: int64"
      ]
     },
     "execution_count": 503,
     "metadata": {},
     "output_type": "execute_result"
    }
   ],
   "source": [
    "infoUserData[\"staticpage\"].value_counts()"
   ]
  },
  {
   "cell_type": "code",
   "execution_count": 504,
   "metadata": {},
   "outputs": [
    {
     "data": {
      "text/plain": [
       "google              123354\n",
       "criteo               24931\n",
       "rtbhouse             23540\n",
       "zanox                 7013\n",
       "emblue                3653\n",
       "afilio                1913\n",
       "manifest              1365\n",
       "FacebookAds           1301\n",
       "voxus                  971\n",
       "rakuten                843\n",
       "bing                   839\n",
       "datacrush              433\n",
       "indexa                 313\n",
       "buscape                271\n",
       "Facebook               203\n",
       "afiliado                92\n",
       "blog                    88\n",
       "mercadopago             74\n",
       "yotpo                   54\n",
       "onsite                  12\n",
       "FacebookSocial          12\n",
       "MARKETING SOCIAL         7\n",
       "gizmodo                  4\n",
       "Name: campaign_source, dtype: int64"
      ]
     },
     "execution_count": 504,
     "metadata": {},
     "output_type": "execute_result"
    }
   ],
   "source": [
    "infoUserData[\"campaign_source\"].value_counts()"
   ]
  },
  {
   "cell_type": "code",
   "execution_count": 505,
   "metadata": {},
   "outputs": [],
   "source": [
    "person_campaing = infoUserData[[\"person\",\"campaign_source\"]]\n",
    "person_channel = infoUserData[[\"person\",\"channel\"]]"
   ]
  },
  {
   "cell_type": "code",
   "execution_count": 506,
   "metadata": {},
   "outputs": [],
   "source": [
    "person_term = infoUserData[[\"person\",\"Busca_terminos_populares\"]]"
   ]
  },
  {
   "cell_type": "code",
   "execution_count": 507,
   "metadata": {},
   "outputs": [
    {
     "data": {
      "text/html": [
       "<div>\n",
       "<table border=\"1\" class=\"dataframe\">\n",
       "  <thead>\n",
       "    <tr style=\"text-align: right;\">\n",
       "      <th></th>\n",
       "      <th>person</th>\n",
       "      <th>Busca_terminos_populares</th>\n",
       "    </tr>\n",
       "  </thead>\n",
       "  <tbody>\n",
       "    <tr>\n",
       "      <th>0</th>\n",
       "      <td>4886f805</td>\n",
       "      <td>0</td>\n",
       "    </tr>\n",
       "    <tr>\n",
       "      <th>1</th>\n",
       "      <td>ad93850f</td>\n",
       "      <td>0</td>\n",
       "    </tr>\n",
       "    <tr>\n",
       "      <th>2</th>\n",
       "      <td>0297fc1e</td>\n",
       "      <td>0</td>\n",
       "    </tr>\n",
       "    <tr>\n",
       "      <th>3</th>\n",
       "      <td>2d681dd8</td>\n",
       "      <td>0</td>\n",
       "    </tr>\n",
       "    <tr>\n",
       "      <th>4</th>\n",
       "      <td>cccea85e</td>\n",
       "      <td>0</td>\n",
       "    </tr>\n",
       "  </tbody>\n",
       "</table>\n",
       "</div>"
      ],
      "text/plain": [
       "     person  Busca_terminos_populares\n",
       "0  4886f805                         0\n",
       "1  ad93850f                         0\n",
       "2  0297fc1e                         0\n",
       "3  2d681dd8                         0\n",
       "4  cccea85e                         0"
      ]
     },
     "execution_count": 507,
     "metadata": {},
     "output_type": "execute_result"
    }
   ],
   "source": [
    "person_term.head()"
   ]
  },
  {
   "cell_type": "code",
   "execution_count": 508,
   "metadata": {},
   "outputs": [],
   "source": [
    "person_term = person_term.groupby(\"person\",as_index = False).sum()"
   ]
  },
  {
   "cell_type": "code",
   "execution_count": 509,
   "metadata": {},
   "outputs": [
    {
     "data": {
      "text/html": [
       "<div>\n",
       "<table border=\"1\" class=\"dataframe\">\n",
       "  <thead>\n",
       "    <tr style=\"text-align: right;\">\n",
       "      <th></th>\n",
       "      <th>person</th>\n",
       "      <th>Busca_terminos_populares</th>\n",
       "    </tr>\n",
       "  </thead>\n",
       "  <tbody>\n",
       "    <tr>\n",
       "      <th>0</th>\n",
       "      <td>0008ed71</td>\n",
       "      <td>0</td>\n",
       "    </tr>\n",
       "    <tr>\n",
       "      <th>1</th>\n",
       "      <td>00091926</td>\n",
       "      <td>0</td>\n",
       "    </tr>\n",
       "    <tr>\n",
       "      <th>2</th>\n",
       "      <td>00091a7a</td>\n",
       "      <td>0</td>\n",
       "    </tr>\n",
       "    <tr>\n",
       "      <th>3</th>\n",
       "      <td>000ba417</td>\n",
       "      <td>0</td>\n",
       "    </tr>\n",
       "    <tr>\n",
       "      <th>4</th>\n",
       "      <td>000c79fe</td>\n",
       "      <td>8</td>\n",
       "    </tr>\n",
       "  </tbody>\n",
       "</table>\n",
       "</div>"
      ],
      "text/plain": [
       "     person  Busca_terminos_populares\n",
       "0  0008ed71                         0\n",
       "1  00091926                         0\n",
       "2  00091a7a                         0\n",
       "3  000ba417                         0\n",
       "4  000c79fe                         8"
      ]
     },
     "execution_count": 509,
     "metadata": {},
     "output_type": "execute_result"
    }
   ],
   "source": [
    "person_term.head()"
   ]
  },
  {
   "cell_type": "code",
   "execution_count": 510,
   "metadata": {},
   "outputs": [],
   "source": [
    "person_campaing = person_campaing.dropna()"
   ]
  },
  {
   "cell_type": "code",
   "execution_count": 511,
   "metadata": {},
   "outputs": [
    {
     "data": {
      "text/html": [
       "<div>\n",
       "<table border=\"1\" class=\"dataframe\">\n",
       "  <thead>\n",
       "    <tr style=\"text-align: right;\">\n",
       "      <th></th>\n",
       "      <th>person</th>\n",
       "      <th>campaign_source</th>\n",
       "    </tr>\n",
       "  </thead>\n",
       "  <tbody>\n",
       "    <tr>\n",
       "      <th>9</th>\n",
       "      <td>45baf068</td>\n",
       "      <td>google</td>\n",
       "    </tr>\n",
       "    <tr>\n",
       "      <th>14</th>\n",
       "      <td>45baf068</td>\n",
       "      <td>google</td>\n",
       "    </tr>\n",
       "    <tr>\n",
       "      <th>20</th>\n",
       "      <td>29ebb414</td>\n",
       "      <td>google</td>\n",
       "    </tr>\n",
       "    <tr>\n",
       "      <th>34</th>\n",
       "      <td>2a724d87</td>\n",
       "      <td>google</td>\n",
       "    </tr>\n",
       "    <tr>\n",
       "      <th>38</th>\n",
       "      <td>15ea8012</td>\n",
       "      <td>google</td>\n",
       "    </tr>\n",
       "  </tbody>\n",
       "</table>\n",
       "</div>"
      ],
      "text/plain": [
       "      person campaign_source\n",
       "9   45baf068          google\n",
       "14  45baf068          google\n",
       "20  29ebb414          google\n",
       "34  2a724d87          google\n",
       "38  15ea8012          google"
      ]
     },
     "execution_count": 511,
     "metadata": {},
     "output_type": "execute_result"
    }
   ],
   "source": [
    "person_campaing.head()"
   ]
  },
  {
   "cell_type": "code",
   "execution_count": 512,
   "metadata": {},
   "outputs": [],
   "source": [
    "person_campaing = pd.get_dummies(person_campaing, columns=[\"campaign_source\"])"
   ]
  },
  {
   "cell_type": "code",
   "execution_count": 513,
   "metadata": {},
   "outputs": [
    {
     "data": {
      "text/html": [
       "<div>\n",
       "<table border=\"1\" class=\"dataframe\">\n",
       "  <thead>\n",
       "    <tr style=\"text-align: right;\">\n",
       "      <th></th>\n",
       "      <th>person</th>\n",
       "      <th>campaign_source_Facebook</th>\n",
       "      <th>campaign_source_FacebookAds</th>\n",
       "      <th>campaign_source_FacebookSocial</th>\n",
       "      <th>campaign_source_MARKETING SOCIAL</th>\n",
       "      <th>campaign_source_afiliado</th>\n",
       "      <th>campaign_source_afilio</th>\n",
       "      <th>campaign_source_bing</th>\n",
       "      <th>campaign_source_blog</th>\n",
       "      <th>campaign_source_buscape</th>\n",
       "      <th>...</th>\n",
       "      <th>campaign_source_google</th>\n",
       "      <th>campaign_source_indexa</th>\n",
       "      <th>campaign_source_manifest</th>\n",
       "      <th>campaign_source_mercadopago</th>\n",
       "      <th>campaign_source_onsite</th>\n",
       "      <th>campaign_source_rakuten</th>\n",
       "      <th>campaign_source_rtbhouse</th>\n",
       "      <th>campaign_source_voxus</th>\n",
       "      <th>campaign_source_yotpo</th>\n",
       "      <th>campaign_source_zanox</th>\n",
       "    </tr>\n",
       "  </thead>\n",
       "  <tbody>\n",
       "    <tr>\n",
       "      <th>9</th>\n",
       "      <td>45baf068</td>\n",
       "      <td>0</td>\n",
       "      <td>0</td>\n",
       "      <td>0</td>\n",
       "      <td>0</td>\n",
       "      <td>0</td>\n",
       "      <td>0</td>\n",
       "      <td>0</td>\n",
       "      <td>0</td>\n",
       "      <td>0</td>\n",
       "      <td>...</td>\n",
       "      <td>1</td>\n",
       "      <td>0</td>\n",
       "      <td>0</td>\n",
       "      <td>0</td>\n",
       "      <td>0</td>\n",
       "      <td>0</td>\n",
       "      <td>0</td>\n",
       "      <td>0</td>\n",
       "      <td>0</td>\n",
       "      <td>0</td>\n",
       "    </tr>\n",
       "    <tr>\n",
       "      <th>14</th>\n",
       "      <td>45baf068</td>\n",
       "      <td>0</td>\n",
       "      <td>0</td>\n",
       "      <td>0</td>\n",
       "      <td>0</td>\n",
       "      <td>0</td>\n",
       "      <td>0</td>\n",
       "      <td>0</td>\n",
       "      <td>0</td>\n",
       "      <td>0</td>\n",
       "      <td>...</td>\n",
       "      <td>1</td>\n",
       "      <td>0</td>\n",
       "      <td>0</td>\n",
       "      <td>0</td>\n",
       "      <td>0</td>\n",
       "      <td>0</td>\n",
       "      <td>0</td>\n",
       "      <td>0</td>\n",
       "      <td>0</td>\n",
       "      <td>0</td>\n",
       "    </tr>\n",
       "    <tr>\n",
       "      <th>20</th>\n",
       "      <td>29ebb414</td>\n",
       "      <td>0</td>\n",
       "      <td>0</td>\n",
       "      <td>0</td>\n",
       "      <td>0</td>\n",
       "      <td>0</td>\n",
       "      <td>0</td>\n",
       "      <td>0</td>\n",
       "      <td>0</td>\n",
       "      <td>0</td>\n",
       "      <td>...</td>\n",
       "      <td>1</td>\n",
       "      <td>0</td>\n",
       "      <td>0</td>\n",
       "      <td>0</td>\n",
       "      <td>0</td>\n",
       "      <td>0</td>\n",
       "      <td>0</td>\n",
       "      <td>0</td>\n",
       "      <td>0</td>\n",
       "      <td>0</td>\n",
       "    </tr>\n",
       "    <tr>\n",
       "      <th>34</th>\n",
       "      <td>2a724d87</td>\n",
       "      <td>0</td>\n",
       "      <td>0</td>\n",
       "      <td>0</td>\n",
       "      <td>0</td>\n",
       "      <td>0</td>\n",
       "      <td>0</td>\n",
       "      <td>0</td>\n",
       "      <td>0</td>\n",
       "      <td>0</td>\n",
       "      <td>...</td>\n",
       "      <td>1</td>\n",
       "      <td>0</td>\n",
       "      <td>0</td>\n",
       "      <td>0</td>\n",
       "      <td>0</td>\n",
       "      <td>0</td>\n",
       "      <td>0</td>\n",
       "      <td>0</td>\n",
       "      <td>0</td>\n",
       "      <td>0</td>\n",
       "    </tr>\n",
       "    <tr>\n",
       "      <th>38</th>\n",
       "      <td>15ea8012</td>\n",
       "      <td>0</td>\n",
       "      <td>0</td>\n",
       "      <td>0</td>\n",
       "      <td>0</td>\n",
       "      <td>0</td>\n",
       "      <td>0</td>\n",
       "      <td>0</td>\n",
       "      <td>0</td>\n",
       "      <td>0</td>\n",
       "      <td>...</td>\n",
       "      <td>1</td>\n",
       "      <td>0</td>\n",
       "      <td>0</td>\n",
       "      <td>0</td>\n",
       "      <td>0</td>\n",
       "      <td>0</td>\n",
       "      <td>0</td>\n",
       "      <td>0</td>\n",
       "      <td>0</td>\n",
       "      <td>0</td>\n",
       "    </tr>\n",
       "  </tbody>\n",
       "</table>\n",
       "<p>5 rows × 24 columns</p>\n",
       "</div>"
      ],
      "text/plain": [
       "      person  campaign_source_Facebook  campaign_source_FacebookAds  \\\n",
       "9   45baf068                         0                            0   \n",
       "14  45baf068                         0                            0   \n",
       "20  29ebb414                         0                            0   \n",
       "34  2a724d87                         0                            0   \n",
       "38  15ea8012                         0                            0   \n",
       "\n",
       "    campaign_source_FacebookSocial  campaign_source_MARKETING SOCIAL  \\\n",
       "9                                0                                 0   \n",
       "14                               0                                 0   \n",
       "20                               0                                 0   \n",
       "34                               0                                 0   \n",
       "38                               0                                 0   \n",
       "\n",
       "    campaign_source_afiliado  campaign_source_afilio  campaign_source_bing  \\\n",
       "9                          0                       0                     0   \n",
       "14                         0                       0                     0   \n",
       "20                         0                       0                     0   \n",
       "34                         0                       0                     0   \n",
       "38                         0                       0                     0   \n",
       "\n",
       "    campaign_source_blog  campaign_source_buscape          ...            \\\n",
       "9                      0                        0          ...             \n",
       "14                     0                        0          ...             \n",
       "20                     0                        0          ...             \n",
       "34                     0                        0          ...             \n",
       "38                     0                        0          ...             \n",
       "\n",
       "    campaign_source_google  campaign_source_indexa  campaign_source_manifest  \\\n",
       "9                        1                       0                         0   \n",
       "14                       1                       0                         0   \n",
       "20                       1                       0                         0   \n",
       "34                       1                       0                         0   \n",
       "38                       1                       0                         0   \n",
       "\n",
       "    campaign_source_mercadopago  campaign_source_onsite  \\\n",
       "9                             0                       0   \n",
       "14                            0                       0   \n",
       "20                            0                       0   \n",
       "34                            0                       0   \n",
       "38                            0                       0   \n",
       "\n",
       "    campaign_source_rakuten  campaign_source_rtbhouse  campaign_source_voxus  \\\n",
       "9                         0                         0                      0   \n",
       "14                        0                         0                      0   \n",
       "20                        0                         0                      0   \n",
       "34                        0                         0                      0   \n",
       "38                        0                         0                      0   \n",
       "\n",
       "    campaign_source_yotpo  campaign_source_zanox  \n",
       "9                       0                      0  \n",
       "14                      0                      0  \n",
       "20                      0                      0  \n",
       "34                      0                      0  \n",
       "38                      0                      0  \n",
       "\n",
       "[5 rows x 24 columns]"
      ]
     },
     "execution_count": 513,
     "metadata": {},
     "output_type": "execute_result"
    }
   ],
   "source": [
    "person_campaing.head()"
   ]
  },
  {
   "cell_type": "code",
   "execution_count": 514,
   "metadata": {},
   "outputs": [],
   "source": [
    "person_campaing = person_campaing[[\"person\",\"campaign_source_google\",\"campaign_source_criteo\",\"campaign_source_rtbhouse\"]]"
   ]
  },
  {
   "cell_type": "code",
   "execution_count": 515,
   "metadata": {},
   "outputs": [],
   "source": [
    "person_campaing = person_campaing.groupby(\"person\",as_index=False).sum()"
   ]
  },
  {
   "cell_type": "code",
   "execution_count": 516,
   "metadata": {},
   "outputs": [],
   "source": [
    "person_channel = person_channel.dropna()"
   ]
  },
  {
   "cell_type": "code",
   "execution_count": 517,
   "metadata": {},
   "outputs": [
    {
     "data": {
      "text/html": [
       "<div>\n",
       "<table border=\"1\" class=\"dataframe\">\n",
       "  <thead>\n",
       "    <tr style=\"text-align: right;\">\n",
       "      <th></th>\n",
       "      <th>person</th>\n",
       "      <th>channel</th>\n",
       "    </tr>\n",
       "  </thead>\n",
       "  <tbody>\n",
       "    <tr>\n",
       "      <th>2136629</th>\n",
       "      <td>4640420b</td>\n",
       "      <td>Paid</td>\n",
       "    </tr>\n",
       "    <tr>\n",
       "      <th>2136630</th>\n",
       "      <td>4640420b</td>\n",
       "      <td>Paid</td>\n",
       "    </tr>\n",
       "    <tr>\n",
       "      <th>2136631</th>\n",
       "      <td>4640420b</td>\n",
       "      <td>Paid</td>\n",
       "    </tr>\n",
       "    <tr>\n",
       "      <th>2136632</th>\n",
       "      <td>4640420b</td>\n",
       "      <td>Paid</td>\n",
       "    </tr>\n",
       "    <tr>\n",
       "      <th>2136633</th>\n",
       "      <td>4640420b</td>\n",
       "      <td>Organic</td>\n",
       "    </tr>\n",
       "  </tbody>\n",
       "</table>\n",
       "</div>"
      ],
      "text/plain": [
       "           person  channel\n",
       "2136629  4640420b     Paid\n",
       "2136630  4640420b     Paid\n",
       "2136631  4640420b     Paid\n",
       "2136632  4640420b     Paid\n",
       "2136633  4640420b  Organic"
      ]
     },
     "execution_count": 517,
     "metadata": {},
     "output_type": "execute_result"
    }
   ],
   "source": [
    "person_channel.head()"
   ]
  },
  {
   "cell_type": "code",
   "execution_count": 518,
   "metadata": {},
   "outputs": [],
   "source": [
    "person_channel = pd.get_dummies(person_channel, columns=[\"channel\"])"
   ]
  },
  {
   "cell_type": "code",
   "execution_count": 519,
   "metadata": {},
   "outputs": [
    {
     "data": {
      "text/html": [
       "<div>\n",
       "<table border=\"1\" class=\"dataframe\">\n",
       "  <thead>\n",
       "    <tr style=\"text-align: right;\">\n",
       "      <th></th>\n",
       "      <th>person</th>\n",
       "      <th>channel_Direct</th>\n",
       "      <th>channel_Email</th>\n",
       "      <th>channel_Organic</th>\n",
       "      <th>channel_Paid</th>\n",
       "      <th>channel_Referral</th>\n",
       "      <th>channel_Social</th>\n",
       "      <th>channel_Unknown</th>\n",
       "    </tr>\n",
       "  </thead>\n",
       "  <tbody>\n",
       "    <tr>\n",
       "      <th>2136629</th>\n",
       "      <td>4640420b</td>\n",
       "      <td>0</td>\n",
       "      <td>0</td>\n",
       "      <td>0</td>\n",
       "      <td>1</td>\n",
       "      <td>0</td>\n",
       "      <td>0</td>\n",
       "      <td>0</td>\n",
       "    </tr>\n",
       "    <tr>\n",
       "      <th>2136630</th>\n",
       "      <td>4640420b</td>\n",
       "      <td>0</td>\n",
       "      <td>0</td>\n",
       "      <td>0</td>\n",
       "      <td>1</td>\n",
       "      <td>0</td>\n",
       "      <td>0</td>\n",
       "      <td>0</td>\n",
       "    </tr>\n",
       "    <tr>\n",
       "      <th>2136631</th>\n",
       "      <td>4640420b</td>\n",
       "      <td>0</td>\n",
       "      <td>0</td>\n",
       "      <td>0</td>\n",
       "      <td>1</td>\n",
       "      <td>0</td>\n",
       "      <td>0</td>\n",
       "      <td>0</td>\n",
       "    </tr>\n",
       "    <tr>\n",
       "      <th>2136632</th>\n",
       "      <td>4640420b</td>\n",
       "      <td>0</td>\n",
       "      <td>0</td>\n",
       "      <td>0</td>\n",
       "      <td>1</td>\n",
       "      <td>0</td>\n",
       "      <td>0</td>\n",
       "      <td>0</td>\n",
       "    </tr>\n",
       "    <tr>\n",
       "      <th>2136633</th>\n",
       "      <td>4640420b</td>\n",
       "      <td>0</td>\n",
       "      <td>0</td>\n",
       "      <td>1</td>\n",
       "      <td>0</td>\n",
       "      <td>0</td>\n",
       "      <td>0</td>\n",
       "      <td>0</td>\n",
       "    </tr>\n",
       "  </tbody>\n",
       "</table>\n",
       "</div>"
      ],
      "text/plain": [
       "           person  channel_Direct  channel_Email  channel_Organic  \\\n",
       "2136629  4640420b               0              0                0   \n",
       "2136630  4640420b               0              0                0   \n",
       "2136631  4640420b               0              0                0   \n",
       "2136632  4640420b               0              0                0   \n",
       "2136633  4640420b               0              0                1   \n",
       "\n",
       "         channel_Paid  channel_Referral  channel_Social  channel_Unknown  \n",
       "2136629             1                 0               0                0  \n",
       "2136630             1                 0               0                0  \n",
       "2136631             1                 0               0                0  \n",
       "2136632             1                 0               0                0  \n",
       "2136633             0                 0               0                0  "
      ]
     },
     "execution_count": 519,
     "metadata": {},
     "output_type": "execute_result"
    }
   ],
   "source": [
    "person_channel.head()"
   ]
  },
  {
   "cell_type": "code",
   "execution_count": 520,
   "metadata": {},
   "outputs": [],
   "source": [
    "person_channel = person_channel[[\"person\",\"channel_Direct\",\"channel_Paid\",\"channel_Organic\",\"channel_Referral\"]]"
   ]
  },
  {
   "cell_type": "code",
   "execution_count": 521,
   "metadata": {},
   "outputs": [],
   "source": [
    "person_channel = person_channel.groupby(\"person\",as_index=False).sum()"
   ]
  },
  {
   "cell_type": "markdown",
   "metadata": {},
   "source": [
    "Productos visto por el usuario"
   ]
  },
  {
   "cell_type": "code",
   "execution_count": 522,
   "metadata": {},
   "outputs": [
    {
     "data": {
      "text/html": [
       "<div>\n",
       "<table border=\"1\" class=\"dataframe\">\n",
       "  <thead>\n",
       "    <tr style=\"text-align: right;\">\n",
       "      <th></th>\n",
       "      <th>person</th>\n",
       "      <th>event</th>\n",
       "      <th>sku</th>\n",
       "      <th>model</th>\n",
       "      <th>condition</th>\n",
       "      <th>storage</th>\n",
       "      <th>skus</th>\n",
       "    </tr>\n",
       "  </thead>\n",
       "  <tbody>\n",
       "    <tr>\n",
       "      <th>0</th>\n",
       "      <td>4886f805</td>\n",
       "      <td>viewed product</td>\n",
       "      <td>9288.0</td>\n",
       "      <td>samsung galaxy j7 prime</td>\n",
       "      <td>Excelente</td>\n",
       "      <td>32GB</td>\n",
       "      <td>NaN</td>\n",
       "    </tr>\n",
       "    <tr>\n",
       "      <th>1</th>\n",
       "      <td>ad93850f</td>\n",
       "      <td>viewed product</td>\n",
       "      <td>304.0</td>\n",
       "      <td>iphone 5s</td>\n",
       "      <td>Muito Bom</td>\n",
       "      <td>32GB</td>\n",
       "      <td>NaN</td>\n",
       "    </tr>\n",
       "    <tr>\n",
       "      <th>2</th>\n",
       "      <td>0297fc1e</td>\n",
       "      <td>viewed product</td>\n",
       "      <td>6888.0</td>\n",
       "      <td>iphone 6s</td>\n",
       "      <td>Muito Bom</td>\n",
       "      <td>64GB</td>\n",
       "      <td>NaN</td>\n",
       "    </tr>\n",
       "    <tr>\n",
       "      <th>3</th>\n",
       "      <td>2d681dd8</td>\n",
       "      <td>viewed product</td>\n",
       "      <td>11890.0</td>\n",
       "      <td>iphone 7</td>\n",
       "      <td>Bom</td>\n",
       "      <td>128GB</td>\n",
       "      <td>NaN</td>\n",
       "    </tr>\n",
       "    <tr>\n",
       "      <th>4</th>\n",
       "      <td>cccea85e</td>\n",
       "      <td>viewed product</td>\n",
       "      <td>7517.0</td>\n",
       "      <td>lg g4 h818p</td>\n",
       "      <td>Excelente</td>\n",
       "      <td>32GB</td>\n",
       "      <td>NaN</td>\n",
       "    </tr>\n",
       "  </tbody>\n",
       "</table>\n",
       "</div>"
      ],
      "text/plain": [
       "     person           event      sku                    model  condition  \\\n",
       "0  4886f805  viewed product   9288.0  samsung galaxy j7 prime  Excelente   \n",
       "1  ad93850f  viewed product    304.0                iphone 5s  Muito Bom   \n",
       "2  0297fc1e  viewed product   6888.0                iphone 6s  Muito Bom   \n",
       "3  2d681dd8  viewed product  11890.0                 iphone 7        Bom   \n",
       "4  cccea85e  viewed product   7517.0              lg g4 h818p  Excelente   \n",
       "\n",
       "  storage skus  \n",
       "0    32GB  NaN  \n",
       "1    32GB  NaN  \n",
       "2    64GB  NaN  \n",
       "3   128GB  NaN  \n",
       "4    32GB  NaN  "
      ]
     },
     "execution_count": 522,
     "metadata": {},
     "output_type": "execute_result"
    }
   ],
   "source": [
    "productData.head()"
   ]
  },
  {
   "cell_type": "code",
   "execution_count": 523,
   "metadata": {},
   "outputs": [
    {
     "data": {
      "text/plain": [
       "Bom                   547617\n",
       "Excelente             378697\n",
       "Muito Bom             359053\n",
       "Bom - Sem Touch ID     31742\n",
       "Novo                    3421\n",
       "Name: condition, dtype: int64"
      ]
     },
     "execution_count": 523,
     "metadata": {},
     "output_type": "execute_result"
    }
   ],
   "source": [
    "productData[\"condition\"].value_counts()"
   ]
  },
  {
   "cell_type": "code",
   "execution_count": 524,
   "metadata": {},
   "outputs": [
    {
     "data": {
      "text/plain": [
       "16GB     442096\n",
       "32GB     430283\n",
       "64GB     228413\n",
       "128GB     99345\n",
       "8GB       96019\n",
       "256GB     17623\n",
       "4GB        5409\n",
       "512MB      1342\n",
       "Name: storage, dtype: int64"
      ]
     },
     "execution_count": 524,
     "metadata": {},
     "output_type": "execute_result"
    }
   ],
   "source": [
    "productData[\"storage\"].value_counts()"
   ]
  },
  {
   "cell_type": "code",
   "execution_count": 525,
   "metadata": {},
   "outputs": [
    {
     "name": "stderr",
     "output_type": "stream",
     "text": [
      "/anaconda/lib/python3.6/site-packages/ipykernel/__main__.py:1: SettingWithCopyWarning: \n",
      "A value is trying to be set on a copy of a slice from a DataFrame.\n",
      "Try using .loc[row_indexer,col_indexer] = value instead\n",
      "\n",
      "See the caveats in the documentation: http://pandas.pydata.org/pandas-docs/stable/indexing.html#indexing-view-versus-copy\n",
      "  if __name__ == '__main__':\n",
      "/anaconda/lib/python3.6/site-packages/ipykernel/__main__.py:2: SettingWithCopyWarning: \n",
      "A value is trying to be set on a copy of a slice from a DataFrame.\n",
      "Try using .loc[row_indexer,col_indexer] = value instead\n",
      "\n",
      "See the caveats in the documentation: http://pandas.pydata.org/pandas-docs/stable/indexing.html#indexing-view-versus-copy\n",
      "  from ipykernel import kernelapp as app\n"
     ]
    }
   ],
   "source": [
    "productData[\"model\"] = productData[\"model\"].fillna(\"Desconocido\")\n",
    "productData[\"marca\"] = productData[\"model\"].map(lambda x:\"apple\" if(x.split(\" \")[0] in [\"iphone\",\"ipad\"]) else x.split(\" \")[0])"
   ]
  },
  {
   "cell_type": "code",
   "execution_count": 526,
   "metadata": {},
   "outputs": [
    {
     "data": {
      "text/plain": [
       "Desconocido    893560\n",
       "apple          643135\n",
       "samsung        564336\n",
       "motorola       177813\n",
       "lg              27472\n",
       "sony            16672\n",
       "lenovo          11848\n",
       "asus             5041\n",
       "quantum          1737\n",
       "ofertas            26\n",
       "list               24\n",
       "nokia              15\n",
       "outros              1\n",
       "xiaomi              1\n",
       "Name: marca, dtype: int64"
      ]
     },
     "execution_count": 526,
     "metadata": {},
     "output_type": "execute_result"
    }
   ],
   "source": [
    "productData[\"marca\"].value_counts()"
   ]
  },
  {
   "cell_type": "code",
   "execution_count": 527,
   "metadata": {},
   "outputs": [
    {
     "name": "stderr",
     "output_type": "stream",
     "text": [
      "/anaconda/lib/python3.6/site-packages/ipykernel/__main__.py:1: SettingWithCopyWarning: \n",
      "A value is trying to be set on a copy of a slice from a DataFrame.\n",
      "Try using .loc[row_indexer,col_indexer] = value instead\n",
      "\n",
      "See the caveats in the documentation: http://pandas.pydata.org/pandas-docs/stable/indexing.html#indexing-view-versus-copy\n",
      "  if __name__ == '__main__':\n"
     ]
    },
    {
     "data": {
      "text/plain": [
       "                 905497\n",
       "iphone 6         147600\n",
       "iphone 6s        144700\n",
       "iphone 5s        108058\n",
       "iphone 7         107571\n",
       "galaxy s7         96659\n",
       "galaxy s6         76769\n",
       "galaxy s8         58797\n",
       "galaxy j7         51695\n",
       "galaxy j5         48966\n",
       "iphone se         39086\n",
       "moto g4           38921\n",
       "galaxy a5         36331\n",
       "galaxy s5         34274\n",
       "galaxy note       33937\n",
       "iphone 5c         29797\n",
       "galaxy a7         28334\n",
       "moto x            27335\n",
       "moto g5           25950\n",
       "iphone 5          19876\n",
       "moto g3           19328\n",
       "moto z            18165\n",
       "iphone 4s         15478\n",
       "galaxy gran       13724\n",
       "moto g2           13386\n",
       "moto x2           13155\n",
       "galaxy j2         10800\n",
       "galaxy s4          9093\n",
       "iphone             8926\n",
       "xperia z3          8548\n",
       "                  ...  \n",
       "muv pro              46\n",
       "gear s3              45\n",
       "muv up               38\n",
       "x screen             34\n",
       "razr i               31\n",
       "moto g1a             29\n",
       "live                 28\n",
       "galaxy young         27\n",
       "pre venda            26\n",
       "l80 dual             21\n",
       "ipad                 15\n",
       "l90 dual              6\n",
       "g pro                 6\n",
       "galaxy pocket         6\n",
       "g2                    5\n",
       "go 3g                 5\n",
       "tablet galaxy         4\n",
       "l70 triple            4\n",
       "g2 mini               4\n",
       "razr hd               3\n",
       "moto g1               3\n",
       "galaxy s              2\n",
       "xperia z              2\n",
       "nexus 4               2\n",
       "moto e1               1\n",
       "razr d3               1\n",
       "redmi 2               1\n",
       "moto e4               1\n",
       "optimus l7            1\n",
       "tv led                1\n",
       "Name: version, dtype: int64"
      ]
     },
     "execution_count": 527,
     "metadata": {},
     "output_type": "execute_result"
    }
   ],
   "source": [
    "productData[\"version\"] = productData[\"model\"].map(lambda x:\" \".join(x.split(\" \")[0:2]) if(x.split(\" \")[0] in [\"iphone\",\"ipad\"]) else \" \".join(x.split(\" \")[1:3]))\n",
    "productData[\"version\"].value_counts()"
   ]
  },
  {
   "cell_type": "code",
   "execution_count": 528,
   "metadata": {},
   "outputs": [],
   "source": [
    "users_view_list = productData[[\"person\",\"skus\"]]"
   ]
  },
  {
   "cell_type": "code",
   "execution_count": 529,
   "metadata": {},
   "outputs": [
    {
     "data": {
      "text/plain": [
       "True     1835732\n",
       "False     505949\n",
       "Name: skus, dtype: int64"
      ]
     },
     "execution_count": 529,
     "metadata": {},
     "output_type": "execute_result"
    }
   ],
   "source": [
    "users_view_list[\"skus\"].isnull().value_counts()"
   ]
  },
  {
   "cell_type": "code",
   "execution_count": 530,
   "metadata": {},
   "outputs": [],
   "source": [
    "productData = productData[(productData[\"event\"] == \"checkout\")]"
   ]
  },
  {
   "cell_type": "code",
   "execution_count": 531,
   "metadata": {},
   "outputs": [
    {
     "data": {
      "text/html": [
       "<div>\n",
       "<table border=\"1\" class=\"dataframe\">\n",
       "  <thead>\n",
       "    <tr style=\"text-align: right;\">\n",
       "      <th></th>\n",
       "      <th>person</th>\n",
       "      <th>event</th>\n",
       "      <th>sku</th>\n",
       "      <th>model</th>\n",
       "      <th>condition</th>\n",
       "      <th>storage</th>\n",
       "      <th>skus</th>\n",
       "      <th>marca</th>\n",
       "      <th>version</th>\n",
       "    </tr>\n",
       "  </thead>\n",
       "  <tbody>\n",
       "    <tr>\n",
       "      <th>33</th>\n",
       "      <td>15ea8012</td>\n",
       "      <td>checkout</td>\n",
       "      <td>12802.0</td>\n",
       "      <td>samsung galaxy s8 plus</td>\n",
       "      <td>Excelente</td>\n",
       "      <td>64GB</td>\n",
       "      <td>NaN</td>\n",
       "      <td>samsung</td>\n",
       "      <td>galaxy s8</td>\n",
       "    </tr>\n",
       "    <tr>\n",
       "      <th>60</th>\n",
       "      <td>43790d8f</td>\n",
       "      <td>checkout</td>\n",
       "      <td>10378.0</td>\n",
       "      <td>motorola moto g4 plus</td>\n",
       "      <td>Bom</td>\n",
       "      <td>32GB</td>\n",
       "      <td>NaN</td>\n",
       "      <td>motorola</td>\n",
       "      <td>moto g4</td>\n",
       "    </tr>\n",
       "    <tr>\n",
       "      <th>76</th>\n",
       "      <td>d614c608</td>\n",
       "      <td>checkout</td>\n",
       "      <td>6343.0</td>\n",
       "      <td>samsung galaxy j5</td>\n",
       "      <td>Bom</td>\n",
       "      <td>16GB</td>\n",
       "      <td>NaN</td>\n",
       "      <td>samsung</td>\n",
       "      <td>galaxy j5</td>\n",
       "    </tr>\n",
       "    <tr>\n",
       "      <th>133</th>\n",
       "      <td>55d1e0ee</td>\n",
       "      <td>checkout</td>\n",
       "      <td>6663.0</td>\n",
       "      <td>samsung galaxy core plus duos tv</td>\n",
       "      <td>Excelente</td>\n",
       "      <td>4GB</td>\n",
       "      <td>NaN</td>\n",
       "      <td>samsung</td>\n",
       "      <td>galaxy core</td>\n",
       "    </tr>\n",
       "    <tr>\n",
       "      <th>147</th>\n",
       "      <td>bb78c182</td>\n",
       "      <td>checkout</td>\n",
       "      <td>7631.0</td>\n",
       "      <td>motorola moto g3 4g</td>\n",
       "      <td>Bom</td>\n",
       "      <td>16GB</td>\n",
       "      <td>NaN</td>\n",
       "      <td>motorola</td>\n",
       "      <td>moto g3</td>\n",
       "    </tr>\n",
       "  </tbody>\n",
       "</table>\n",
       "</div>"
      ],
      "text/plain": [
       "       person     event      sku                             model  condition  \\\n",
       "33   15ea8012  checkout  12802.0            samsung galaxy s8 plus  Excelente   \n",
       "60   43790d8f  checkout  10378.0             motorola moto g4 plus        Bom   \n",
       "76   d614c608  checkout   6343.0                 samsung galaxy j5        Bom   \n",
       "133  55d1e0ee  checkout   6663.0  samsung galaxy core plus duos tv  Excelente   \n",
       "147  bb78c182  checkout   7631.0               motorola moto g3 4g        Bom   \n",
       "\n",
       "    storage skus     marca      version  \n",
       "33     64GB  NaN   samsung    galaxy s8  \n",
       "60     32GB  NaN  motorola      moto g4  \n",
       "76     16GB  NaN   samsung    galaxy j5  \n",
       "133     4GB  NaN   samsung  galaxy core  \n",
       "147    16GB  NaN  motorola      moto g3  "
      ]
     },
     "execution_count": 531,
     "metadata": {},
     "output_type": "execute_result"
    }
   ],
   "source": [
    "productData.head()"
   ]
  },
  {
   "cell_type": "code",
   "execution_count": 532,
   "metadata": {},
   "outputs": [],
   "source": [
    "productData = productData[[\"person\",\"marca\",\"condition\",\"version\",\"storage\"]]"
   ]
  },
  {
   "cell_type": "code",
   "execution_count": 533,
   "metadata": {},
   "outputs": [
    {
     "data": {
      "text/html": [
       "<div>\n",
       "<table border=\"1\" class=\"dataframe\">\n",
       "  <thead>\n",
       "    <tr style=\"text-align: right;\">\n",
       "      <th></th>\n",
       "      <th>person</th>\n",
       "      <th>marca</th>\n",
       "      <th>condition</th>\n",
       "      <th>version</th>\n",
       "      <th>storage</th>\n",
       "    </tr>\n",
       "  </thead>\n",
       "  <tbody>\n",
       "    <tr>\n",
       "      <th>33</th>\n",
       "      <td>15ea8012</td>\n",
       "      <td>samsung</td>\n",
       "      <td>Excelente</td>\n",
       "      <td>galaxy s8</td>\n",
       "      <td>64GB</td>\n",
       "    </tr>\n",
       "    <tr>\n",
       "      <th>60</th>\n",
       "      <td>43790d8f</td>\n",
       "      <td>motorola</td>\n",
       "      <td>Bom</td>\n",
       "      <td>moto g4</td>\n",
       "      <td>32GB</td>\n",
       "    </tr>\n",
       "    <tr>\n",
       "      <th>76</th>\n",
       "      <td>d614c608</td>\n",
       "      <td>samsung</td>\n",
       "      <td>Bom</td>\n",
       "      <td>galaxy j5</td>\n",
       "      <td>16GB</td>\n",
       "    </tr>\n",
       "    <tr>\n",
       "      <th>133</th>\n",
       "      <td>55d1e0ee</td>\n",
       "      <td>samsung</td>\n",
       "      <td>Excelente</td>\n",
       "      <td>galaxy core</td>\n",
       "      <td>4GB</td>\n",
       "    </tr>\n",
       "    <tr>\n",
       "      <th>147</th>\n",
       "      <td>bb78c182</td>\n",
       "      <td>motorola</td>\n",
       "      <td>Bom</td>\n",
       "      <td>moto g3</td>\n",
       "      <td>16GB</td>\n",
       "    </tr>\n",
       "  </tbody>\n",
       "</table>\n",
       "</div>"
      ],
      "text/plain": [
       "       person     marca  condition      version storage\n",
       "33   15ea8012   samsung  Excelente    galaxy s8    64GB\n",
       "60   43790d8f  motorola        Bom      moto g4    32GB\n",
       "76   d614c608   samsung        Bom    galaxy j5    16GB\n",
       "133  55d1e0ee   samsung  Excelente  galaxy core     4GB\n",
       "147  bb78c182  motorola        Bom      moto g3    16GB"
      ]
     },
     "execution_count": 533,
     "metadata": {},
     "output_type": "execute_result"
    }
   ],
   "source": [
    "productData.head()"
   ]
  },
  {
   "cell_type": "code",
   "execution_count": 534,
   "metadata": {},
   "outputs": [
    {
     "data": {
      "text/plain": [
       "samsung     27838\n",
       "apple       26771\n",
       "motorola     8442\n",
       "lg           1140\n",
       "lenovo        573\n",
       "sony          416\n",
       "asus          102\n",
       "quantum        33\n",
       "Name: marca, dtype: int64"
      ]
     },
     "execution_count": 534,
     "metadata": {},
     "output_type": "execute_result"
    }
   ],
   "source": [
    "productData[\"marca\"].value_counts()"
   ]
  },
  {
   "cell_type": "code",
   "execution_count": 535,
   "metadata": {},
   "outputs": [
    {
     "data": {
      "text/plain": [
       "iphone 6          6988\n",
       "iphone 6s         5658\n",
       "iphone 5s         5619\n",
       "galaxy j5         4246\n",
       "galaxy j7         3649\n",
       "galaxy s7         3633\n",
       "iphone 7          3621\n",
       "galaxy s6         2921\n",
       "galaxy s8         2350\n",
       "moto g4           2035\n",
       "moto g2           1802\n",
       "galaxy a5         1657\n",
       "galaxy s5         1363\n",
       "galaxy gran       1336\n",
       "iphone 5c         1223\n",
       "moto g5           1198\n",
       "iphone se         1118\n",
       "moto g3            994\n",
       "galaxy j2          937\n",
       "galaxy note        877\n",
       "galaxy a7          839\n",
       "iphone 4s          816\n",
       "iphone 5           804\n",
       "galaxy j1          787\n",
       "galaxy win         653\n",
       "moto x             632\n",
       "moto z             615\n",
       "galaxy core        607\n",
       "moto x2            466\n",
       "iphone 4g          436\n",
       "                  ... \n",
       "ipad air            39\n",
       "g4 h815p            37\n",
       "g3 stylus           36\n",
       "xperia z5           29\n",
       "k4                  26\n",
       "k8                  25\n",
       "g3 beat             21\n",
       "zenfone 2           20\n",
       " x                  19\n",
       "g4 beat             19\n",
       "nexus 5             17\n",
       "g4 stylus           17\n",
       "go 4g               16\n",
       "ipad 3              15\n",
       "zenfone 5           14\n",
       "ipad 4              13\n",
       "x power             13\n",
       "ipad 2              12\n",
       "zenfone 6           10\n",
       "you                 10\n",
       "gear s2              7\n",
       "galaxy young         6\n",
       "muv                  6\n",
       "zenfone go           3\n",
       "gear fit             2\n",
       "zenfone selfie       2\n",
       "galaxy mega          1\n",
       "gear s3              1\n",
       "l80 dual             1\n",
       "muv pro              1\n",
       "Name: version, dtype: int64"
      ]
     },
     "execution_count": 535,
     "metadata": {},
     "output_type": "execute_result"
    }
   ],
   "source": [
    "productData[\"version\"].value_counts()"
   ]
  },
  {
   "cell_type": "code",
   "execution_count": 536,
   "metadata": {},
   "outputs": [
    {
     "data": {
      "text/plain": [
       "Bom                   28194\n",
       "Excelente             18543\n",
       "Muito Bom             16459\n",
       "Bom - Sem Touch ID     2073\n",
       "Novo                     46\n",
       "Name: condition, dtype: int64"
      ]
     },
     "execution_count": 536,
     "metadata": {},
     "output_type": "execute_result"
    }
   ],
   "source": [
    "productData[\"condition\"].value_counts()"
   ]
  },
  {
   "cell_type": "code",
   "execution_count": 537,
   "metadata": {},
   "outputs": [],
   "source": [
    "productData= pd.get_dummies(productData, columns=[\"marca\",\"condition\",\"version\",\"storage\"])"
   ]
  },
  {
   "cell_type": "code",
   "execution_count": 538,
   "metadata": {},
   "outputs": [],
   "source": [
    "productData = productData.groupby(\"person\",as_index=False).sum()"
   ]
  },
  {
   "cell_type": "code",
   "execution_count": 539,
   "metadata": {},
   "outputs": [
    {
     "data": {
      "text/plain": [
       "Index(['person', 'marca_apple', 'marca_asus', 'marca_lenovo', 'marca_lg',\n",
       "       'marca_motorola', 'marca_quantum', 'marca_samsung', 'marca_sony',\n",
       "       'condition_Bom',\n",
       "       ...\n",
       "       'version_zenfone go', 'version_zenfone selfie', 'storage_128GB',\n",
       "       'storage_16GB', 'storage_256GB', 'storage_32GB', 'storage_4GB',\n",
       "       'storage_512MB', 'storage_64GB', 'storage_8GB'],\n",
       "      dtype='object', length=114)"
      ]
     },
     "execution_count": 539,
     "metadata": {},
     "output_type": "execute_result"
    }
   ],
   "source": [
    "productData.columns"
   ]
  },
  {
   "cell_type": "code",
   "execution_count": 540,
   "metadata": {},
   "outputs": [],
   "source": [
    "productData = productData.drop([\"marca_quantum\",\"condition_Novo\"],axis = 1)"
   ]
  },
  {
   "cell_type": "code",
   "execution_count": 541,
   "metadata": {},
   "outputs": [
    {
     "data": {
      "text/html": [
       "<div>\n",
       "<table border=\"1\" class=\"dataframe\">\n",
       "  <thead>\n",
       "    <tr style=\"text-align: right;\">\n",
       "      <th></th>\n",
       "      <th>person</th>\n",
       "      <th>marca_apple</th>\n",
       "      <th>marca_asus</th>\n",
       "      <th>marca_lenovo</th>\n",
       "      <th>marca_lg</th>\n",
       "      <th>marca_motorola</th>\n",
       "      <th>marca_samsung</th>\n",
       "      <th>marca_sony</th>\n",
       "      <th>condition_Bom</th>\n",
       "      <th>condition_Bom - Sem Touch ID</th>\n",
       "      <th>...</th>\n",
       "      <th>version_zenfone go</th>\n",
       "      <th>version_zenfone selfie</th>\n",
       "      <th>storage_128GB</th>\n",
       "      <th>storage_16GB</th>\n",
       "      <th>storage_256GB</th>\n",
       "      <th>storage_32GB</th>\n",
       "      <th>storage_4GB</th>\n",
       "      <th>storage_512MB</th>\n",
       "      <th>storage_64GB</th>\n",
       "      <th>storage_8GB</th>\n",
       "    </tr>\n",
       "  </thead>\n",
       "  <tbody>\n",
       "    <tr>\n",
       "      <th>0</th>\n",
       "      <td>0008ed71</td>\n",
       "      <td>1</td>\n",
       "      <td>0</td>\n",
       "      <td>0</td>\n",
       "      <td>1</td>\n",
       "      <td>0</td>\n",
       "      <td>1</td>\n",
       "      <td>0</td>\n",
       "      <td>2</td>\n",
       "      <td>0</td>\n",
       "      <td>...</td>\n",
       "      <td>0</td>\n",
       "      <td>0</td>\n",
       "      <td>0</td>\n",
       "      <td>0</td>\n",
       "      <td>0</td>\n",
       "      <td>2</td>\n",
       "      <td>0</td>\n",
       "      <td>0</td>\n",
       "      <td>1</td>\n",
       "      <td>0</td>\n",
       "    </tr>\n",
       "    <tr>\n",
       "      <th>1</th>\n",
       "      <td>00091926</td>\n",
       "      <td>2</td>\n",
       "      <td>0</td>\n",
       "      <td>0</td>\n",
       "      <td>0</td>\n",
       "      <td>0</td>\n",
       "      <td>0</td>\n",
       "      <td>0</td>\n",
       "      <td>0</td>\n",
       "      <td>0</td>\n",
       "      <td>...</td>\n",
       "      <td>0</td>\n",
       "      <td>0</td>\n",
       "      <td>0</td>\n",
       "      <td>0</td>\n",
       "      <td>0</td>\n",
       "      <td>0</td>\n",
       "      <td>0</td>\n",
       "      <td>0</td>\n",
       "      <td>2</td>\n",
       "      <td>0</td>\n",
       "    </tr>\n",
       "    <tr>\n",
       "      <th>2</th>\n",
       "      <td>000ba417</td>\n",
       "      <td>0</td>\n",
       "      <td>0</td>\n",
       "      <td>0</td>\n",
       "      <td>0</td>\n",
       "      <td>1</td>\n",
       "      <td>5</td>\n",
       "      <td>0</td>\n",
       "      <td>4</td>\n",
       "      <td>0</td>\n",
       "      <td>...</td>\n",
       "      <td>0</td>\n",
       "      <td>0</td>\n",
       "      <td>0</td>\n",
       "      <td>6</td>\n",
       "      <td>0</td>\n",
       "      <td>0</td>\n",
       "      <td>0</td>\n",
       "      <td>0</td>\n",
       "      <td>0</td>\n",
       "      <td>0</td>\n",
       "    </tr>\n",
       "    <tr>\n",
       "      <th>3</th>\n",
       "      <td>000c79fe</td>\n",
       "      <td>1</td>\n",
       "      <td>0</td>\n",
       "      <td>0</td>\n",
       "      <td>0</td>\n",
       "      <td>0</td>\n",
       "      <td>0</td>\n",
       "      <td>0</td>\n",
       "      <td>1</td>\n",
       "      <td>0</td>\n",
       "      <td>...</td>\n",
       "      <td>0</td>\n",
       "      <td>0</td>\n",
       "      <td>1</td>\n",
       "      <td>0</td>\n",
       "      <td>0</td>\n",
       "      <td>0</td>\n",
       "      <td>0</td>\n",
       "      <td>0</td>\n",
       "      <td>0</td>\n",
       "      <td>0</td>\n",
       "    </tr>\n",
       "    <tr>\n",
       "      <th>4</th>\n",
       "      <td>000e4d9e</td>\n",
       "      <td>0</td>\n",
       "      <td>0</td>\n",
       "      <td>0</td>\n",
       "      <td>0</td>\n",
       "      <td>0</td>\n",
       "      <td>1</td>\n",
       "      <td>0</td>\n",
       "      <td>0</td>\n",
       "      <td>0</td>\n",
       "      <td>...</td>\n",
       "      <td>0</td>\n",
       "      <td>0</td>\n",
       "      <td>0</td>\n",
       "      <td>0</td>\n",
       "      <td>0</td>\n",
       "      <td>1</td>\n",
       "      <td>0</td>\n",
       "      <td>0</td>\n",
       "      <td>0</td>\n",
       "      <td>0</td>\n",
       "    </tr>\n",
       "  </tbody>\n",
       "</table>\n",
       "<p>5 rows × 112 columns</p>\n",
       "</div>"
      ],
      "text/plain": [
       "     person  marca_apple  marca_asus  marca_lenovo  marca_lg  marca_motorola  \\\n",
       "0  0008ed71            1           0             0         1               0   \n",
       "1  00091926            2           0             0         0               0   \n",
       "2  000ba417            0           0             0         0               1   \n",
       "3  000c79fe            1           0             0         0               0   \n",
       "4  000e4d9e            0           0             0         0               0   \n",
       "\n",
       "   marca_samsung  marca_sony  condition_Bom  condition_Bom - Sem Touch ID  \\\n",
       "0              1           0              2                             0   \n",
       "1              0           0              0                             0   \n",
       "2              5           0              4                             0   \n",
       "3              0           0              1                             0   \n",
       "4              1           0              0                             0   \n",
       "\n",
       "      ...       version_zenfone go  version_zenfone selfie  storage_128GB  \\\n",
       "0     ...                        0                       0              0   \n",
       "1     ...                        0                       0              0   \n",
       "2     ...                        0                       0              0   \n",
       "3     ...                        0                       0              1   \n",
       "4     ...                        0                       0              0   \n",
       "\n",
       "   storage_16GB  storage_256GB  storage_32GB  storage_4GB  storage_512MB  \\\n",
       "0             0              0             2            0              0   \n",
       "1             0              0             0            0              0   \n",
       "2             6              0             0            0              0   \n",
       "3             0              0             0            0              0   \n",
       "4             0              0             1            0              0   \n",
       "\n",
       "   storage_64GB  storage_8GB  \n",
       "0             1            0  \n",
       "1             2            0  \n",
       "2             0            0  \n",
       "3             0            0  \n",
       "4             0            0  \n",
       "\n",
       "[5 rows x 112 columns]"
      ]
     },
     "execution_count": 541,
     "metadata": {},
     "output_type": "execute_result"
    }
   ],
   "source": [
    "productData.head()"
   ]
  },
  {
   "cell_type": "code",
   "execution_count": 542,
   "metadata": {},
   "outputs": [
    {
     "data": {
      "text/plain": [
       "Index(['person', 'marca_apple', 'marca_asus', 'marca_lenovo', 'marca_lg',\n",
       "       'marca_motorola', 'marca_samsung', 'marca_sony', 'condition_Bom',\n",
       "       'condition_Bom - Sem Touch ID',\n",
       "       ...\n",
       "       'version_zenfone go', 'version_zenfone selfie', 'storage_128GB',\n",
       "       'storage_16GB', 'storage_256GB', 'storage_32GB', 'storage_4GB',\n",
       "       'storage_512MB', 'storage_64GB', 'storage_8GB'],\n",
       "      dtype='object', length=112)"
      ]
     },
     "execution_count": 542,
     "metadata": {},
     "output_type": "execute_result"
    }
   ],
   "source": [
    "productData.columns"
   ]
  },
  {
   "cell_type": "code",
   "execution_count": 543,
   "metadata": {},
   "outputs": [],
   "source": [
    "productData = productData[['person', 'marca_apple', 'marca_asus', 'marca_lenovo', 'marca_lg',\n",
    "       'marca_motorola', 'marca_samsung', 'marca_sony', 'condition_Bom',\n",
    "       'condition_Bom - Sem Touch ID', 'condition_Excelente',\n",
    "       'condition_Muito Bom',\"version_galaxy j7\",\"version_galaxy j5\",\"version_galaxy s7\",\"version_iphone 6\",\"version_iphone 5s\",\"version_iphone 6s\",\"version_moto g4\",\"version_moto g2\",\"version_galaxy s6\",'storage_128GB', 'storage_16GB', 'storage_256GB', 'storage_32GB',\n",
    "       'storage_4GB', 'storage_512MB', 'storage_64GB', 'storage_8GB']]"
   ]
  },
  {
   "cell_type": "code",
   "execution_count": 544,
   "metadata": {},
   "outputs": [
    {
     "data": {
      "text/html": [
       "<div>\n",
       "<table border=\"1\" class=\"dataframe\">\n",
       "  <thead>\n",
       "    <tr style=\"text-align: right;\">\n",
       "      <th></th>\n",
       "      <th>person</th>\n",
       "      <th>marca_apple</th>\n",
       "      <th>marca_asus</th>\n",
       "      <th>marca_lenovo</th>\n",
       "      <th>marca_lg</th>\n",
       "      <th>marca_motorola</th>\n",
       "      <th>marca_samsung</th>\n",
       "      <th>marca_sony</th>\n",
       "      <th>condition_Bom</th>\n",
       "      <th>condition_Bom - Sem Touch ID</th>\n",
       "      <th>...</th>\n",
       "      <th>version_moto g2</th>\n",
       "      <th>version_galaxy s6</th>\n",
       "      <th>storage_128GB</th>\n",
       "      <th>storage_16GB</th>\n",
       "      <th>storage_256GB</th>\n",
       "      <th>storage_32GB</th>\n",
       "      <th>storage_4GB</th>\n",
       "      <th>storage_512MB</th>\n",
       "      <th>storage_64GB</th>\n",
       "      <th>storage_8GB</th>\n",
       "    </tr>\n",
       "  </thead>\n",
       "  <tbody>\n",
       "    <tr>\n",
       "      <th>0</th>\n",
       "      <td>0008ed71</td>\n",
       "      <td>1</td>\n",
       "      <td>0</td>\n",
       "      <td>0</td>\n",
       "      <td>1</td>\n",
       "      <td>0</td>\n",
       "      <td>1</td>\n",
       "      <td>0</td>\n",
       "      <td>2</td>\n",
       "      <td>0</td>\n",
       "      <td>...</td>\n",
       "      <td>0</td>\n",
       "      <td>1</td>\n",
       "      <td>0</td>\n",
       "      <td>0</td>\n",
       "      <td>0</td>\n",
       "      <td>2</td>\n",
       "      <td>0</td>\n",
       "      <td>0</td>\n",
       "      <td>1</td>\n",
       "      <td>0</td>\n",
       "    </tr>\n",
       "    <tr>\n",
       "      <th>1</th>\n",
       "      <td>00091926</td>\n",
       "      <td>2</td>\n",
       "      <td>0</td>\n",
       "      <td>0</td>\n",
       "      <td>0</td>\n",
       "      <td>0</td>\n",
       "      <td>0</td>\n",
       "      <td>0</td>\n",
       "      <td>0</td>\n",
       "      <td>0</td>\n",
       "      <td>...</td>\n",
       "      <td>0</td>\n",
       "      <td>0</td>\n",
       "      <td>0</td>\n",
       "      <td>0</td>\n",
       "      <td>0</td>\n",
       "      <td>0</td>\n",
       "      <td>0</td>\n",
       "      <td>0</td>\n",
       "      <td>2</td>\n",
       "      <td>0</td>\n",
       "    </tr>\n",
       "    <tr>\n",
       "      <th>2</th>\n",
       "      <td>000ba417</td>\n",
       "      <td>0</td>\n",
       "      <td>0</td>\n",
       "      <td>0</td>\n",
       "      <td>0</td>\n",
       "      <td>1</td>\n",
       "      <td>5</td>\n",
       "      <td>0</td>\n",
       "      <td>4</td>\n",
       "      <td>0</td>\n",
       "      <td>...</td>\n",
       "      <td>0</td>\n",
       "      <td>0</td>\n",
       "      <td>0</td>\n",
       "      <td>6</td>\n",
       "      <td>0</td>\n",
       "      <td>0</td>\n",
       "      <td>0</td>\n",
       "      <td>0</td>\n",
       "      <td>0</td>\n",
       "      <td>0</td>\n",
       "    </tr>\n",
       "    <tr>\n",
       "      <th>3</th>\n",
       "      <td>000c79fe</td>\n",
       "      <td>1</td>\n",
       "      <td>0</td>\n",
       "      <td>0</td>\n",
       "      <td>0</td>\n",
       "      <td>0</td>\n",
       "      <td>0</td>\n",
       "      <td>0</td>\n",
       "      <td>1</td>\n",
       "      <td>0</td>\n",
       "      <td>...</td>\n",
       "      <td>0</td>\n",
       "      <td>0</td>\n",
       "      <td>1</td>\n",
       "      <td>0</td>\n",
       "      <td>0</td>\n",
       "      <td>0</td>\n",
       "      <td>0</td>\n",
       "      <td>0</td>\n",
       "      <td>0</td>\n",
       "      <td>0</td>\n",
       "    </tr>\n",
       "    <tr>\n",
       "      <th>4</th>\n",
       "      <td>000e4d9e</td>\n",
       "      <td>0</td>\n",
       "      <td>0</td>\n",
       "      <td>0</td>\n",
       "      <td>0</td>\n",
       "      <td>0</td>\n",
       "      <td>1</td>\n",
       "      <td>0</td>\n",
       "      <td>0</td>\n",
       "      <td>0</td>\n",
       "      <td>...</td>\n",
       "      <td>0</td>\n",
       "      <td>1</td>\n",
       "      <td>0</td>\n",
       "      <td>0</td>\n",
       "      <td>0</td>\n",
       "      <td>1</td>\n",
       "      <td>0</td>\n",
       "      <td>0</td>\n",
       "      <td>0</td>\n",
       "      <td>0</td>\n",
       "    </tr>\n",
       "  </tbody>\n",
       "</table>\n",
       "<p>5 rows × 29 columns</p>\n",
       "</div>"
      ],
      "text/plain": [
       "     person  marca_apple  marca_asus  marca_lenovo  marca_lg  marca_motorola  \\\n",
       "0  0008ed71            1           0             0         1               0   \n",
       "1  00091926            2           0             0         0               0   \n",
       "2  000ba417            0           0             0         0               1   \n",
       "3  000c79fe            1           0             0         0               0   \n",
       "4  000e4d9e            0           0             0         0               0   \n",
       "\n",
       "   marca_samsung  marca_sony  condition_Bom  condition_Bom - Sem Touch ID  \\\n",
       "0              1           0              2                             0   \n",
       "1              0           0              0                             0   \n",
       "2              5           0              4                             0   \n",
       "3              0           0              1                             0   \n",
       "4              1           0              0                             0   \n",
       "\n",
       "      ...       version_moto g2  version_galaxy s6  storage_128GB  \\\n",
       "0     ...                     0                  1              0   \n",
       "1     ...                     0                  0              0   \n",
       "2     ...                     0                  0              0   \n",
       "3     ...                     0                  0              1   \n",
       "4     ...                     0                  1              0   \n",
       "\n",
       "   storage_16GB  storage_256GB  storage_32GB  storage_4GB  storage_512MB  \\\n",
       "0             0              0             2            0              0   \n",
       "1             0              0             0            0              0   \n",
       "2             6              0             0            0              0   \n",
       "3             0              0             0            0              0   \n",
       "4             0              0             1            0              0   \n",
       "\n",
       "   storage_64GB  storage_8GB  \n",
       "0             1            0  \n",
       "1             2            0  \n",
       "2             0            0  \n",
       "3             0            0  \n",
       "4             0            0  \n",
       "\n",
       "[5 rows x 29 columns]"
      ]
     },
     "execution_count": 544,
     "metadata": {},
     "output_type": "execute_result"
    }
   ],
   "source": [
    "productData.head()"
   ]
  },
  {
   "cell_type": "code",
   "execution_count": 545,
   "metadata": {},
   "outputs": [
    {
     "data": {
      "text/html": [
       "<div>\n",
       "<table border=\"1\" class=\"dataframe\">\n",
       "  <thead>\n",
       "    <tr style=\"text-align: right;\">\n",
       "      <th></th>\n",
       "      <th>person</th>\n",
       "      <th>skus</th>\n",
       "    </tr>\n",
       "  </thead>\n",
       "  <tbody>\n",
       "    <tr>\n",
       "      <th>0</th>\n",
       "      <td>4886f805</td>\n",
       "      <td>NaN</td>\n",
       "    </tr>\n",
       "    <tr>\n",
       "      <th>1</th>\n",
       "      <td>ad93850f</td>\n",
       "      <td>NaN</td>\n",
       "    </tr>\n",
       "    <tr>\n",
       "      <th>2</th>\n",
       "      <td>0297fc1e</td>\n",
       "      <td>NaN</td>\n",
       "    </tr>\n",
       "    <tr>\n",
       "      <th>3</th>\n",
       "      <td>2d681dd8</td>\n",
       "      <td>NaN</td>\n",
       "    </tr>\n",
       "    <tr>\n",
       "      <th>4</th>\n",
       "      <td>cccea85e</td>\n",
       "      <td>NaN</td>\n",
       "    </tr>\n",
       "  </tbody>\n",
       "</table>\n",
       "</div>"
      ],
      "text/plain": [
       "     person skus\n",
       "0  4886f805  NaN\n",
       "1  ad93850f  NaN\n",
       "2  0297fc1e  NaN\n",
       "3  2d681dd8  NaN\n",
       "4  cccea85e  NaN"
      ]
     },
     "execution_count": 545,
     "metadata": {},
     "output_type": "execute_result"
    }
   ],
   "source": [
    "users_view_list.head()"
   ]
  },
  {
   "cell_type": "code",
   "execution_count": 546,
   "metadata": {},
   "outputs": [],
   "source": [
    "users_view_list[\"skus\"] = users_view_list[\"skus\"].fillna(0)"
   ]
  },
  {
   "cell_type": "code",
   "execution_count": 547,
   "metadata": {},
   "outputs": [],
   "source": [
    "users_view_list[\"skus\"] = users_view_list[\"skus\"].map(lambda x:0 if(x == 0) else 1)"
   ]
  },
  {
   "cell_type": "code",
   "execution_count": 548,
   "metadata": {},
   "outputs": [],
   "source": [
    "users_view_list = users_view_list.groupby(\"person\",as_index=False).max()"
   ]
  },
  {
   "cell_type": "code",
   "execution_count": 549,
   "metadata": {},
   "outputs": [],
   "source": [
    "new_last15days = infoUserData[[\"person\",\"timestamp\",\"new_vs_returning\"]]"
   ]
  },
  {
   "cell_type": "code",
   "execution_count": 550,
   "metadata": {},
   "outputs": [
    {
     "data": {
      "text/html": [
       "<div>\n",
       "<table border=\"1\" class=\"dataframe\">\n",
       "  <thead>\n",
       "    <tr style=\"text-align: right;\">\n",
       "      <th></th>\n",
       "      <th>person</th>\n",
       "      <th>timestamp</th>\n",
       "      <th>new_vs_returning</th>\n",
       "    </tr>\n",
       "  </thead>\n",
       "  <tbody>\n",
       "    <tr>\n",
       "      <th>0</th>\n",
       "      <td>4886f805</td>\n",
       "      <td>2018-05-18 00:11:59</td>\n",
       "      <td>NaN</td>\n",
       "    </tr>\n",
       "    <tr>\n",
       "      <th>1</th>\n",
       "      <td>ad93850f</td>\n",
       "      <td>2018-05-18 00:11:27</td>\n",
       "      <td>NaN</td>\n",
       "    </tr>\n",
       "    <tr>\n",
       "      <th>2</th>\n",
       "      <td>0297fc1e</td>\n",
       "      <td>2018-05-18 00:11:16</td>\n",
       "      <td>NaN</td>\n",
       "    </tr>\n",
       "    <tr>\n",
       "      <th>3</th>\n",
       "      <td>2d681dd8</td>\n",
       "      <td>2018-05-18 00:11:14</td>\n",
       "      <td>NaN</td>\n",
       "    </tr>\n",
       "    <tr>\n",
       "      <th>4</th>\n",
       "      <td>cccea85e</td>\n",
       "      <td>2018-05-18 00:11:09</td>\n",
       "      <td>NaN</td>\n",
       "    </tr>\n",
       "  </tbody>\n",
       "</table>\n",
       "</div>"
      ],
      "text/plain": [
       "     person            timestamp new_vs_returning\n",
       "0  4886f805  2018-05-18 00:11:59              NaN\n",
       "1  ad93850f  2018-05-18 00:11:27              NaN\n",
       "2  0297fc1e  2018-05-18 00:11:16              NaN\n",
       "3  2d681dd8  2018-05-18 00:11:14              NaN\n",
       "4  cccea85e  2018-05-18 00:11:09              NaN"
      ]
     },
     "execution_count": 550,
     "metadata": {},
     "output_type": "execute_result"
    }
   ],
   "source": [
    "new_last15days.head()"
   ]
  },
  {
   "cell_type": "code",
   "execution_count": 551,
   "metadata": {},
   "outputs": [
    {
     "name": "stderr",
     "output_type": "stream",
     "text": [
      "/anaconda/lib/python3.6/site-packages/ipykernel/__main__.py:1: SettingWithCopyWarning: \n",
      "A value is trying to be set on a copy of a slice from a DataFrame.\n",
      "Try using .loc[row_indexer,col_indexer] = value instead\n",
      "\n",
      "See the caveats in the documentation: http://pandas.pydata.org/pandas-docs/stable/indexing.html#indexing-view-versus-copy\n",
      "  if __name__ == '__main__':\n",
      "/anaconda/lib/python3.6/site-packages/ipykernel/__main__.py:2: SettingWithCopyWarning: \n",
      "A value is trying to be set on a copy of a slice from a DataFrame.\n",
      "Try using .loc[row_indexer,col_indexer] = value instead\n",
      "\n",
      "See the caveats in the documentation: http://pandas.pydata.org/pandas-docs/stable/indexing.html#indexing-view-versus-copy\n",
      "  from ipykernel import kernelapp as app\n",
      "/anaconda/lib/python3.6/site-packages/ipykernel/__main__.py:3: SettingWithCopyWarning: \n",
      "A value is trying to be set on a copy of a slice from a DataFrame.\n",
      "Try using .loc[row_indexer,col_indexer] = value instead\n",
      "\n",
      "See the caveats in the documentation: http://pandas.pydata.org/pandas-docs/stable/indexing.html#indexing-view-versus-copy\n",
      "  app.launch_new_instance()\n"
     ]
    },
    {
     "data": {
      "text/html": [
       "<div>\n",
       "<table border=\"1\" class=\"dataframe\">\n",
       "  <thead>\n",
       "    <tr style=\"text-align: right;\">\n",
       "      <th></th>\n",
       "      <th>person</th>\n",
       "      <th>timestamp</th>\n",
       "      <th>new_vs_returning</th>\n",
       "      <th>month</th>\n",
       "      <th>day</th>\n",
       "    </tr>\n",
       "  </thead>\n",
       "  <tbody>\n",
       "    <tr>\n",
       "      <th>0</th>\n",
       "      <td>4886f805</td>\n",
       "      <td>2018-05-18 00:11:59</td>\n",
       "      <td>NaN</td>\n",
       "      <td>5</td>\n",
       "      <td>18</td>\n",
       "    </tr>\n",
       "    <tr>\n",
       "      <th>1</th>\n",
       "      <td>ad93850f</td>\n",
       "      <td>2018-05-18 00:11:27</td>\n",
       "      <td>NaN</td>\n",
       "      <td>5</td>\n",
       "      <td>18</td>\n",
       "    </tr>\n",
       "    <tr>\n",
       "      <th>2</th>\n",
       "      <td>0297fc1e</td>\n",
       "      <td>2018-05-18 00:11:16</td>\n",
       "      <td>NaN</td>\n",
       "      <td>5</td>\n",
       "      <td>18</td>\n",
       "    </tr>\n",
       "    <tr>\n",
       "      <th>3</th>\n",
       "      <td>2d681dd8</td>\n",
       "      <td>2018-05-18 00:11:14</td>\n",
       "      <td>NaN</td>\n",
       "      <td>5</td>\n",
       "      <td>18</td>\n",
       "    </tr>\n",
       "    <tr>\n",
       "      <th>4</th>\n",
       "      <td>cccea85e</td>\n",
       "      <td>2018-05-18 00:11:09</td>\n",
       "      <td>NaN</td>\n",
       "      <td>5</td>\n",
       "      <td>18</td>\n",
       "    </tr>\n",
       "  </tbody>\n",
       "</table>\n",
       "</div>"
      ],
      "text/plain": [
       "     person           timestamp new_vs_returning  month  day\n",
       "0  4886f805 2018-05-18 00:11:59              NaN      5   18\n",
       "1  ad93850f 2018-05-18 00:11:27              NaN      5   18\n",
       "2  0297fc1e 2018-05-18 00:11:16              NaN      5   18\n",
       "3  2d681dd8 2018-05-18 00:11:14              NaN      5   18\n",
       "4  cccea85e 2018-05-18 00:11:09              NaN      5   18"
      ]
     },
     "execution_count": 551,
     "metadata": {},
     "output_type": "execute_result"
    }
   ],
   "source": [
    "new_last15days[\"timestamp\"]= datetime(new_last15days[\"timestamp\"],\"%Y-%m-%dT%H:%M:%S\")\n",
    "new_last15days[\"month\"] = new_last15days[\"timestamp\"].map(lambda x: x.month)\n",
    "new_last15days[\"day\"] = new_last15days[\"timestamp\"].map(lambda x: x.day)\n",
    "new_last15days.head()\n"
   ]
  },
  {
   "cell_type": "code",
   "execution_count": 552,
   "metadata": {},
   "outputs": [
    {
     "data": {
      "text/plain": [
       "Returning    165827\n",
       "New           38242\n",
       "Name: new_vs_returning, dtype: int64"
      ]
     },
     "execution_count": 552,
     "metadata": {},
     "output_type": "execute_result"
    }
   ],
   "source": [
    "new_last15days[\"new_vs_returning\"].value_counts()"
   ]
  },
  {
   "cell_type": "code",
   "execution_count": 553,
   "metadata": {},
   "outputs": [
    {
     "data": {
      "text/html": [
       "<div>\n",
       "<table border=\"1\" class=\"dataframe\">\n",
       "  <thead>\n",
       "    <tr style=\"text-align: right;\">\n",
       "      <th></th>\n",
       "      <th>person</th>\n",
       "      <th>timestamp</th>\n",
       "      <th>new_vs_returning</th>\n",
       "      <th>month</th>\n",
       "      <th>day</th>\n",
       "    </tr>\n",
       "  </thead>\n",
       "  <tbody>\n",
       "    <tr>\n",
       "      <th>0</th>\n",
       "      <td>4886f805</td>\n",
       "      <td>2018-05-18 00:11:59</td>\n",
       "      <td>NaN</td>\n",
       "      <td>5</td>\n",
       "      <td>18</td>\n",
       "    </tr>\n",
       "    <tr>\n",
       "      <th>1</th>\n",
       "      <td>ad93850f</td>\n",
       "      <td>2018-05-18 00:11:27</td>\n",
       "      <td>NaN</td>\n",
       "      <td>5</td>\n",
       "      <td>18</td>\n",
       "    </tr>\n",
       "    <tr>\n",
       "      <th>2</th>\n",
       "      <td>0297fc1e</td>\n",
       "      <td>2018-05-18 00:11:16</td>\n",
       "      <td>NaN</td>\n",
       "      <td>5</td>\n",
       "      <td>18</td>\n",
       "    </tr>\n",
       "    <tr>\n",
       "      <th>3</th>\n",
       "      <td>2d681dd8</td>\n",
       "      <td>2018-05-18 00:11:14</td>\n",
       "      <td>NaN</td>\n",
       "      <td>5</td>\n",
       "      <td>18</td>\n",
       "    </tr>\n",
       "    <tr>\n",
       "      <th>4</th>\n",
       "      <td>cccea85e</td>\n",
       "      <td>2018-05-18 00:11:09</td>\n",
       "      <td>NaN</td>\n",
       "      <td>5</td>\n",
       "      <td>18</td>\n",
       "    </tr>\n",
       "  </tbody>\n",
       "</table>\n",
       "</div>"
      ],
      "text/plain": [
       "     person           timestamp new_vs_returning  month  day\n",
       "0  4886f805 2018-05-18 00:11:59              NaN      5   18\n",
       "1  ad93850f 2018-05-18 00:11:27              NaN      5   18\n",
       "2  0297fc1e 2018-05-18 00:11:16              NaN      5   18\n",
       "3  2d681dd8 2018-05-18 00:11:14              NaN      5   18\n",
       "4  cccea85e 2018-05-18 00:11:09              NaN      5   18"
      ]
     },
     "execution_count": 553,
     "metadata": {},
     "output_type": "execute_result"
    }
   ],
   "source": [
    "new_last15days = new_last15days[new_last15days[\"month\"] == 5]\n",
    "new_last15days = new_last15days[new_last15days[\"day\"] >14]\n",
    "new_last15days.head()"
   ]
  },
  {
   "cell_type": "code",
   "execution_count": 554,
   "metadata": {},
   "outputs": [],
   "source": [
    "new_last15days[\"new_15lastdays\"] = new_last15days[\"new_vs_returning\"] == \"New\""
   ]
  },
  {
   "cell_type": "code",
   "execution_count": 555,
   "metadata": {},
   "outputs": [
    {
     "data": {
      "text/plain": [
       "False    1377983\n",
       "True       25484\n",
       "Name: new_15lastdays, dtype: int64"
      ]
     },
     "execution_count": 555,
     "metadata": {},
     "output_type": "execute_result"
    }
   ],
   "source": [
    "new_last15days[\"new_15lastdays\"].value_counts()"
   ]
  },
  {
   "cell_type": "code",
   "execution_count": 556,
   "metadata": {},
   "outputs": [
    {
     "data": {
      "text/html": [
       "<div>\n",
       "<table border=\"1\" class=\"dataframe\">\n",
       "  <thead>\n",
       "    <tr style=\"text-align: right;\">\n",
       "      <th></th>\n",
       "      <th>person</th>\n",
       "      <th>new_15lastdays</th>\n",
       "    </tr>\n",
       "  </thead>\n",
       "  <tbody>\n",
       "    <tr>\n",
       "      <th>0</th>\n",
       "      <td>4886f805</td>\n",
       "      <td>False</td>\n",
       "    </tr>\n",
       "    <tr>\n",
       "      <th>1</th>\n",
       "      <td>ad93850f</td>\n",
       "      <td>False</td>\n",
       "    </tr>\n",
       "    <tr>\n",
       "      <th>2</th>\n",
       "      <td>0297fc1e</td>\n",
       "      <td>False</td>\n",
       "    </tr>\n",
       "    <tr>\n",
       "      <th>3</th>\n",
       "      <td>2d681dd8</td>\n",
       "      <td>False</td>\n",
       "    </tr>\n",
       "    <tr>\n",
       "      <th>4</th>\n",
       "      <td>cccea85e</td>\n",
       "      <td>False</td>\n",
       "    </tr>\n",
       "  </tbody>\n",
       "</table>\n",
       "</div>"
      ],
      "text/plain": [
       "     person new_15lastdays\n",
       "0  4886f805          False\n",
       "1  ad93850f          False\n",
       "2  0297fc1e          False\n",
       "3  2d681dd8          False\n",
       "4  cccea85e          False"
      ]
     },
     "execution_count": 556,
     "metadata": {},
     "output_type": "execute_result"
    }
   ],
   "source": [
    "new_last15days = new_last15days[[\"person\",\"new_15lastdays\"]]\n",
    "new_last15days.head()"
   ]
  },
  {
   "cell_type": "code",
   "execution_count": 557,
   "metadata": {},
   "outputs": [],
   "source": [
    "new_last15days = new_last15days.groupby(\"person\",as_index=False).max()"
   ]
  },
  {
   "cell_type": "code",
   "execution_count": 558,
   "metadata": {},
   "outputs": [],
   "source": [
    "new_last15days[\"new_15lastdays\"] = new_last15days[\"new_15lastdays\"].map(lambda x: 1 if(x) else 0) "
   ]
  },
  {
   "cell_type": "markdown",
   "metadata": {},
   "source": [
    "Features geograficos"
   ]
  },
  {
   "cell_type": "code",
   "execution_count": 559,
   "metadata": {},
   "outputs": [
    {
     "data": {
      "text/html": [
       "<div>\n",
       "<table border=\"1\" class=\"dataframe\">\n",
       "  <thead>\n",
       "    <tr style=\"text-align: right;\">\n",
       "      <th></th>\n",
       "      <th>person</th>\n",
       "      <th>event</th>\n",
       "      <th>city</th>\n",
       "      <th>region</th>\n",
       "      <th>country</th>\n",
       "    </tr>\n",
       "  </thead>\n",
       "  <tbody>\n",
       "    <tr>\n",
       "      <th>0</th>\n",
       "      <td>4886f805</td>\n",
       "      <td>viewed product</td>\n",
       "      <td>Cantagalo</td>\n",
       "      <td>Rio de Janeiro</td>\n",
       "      <td>Brazil</td>\n",
       "    </tr>\n",
       "    <tr>\n",
       "      <th>1</th>\n",
       "      <td>ad93850f</td>\n",
       "      <td>viewed product</td>\n",
       "      <td>São Paulo</td>\n",
       "      <td>Sao Paulo</td>\n",
       "      <td>Brazil</td>\n",
       "    </tr>\n",
       "    <tr>\n",
       "      <th>2</th>\n",
       "      <td>0297fc1e</td>\n",
       "      <td>viewed product</td>\n",
       "      <td>Niterói</td>\n",
       "      <td>Rio de Janeiro</td>\n",
       "      <td>Brazil</td>\n",
       "    </tr>\n",
       "    <tr>\n",
       "      <th>3</th>\n",
       "      <td>2d681dd8</td>\n",
       "      <td>viewed product</td>\n",
       "      <td>Juquitiba</td>\n",
       "      <td>Sao Paulo</td>\n",
       "      <td>Brazil</td>\n",
       "    </tr>\n",
       "    <tr>\n",
       "      <th>4</th>\n",
       "      <td>cccea85e</td>\n",
       "      <td>viewed product</td>\n",
       "      <td>Osasco</td>\n",
       "      <td>Sao Paulo</td>\n",
       "      <td>Brazil</td>\n",
       "    </tr>\n",
       "  </tbody>\n",
       "</table>\n",
       "</div>"
      ],
      "text/plain": [
       "     person           event       city          region country\n",
       "0  4886f805  viewed product  Cantagalo  Rio de Janeiro  Brazil\n",
       "1  ad93850f  viewed product  São Paulo       Sao Paulo  Brazil\n",
       "2  0297fc1e  viewed product    Niterói  Rio de Janeiro  Brazil\n",
       "3  2d681dd8  viewed product  Juquitiba       Sao Paulo  Brazil\n",
       "4  cccea85e  viewed product     Osasco       Sao Paulo  Brazil"
      ]
     },
     "execution_count": 559,
     "metadata": {},
     "output_type": "execute_result"
    }
   ],
   "source": [
    "geoData.head()"
   ]
  },
  {
   "cell_type": "code",
   "execution_count": 560,
   "metadata": {},
   "outputs": [],
   "source": [
    "geoData = geoData[geoData[\"event\"] == \"conversion\"]"
   ]
  },
  {
   "cell_type": "code",
   "execution_count": 561,
   "metadata": {},
   "outputs": [],
   "source": [
    "region = geoData[[\"person\",\"region\"]]"
   ]
  },
  {
   "cell_type": "code",
   "execution_count": 562,
   "metadata": {},
   "outputs": [],
   "source": [
    "region = region.drop_duplicates(subset = \"person\", keep = \"first\")"
   ]
  },
  {
   "cell_type": "code",
   "execution_count": 563,
   "metadata": {},
   "outputs": [
    {
     "data": {
      "text/plain": [
       "False    29\n",
       "True     15\n",
       "Name: region, dtype: int64"
      ]
     },
     "execution_count": 563,
     "metadata": {},
     "output_type": "execute_result"
    }
   ],
   "source": [
    "(region[\"region\"].value_counts() > 50).value_counts()"
   ]
  },
  {
   "cell_type": "code",
   "execution_count": 564,
   "metadata": {},
   "outputs": [],
   "source": [
    "region[\"region\"] = region[\"region\"].fillna(0)"
   ]
  },
  {
   "cell_type": "code",
   "execution_count": 565,
   "metadata": {},
   "outputs": [],
   "source": [
    "sell_region = region[\"region\"].value_counts()"
   ]
  },
  {
   "cell_type": "code",
   "execution_count": 566,
   "metadata": {},
   "outputs": [],
   "source": [
    "region[\"ventas_region\"] = region[\"region\"].map(lambda x: sell_region[x]) "
   ]
  },
  {
   "cell_type": "code",
   "execution_count": 567,
   "metadata": {},
   "outputs": [
    {
     "data": {
      "text/html": [
       "<div>\n",
       "<table border=\"1\" class=\"dataframe\">\n",
       "  <thead>\n",
       "    <tr style=\"text-align: right;\">\n",
       "      <th></th>\n",
       "      <th>person</th>\n",
       "      <th>region</th>\n",
       "      <th>ventas_region</th>\n",
       "    </tr>\n",
       "  </thead>\n",
       "  <tbody>\n",
       "    <tr>\n",
       "      <th>195</th>\n",
       "      <td>49c19e32</td>\n",
       "      <td>Sao Paulo</td>\n",
       "      <td>1213</td>\n",
       "    </tr>\n",
       "    <tr>\n",
       "      <th>724</th>\n",
       "      <td>39df97e0</td>\n",
       "      <td>Minas Gerais</td>\n",
       "      <td>421</td>\n",
       "    </tr>\n",
       "    <tr>\n",
       "      <th>744</th>\n",
       "      <td>380c0e60</td>\n",
       "      <td>Sao Paulo</td>\n",
       "      <td>1213</td>\n",
       "    </tr>\n",
       "    <tr>\n",
       "      <th>1198</th>\n",
       "      <td>35ee0cc8</td>\n",
       "      <td>Unknown</td>\n",
       "      <td>756</td>\n",
       "    </tr>\n",
       "    <tr>\n",
       "      <th>2124</th>\n",
       "      <td>c5a0bc36</td>\n",
       "      <td>Unknown</td>\n",
       "      <td>756</td>\n",
       "    </tr>\n",
       "  </tbody>\n",
       "</table>\n",
       "</div>"
      ],
      "text/plain": [
       "        person        region  ventas_region\n",
       "195   49c19e32     Sao Paulo           1213\n",
       "724   39df97e0  Minas Gerais            421\n",
       "744   380c0e60     Sao Paulo           1213\n",
       "1198  35ee0cc8       Unknown            756\n",
       "2124  c5a0bc36       Unknown            756"
      ]
     },
     "execution_count": 567,
     "metadata": {},
     "output_type": "execute_result"
    }
   ],
   "source": [
    "region.head()"
   ]
  },
  {
   "cell_type": "code",
   "execution_count": 568,
   "metadata": {},
   "outputs": [],
   "source": [
    "esBrasilero = geoData[[\"person\",\"country\"]]"
   ]
  },
  {
   "cell_type": "code",
   "execution_count": 569,
   "metadata": {},
   "outputs": [
    {
     "name": "stderr",
     "output_type": "stream",
     "text": [
      "/anaconda/lib/python3.6/site-packages/ipykernel/__main__.py:1: SettingWithCopyWarning: \n",
      "A value is trying to be set on a copy of a slice from a DataFrame.\n",
      "Try using .loc[row_indexer,col_indexer] = value instead\n",
      "\n",
      "See the caveats in the documentation: http://pandas.pydata.org/pandas-docs/stable/indexing.html#indexing-view-versus-copy\n",
      "  if __name__ == '__main__':\n"
     ]
    }
   ],
   "source": [
    "esBrasilero[\"Brasilero\"] = esBrasilero[\"country\"].map(lambda x: 1 if(x == \"Brazil\") else 0)"
   ]
  },
  {
   "cell_type": "code",
   "execution_count": 570,
   "metadata": {},
   "outputs": [],
   "source": [
    "esBrasilero = esBrasilero[[\"person\",\"Brasilero\"]]"
   ]
  },
  {
   "cell_type": "code",
   "execution_count": 571,
   "metadata": {},
   "outputs": [],
   "source": [
    "esBrasilero = esBrasilero.groupby(\"person\",as_index=False).max()"
   ]
  },
  {
   "cell_type": "markdown",
   "metadata": {},
   "source": [
    "Colores"
   ]
  },
  {
   "cell_type": "code",
   "execution_count": 572,
   "metadata": {},
   "outputs": [
    {
     "data": {
      "text/html": [
       "<div>\n",
       "<table border=\"1\" class=\"dataframe\">\n",
       "  <thead>\n",
       "    <tr style=\"text-align: right;\">\n",
       "      <th></th>\n",
       "      <th>person</th>\n",
       "      <th>event</th>\n",
       "      <th>color</th>\n",
       "    </tr>\n",
       "  </thead>\n",
       "  <tbody>\n",
       "    <tr>\n",
       "      <th>0</th>\n",
       "      <td>4886f805</td>\n",
       "      <td>viewed product</td>\n",
       "      <td>Dourado</td>\n",
       "    </tr>\n",
       "    <tr>\n",
       "      <th>1</th>\n",
       "      <td>ad93850f</td>\n",
       "      <td>viewed product</td>\n",
       "      <td>Cinza espacial</td>\n",
       "    </tr>\n",
       "    <tr>\n",
       "      <th>2</th>\n",
       "      <td>0297fc1e</td>\n",
       "      <td>viewed product</td>\n",
       "      <td>Prateado</td>\n",
       "    </tr>\n",
       "    <tr>\n",
       "      <th>3</th>\n",
       "      <td>2d681dd8</td>\n",
       "      <td>viewed product</td>\n",
       "      <td>Vermelho</td>\n",
       "    </tr>\n",
       "    <tr>\n",
       "      <th>4</th>\n",
       "      <td>cccea85e</td>\n",
       "      <td>viewed product</td>\n",
       "      <td>Branco</td>\n",
       "    </tr>\n",
       "  </tbody>\n",
       "</table>\n",
       "</div>"
      ],
      "text/plain": [
       "     person           event           color\n",
       "0  4886f805  viewed product         Dourado\n",
       "1  ad93850f  viewed product  Cinza espacial\n",
       "2  0297fc1e  viewed product        Prateado\n",
       "3  2d681dd8  viewed product        Vermelho\n",
       "4  cccea85e  viewed product          Branco"
      ]
     },
     "execution_count": 572,
     "metadata": {},
     "output_type": "execute_result"
    }
   ],
   "source": [
    "personColor.head()"
   ]
  },
  {
   "cell_type": "code",
   "execution_count": 573,
   "metadata": {},
   "outputs": [
    {
     "data": {
      "text/plain": [
       "Preto             314925\n",
       "Dourado           275212\n",
       "Cinza espacial    151770\n",
       "Branco            126496\n",
       "Prateado          114284\n",
       "Name: color, dtype: int64"
      ]
     },
     "execution_count": 573,
     "metadata": {},
     "output_type": "execute_result"
    }
   ],
   "source": [
    "personColor[\"color\"].value_counts().head()"
   ]
  },
  {
   "cell_type": "code",
   "execution_count": 574,
   "metadata": {},
   "outputs": [],
   "source": [
    "personColor = personColor.dropna()"
   ]
  },
  {
   "cell_type": "code",
   "execution_count": 575,
   "metadata": {},
   "outputs": [
    {
     "data": {
      "text/plain": [
       "viewed product    1248124\n",
       "checkout            65315\n",
       "conversion           7091\n",
       "Name: event, dtype: int64"
      ]
     },
     "execution_count": 575,
     "metadata": {},
     "output_type": "execute_result"
    }
   ],
   "source": [
    "personColor[\"event\"].value_counts()"
   ]
  },
  {
   "cell_type": "code",
   "execution_count": 576,
   "metadata": {},
   "outputs": [],
   "source": [
    "bestcolorseller = personColor[personColor[\"event\"] == \"checkout\"]\n",
    "colorsellers = bestcolorseller[\"color\"].value_counts()"
   ]
  },
  {
   "cell_type": "code",
   "execution_count": 577,
   "metadata": {},
   "outputs": [
    {
     "data": {
      "text/plain": [
       "Preto             17249\n",
       "Dourado           16295\n",
       "Cinza espacial     6673\n",
       "Branco             6601\n",
       "Prateado           4601\n",
       "Ouro Rosa          3550\n",
       "Rosa               1694\n",
       "Prata              1297\n",
       "Preto Matte        1135\n",
       "Platinum            979\n",
       "Azul                756\n",
       "Cinza               684\n",
       "Name: color, dtype: int64"
      ]
     },
     "execution_count": 577,
     "metadata": {},
     "output_type": "execute_result"
    }
   ],
   "source": [
    "colorsellers.head(12)"
   ]
  },
  {
   "cell_type": "code",
   "execution_count": 578,
   "metadata": {},
   "outputs": [
    {
     "data": {
      "text/html": [
       "<div>\n",
       "<table border=\"1\" class=\"dataframe\">\n",
       "  <thead>\n",
       "    <tr style=\"text-align: right;\">\n",
       "      <th></th>\n",
       "      <th>person</th>\n",
       "      <th>event</th>\n",
       "      <th>color_Amarelo</th>\n",
       "      <th>color_Ametista</th>\n",
       "      <th>color_Azul</th>\n",
       "      <th>color_Azul Escuro</th>\n",
       "      <th>color_Azul Safira</th>\n",
       "      <th>color_Azul Topázio</th>\n",
       "      <th>color_Bambu</th>\n",
       "      <th>color_Black Piano</th>\n",
       "      <th>...</th>\n",
       "      <th>color_Rouge</th>\n",
       "      <th>color_Roxo</th>\n",
       "      <th>color_Silver</th>\n",
       "      <th>color_Titânio</th>\n",
       "      <th>color_Turquesa</th>\n",
       "      <th>color_Verde</th>\n",
       "      <th>color_Verde Petroleo</th>\n",
       "      <th>color_Verde Água</th>\n",
       "      <th>color_Vermelho</th>\n",
       "      <th>color_Ônix</th>\n",
       "    </tr>\n",
       "  </thead>\n",
       "  <tbody>\n",
       "    <tr>\n",
       "      <th>0</th>\n",
       "      <td>4886f805</td>\n",
       "      <td>viewed product</td>\n",
       "      <td>0</td>\n",
       "      <td>0</td>\n",
       "      <td>0</td>\n",
       "      <td>0</td>\n",
       "      <td>0</td>\n",
       "      <td>0</td>\n",
       "      <td>0</td>\n",
       "      <td>0</td>\n",
       "      <td>...</td>\n",
       "      <td>0</td>\n",
       "      <td>0</td>\n",
       "      <td>0</td>\n",
       "      <td>0</td>\n",
       "      <td>0</td>\n",
       "      <td>0</td>\n",
       "      <td>0</td>\n",
       "      <td>0</td>\n",
       "      <td>0</td>\n",
       "      <td>0</td>\n",
       "    </tr>\n",
       "    <tr>\n",
       "      <th>1</th>\n",
       "      <td>ad93850f</td>\n",
       "      <td>viewed product</td>\n",
       "      <td>0</td>\n",
       "      <td>0</td>\n",
       "      <td>0</td>\n",
       "      <td>0</td>\n",
       "      <td>0</td>\n",
       "      <td>0</td>\n",
       "      <td>0</td>\n",
       "      <td>0</td>\n",
       "      <td>...</td>\n",
       "      <td>0</td>\n",
       "      <td>0</td>\n",
       "      <td>0</td>\n",
       "      <td>0</td>\n",
       "      <td>0</td>\n",
       "      <td>0</td>\n",
       "      <td>0</td>\n",
       "      <td>0</td>\n",
       "      <td>0</td>\n",
       "      <td>0</td>\n",
       "    </tr>\n",
       "    <tr>\n",
       "      <th>2</th>\n",
       "      <td>0297fc1e</td>\n",
       "      <td>viewed product</td>\n",
       "      <td>0</td>\n",
       "      <td>0</td>\n",
       "      <td>0</td>\n",
       "      <td>0</td>\n",
       "      <td>0</td>\n",
       "      <td>0</td>\n",
       "      <td>0</td>\n",
       "      <td>0</td>\n",
       "      <td>...</td>\n",
       "      <td>0</td>\n",
       "      <td>0</td>\n",
       "      <td>0</td>\n",
       "      <td>0</td>\n",
       "      <td>0</td>\n",
       "      <td>0</td>\n",
       "      <td>0</td>\n",
       "      <td>0</td>\n",
       "      <td>0</td>\n",
       "      <td>0</td>\n",
       "    </tr>\n",
       "    <tr>\n",
       "      <th>3</th>\n",
       "      <td>2d681dd8</td>\n",
       "      <td>viewed product</td>\n",
       "      <td>0</td>\n",
       "      <td>0</td>\n",
       "      <td>0</td>\n",
       "      <td>0</td>\n",
       "      <td>0</td>\n",
       "      <td>0</td>\n",
       "      <td>0</td>\n",
       "      <td>0</td>\n",
       "      <td>...</td>\n",
       "      <td>0</td>\n",
       "      <td>0</td>\n",
       "      <td>0</td>\n",
       "      <td>0</td>\n",
       "      <td>0</td>\n",
       "      <td>0</td>\n",
       "      <td>0</td>\n",
       "      <td>0</td>\n",
       "      <td>1</td>\n",
       "      <td>0</td>\n",
       "    </tr>\n",
       "    <tr>\n",
       "      <th>4</th>\n",
       "      <td>cccea85e</td>\n",
       "      <td>viewed product</td>\n",
       "      <td>0</td>\n",
       "      <td>0</td>\n",
       "      <td>0</td>\n",
       "      <td>0</td>\n",
       "      <td>0</td>\n",
       "      <td>0</td>\n",
       "      <td>0</td>\n",
       "      <td>0</td>\n",
       "      <td>...</td>\n",
       "      <td>0</td>\n",
       "      <td>0</td>\n",
       "      <td>0</td>\n",
       "      <td>0</td>\n",
       "      <td>0</td>\n",
       "      <td>0</td>\n",
       "      <td>0</td>\n",
       "      <td>0</td>\n",
       "      <td>0</td>\n",
       "      <td>0</td>\n",
       "    </tr>\n",
       "  </tbody>\n",
       "</table>\n",
       "<p>5 rows × 65 columns</p>\n",
       "</div>"
      ],
      "text/plain": [
       "     person           event  color_Amarelo  color_Ametista  color_Azul  \\\n",
       "0  4886f805  viewed product              0               0           0   \n",
       "1  ad93850f  viewed product              0               0           0   \n",
       "2  0297fc1e  viewed product              0               0           0   \n",
       "3  2d681dd8  viewed product              0               0           0   \n",
       "4  cccea85e  viewed product              0               0           0   \n",
       "\n",
       "   color_Azul Escuro  color_Azul Safira  color_Azul Topázio  color_Bambu  \\\n",
       "0                  0                  0                   0            0   \n",
       "1                  0                  0                   0            0   \n",
       "2                  0                  0                   0            0   \n",
       "3                  0                  0                   0            0   \n",
       "4                  0                  0                   0            0   \n",
       "\n",
       "   color_Black Piano     ...      color_Rouge  color_Roxo  color_Silver  \\\n",
       "0                  0     ...                0           0             0   \n",
       "1                  0     ...                0           0             0   \n",
       "2                  0     ...                0           0             0   \n",
       "3                  0     ...                0           0             0   \n",
       "4                  0     ...                0           0             0   \n",
       "\n",
       "   color_Titânio  color_Turquesa  color_Verde  color_Verde Petroleo  \\\n",
       "0              0               0            0                     0   \n",
       "1              0               0            0                     0   \n",
       "2              0               0            0                     0   \n",
       "3              0               0            0                     0   \n",
       "4              0               0            0                     0   \n",
       "\n",
       "   color_Verde Água  color_Vermelho  color_Ônix  \n",
       "0                 0               0           0  \n",
       "1                 0               0           0  \n",
       "2                 0               0           0  \n",
       "3                 0               1           0  \n",
       "4                 0               0           0  \n",
       "\n",
       "[5 rows x 65 columns]"
      ]
     },
     "execution_count": 578,
     "metadata": {},
     "output_type": "execute_result"
    }
   ],
   "source": [
    "personColor = pd.get_dummies(personColor, columns=[\"color\"])\n",
    "personColor.head()"
   ]
  },
  {
   "cell_type": "code",
   "execution_count": 579,
   "metadata": {},
   "outputs": [],
   "source": [
    "personColor = personColor[personColor[\"event\"] == \"viewed product\"]"
   ]
  },
  {
   "cell_type": "code",
   "execution_count": 580,
   "metadata": {},
   "outputs": [
    {
     "data": {
      "text/html": [
       "<div>\n",
       "<table border=\"1\" class=\"dataframe\">\n",
       "  <thead>\n",
       "    <tr style=\"text-align: right;\">\n",
       "      <th></th>\n",
       "      <th>person</th>\n",
       "      <th>color_Preto</th>\n",
       "      <th>color_Dourado</th>\n",
       "      <th>color_Branco</th>\n",
       "      <th>color_Cinza espacial</th>\n",
       "    </tr>\n",
       "  </thead>\n",
       "  <tbody>\n",
       "    <tr>\n",
       "      <th>0</th>\n",
       "      <td>4886f805</td>\n",
       "      <td>0</td>\n",
       "      <td>1</td>\n",
       "      <td>0</td>\n",
       "      <td>0</td>\n",
       "    </tr>\n",
       "    <tr>\n",
       "      <th>1</th>\n",
       "      <td>ad93850f</td>\n",
       "      <td>0</td>\n",
       "      <td>0</td>\n",
       "      <td>0</td>\n",
       "      <td>1</td>\n",
       "    </tr>\n",
       "    <tr>\n",
       "      <th>2</th>\n",
       "      <td>0297fc1e</td>\n",
       "      <td>0</td>\n",
       "      <td>0</td>\n",
       "      <td>0</td>\n",
       "      <td>0</td>\n",
       "    </tr>\n",
       "    <tr>\n",
       "      <th>3</th>\n",
       "      <td>2d681dd8</td>\n",
       "      <td>0</td>\n",
       "      <td>0</td>\n",
       "      <td>0</td>\n",
       "      <td>0</td>\n",
       "    </tr>\n",
       "    <tr>\n",
       "      <th>4</th>\n",
       "      <td>cccea85e</td>\n",
       "      <td>0</td>\n",
       "      <td>0</td>\n",
       "      <td>1</td>\n",
       "      <td>0</td>\n",
       "    </tr>\n",
       "  </tbody>\n",
       "</table>\n",
       "</div>"
      ],
      "text/plain": [
       "     person  color_Preto  color_Dourado  color_Branco  color_Cinza espacial\n",
       "0  4886f805            0              1             0                     0\n",
       "1  ad93850f            0              0             0                     1\n",
       "2  0297fc1e            0              0             0                     0\n",
       "3  2d681dd8            0              0             0                     0\n",
       "4  cccea85e            0              0             1                     0"
      ]
     },
     "execution_count": 580,
     "metadata": {},
     "output_type": "execute_result"
    }
   ],
   "source": [
    "personColor = personColor[[\"person\",\"color_Preto\",\"color_Dourado\",\"color_Branco\",\"color_Cinza espacial\"]]\n",
    "personColor.head()"
   ]
  },
  {
   "cell_type": "code",
   "execution_count": 581,
   "metadata": {},
   "outputs": [],
   "source": [
    "personColor = personColor.groupby(\"person\").sum()"
   ]
  },
  {
   "cell_type": "code",
   "execution_count": 582,
   "metadata": {},
   "outputs": [
    {
     "data": {
      "text/html": [
       "<div>\n",
       "<table border=\"1\" class=\"dataframe\">\n",
       "  <thead>\n",
       "    <tr style=\"text-align: right;\">\n",
       "      <th></th>\n",
       "      <th>color_Preto</th>\n",
       "      <th>color_Dourado</th>\n",
       "      <th>color_Branco</th>\n",
       "      <th>color_Cinza espacial</th>\n",
       "    </tr>\n",
       "    <tr>\n",
       "      <th>person</th>\n",
       "      <th></th>\n",
       "      <th></th>\n",
       "      <th></th>\n",
       "      <th></th>\n",
       "    </tr>\n",
       "  </thead>\n",
       "  <tbody>\n",
       "    <tr>\n",
       "      <th>00091926</th>\n",
       "      <td>79.0</td>\n",
       "      <td>101.0</td>\n",
       "      <td>3.0</td>\n",
       "      <td>65.0</td>\n",
       "    </tr>\n",
       "    <tr>\n",
       "      <th>00091a7a</th>\n",
       "      <td>0.0</td>\n",
       "      <td>1.0</td>\n",
       "      <td>0.0</td>\n",
       "      <td>1.0</td>\n",
       "    </tr>\n",
       "    <tr>\n",
       "      <th>000ba417</th>\n",
       "      <td>71.0</td>\n",
       "      <td>14.0</td>\n",
       "      <td>15.0</td>\n",
       "      <td>1.0</td>\n",
       "    </tr>\n",
       "    <tr>\n",
       "      <th>000c79fe</th>\n",
       "      <td>0.0</td>\n",
       "      <td>0.0</td>\n",
       "      <td>0.0</td>\n",
       "      <td>0.0</td>\n",
       "    </tr>\n",
       "    <tr>\n",
       "      <th>000e4d9e</th>\n",
       "      <td>149.0</td>\n",
       "      <td>46.0</td>\n",
       "      <td>85.0</td>\n",
       "      <td>14.0</td>\n",
       "    </tr>\n",
       "  </tbody>\n",
       "</table>\n",
       "</div>"
      ],
      "text/plain": [
       "          color_Preto  color_Dourado  color_Branco  color_Cinza espacial\n",
       "person                                                                  \n",
       "00091926         79.0          101.0           3.0                  65.0\n",
       "00091a7a          0.0            1.0           0.0                   1.0\n",
       "000ba417         71.0           14.0          15.0                   1.0\n",
       "000c79fe          0.0            0.0           0.0                   0.0\n",
       "000e4d9e        149.0           46.0          85.0                  14.0"
      ]
     },
     "execution_count": 582,
     "metadata": {},
     "output_type": "execute_result"
    }
   ],
   "source": [
    "personColor.head()"
   ]
  },
  {
   "cell_type": "markdown",
   "metadata": {},
   "source": [
    "Mergeo todos mis resultados de los nuevos features"
   ]
  },
  {
   "cell_type": "code",
   "execution_count": 583,
   "metadata": {},
   "outputs": [
    {
     "data": {
      "text/html": [
       "<div>\n",
       "<table border=\"1\" class=\"dataframe\">\n",
       "  <thead>\n",
       "    <tr style=\"text-align: right;\">\n",
       "      <th></th>\n",
       "      <th>person</th>\n",
       "      <th>cant_seciones</th>\n",
       "      <th>event_checkout</th>\n",
       "      <th>event_conversion</th>\n",
       "      <th>event_ad campaign hit</th>\n",
       "      <th>event_lead</th>\n",
       "    </tr>\n",
       "  </thead>\n",
       "  <tbody>\n",
       "    <tr>\n",
       "      <th>0</th>\n",
       "      <td>0008ed71</td>\n",
       "      <td>3</td>\n",
       "      <td>3.0</td>\n",
       "      <td>0.0</td>\n",
       "      <td>0.0</td>\n",
       "      <td>0.0</td>\n",
       "    </tr>\n",
       "    <tr>\n",
       "      <th>1</th>\n",
       "      <td>00091926</td>\n",
       "      <td>37</td>\n",
       "      <td>2.0</td>\n",
       "      <td>0.0</td>\n",
       "      <td>15.0</td>\n",
       "      <td>0.0</td>\n",
       "    </tr>\n",
       "    <tr>\n",
       "      <th>2</th>\n",
       "      <td>00091a7a</td>\n",
       "      <td>1</td>\n",
       "      <td>0.0</td>\n",
       "      <td>0.0</td>\n",
       "      <td>1.0</td>\n",
       "      <td>0.0</td>\n",
       "    </tr>\n",
       "    <tr>\n",
       "      <th>3</th>\n",
       "      <td>000ba417</td>\n",
       "      <td>9</td>\n",
       "      <td>6.0</td>\n",
       "      <td>1.0</td>\n",
       "      <td>1.0</td>\n",
       "      <td>0.0</td>\n",
       "    </tr>\n",
       "    <tr>\n",
       "      <th>4</th>\n",
       "      <td>000c79fe</td>\n",
       "      <td>1</td>\n",
       "      <td>1.0</td>\n",
       "      <td>0.0</td>\n",
       "      <td>1.0</td>\n",
       "      <td>0.0</td>\n",
       "    </tr>\n",
       "  </tbody>\n",
       "</table>\n",
       "</div>"
      ],
      "text/plain": [
       "     person  cant_seciones  event_checkout  event_conversion  \\\n",
       "0  0008ed71              3             3.0               0.0   \n",
       "1  00091926             37             2.0               0.0   \n",
       "2  00091a7a              1             0.0               0.0   \n",
       "3  000ba417              9             6.0               1.0   \n",
       "4  000c79fe              1             1.0               0.0   \n",
       "\n",
       "   event_ad campaign hit  event_lead  \n",
       "0                    0.0         0.0  \n",
       "1                   15.0         0.0  \n",
       "2                    1.0         0.0  \n",
       "3                    1.0         0.0  \n",
       "4                    1.0         0.0  "
      ]
     },
     "execution_count": 583,
     "metadata": {},
     "output_type": "execute_result"
    }
   ],
   "source": [
    "secionesUsuarios.head()"
   ]
  },
  {
   "cell_type": "code",
   "execution_count": 584,
   "metadata": {},
   "outputs": [
    {
     "data": {
      "text/html": [
       "<div>\n",
       "<table border=\"1\" class=\"dataframe\">\n",
       "  <thead>\n",
       "    <tr style=\"text-align: right;\">\n",
       "      <th></th>\n",
       "      <th>person</th>\n",
       "      <th>Computer</th>\n",
       "      <th>Smartphone</th>\n",
       "      <th>otros</th>\n",
       "    </tr>\n",
       "  </thead>\n",
       "  <tbody>\n",
       "    <tr>\n",
       "      <th>0</th>\n",
       "      <td>0008ed71</td>\n",
       "      <td>1.0</td>\n",
       "      <td>0.0</td>\n",
       "      <td>0.0</td>\n",
       "    </tr>\n",
       "    <tr>\n",
       "      <th>1</th>\n",
       "      <td>00091926</td>\n",
       "      <td>1.0</td>\n",
       "      <td>0.0</td>\n",
       "      <td>0.0</td>\n",
       "    </tr>\n",
       "    <tr>\n",
       "      <th>2</th>\n",
       "      <td>00091a7a</td>\n",
       "      <td>0.0</td>\n",
       "      <td>1.0</td>\n",
       "      <td>0.0</td>\n",
       "    </tr>\n",
       "    <tr>\n",
       "      <th>3</th>\n",
       "      <td>000ba417</td>\n",
       "      <td>1.0</td>\n",
       "      <td>0.0</td>\n",
       "      <td>0.0</td>\n",
       "    </tr>\n",
       "    <tr>\n",
       "      <th>4</th>\n",
       "      <td>000c79fe</td>\n",
       "      <td>0.0</td>\n",
       "      <td>1.0</td>\n",
       "      <td>0.0</td>\n",
       "    </tr>\n",
       "  </tbody>\n",
       "</table>\n",
       "</div>"
      ],
      "text/plain": [
       "     person  Computer  Smartphone  otros\n",
       "0  0008ed71       1.0         0.0    0.0\n",
       "1  00091926       1.0         0.0    0.0\n",
       "2  00091a7a       0.0         1.0    0.0\n",
       "3  000ba417       1.0         0.0    0.0\n",
       "4  000c79fe       0.0         1.0    0.0"
      ]
     },
     "execution_count": 584,
     "metadata": {},
     "output_type": "execute_result"
    }
   ],
   "source": [
    "device_user_type.head()"
   ]
  },
  {
   "cell_type": "code",
   "execution_count": 585,
   "metadata": {},
   "outputs": [
    {
     "data": {
      "text/html": [
       "<div>\n",
       "<table border=\"1\" class=\"dataframe\">\n",
       "  <thead>\n",
       "    <tr style=\"text-align: right;\">\n",
       "      <th></th>\n",
       "      <th>person</th>\n",
       "      <th>Busca_terminos_populares</th>\n",
       "    </tr>\n",
       "  </thead>\n",
       "  <tbody>\n",
       "    <tr>\n",
       "      <th>0</th>\n",
       "      <td>0008ed71</td>\n",
       "      <td>0</td>\n",
       "    </tr>\n",
       "    <tr>\n",
       "      <th>1</th>\n",
       "      <td>00091926</td>\n",
       "      <td>0</td>\n",
       "    </tr>\n",
       "    <tr>\n",
       "      <th>2</th>\n",
       "      <td>00091a7a</td>\n",
       "      <td>0</td>\n",
       "    </tr>\n",
       "    <tr>\n",
       "      <th>3</th>\n",
       "      <td>000ba417</td>\n",
       "      <td>0</td>\n",
       "    </tr>\n",
       "    <tr>\n",
       "      <th>4</th>\n",
       "      <td>000c79fe</td>\n",
       "      <td>8</td>\n",
       "    </tr>\n",
       "  </tbody>\n",
       "</table>\n",
       "</div>"
      ],
      "text/plain": [
       "     person  Busca_terminos_populares\n",
       "0  0008ed71                         0\n",
       "1  00091926                         0\n",
       "2  00091a7a                         0\n",
       "3  000ba417                         0\n",
       "4  000c79fe                         8"
      ]
     },
     "execution_count": 585,
     "metadata": {},
     "output_type": "execute_result"
    }
   ],
   "source": [
    "person_term.head()"
   ]
  },
  {
   "cell_type": "code",
   "execution_count": 586,
   "metadata": {},
   "outputs": [
    {
     "data": {
      "text/html": [
       "<div>\n",
       "<table border=\"1\" class=\"dataframe\">\n",
       "  <thead>\n",
       "    <tr style=\"text-align: right;\">\n",
       "      <th></th>\n",
       "      <th>person</th>\n",
       "      <th>marca_apple</th>\n",
       "      <th>marca_asus</th>\n",
       "      <th>marca_lenovo</th>\n",
       "      <th>marca_lg</th>\n",
       "      <th>marca_motorola</th>\n",
       "      <th>marca_samsung</th>\n",
       "      <th>marca_sony</th>\n",
       "      <th>condition_Bom</th>\n",
       "      <th>condition_Bom - Sem Touch ID</th>\n",
       "      <th>...</th>\n",
       "      <th>version_moto g2</th>\n",
       "      <th>version_galaxy s6</th>\n",
       "      <th>storage_128GB</th>\n",
       "      <th>storage_16GB</th>\n",
       "      <th>storage_256GB</th>\n",
       "      <th>storage_32GB</th>\n",
       "      <th>storage_4GB</th>\n",
       "      <th>storage_512MB</th>\n",
       "      <th>storage_64GB</th>\n",
       "      <th>storage_8GB</th>\n",
       "    </tr>\n",
       "  </thead>\n",
       "  <tbody>\n",
       "    <tr>\n",
       "      <th>0</th>\n",
       "      <td>0008ed71</td>\n",
       "      <td>1</td>\n",
       "      <td>0</td>\n",
       "      <td>0</td>\n",
       "      <td>1</td>\n",
       "      <td>0</td>\n",
       "      <td>1</td>\n",
       "      <td>0</td>\n",
       "      <td>2</td>\n",
       "      <td>0</td>\n",
       "      <td>...</td>\n",
       "      <td>0</td>\n",
       "      <td>1</td>\n",
       "      <td>0</td>\n",
       "      <td>0</td>\n",
       "      <td>0</td>\n",
       "      <td>2</td>\n",
       "      <td>0</td>\n",
       "      <td>0</td>\n",
       "      <td>1</td>\n",
       "      <td>0</td>\n",
       "    </tr>\n",
       "    <tr>\n",
       "      <th>1</th>\n",
       "      <td>00091926</td>\n",
       "      <td>2</td>\n",
       "      <td>0</td>\n",
       "      <td>0</td>\n",
       "      <td>0</td>\n",
       "      <td>0</td>\n",
       "      <td>0</td>\n",
       "      <td>0</td>\n",
       "      <td>0</td>\n",
       "      <td>0</td>\n",
       "      <td>...</td>\n",
       "      <td>0</td>\n",
       "      <td>0</td>\n",
       "      <td>0</td>\n",
       "      <td>0</td>\n",
       "      <td>0</td>\n",
       "      <td>0</td>\n",
       "      <td>0</td>\n",
       "      <td>0</td>\n",
       "      <td>2</td>\n",
       "      <td>0</td>\n",
       "    </tr>\n",
       "    <tr>\n",
       "      <th>2</th>\n",
       "      <td>000ba417</td>\n",
       "      <td>0</td>\n",
       "      <td>0</td>\n",
       "      <td>0</td>\n",
       "      <td>0</td>\n",
       "      <td>1</td>\n",
       "      <td>5</td>\n",
       "      <td>0</td>\n",
       "      <td>4</td>\n",
       "      <td>0</td>\n",
       "      <td>...</td>\n",
       "      <td>0</td>\n",
       "      <td>0</td>\n",
       "      <td>0</td>\n",
       "      <td>6</td>\n",
       "      <td>0</td>\n",
       "      <td>0</td>\n",
       "      <td>0</td>\n",
       "      <td>0</td>\n",
       "      <td>0</td>\n",
       "      <td>0</td>\n",
       "    </tr>\n",
       "    <tr>\n",
       "      <th>3</th>\n",
       "      <td>000c79fe</td>\n",
       "      <td>1</td>\n",
       "      <td>0</td>\n",
       "      <td>0</td>\n",
       "      <td>0</td>\n",
       "      <td>0</td>\n",
       "      <td>0</td>\n",
       "      <td>0</td>\n",
       "      <td>1</td>\n",
       "      <td>0</td>\n",
       "      <td>...</td>\n",
       "      <td>0</td>\n",
       "      <td>0</td>\n",
       "      <td>1</td>\n",
       "      <td>0</td>\n",
       "      <td>0</td>\n",
       "      <td>0</td>\n",
       "      <td>0</td>\n",
       "      <td>0</td>\n",
       "      <td>0</td>\n",
       "      <td>0</td>\n",
       "    </tr>\n",
       "    <tr>\n",
       "      <th>4</th>\n",
       "      <td>000e4d9e</td>\n",
       "      <td>0</td>\n",
       "      <td>0</td>\n",
       "      <td>0</td>\n",
       "      <td>0</td>\n",
       "      <td>0</td>\n",
       "      <td>1</td>\n",
       "      <td>0</td>\n",
       "      <td>0</td>\n",
       "      <td>0</td>\n",
       "      <td>...</td>\n",
       "      <td>0</td>\n",
       "      <td>1</td>\n",
       "      <td>0</td>\n",
       "      <td>0</td>\n",
       "      <td>0</td>\n",
       "      <td>1</td>\n",
       "      <td>0</td>\n",
       "      <td>0</td>\n",
       "      <td>0</td>\n",
       "      <td>0</td>\n",
       "    </tr>\n",
       "  </tbody>\n",
       "</table>\n",
       "<p>5 rows × 29 columns</p>\n",
       "</div>"
      ],
      "text/plain": [
       "     person  marca_apple  marca_asus  marca_lenovo  marca_lg  marca_motorola  \\\n",
       "0  0008ed71            1           0             0         1               0   \n",
       "1  00091926            2           0             0         0               0   \n",
       "2  000ba417            0           0             0         0               1   \n",
       "3  000c79fe            1           0             0         0               0   \n",
       "4  000e4d9e            0           0             0         0               0   \n",
       "\n",
       "   marca_samsung  marca_sony  condition_Bom  condition_Bom - Sem Touch ID  \\\n",
       "0              1           0              2                             0   \n",
       "1              0           0              0                             0   \n",
       "2              5           0              4                             0   \n",
       "3              0           0              1                             0   \n",
       "4              1           0              0                             0   \n",
       "\n",
       "      ...       version_moto g2  version_galaxy s6  storage_128GB  \\\n",
       "0     ...                     0                  1              0   \n",
       "1     ...                     0                  0              0   \n",
       "2     ...                     0                  0              0   \n",
       "3     ...                     0                  0              1   \n",
       "4     ...                     0                  1              0   \n",
       "\n",
       "   storage_16GB  storage_256GB  storage_32GB  storage_4GB  storage_512MB  \\\n",
       "0             0              0             2            0              0   \n",
       "1             0              0             0            0              0   \n",
       "2             6              0             0            0              0   \n",
       "3             0              0             0            0              0   \n",
       "4             0              0             1            0              0   \n",
       "\n",
       "   storage_64GB  storage_8GB  \n",
       "0             1            0  \n",
       "1             2            0  \n",
       "2             0            0  \n",
       "3             0            0  \n",
       "4             0            0  \n",
       "\n",
       "[5 rows x 29 columns]"
      ]
     },
     "execution_count": 586,
     "metadata": {},
     "output_type": "execute_result"
    }
   ],
   "source": [
    "productData.head()"
   ]
  },
  {
   "cell_type": "code",
   "execution_count": 587,
   "metadata": {},
   "outputs": [
    {
     "data": {
      "text/html": [
       "<div>\n",
       "<table border=\"1\" class=\"dataframe\">\n",
       "  <thead>\n",
       "    <tr style=\"text-align: right;\">\n",
       "      <th></th>\n",
       "      <th>person</th>\n",
       "      <th>skus</th>\n",
       "    </tr>\n",
       "  </thead>\n",
       "  <tbody>\n",
       "    <tr>\n",
       "      <th>0</th>\n",
       "      <td>0008ed71</td>\n",
       "      <td>1</td>\n",
       "    </tr>\n",
       "    <tr>\n",
       "      <th>1</th>\n",
       "      <td>00091926</td>\n",
       "      <td>1</td>\n",
       "    </tr>\n",
       "    <tr>\n",
       "      <th>2</th>\n",
       "      <td>00091a7a</td>\n",
       "      <td>1</td>\n",
       "    </tr>\n",
       "    <tr>\n",
       "      <th>3</th>\n",
       "      <td>000ba417</td>\n",
       "      <td>1</td>\n",
       "    </tr>\n",
       "    <tr>\n",
       "      <th>4</th>\n",
       "      <td>000c79fe</td>\n",
       "      <td>1</td>\n",
       "    </tr>\n",
       "  </tbody>\n",
       "</table>\n",
       "</div>"
      ],
      "text/plain": [
       "     person  skus\n",
       "0  0008ed71     1\n",
       "1  00091926     1\n",
       "2  00091a7a     1\n",
       "3  000ba417     1\n",
       "4  000c79fe     1"
      ]
     },
     "execution_count": 587,
     "metadata": {},
     "output_type": "execute_result"
    }
   ],
   "source": [
    "users_view_list.head()"
   ]
  },
  {
   "cell_type": "code",
   "execution_count": 588,
   "metadata": {},
   "outputs": [
    {
     "data": {
      "text/plain": [
       "Index(['person', 'cant_seciones', 'event_checkout', 'event_conversion',\n",
       "       'event_ad campaign hit', 'event_lead'],\n",
       "      dtype='object')"
      ]
     },
     "execution_count": 588,
     "metadata": {},
     "output_type": "execute_result"
    }
   ],
   "source": [
    "secionesUsuarios.columns"
   ]
  },
  {
   "cell_type": "code",
   "execution_count": 589,
   "metadata": {},
   "outputs": [],
   "source": [
    "secionesUsuariosReducido = secionesUsuarios#[[\"person\",\"cant_seciones5\",\"cant_seciones4\",\"cant_seciones3\",\"event_checkout5\",\"event_checkout4\",\"event_conversion5\",\"event_conversion4\",\"event_ad campaign hit4\",\"event_ad campaign hit5\",\"event_lead5\",\"event_lead4\"]]"
   ]
  },
  {
   "cell_type": "code",
   "execution_count": 590,
   "metadata": {},
   "outputs": [
    {
     "data": {
      "text/html": [
       "<div>\n",
       "<table border=\"1\" class=\"dataframe\">\n",
       "  <thead>\n",
       "    <tr style=\"text-align: right;\">\n",
       "      <th></th>\n",
       "      <th>person</th>\n",
       "      <th>cant_seciones</th>\n",
       "      <th>event_checkout</th>\n",
       "      <th>event_conversion</th>\n",
       "      <th>event_ad campaign hit</th>\n",
       "      <th>event_lead</th>\n",
       "    </tr>\n",
       "  </thead>\n",
       "  <tbody>\n",
       "    <tr>\n",
       "      <th>0</th>\n",
       "      <td>0008ed71</td>\n",
       "      <td>3</td>\n",
       "      <td>3.0</td>\n",
       "      <td>0.0</td>\n",
       "      <td>0.0</td>\n",
       "      <td>0.0</td>\n",
       "    </tr>\n",
       "    <tr>\n",
       "      <th>1</th>\n",
       "      <td>00091926</td>\n",
       "      <td>37</td>\n",
       "      <td>2.0</td>\n",
       "      <td>0.0</td>\n",
       "      <td>15.0</td>\n",
       "      <td>0.0</td>\n",
       "    </tr>\n",
       "    <tr>\n",
       "      <th>2</th>\n",
       "      <td>00091a7a</td>\n",
       "      <td>1</td>\n",
       "      <td>0.0</td>\n",
       "      <td>0.0</td>\n",
       "      <td>1.0</td>\n",
       "      <td>0.0</td>\n",
       "    </tr>\n",
       "    <tr>\n",
       "      <th>3</th>\n",
       "      <td>000ba417</td>\n",
       "      <td>9</td>\n",
       "      <td>6.0</td>\n",
       "      <td>1.0</td>\n",
       "      <td>1.0</td>\n",
       "      <td>0.0</td>\n",
       "    </tr>\n",
       "    <tr>\n",
       "      <th>4</th>\n",
       "      <td>000c79fe</td>\n",
       "      <td>1</td>\n",
       "      <td>1.0</td>\n",
       "      <td>0.0</td>\n",
       "      <td>1.0</td>\n",
       "      <td>0.0</td>\n",
       "    </tr>\n",
       "  </tbody>\n",
       "</table>\n",
       "</div>"
      ],
      "text/plain": [
       "     person  cant_seciones  event_checkout  event_conversion  \\\n",
       "0  0008ed71              3             3.0               0.0   \n",
       "1  00091926             37             2.0               0.0   \n",
       "2  00091a7a              1             0.0               0.0   \n",
       "3  000ba417              9             6.0               1.0   \n",
       "4  000c79fe              1             1.0               0.0   \n",
       "\n",
       "   event_ad campaign hit  event_lead  \n",
       "0                    0.0         0.0  \n",
       "1                   15.0         0.0  \n",
       "2                    1.0         0.0  \n",
       "3                    1.0         0.0  \n",
       "4                    1.0         0.0  "
      ]
     },
     "execution_count": 590,
     "metadata": {},
     "output_type": "execute_result"
    }
   ],
   "source": [
    "secionesUsuariosReducido.head()"
   ]
  },
  {
   "cell_type": "code",
   "execution_count": 591,
   "metadata": {},
   "outputs": [],
   "source": [
    "dataTrocafone = pd.merge(secionesUsuariosReducido,users_view_list,on=\"person\",how = \"outer\")"
   ]
  },
  {
   "cell_type": "code",
   "execution_count": 592,
   "metadata": {},
   "outputs": [
    {
     "data": {
      "text/html": [
       "<div>\n",
       "<table border=\"1\" class=\"dataframe\">\n",
       "  <thead>\n",
       "    <tr style=\"text-align: right;\">\n",
       "      <th></th>\n",
       "      <th>person</th>\n",
       "      <th>cant_seciones</th>\n",
       "      <th>event_checkout</th>\n",
       "      <th>event_conversion</th>\n",
       "      <th>event_ad campaign hit</th>\n",
       "      <th>event_lead</th>\n",
       "      <th>skus</th>\n",
       "    </tr>\n",
       "  </thead>\n",
       "  <tbody>\n",
       "    <tr>\n",
       "      <th>0</th>\n",
       "      <td>0008ed71</td>\n",
       "      <td>3</td>\n",
       "      <td>3.0</td>\n",
       "      <td>0.0</td>\n",
       "      <td>0.0</td>\n",
       "      <td>0.0</td>\n",
       "      <td>1</td>\n",
       "    </tr>\n",
       "    <tr>\n",
       "      <th>1</th>\n",
       "      <td>00091926</td>\n",
       "      <td>37</td>\n",
       "      <td>2.0</td>\n",
       "      <td>0.0</td>\n",
       "      <td>15.0</td>\n",
       "      <td>0.0</td>\n",
       "      <td>1</td>\n",
       "    </tr>\n",
       "    <tr>\n",
       "      <th>2</th>\n",
       "      <td>00091a7a</td>\n",
       "      <td>1</td>\n",
       "      <td>0.0</td>\n",
       "      <td>0.0</td>\n",
       "      <td>1.0</td>\n",
       "      <td>0.0</td>\n",
       "      <td>1</td>\n",
       "    </tr>\n",
       "    <tr>\n",
       "      <th>3</th>\n",
       "      <td>000ba417</td>\n",
       "      <td>9</td>\n",
       "      <td>6.0</td>\n",
       "      <td>1.0</td>\n",
       "      <td>1.0</td>\n",
       "      <td>0.0</td>\n",
       "      <td>1</td>\n",
       "    </tr>\n",
       "    <tr>\n",
       "      <th>4</th>\n",
       "      <td>000c79fe</td>\n",
       "      <td>1</td>\n",
       "      <td>1.0</td>\n",
       "      <td>0.0</td>\n",
       "      <td>1.0</td>\n",
       "      <td>0.0</td>\n",
       "      <td>1</td>\n",
       "    </tr>\n",
       "  </tbody>\n",
       "</table>\n",
       "</div>"
      ],
      "text/plain": [
       "     person  cant_seciones  event_checkout  event_conversion  \\\n",
       "0  0008ed71              3             3.0               0.0   \n",
       "1  00091926             37             2.0               0.0   \n",
       "2  00091a7a              1             0.0               0.0   \n",
       "3  000ba417              9             6.0               1.0   \n",
       "4  000c79fe              1             1.0               0.0   \n",
       "\n",
       "   event_ad campaign hit  event_lead  skus  \n",
       "0                    0.0         0.0     1  \n",
       "1                   15.0         0.0     1  \n",
       "2                    1.0         0.0     1  \n",
       "3                    1.0         0.0     1  \n",
       "4                    1.0         0.0     1  "
      ]
     },
     "execution_count": 592,
     "metadata": {},
     "output_type": "execute_result"
    }
   ],
   "source": [
    "dataTrocafone.head()"
   ]
  },
  {
   "cell_type": "code",
   "execution_count": 593,
   "metadata": {},
   "outputs": [],
   "source": [
    "dataTrocafone = pd.merge(dataTrocafone,person_term,on=\"person\",how=\"outer\")"
   ]
  },
  {
   "cell_type": "code",
   "execution_count": 594,
   "metadata": {},
   "outputs": [],
   "source": [
    "dataTrocafone = pd.merge(dataTrocafone,device_user_type,on=\"person\",how=\"outer\")"
   ]
  },
  {
   "cell_type": "code",
   "execution_count": 595,
   "metadata": {},
   "outputs": [],
   "source": [
    "dataTrocafone[\"Computer\"] = dataTrocafone[\"Computer\"].fillna(0)"
   ]
  },
  {
   "cell_type": "code",
   "execution_count": 596,
   "metadata": {},
   "outputs": [],
   "source": [
    "dataTrocafone[\"Smartphone\"] = dataTrocafone[\"Smartphone\"].fillna(0)"
   ]
  },
  {
   "cell_type": "code",
   "execution_count": 597,
   "metadata": {},
   "outputs": [],
   "source": [
    "dataTrocafone[\"otros\"] = dataTrocafone[\"otros\"].fillna(0)"
   ]
  },
  {
   "cell_type": "code",
   "execution_count": 598,
   "metadata": {},
   "outputs": [],
   "source": [
    "dataTrocafone = dataTrocafone.fillna(0)"
   ]
  },
  {
   "cell_type": "code",
   "execution_count": 599,
   "metadata": {},
   "outputs": [
    {
     "data": {
      "text/plain": [
       "Index(['person', 'cant_seciones', 'event_checkout', 'event_conversion',\n",
       "       'event_ad campaign hit', 'event_lead', 'skus',\n",
       "       'Busca_terminos_populares', 'Computer', 'Smartphone', 'otros'],\n",
       "      dtype='object')"
      ]
     },
     "execution_count": 599,
     "metadata": {},
     "output_type": "execute_result"
    }
   ],
   "source": [
    "dataTrocafone.columns"
   ]
  },
  {
   "cell_type": "code",
   "execution_count": 600,
   "metadata": {},
   "outputs": [
    {
     "data": {
      "text/html": [
       "<div>\n",
       "<table border=\"1\" class=\"dataframe\">\n",
       "  <thead>\n",
       "    <tr style=\"text-align: right;\">\n",
       "      <th></th>\n",
       "      <th>person</th>\n",
       "      <th>cant_seciones</th>\n",
       "      <th>event_checkout</th>\n",
       "      <th>event_conversion</th>\n",
       "      <th>event_ad campaign hit</th>\n",
       "      <th>event_lead</th>\n",
       "      <th>skus</th>\n",
       "      <th>Busca_terminos_populares</th>\n",
       "      <th>Computer</th>\n",
       "      <th>Smartphone</th>\n",
       "      <th>otros</th>\n",
       "    </tr>\n",
       "  </thead>\n",
       "  <tbody>\n",
       "    <tr>\n",
       "      <th>0</th>\n",
       "      <td>0008ed71</td>\n",
       "      <td>3</td>\n",
       "      <td>3.0</td>\n",
       "      <td>0.0</td>\n",
       "      <td>0.0</td>\n",
       "      <td>0.0</td>\n",
       "      <td>1</td>\n",
       "      <td>0</td>\n",
       "      <td>1.0</td>\n",
       "      <td>0.0</td>\n",
       "      <td>0.0</td>\n",
       "    </tr>\n",
       "    <tr>\n",
       "      <th>1</th>\n",
       "      <td>00091926</td>\n",
       "      <td>37</td>\n",
       "      <td>2.0</td>\n",
       "      <td>0.0</td>\n",
       "      <td>15.0</td>\n",
       "      <td>0.0</td>\n",
       "      <td>1</td>\n",
       "      <td>0</td>\n",
       "      <td>1.0</td>\n",
       "      <td>0.0</td>\n",
       "      <td>0.0</td>\n",
       "    </tr>\n",
       "    <tr>\n",
       "      <th>2</th>\n",
       "      <td>00091a7a</td>\n",
       "      <td>1</td>\n",
       "      <td>0.0</td>\n",
       "      <td>0.0</td>\n",
       "      <td>1.0</td>\n",
       "      <td>0.0</td>\n",
       "      <td>1</td>\n",
       "      <td>0</td>\n",
       "      <td>0.0</td>\n",
       "      <td>1.0</td>\n",
       "      <td>0.0</td>\n",
       "    </tr>\n",
       "    <tr>\n",
       "      <th>3</th>\n",
       "      <td>000ba417</td>\n",
       "      <td>9</td>\n",
       "      <td>6.0</td>\n",
       "      <td>1.0</td>\n",
       "      <td>1.0</td>\n",
       "      <td>0.0</td>\n",
       "      <td>1</td>\n",
       "      <td>0</td>\n",
       "      <td>1.0</td>\n",
       "      <td>0.0</td>\n",
       "      <td>0.0</td>\n",
       "    </tr>\n",
       "    <tr>\n",
       "      <th>4</th>\n",
       "      <td>000c79fe</td>\n",
       "      <td>1</td>\n",
       "      <td>1.0</td>\n",
       "      <td>0.0</td>\n",
       "      <td>1.0</td>\n",
       "      <td>0.0</td>\n",
       "      <td>1</td>\n",
       "      <td>8</td>\n",
       "      <td>0.0</td>\n",
       "      <td>1.0</td>\n",
       "      <td>0.0</td>\n",
       "    </tr>\n",
       "  </tbody>\n",
       "</table>\n",
       "</div>"
      ],
      "text/plain": [
       "     person  cant_seciones  event_checkout  event_conversion  \\\n",
       "0  0008ed71              3             3.0               0.0   \n",
       "1  00091926             37             2.0               0.0   \n",
       "2  00091a7a              1             0.0               0.0   \n",
       "3  000ba417              9             6.0               1.0   \n",
       "4  000c79fe              1             1.0               0.0   \n",
       "\n",
       "   event_ad campaign hit  event_lead  skus  Busca_terminos_populares  \\\n",
       "0                    0.0         0.0     1                         0   \n",
       "1                   15.0         0.0     1                         0   \n",
       "2                    1.0         0.0     1                         0   \n",
       "3                    1.0         0.0     1                         0   \n",
       "4                    1.0         0.0     1                         8   \n",
       "\n",
       "   Computer  Smartphone  otros  \n",
       "0       1.0         0.0    0.0  \n",
       "1       1.0         0.0    0.0  \n",
       "2       0.0         1.0    0.0  \n",
       "3       1.0         0.0    0.0  \n",
       "4       0.0         1.0    0.0  "
      ]
     },
     "execution_count": 600,
     "metadata": {},
     "output_type": "execute_result"
    }
   ],
   "source": [
    "dataTrocafone.head()"
   ]
  },
  {
   "cell_type": "code",
   "execution_count": 601,
   "metadata": {},
   "outputs": [],
   "source": [
    "dataTrocafone = pd.merge(dataTrocafone,productData,on=\"person\",how=\"outer\")"
   ]
  },
  {
   "cell_type": "code",
   "execution_count": 602,
   "metadata": {},
   "outputs": [
    {
     "data": {
      "text/plain": [
       "Index(['person', 'cant_seciones', 'event_checkout', 'event_conversion',\n",
       "       'event_ad campaign hit', 'event_lead', 'skus',\n",
       "       'Busca_terminos_populares', 'Computer', 'Smartphone', 'otros',\n",
       "       'marca_apple', 'marca_asus', 'marca_lenovo', 'marca_lg',\n",
       "       'marca_motorola', 'marca_samsung', 'marca_sony', 'condition_Bom',\n",
       "       'condition_Bom - Sem Touch ID', 'condition_Excelente',\n",
       "       'condition_Muito Bom', 'version_galaxy j7', 'version_galaxy j5',\n",
       "       'version_galaxy s7', 'version_iphone 6', 'version_iphone 5s',\n",
       "       'version_iphone 6s', 'version_moto g4', 'version_moto g2',\n",
       "       'version_galaxy s6', 'storage_128GB', 'storage_16GB', 'storage_256GB',\n",
       "       'storage_32GB', 'storage_4GB', 'storage_512MB', 'storage_64GB',\n",
       "       'storage_8GB'],\n",
       "      dtype='object')"
      ]
     },
     "execution_count": 602,
     "metadata": {},
     "output_type": "execute_result"
    }
   ],
   "source": [
    "dataTrocafone.columns"
   ]
  },
  {
   "cell_type": "code",
   "execution_count": 603,
   "metadata": {},
   "outputs": [
    {
     "data": {
      "text/html": [
       "<div>\n",
       "<table border=\"1\" class=\"dataframe\">\n",
       "  <thead>\n",
       "    <tr style=\"text-align: right;\">\n",
       "      <th></th>\n",
       "      <th>person</th>\n",
       "      <th>Parte del dia_Madrugada</th>\n",
       "      <th>Parte del dia_Mañana</th>\n",
       "      <th>Parte del dia_Noche</th>\n",
       "      <th>Parte del dia_Tarde</th>\n",
       "    </tr>\n",
       "  </thead>\n",
       "  <tbody>\n",
       "    <tr>\n",
       "      <th>0</th>\n",
       "      <td>0008ed71</td>\n",
       "      <td>0.0</td>\n",
       "      <td>0.0</td>\n",
       "      <td>1.0</td>\n",
       "      <td>5.0</td>\n",
       "    </tr>\n",
       "    <tr>\n",
       "      <th>1</th>\n",
       "      <td>00091926</td>\n",
       "      <td>196.0</td>\n",
       "      <td>0.0</td>\n",
       "      <td>252.0</td>\n",
       "      <td>0.0</td>\n",
       "    </tr>\n",
       "    <tr>\n",
       "      <th>2</th>\n",
       "      <td>00091a7a</td>\n",
       "      <td>0.0</td>\n",
       "      <td>0.0</td>\n",
       "      <td>0.0</td>\n",
       "      <td>10.0</td>\n",
       "    </tr>\n",
       "    <tr>\n",
       "      <th>3</th>\n",
       "      <td>000ba417</td>\n",
       "      <td>0.0</td>\n",
       "      <td>57.0</td>\n",
       "      <td>43.0</td>\n",
       "      <td>106.0</td>\n",
       "    </tr>\n",
       "    <tr>\n",
       "      <th>4</th>\n",
       "      <td>000c79fe</td>\n",
       "      <td>0.0</td>\n",
       "      <td>0.0</td>\n",
       "      <td>17.0</td>\n",
       "      <td>0.0</td>\n",
       "    </tr>\n",
       "  </tbody>\n",
       "</table>\n",
       "</div>"
      ],
      "text/plain": [
       "     person  Parte del dia_Madrugada  Parte del dia_Mañana  \\\n",
       "0  0008ed71                      0.0                   0.0   \n",
       "1  00091926                    196.0                   0.0   \n",
       "2  00091a7a                      0.0                   0.0   \n",
       "3  000ba417                      0.0                  57.0   \n",
       "4  000c79fe                      0.0                   0.0   \n",
       "\n",
       "   Parte del dia_Noche  Parte del dia_Tarde  \n",
       "0                  1.0                  5.0  \n",
       "1                252.0                  0.0  \n",
       "2                  0.0                 10.0  \n",
       "3                 43.0                106.0  \n",
       "4                 17.0                  0.0  "
      ]
     },
     "execution_count": 603,
     "metadata": {},
     "output_type": "execute_result"
    }
   ],
   "source": [
    "users_partedeldia.head()"
   ]
  },
  {
   "cell_type": "code",
   "execution_count": 604,
   "metadata": {},
   "outputs": [],
   "source": [
    "dataTrocafone = pd.merge(dataTrocafone,users_partedeldia,on=\"person\",how=\"left\")"
   ]
  },
  {
   "cell_type": "code",
   "execution_count": 605,
   "metadata": {},
   "outputs": [],
   "source": [
    "dataTrocafone = pd.merge(dataTrocafone,person_campaing,on=\"person\",how=\"outer\")"
   ]
  },
  {
   "cell_type": "code",
   "execution_count": 606,
   "metadata": {},
   "outputs": [],
   "source": [
    "dataTrocafone = pd.merge(dataTrocafone,person_channel,on=\"person\",how=\"outer\")"
   ]
  },
  {
   "cell_type": "code",
   "execution_count": 607,
   "metadata": {},
   "outputs": [],
   "source": [
    "dataTrocafone = pd.merge(dataTrocafone,esBrasilero,on=\"person\",how=\"outer\")"
   ]
  },
  {
   "cell_type": "code",
   "execution_count": 608,
   "metadata": {},
   "outputs": [],
   "source": [
    "dataTrocafone = dataTrocafone.fillna(0)"
   ]
  },
  {
   "cell_type": "code",
   "execution_count": 609,
   "metadata": {},
   "outputs": [],
   "source": [
    "dataTrocafone = pd.merge(dataTrocafone,region,on=\"person\",how=\"outer\")"
   ]
  },
  {
   "cell_type": "code",
   "execution_count": 610,
   "metadata": {},
   "outputs": [],
   "source": [
    "dataTrocafone = dataTrocafone.drop(\"region\",axis=1)"
   ]
  },
  {
   "cell_type": "code",
   "execution_count": 611,
   "metadata": {},
   "outputs": [],
   "source": [
    "dataTrocafone[\"ventas_region\"] = dataTrocafone[\"ventas_region\"].fillna(0)"
   ]
  },
  {
   "cell_type": "code",
   "execution_count": 612,
   "metadata": {},
   "outputs": [
    {
     "data": {
      "text/html": [
       "<div>\n",
       "<table border=\"1\" class=\"dataframe\">\n",
       "  <thead>\n",
       "    <tr style=\"text-align: right;\">\n",
       "      <th></th>\n",
       "      <th>person</th>\n",
       "      <th>cant_seciones</th>\n",
       "      <th>event_checkout</th>\n",
       "      <th>event_conversion</th>\n",
       "      <th>event_ad campaign hit</th>\n",
       "      <th>event_lead</th>\n",
       "      <th>skus</th>\n",
       "      <th>Busca_terminos_populares</th>\n",
       "      <th>Computer</th>\n",
       "      <th>Smartphone</th>\n",
       "      <th>...</th>\n",
       "      <th>Parte del dia_Tarde</th>\n",
       "      <th>campaign_source_google</th>\n",
       "      <th>campaign_source_criteo</th>\n",
       "      <th>campaign_source_rtbhouse</th>\n",
       "      <th>channel_Direct</th>\n",
       "      <th>channel_Paid</th>\n",
       "      <th>channel_Organic</th>\n",
       "      <th>channel_Referral</th>\n",
       "      <th>Brasilero</th>\n",
       "      <th>ventas_region</th>\n",
       "    </tr>\n",
       "  </thead>\n",
       "  <tbody>\n",
       "    <tr>\n",
       "      <th>0</th>\n",
       "      <td>0008ed71</td>\n",
       "      <td>3</td>\n",
       "      <td>3.0</td>\n",
       "      <td>0.0</td>\n",
       "      <td>0.0</td>\n",
       "      <td>0.0</td>\n",
       "      <td>1</td>\n",
       "      <td>0</td>\n",
       "      <td>1.0</td>\n",
       "      <td>0.0</td>\n",
       "      <td>...</td>\n",
       "      <td>5.0</td>\n",
       "      <td>0.0</td>\n",
       "      <td>0.0</td>\n",
       "      <td>0.0</td>\n",
       "      <td>0.0</td>\n",
       "      <td>0.0</td>\n",
       "      <td>0.0</td>\n",
       "      <td>2.0</td>\n",
       "      <td>0.0</td>\n",
       "      <td>0.0</td>\n",
       "    </tr>\n",
       "    <tr>\n",
       "      <th>1</th>\n",
       "      <td>00091926</td>\n",
       "      <td>37</td>\n",
       "      <td>2.0</td>\n",
       "      <td>0.0</td>\n",
       "      <td>15.0</td>\n",
       "      <td>0.0</td>\n",
       "      <td>1</td>\n",
       "      <td>0</td>\n",
       "      <td>1.0</td>\n",
       "      <td>0.0</td>\n",
       "      <td>...</td>\n",
       "      <td>0.0</td>\n",
       "      <td>13.0</td>\n",
       "      <td>1.0</td>\n",
       "      <td>1.0</td>\n",
       "      <td>25.0</td>\n",
       "      <td>8.0</td>\n",
       "      <td>0.0</td>\n",
       "      <td>1.0</td>\n",
       "      <td>0.0</td>\n",
       "      <td>0.0</td>\n",
       "    </tr>\n",
       "    <tr>\n",
       "      <th>2</th>\n",
       "      <td>00091a7a</td>\n",
       "      <td>1</td>\n",
       "      <td>0.0</td>\n",
       "      <td>0.0</td>\n",
       "      <td>1.0</td>\n",
       "      <td>0.0</td>\n",
       "      <td>1</td>\n",
       "      <td>0</td>\n",
       "      <td>0.0</td>\n",
       "      <td>1.0</td>\n",
       "      <td>...</td>\n",
       "      <td>10.0</td>\n",
       "      <td>1.0</td>\n",
       "      <td>0.0</td>\n",
       "      <td>0.0</td>\n",
       "      <td>0.0</td>\n",
       "      <td>1.0</td>\n",
       "      <td>0.0</td>\n",
       "      <td>0.0</td>\n",
       "      <td>0.0</td>\n",
       "      <td>0.0</td>\n",
       "    </tr>\n",
       "    <tr>\n",
       "      <th>3</th>\n",
       "      <td>000ba417</td>\n",
       "      <td>9</td>\n",
       "      <td>6.0</td>\n",
       "      <td>1.0</td>\n",
       "      <td>1.0</td>\n",
       "      <td>0.0</td>\n",
       "      <td>1</td>\n",
       "      <td>0</td>\n",
       "      <td>1.0</td>\n",
       "      <td>0.0</td>\n",
       "      <td>...</td>\n",
       "      <td>106.0</td>\n",
       "      <td>1.0</td>\n",
       "      <td>0.0</td>\n",
       "      <td>0.0</td>\n",
       "      <td>6.0</td>\n",
       "      <td>0.0</td>\n",
       "      <td>0.0</td>\n",
       "      <td>0.0</td>\n",
       "      <td>1.0</td>\n",
       "      <td>1213.0</td>\n",
       "    </tr>\n",
       "    <tr>\n",
       "      <th>4</th>\n",
       "      <td>000c79fe</td>\n",
       "      <td>1</td>\n",
       "      <td>1.0</td>\n",
       "      <td>0.0</td>\n",
       "      <td>1.0</td>\n",
       "      <td>0.0</td>\n",
       "      <td>1</td>\n",
       "      <td>8</td>\n",
       "      <td>0.0</td>\n",
       "      <td>1.0</td>\n",
       "      <td>...</td>\n",
       "      <td>0.0</td>\n",
       "      <td>1.0</td>\n",
       "      <td>0.0</td>\n",
       "      <td>0.0</td>\n",
       "      <td>0.0</td>\n",
       "      <td>1.0</td>\n",
       "      <td>0.0</td>\n",
       "      <td>0.0</td>\n",
       "      <td>0.0</td>\n",
       "      <td>0.0</td>\n",
       "    </tr>\n",
       "  </tbody>\n",
       "</table>\n",
       "<p>5 rows × 52 columns</p>\n",
       "</div>"
      ],
      "text/plain": [
       "     person  cant_seciones  event_checkout  event_conversion  \\\n",
       "0  0008ed71              3             3.0               0.0   \n",
       "1  00091926             37             2.0               0.0   \n",
       "2  00091a7a              1             0.0               0.0   \n",
       "3  000ba417              9             6.0               1.0   \n",
       "4  000c79fe              1             1.0               0.0   \n",
       "\n",
       "   event_ad campaign hit  event_lead  skus  Busca_terminos_populares  \\\n",
       "0                    0.0         0.0     1                         0   \n",
       "1                   15.0         0.0     1                         0   \n",
       "2                    1.0         0.0     1                         0   \n",
       "3                    1.0         0.0     1                         0   \n",
       "4                    1.0         0.0     1                         8   \n",
       "\n",
       "   Computer  Smartphone      ...        Parte del dia_Tarde  \\\n",
       "0       1.0         0.0      ...                        5.0   \n",
       "1       1.0         0.0      ...                        0.0   \n",
       "2       0.0         1.0      ...                       10.0   \n",
       "3       1.0         0.0      ...                      106.0   \n",
       "4       0.0         1.0      ...                        0.0   \n",
       "\n",
       "   campaign_source_google  campaign_source_criteo  campaign_source_rtbhouse  \\\n",
       "0                     0.0                     0.0                       0.0   \n",
       "1                    13.0                     1.0                       1.0   \n",
       "2                     1.0                     0.0                       0.0   \n",
       "3                     1.0                     0.0                       0.0   \n",
       "4                     1.0                     0.0                       0.0   \n",
       "\n",
       "   channel_Direct  channel_Paid  channel_Organic  channel_Referral  Brasilero  \\\n",
       "0             0.0           0.0              0.0               2.0        0.0   \n",
       "1            25.0           8.0              0.0               1.0        0.0   \n",
       "2             0.0           1.0              0.0               0.0        0.0   \n",
       "3             6.0           0.0              0.0               0.0        1.0   \n",
       "4             0.0           1.0              0.0               0.0        0.0   \n",
       "\n",
       "   ventas_region  \n",
       "0            0.0  \n",
       "1            0.0  \n",
       "2            0.0  \n",
       "3         1213.0  \n",
       "4            0.0  \n",
       "\n",
       "[5 rows x 52 columns]"
      ]
     },
     "execution_count": 612,
     "metadata": {},
     "output_type": "execute_result"
    }
   ],
   "source": [
    "dataTrocafone.head()"
   ]
  },
  {
   "cell_type": "code",
   "execution_count": 613,
   "metadata": {},
   "outputs": [
    {
     "data": {
      "text/html": [
       "<div>\n",
       "<table border=\"1\" class=\"dataframe\">\n",
       "  <thead>\n",
       "    <tr style=\"text-align: right;\">\n",
       "      <th></th>\n",
       "      <th>person</th>\n",
       "      <th>count_activity</th>\n",
       "      <th>conversiones_15lastdays</th>\n",
       "      <th>checkout_15lastdays</th>\n",
       "      <th>viewed_15lastday</th>\n",
       "    </tr>\n",
       "  </thead>\n",
       "  <tbody>\n",
       "    <tr>\n",
       "      <th>0</th>\n",
       "      <td>0008ed71</td>\n",
       "      <td>6</td>\n",
       "      <td>0.0</td>\n",
       "      <td>3.0</td>\n",
       "      <td>0.0</td>\n",
       "    </tr>\n",
       "    <tr>\n",
       "      <th>1</th>\n",
       "      <td>00091926</td>\n",
       "      <td>283</td>\n",
       "      <td>0.0</td>\n",
       "      <td>2.0</td>\n",
       "      <td>250.0</td>\n",
       "    </tr>\n",
       "    <tr>\n",
       "      <th>2</th>\n",
       "      <td>000ba417</td>\n",
       "      <td>206</td>\n",
       "      <td>1.0</td>\n",
       "      <td>6.0</td>\n",
       "      <td>153.0</td>\n",
       "    </tr>\n",
       "    <tr>\n",
       "      <th>3</th>\n",
       "      <td>000c79fe</td>\n",
       "      <td>17</td>\n",
       "      <td>0.0</td>\n",
       "      <td>1.0</td>\n",
       "      <td>3.0</td>\n",
       "    </tr>\n",
       "    <tr>\n",
       "      <th>4</th>\n",
       "      <td>000e4d9e</td>\n",
       "      <td>411</td>\n",
       "      <td>0.0</td>\n",
       "      <td>1.0</td>\n",
       "      <td>339.0</td>\n",
       "    </tr>\n",
       "  </tbody>\n",
       "</table>\n",
       "</div>"
      ],
      "text/plain": [
       "     person  count_activity  conversiones_15lastdays  checkout_15lastdays  \\\n",
       "0  0008ed71               6                      0.0                  3.0   \n",
       "1  00091926             283                      0.0                  2.0   \n",
       "2  000ba417             206                      1.0                  6.0   \n",
       "3  000c79fe              17                      0.0                  1.0   \n",
       "4  000e4d9e             411                      0.0                  1.0   \n",
       "\n",
       "   viewed_15lastday  \n",
       "0               0.0  \n",
       "1             250.0  \n",
       "2             153.0  \n",
       "3               3.0  \n",
       "4             339.0  "
      ]
     },
     "execution_count": 613,
     "metadata": {},
     "output_type": "execute_result"
    }
   ],
   "source": [
    "last_15days.head()"
   ]
  },
  {
   "cell_type": "code",
   "execution_count": 614,
   "metadata": {},
   "outputs": [],
   "source": [
    "dataTrocafone = pd.merge(dataTrocafone,last_15days,how = \"left\", on=\"person\")"
   ]
  },
  {
   "cell_type": "code",
   "execution_count": 615,
   "metadata": {},
   "outputs": [],
   "source": [
    "dataTrocafone[\"count_activity\"] = dataTrocafone[\"count_activity\"].fillna(0)"
   ]
  },
  {
   "cell_type": "code",
   "execution_count": 616,
   "metadata": {},
   "outputs": [],
   "source": [
    "dataTrocafone[\"conversiones_15lastdays\"] = dataTrocafone[\"conversiones_15lastdays\"].fillna(0)\n",
    "dataTrocafone[\"checkout_15lastdays\"] = dataTrocafone[\"checkout_15lastdays\"].fillna(0)\n",
    "dataTrocafone[\"viewed_15lastday\"] = dataTrocafone[\"viewed_15lastday\"].fillna(0)"
   ]
  },
  {
   "cell_type": "code",
   "execution_count": 617,
   "metadata": {},
   "outputs": [
    {
     "data": {
      "text/html": [
       "<div>\n",
       "<table border=\"1\" class=\"dataframe\">\n",
       "  <thead>\n",
       "    <tr style=\"text-align: right;\">\n",
       "      <th></th>\n",
       "      <th>color_Preto</th>\n",
       "      <th>color_Dourado</th>\n",
       "      <th>color_Branco</th>\n",
       "      <th>color_Cinza espacial</th>\n",
       "    </tr>\n",
       "    <tr>\n",
       "      <th>person</th>\n",
       "      <th></th>\n",
       "      <th></th>\n",
       "      <th></th>\n",
       "      <th></th>\n",
       "    </tr>\n",
       "  </thead>\n",
       "  <tbody>\n",
       "    <tr>\n",
       "      <th>00091926</th>\n",
       "      <td>79.0</td>\n",
       "      <td>101.0</td>\n",
       "      <td>3.0</td>\n",
       "      <td>65.0</td>\n",
       "    </tr>\n",
       "    <tr>\n",
       "      <th>00091a7a</th>\n",
       "      <td>0.0</td>\n",
       "      <td>1.0</td>\n",
       "      <td>0.0</td>\n",
       "      <td>1.0</td>\n",
       "    </tr>\n",
       "    <tr>\n",
       "      <th>000ba417</th>\n",
       "      <td>71.0</td>\n",
       "      <td>14.0</td>\n",
       "      <td>15.0</td>\n",
       "      <td>1.0</td>\n",
       "    </tr>\n",
       "    <tr>\n",
       "      <th>000c79fe</th>\n",
       "      <td>0.0</td>\n",
       "      <td>0.0</td>\n",
       "      <td>0.0</td>\n",
       "      <td>0.0</td>\n",
       "    </tr>\n",
       "    <tr>\n",
       "      <th>000e4d9e</th>\n",
       "      <td>149.0</td>\n",
       "      <td>46.0</td>\n",
       "      <td>85.0</td>\n",
       "      <td>14.0</td>\n",
       "    </tr>\n",
       "  </tbody>\n",
       "</table>\n",
       "</div>"
      ],
      "text/plain": [
       "          color_Preto  color_Dourado  color_Branco  color_Cinza espacial\n",
       "person                                                                  \n",
       "00091926         79.0          101.0           3.0                  65.0\n",
       "00091a7a          0.0            1.0           0.0                   1.0\n",
       "000ba417         71.0           14.0          15.0                   1.0\n",
       "000c79fe          0.0            0.0           0.0                   0.0\n",
       "000e4d9e        149.0           46.0          85.0                  14.0"
      ]
     },
     "execution_count": 617,
     "metadata": {},
     "output_type": "execute_result"
    }
   ],
   "source": [
    "personColor.head()"
   ]
  },
  {
   "cell_type": "code",
   "execution_count": 618,
   "metadata": {},
   "outputs": [],
   "source": [
    "personColor = personColor.reset_index()"
   ]
  },
  {
   "cell_type": "code",
   "execution_count": 619,
   "metadata": {},
   "outputs": [],
   "source": [
    "dataTrocafone = pd.merge(dataTrocafone,personColor,how = \"left\", on=\"person\")"
   ]
  },
  {
   "cell_type": "code",
   "execution_count": 620,
   "metadata": {},
   "outputs": [],
   "source": [
    "dataTrocafone[\"color_Preto\"] = dataTrocafone[\"color_Preto\"].fillna(0)\n",
    "dataTrocafone[\"color_Dourado\"] = dataTrocafone[\"color_Dourado\"].fillna(0)\n",
    "dataTrocafone[\"color_Branco\"] = dataTrocafone[\"color_Branco\"].fillna(0)\n",
    "dataTrocafone[\"color_Cinza espacial\"] = dataTrocafone[\"color_Cinza espacial\"].fillna(0)"
   ]
  },
  {
   "cell_type": "code",
   "execution_count": 621,
   "metadata": {},
   "outputs": [],
   "source": [
    "dataTrocafone = pd.merge(dataTrocafone,new_last15days,how = \"left\", on=\"person\")"
   ]
  },
  {
   "cell_type": "code",
   "execution_count": 622,
   "metadata": {},
   "outputs": [],
   "source": [
    "dataTrocafone[\"new_15lastdays\"] = dataTrocafone[\"new_15lastdays\"].fillna(0)"
   ]
  },
  {
   "cell_type": "code",
   "execution_count": 623,
   "metadata": {},
   "outputs": [
    {
     "name": "stdout",
     "output_type": "stream",
     "text": [
      "<class 'pandas.core.frame.DataFrame'>\n",
      "Int64Index: 38829 entries, 0 to 38828\n",
      "Data columns (total 61 columns):\n",
      "person                          38829 non-null object\n",
      "cant_seciones                   38829 non-null int64\n",
      "event_checkout                  38829 non-null float64\n",
      "event_conversion                38829 non-null float64\n",
      "event_ad campaign hit           38829 non-null float64\n",
      "event_lead                      38829 non-null float64\n",
      "skus                            38829 non-null int64\n",
      "Busca_terminos_populares        38829 non-null int64\n",
      "Computer                        38829 non-null float64\n",
      "Smartphone                      38829 non-null float64\n",
      "otros                           38829 non-null float64\n",
      "marca_apple                     38829 non-null float64\n",
      "marca_asus                      38829 non-null float64\n",
      "marca_lenovo                    38829 non-null float64\n",
      "marca_lg                        38829 non-null float64\n",
      "marca_motorola                  38829 non-null float64\n",
      "marca_samsung                   38829 non-null float64\n",
      "marca_sony                      38829 non-null float64\n",
      "condition_Bom                   38829 non-null float64\n",
      "condition_Bom - Sem Touch ID    38829 non-null float64\n",
      "condition_Excelente             38829 non-null float64\n",
      "condition_Muito Bom             38829 non-null float64\n",
      "version_galaxy j7               38829 non-null float64\n",
      "version_galaxy j5               38829 non-null float64\n",
      "version_galaxy s7               38829 non-null float64\n",
      "version_iphone 6                38829 non-null float64\n",
      "version_iphone 5s               38829 non-null float64\n",
      "version_iphone 6s               38829 non-null float64\n",
      "version_moto g4                 38829 non-null float64\n",
      "version_moto g2                 38829 non-null float64\n",
      "version_galaxy s6               38829 non-null float64\n",
      "storage_128GB                   38829 non-null float64\n",
      "storage_16GB                    38829 non-null float64\n",
      "storage_256GB                   38829 non-null float64\n",
      "storage_32GB                    38829 non-null float64\n",
      "storage_4GB                     38829 non-null float64\n",
      "storage_512MB                   38829 non-null float64\n",
      "storage_64GB                    38829 non-null float64\n",
      "storage_8GB                     38829 non-null float64\n",
      "Parte del dia_Madrugada         38829 non-null float64\n",
      "Parte del dia_Mañana            38829 non-null float64\n",
      "Parte del dia_Noche             38829 non-null float64\n",
      "Parte del dia_Tarde             38829 non-null float64\n",
      "campaign_source_google          38829 non-null float64\n",
      "campaign_source_criteo          38829 non-null float64\n",
      "campaign_source_rtbhouse        38829 non-null float64\n",
      "channel_Direct                  38829 non-null float64\n",
      "channel_Paid                    38829 non-null float64\n",
      "channel_Organic                 38829 non-null float64\n",
      "channel_Referral                38829 non-null float64\n",
      "Brasilero                       38829 non-null float64\n",
      "ventas_region                   38829 non-null float64\n",
      "count_activity                  38829 non-null float64\n",
      "conversiones_15lastdays         38829 non-null float64\n",
      "checkout_15lastdays             38829 non-null float64\n",
      "viewed_15lastday                38829 non-null float64\n",
      "color_Preto                     38829 non-null float64\n",
      "color_Dourado                   38829 non-null float64\n",
      "color_Branco                    38829 non-null float64\n",
      "color_Cinza espacial            38829 non-null float64\n",
      "new_15lastdays                  38829 non-null float64\n",
      "dtypes: float64(57), int64(3), object(1)\n",
      "memory usage: 18.4+ MB\n"
     ]
    }
   ],
   "source": [
    "dataTrocafone.info()"
   ]
  },
  {
   "cell_type": "markdown",
   "metadata": {},
   "source": [
    "Armo el set de training y el de test"
   ]
  },
  {
   "cell_type": "code",
   "execution_count": 624,
   "metadata": {},
   "outputs": [],
   "source": [
    "trainingSet = pd.read_csv(\"data/labels_training_set.csv\", low_memory = False)"
   ]
  },
  {
   "cell_type": "code",
   "execution_count": 625,
   "metadata": {},
   "outputs": [
    {
     "data": {
      "text/html": [
       "<div>\n",
       "<table border=\"1\" class=\"dataframe\">\n",
       "  <thead>\n",
       "    <tr style=\"text-align: right;\">\n",
       "      <th></th>\n",
       "      <th>person</th>\n",
       "      <th>label</th>\n",
       "    </tr>\n",
       "  </thead>\n",
       "  <tbody>\n",
       "    <tr>\n",
       "      <th>0</th>\n",
       "      <td>0566e9c1</td>\n",
       "      <td>0</td>\n",
       "    </tr>\n",
       "    <tr>\n",
       "      <th>1</th>\n",
       "      <td>6ec7ee77</td>\n",
       "      <td>0</td>\n",
       "    </tr>\n",
       "    <tr>\n",
       "      <th>2</th>\n",
       "      <td>abe7a2fb</td>\n",
       "      <td>0</td>\n",
       "    </tr>\n",
       "    <tr>\n",
       "      <th>3</th>\n",
       "      <td>34728364</td>\n",
       "      <td>0</td>\n",
       "    </tr>\n",
       "    <tr>\n",
       "      <th>4</th>\n",
       "      <td>87ed62de</td>\n",
       "      <td>0</td>\n",
       "    </tr>\n",
       "  </tbody>\n",
       "</table>\n",
       "</div>"
      ],
      "text/plain": [
       "     person  label\n",
       "0  0566e9c1      0\n",
       "1  6ec7ee77      0\n",
       "2  abe7a2fb      0\n",
       "3  34728364      0\n",
       "4  87ed62de      0"
      ]
     },
     "execution_count": 625,
     "metadata": {},
     "output_type": "execute_result"
    }
   ],
   "source": [
    "trainingSet.head()"
   ]
  },
  {
   "cell_type": "code",
   "execution_count": 626,
   "metadata": {},
   "outputs": [
    {
     "data": {
      "text/plain": [
       "19414"
      ]
     },
     "execution_count": 626,
     "metadata": {},
     "output_type": "execute_result"
    }
   ],
   "source": [
    "trainingSet[\"person\"].count()"
   ]
  },
  {
   "cell_type": "code",
   "execution_count": 627,
   "metadata": {},
   "outputs": [
    {
     "data": {
      "text/plain": [
       "38829"
      ]
     },
     "execution_count": 627,
     "metadata": {},
     "output_type": "execute_result"
    }
   ],
   "source": [
    "dataTrocafone[\"person\"].count()"
   ]
  },
  {
   "cell_type": "code",
   "execution_count": 628,
   "metadata": {},
   "outputs": [],
   "source": [
    "setTraining = pd.merge(dataTrocafone,trainingSet,on=\"person\",how = \"inner\")"
   ]
  },
  {
   "cell_type": "code",
   "execution_count": 629,
   "metadata": {},
   "outputs": [
    {
     "data": {
      "text/html": [
       "<div>\n",
       "<table border=\"1\" class=\"dataframe\">\n",
       "  <thead>\n",
       "    <tr style=\"text-align: right;\">\n",
       "      <th></th>\n",
       "      <th>person</th>\n",
       "      <th>cant_seciones</th>\n",
       "      <th>event_checkout</th>\n",
       "      <th>event_conversion</th>\n",
       "      <th>event_ad campaign hit</th>\n",
       "      <th>event_lead</th>\n",
       "      <th>skus</th>\n",
       "      <th>Busca_terminos_populares</th>\n",
       "      <th>Computer</th>\n",
       "      <th>Smartphone</th>\n",
       "      <th>...</th>\n",
       "      <th>count_activity</th>\n",
       "      <th>conversiones_15lastdays</th>\n",
       "      <th>checkout_15lastdays</th>\n",
       "      <th>viewed_15lastday</th>\n",
       "      <th>color_Preto</th>\n",
       "      <th>color_Dourado</th>\n",
       "      <th>color_Branco</th>\n",
       "      <th>color_Cinza espacial</th>\n",
       "      <th>new_15lastdays</th>\n",
       "      <th>label</th>\n",
       "    </tr>\n",
       "  </thead>\n",
       "  <tbody>\n",
       "    <tr>\n",
       "      <th>0</th>\n",
       "      <td>0008ed71</td>\n",
       "      <td>3</td>\n",
       "      <td>3.0</td>\n",
       "      <td>0.0</td>\n",
       "      <td>0.0</td>\n",
       "      <td>0.0</td>\n",
       "      <td>1</td>\n",
       "      <td>0</td>\n",
       "      <td>1.0</td>\n",
       "      <td>0.0</td>\n",
       "      <td>...</td>\n",
       "      <td>6.0</td>\n",
       "      <td>0.0</td>\n",
       "      <td>3.0</td>\n",
       "      <td>0.0</td>\n",
       "      <td>0.0</td>\n",
       "      <td>0.0</td>\n",
       "      <td>0.0</td>\n",
       "      <td>0.0</td>\n",
       "      <td>1.0</td>\n",
       "      <td>0</td>\n",
       "    </tr>\n",
       "    <tr>\n",
       "      <th>1</th>\n",
       "      <td>000c79fe</td>\n",
       "      <td>1</td>\n",
       "      <td>1.0</td>\n",
       "      <td>0.0</td>\n",
       "      <td>1.0</td>\n",
       "      <td>0.0</td>\n",
       "      <td>1</td>\n",
       "      <td>8</td>\n",
       "      <td>0.0</td>\n",
       "      <td>1.0</td>\n",
       "      <td>...</td>\n",
       "      <td>17.0</td>\n",
       "      <td>0.0</td>\n",
       "      <td>1.0</td>\n",
       "      <td>3.0</td>\n",
       "      <td>0.0</td>\n",
       "      <td>0.0</td>\n",
       "      <td>0.0</td>\n",
       "      <td>0.0</td>\n",
       "      <td>1.0</td>\n",
       "      <td>0</td>\n",
       "    </tr>\n",
       "    <tr>\n",
       "      <th>2</th>\n",
       "      <td>001802e4</td>\n",
       "      <td>1</td>\n",
       "      <td>1.0</td>\n",
       "      <td>0.0</td>\n",
       "      <td>5.0</td>\n",
       "      <td>0.0</td>\n",
       "      <td>1</td>\n",
       "      <td>0</td>\n",
       "      <td>0.0</td>\n",
       "      <td>1.0</td>\n",
       "      <td>...</td>\n",
       "      <td>19.0</td>\n",
       "      <td>0.0</td>\n",
       "      <td>1.0</td>\n",
       "      <td>4.0</td>\n",
       "      <td>0.0</td>\n",
       "      <td>2.0</td>\n",
       "      <td>0.0</td>\n",
       "      <td>0.0</td>\n",
       "      <td>1.0</td>\n",
       "      <td>0</td>\n",
       "    </tr>\n",
       "    <tr>\n",
       "      <th>3</th>\n",
       "      <td>0019e639</td>\n",
       "      <td>21</td>\n",
       "      <td>15.0</td>\n",
       "      <td>2.0</td>\n",
       "      <td>29.0</td>\n",
       "      <td>0.0</td>\n",
       "      <td>1</td>\n",
       "      <td>3</td>\n",
       "      <td>1.0</td>\n",
       "      <td>0.0</td>\n",
       "      <td>...</td>\n",
       "      <td>202.0</td>\n",
       "      <td>1.0</td>\n",
       "      <td>3.0</td>\n",
       "      <td>89.0</td>\n",
       "      <td>110.0</td>\n",
       "      <td>2.0</td>\n",
       "      <td>24.0</td>\n",
       "      <td>0.0</td>\n",
       "      <td>0.0</td>\n",
       "      <td>0</td>\n",
       "    </tr>\n",
       "    <tr>\n",
       "      <th>4</th>\n",
       "      <td>001b0bf9</td>\n",
       "      <td>1</td>\n",
       "      <td>2.0</td>\n",
       "      <td>1.0</td>\n",
       "      <td>0.0</td>\n",
       "      <td>0.0</td>\n",
       "      <td>1</td>\n",
       "      <td>0</td>\n",
       "      <td>0.0</td>\n",
       "      <td>0.0</td>\n",
       "      <td>...</td>\n",
       "      <td>7.0</td>\n",
       "      <td>1.0</td>\n",
       "      <td>2.0</td>\n",
       "      <td>2.0</td>\n",
       "      <td>1.0</td>\n",
       "      <td>0.0</td>\n",
       "      <td>0.0</td>\n",
       "      <td>0.0</td>\n",
       "      <td>0.0</td>\n",
       "      <td>0</td>\n",
       "    </tr>\n",
       "  </tbody>\n",
       "</table>\n",
       "<p>5 rows × 62 columns</p>\n",
       "</div>"
      ],
      "text/plain": [
       "     person  cant_seciones  event_checkout  event_conversion  \\\n",
       "0  0008ed71              3             3.0               0.0   \n",
       "1  000c79fe              1             1.0               0.0   \n",
       "2  001802e4              1             1.0               0.0   \n",
       "3  0019e639             21            15.0               2.0   \n",
       "4  001b0bf9              1             2.0               1.0   \n",
       "\n",
       "   event_ad campaign hit  event_lead  skus  Busca_terminos_populares  \\\n",
       "0                    0.0         0.0     1                         0   \n",
       "1                    1.0         0.0     1                         8   \n",
       "2                    5.0         0.0     1                         0   \n",
       "3                   29.0         0.0     1                         3   \n",
       "4                    0.0         0.0     1                         0   \n",
       "\n",
       "   Computer  Smartphone  ...    count_activity  conversiones_15lastdays  \\\n",
       "0       1.0         0.0  ...               6.0                      0.0   \n",
       "1       0.0         1.0  ...              17.0                      0.0   \n",
       "2       0.0         1.0  ...              19.0                      0.0   \n",
       "3       1.0         0.0  ...             202.0                      1.0   \n",
       "4       0.0         0.0  ...               7.0                      1.0   \n",
       "\n",
       "   checkout_15lastdays  viewed_15lastday  color_Preto  color_Dourado  \\\n",
       "0                  3.0               0.0          0.0            0.0   \n",
       "1                  1.0               3.0          0.0            0.0   \n",
       "2                  1.0               4.0          0.0            2.0   \n",
       "3                  3.0              89.0        110.0            2.0   \n",
       "4                  2.0               2.0          1.0            0.0   \n",
       "\n",
       "   color_Branco  color_Cinza espacial  new_15lastdays  label  \n",
       "0           0.0                   0.0             1.0      0  \n",
       "1           0.0                   0.0             1.0      0  \n",
       "2           0.0                   0.0             1.0      0  \n",
       "3          24.0                   0.0             0.0      0  \n",
       "4           0.0                   0.0             0.0      0  \n",
       "\n",
       "[5 rows x 62 columns]"
      ]
     },
     "execution_count": 629,
     "metadata": {},
     "output_type": "execute_result"
    }
   ],
   "source": [
    "setTraining.head()"
   ]
  },
  {
   "cell_type": "code",
   "execution_count": 630,
   "metadata": {},
   "outputs": [
    {
     "data": {
      "text/plain": [
       "Index(['person', 'cant_seciones', 'event_checkout', 'event_conversion',\n",
       "       'event_ad campaign hit', 'event_lead', 'skus',\n",
       "       'Busca_terminos_populares', 'Computer', 'Smartphone', 'otros',\n",
       "       'marca_apple', 'marca_asus', 'marca_lenovo', 'marca_lg',\n",
       "       'marca_motorola', 'marca_samsung', 'marca_sony', 'condition_Bom',\n",
       "       'condition_Bom - Sem Touch ID', 'condition_Excelente',\n",
       "       'condition_Muito Bom', 'version_galaxy j7', 'version_galaxy j5',\n",
       "       'version_galaxy s7', 'version_iphone 6', 'version_iphone 5s',\n",
       "       'version_iphone 6s', 'version_moto g4', 'version_moto g2',\n",
       "       'version_galaxy s6', 'storage_128GB', 'storage_16GB', 'storage_256GB',\n",
       "       'storage_32GB', 'storage_4GB', 'storage_512MB', 'storage_64GB',\n",
       "       'storage_8GB', 'Parte del dia_Madrugada', 'Parte del dia_Mañana',\n",
       "       'Parte del dia_Noche', 'Parte del dia_Tarde', 'campaign_source_google',\n",
       "       'campaign_source_criteo', 'campaign_source_rtbhouse', 'channel_Direct',\n",
       "       'channel_Paid', 'channel_Organic', 'channel_Referral', 'Brasilero',\n",
       "       'ventas_region', 'count_activity', 'conversiones_15lastdays',\n",
       "       'checkout_15lastdays', 'viewed_15lastday', 'color_Preto',\n",
       "       'color_Dourado', 'color_Branco', 'color_Cinza espacial',\n",
       "       'new_15lastdays', 'label'],\n",
       "      dtype='object')"
      ]
     },
     "execution_count": 630,
     "metadata": {},
     "output_type": "execute_result"
    }
   ],
   "source": [
    "setTraining.columns"
   ]
  },
  {
   "cell_type": "code",
   "execution_count": 631,
   "metadata": {},
   "outputs": [
    {
     "data": {
      "text/plain": [
       "19414"
      ]
     },
     "execution_count": 631,
     "metadata": {},
     "output_type": "execute_result"
    }
   ],
   "source": [
    "setTraining[\"person\"].count()"
   ]
  },
  {
   "cell_type": "code",
   "execution_count": 632,
   "metadata": {},
   "outputs": [],
   "source": [
    "setTraining.to_csv('setEntrenamiento.csv')"
   ]
  },
  {
   "cell_type": "code",
   "execution_count": 633,
   "metadata": {},
   "outputs": [],
   "source": [
    "kaggle_test = pd.read_csv(\"data/trocafone_kaggle_test.csv\", low_memory = False)"
   ]
  },
  {
   "cell_type": "code",
   "execution_count": 634,
   "metadata": {},
   "outputs": [
    {
     "data": {
      "text/plain": [
       "19415"
      ]
     },
     "execution_count": 634,
     "metadata": {},
     "output_type": "execute_result"
    }
   ],
   "source": [
    "kaggle_test[\"person\"].count()"
   ]
  },
  {
   "cell_type": "code",
   "execution_count": 635,
   "metadata": {},
   "outputs": [],
   "source": [
    "test = pd.merge(kaggle_test,dataTrocafone,on=\"person\",how=\"inner\")"
   ]
  },
  {
   "cell_type": "code",
   "execution_count": 636,
   "metadata": {},
   "outputs": [
    {
     "data": {
      "text/plain": [
       "19415"
      ]
     },
     "execution_count": 636,
     "metadata": {},
     "output_type": "execute_result"
    }
   ],
   "source": [
    "test[\"person\"].count()"
   ]
  },
  {
   "cell_type": "code",
   "execution_count": 637,
   "metadata": {},
   "outputs": [],
   "source": [
    "test.to_csv(\"setTest.csv\")"
   ]
  }
 ],
 "metadata": {
  "kernelspec": {
   "display_name": "Python 3",
   "language": "python",
   "name": "python3"
  },
  "language_info": {
   "codemirror_mode": {
    "name": "ipython",
    "version": 3
   },
   "file_extension": ".py",
   "mimetype": "text/x-python",
   "name": "python",
   "nbconvert_exporter": "python",
   "pygments_lexer": "ipython3",
   "version": "3.6.0"
  }
 },
 "nbformat": 4,
 "nbformat_minor": 2
}
