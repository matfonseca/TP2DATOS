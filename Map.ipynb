{
 "cells": [
  {
   "cell_type": "code",
   "execution_count": 809,
   "metadata": {},
   "outputs": [],
   "source": [
    "import pandas as pd\n",
    "import numpy as np\n",
    "import datetime as dt"
   ]
  },
  {
   "cell_type": "markdown",
   "metadata": {},
   "source": [
    "Lectura inicial"
   ]
  },
  {
   "cell_type": "code",
   "execution_count": 810,
   "metadata": {},
   "outputs": [],
   "source": [
    "eventsData = pd.read_csv(r\"C:\\Users\\brian\\Documents\\GitHub\\TP2DATOS\\Eventos(+completo).csv\",low_memory = False)\n"
   ]
  },
  {
   "cell_type": "code",
   "execution_count": 811,
   "metadata": {},
   "outputs": [],
   "source": [
    "eventsData = eventsData.drop(\"Unnamed: 0\", axis=1)\n"
   ]
  },
  {
   "cell_type": "markdown",
   "metadata": {},
   "source": [
    "Feature con la cantidad de static page por usuario"
   ]
  },
  {
   "cell_type": "code",
   "execution_count": 812,
   "metadata": {},
   "outputs": [],
   "source": [
    "staticPageData = pd.DataFrame({'cantidadDeStaticPage' :eventsData.groupby(['person','staticpage']).size()})\n",
    "staticPageData.reset_index(inplace = True)\n",
    "staticPageData = staticPageData.groupby('person').agg({'cantidadDeStaticPage':'sum'}).reset_index()\n"
   ]
  },
  {
   "cell_type": "markdown",
   "metadata": {},
   "source": [
    "Feature con la cantidad de veces que entra a un url de compra"
   ]
  },
  {
   "cell_type": "code",
   "execution_count": 813,
   "metadata": {},
   "outputs": [],
   "source": [
    "#No funciono\n",
    "auxiliar = pd.DataFrame({'cantidad_de_Url_de_compra' :eventsData.groupby(['person','url']).size()})\n",
    "auxiliar = auxiliar.reset_index()\n",
    "auxiliar[\"url\"] = auxiliar['url'].map(lambda x: x.split('/')[1])\n",
    "auxiliar = auxiliar.groupby('person').agg({'cantidad_de_Url_de_compra':'sum'}).reset_index()\n"
   ]
  },
  {
   "cell_type": "markdown",
   "metadata": {},
   "source": [
    "Feature con la cantidad de busquedas que realiza un usuario por termino"
   ]
  },
  {
   "cell_type": "code",
   "execution_count": 814,
   "metadata": {},
   "outputs": [],
   "source": [
    "#No aporta mucho\n",
    "searchData = pd.DataFrame({'Cantidad_De_Busquedas_Por_Termino' :eventsData.groupby(['search_term','person','event']).size()})\n",
    "searchData = searchData.sort_values(by ='Cantidad_De_Busquedas_Por_Termino',ascending= False )\n",
    "searchData.reset_index(inplace = True)\n",
    "searchData.set_index('person',inplace = True)\n",
    "searchData = searchData.drop('event',axis=1)\n",
    "searchData.reset_index(inplace=True)\n"
   ]
  },
  {
   "cell_type": "markdown",
   "metadata": {},
   "source": [
    "Prototipos"
   ]
  },
  {
   "cell_type": "code",
   "execution_count": 815,
   "metadata": {},
   "outputs": [],
   "source": [
    "#No aporta mucho\n",
    "conversionData = eventsData[eventsData['event'].map(lambda x: ( x== 'conversion'))]\n",
    "conversionData.set_index('person', inplace = True)\n",
    "conversionData = conversionData.loc[:,['model','condition']]\n"
   ]
  },
  {
   "cell_type": "code",
   "execution_count": 816,
   "metadata": {},
   "outputs": [],
   "source": [
    "#No sirvio\n",
    "dataF = pd.DataFrame({'cantidad_de_Url_de_compra' :eventsData.groupby(['person','skus']).size()})\n",
    "dataF = dataF.reset_index()\n",
    "dataF['sku_multiple']= dataF['skus'].map(lambda x: len(x.split(',')))\n",
    "dataF = dataF.groupby('person').agg({'sku_multiple':'sum'}).reset_index()"
   ]
  },
  {
   "cell_type": "markdown",
   "metadata": {},
   "source": [
    "Feature que usa searchData y conversionData. Analiza con la cantidad de busquedas por termino y la cantidad de veces que compro lo que busco"
   ]
  },
  {
   "cell_type": "code",
   "execution_count": 817,
   "metadata": {},
   "outputs": [],
   "source": [
    "#Aumento en 2%\n",
    "dataSearchAndSelling = pd.merge(searchData,conversionData,on=\"person\",how=\"inner\")\n",
    "dataSearchAndSelling\n",
    "dataSearchAndSelling[\"model\"] = dataSearchAndSelling[\"model\"].fillna(\"Desconocido\")\n",
    "dataSearchAndSelling[\"marca\"] = dataSearchAndSelling[\"model\"].map(lambda x:\"apple\" if(x.split(\" \")[0] in [\"iphone\",\"ipad\"]) else x.split(\" \")[0])\n",
    "dataSearchAndSelling[\"search_term\"] = dataSearchAndSelling['search_term'].map(lambda x: 'samsung' if x.split(\" \")[0].lower() in ['s6','s8','s7','samsung'] else x.split(' ')[0])\n",
    "dataSearchAndSelling[\"search_term\"] = dataSearchAndSelling['search_term'].map(lambda x: 'motorola' if x.split(\" \")[0].lower() in ['motorola','moto'] else x.split(' ')[0])\n",
    "dataSearchAndSelling[\"search_term\"] = dataSearchAndSelling['search_term'].map(lambda x: 'iphone' if x.split(\" \")[0].lower() in ['iphone'] else x.split(' ')[0])\n",
    "dataSearchAndSelling['search_and_purchase'] = dataSearchAndSelling['search_term']==(dataSearchAndSelling['marca'])\n",
    "dataSearchAndSelling[\"search_and_purchase\"] = dataSearchAndSelling['search_and_purchase'].map(lambda x: 1 if x == True else 0)\n",
    "dataSearchAndSelling = dataSearchAndSelling.drop(['search_term','condition','model','marca'],axis = 1)\n",
    "dataSearchAndSelling = dataSearchAndSelling.groupby('person').agg({'Cantidad_De_Busquedas_Por_Termino':'sum', 'search_and_purchase':'sum'}).reset_index()\n"
   ]
  },
  {
   "cell_type": "markdown",
   "metadata": {},
   "source": [
    "Feature que cuenta la cantidad de sku repetidos por usuario"
   ]
  },
  {
   "cell_type": "code",
   "execution_count": 818,
   "metadata": {},
   "outputs": [],
   "source": [
    "#Aporto poco\n",
    "skuData = pd.DataFrame({'cantidad_De_Compras_De_Mismo_Sku' :eventsData.groupby(['sku','event','person']).size()})\n",
    "skuData = skuData.reset_index()\n",
    "skuData = skuData[skuData['event'].map(lambda x: ( x== 'conversion'))]\n",
    "skuData = skuData.drop(['event'],axis=1)\n",
    "skuData = skuData.groupby('person').agg({'sku':'first', 'cantidad_De_Compras_De_Mismo_Sku':'sum' }).reset_index()"
   ]
  },
  {
   "cell_type": "markdown",
   "metadata": {},
   "source": [
    "Inicializacion de dataframes que se usaran despues"
   ]
  },
  {
   "cell_type": "code",
   "execution_count": 819,
   "metadata": {},
   "outputs": [],
   "source": [
    "geoData = eventsData[[\"person\",\"event\",\"city\",\"region\",\"country\"]]"
   ]
  },
  {
   "cell_type": "code",
   "execution_count": 820,
   "metadata": {},
   "outputs": [],
   "source": [
    "deviceUsersData = eventsData[[\"person\",\"browser_version\",\"operating_system_version\",\"screen_resolution\",\"device_type\"]]"
   ]
  },
  {
   "cell_type": "code",
   "execution_count": 821,
   "metadata": {},
   "outputs": [],
   "source": [
    "productData = eventsData[[\"person\",\"event\",\"sku\",\"model\",\"condition\",\"storage\",\"skus\"]]"
   ]
  },
  {
   "cell_type": "code",
   "execution_count": 822,
   "metadata": {},
   "outputs": [],
   "source": [
    "infoUserData = eventsData[[\"person\",\"timestamp\",\"search_term\",\"staticpage\",\"campaign_source\",\"search_engine\",\"channel\",\"new_vs_returning\"]]"
   ]
  },
  {
   "cell_type": "code",
   "execution_count": 823,
   "metadata": {},
   "outputs": [],
   "source": [
    "timeData = eventsData[[\"person\",\"timestamp\",\"Parte del dia\",\"event\"]]"
   ]
  },
  {
   "cell_type": "code",
   "execution_count": 824,
   "metadata": {},
   "outputs": [],
   "source": [
    "personColor = eventsData[[\"person\",\"event\",\"color\"]]"
   ]
  },
  {
   "cell_type": "markdown",
   "metadata": {},
   "source": [
    "Busco crear nuevo features "
   ]
  },
  {
   "cell_type": "markdown",
   "metadata": {},
   "source": [
    "temporales"
   ]
  },
  {
   "cell_type": "code",
   "execution_count": 825,
   "metadata": {},
   "outputs": [],
   "source": [
    "users_partedeldia = timeData[[\"person\",\"Parte del dia\"]]"
   ]
  },
  {
   "cell_type": "code",
   "execution_count": 826,
   "metadata": {},
   "outputs": [],
   "source": [
    "users_partedeldia = pd.get_dummies(users_partedeldia, columns=[\"Parte del dia\"])"
   ]
  },
  {
   "cell_type": "code",
   "execution_count": 827,
   "metadata": {},
   "outputs": [],
   "source": [
    "users_partedeldia = users_partedeldia.groupby(\"person\",as_index = False).sum()"
   ]
  },
  {
   "cell_type": "code",
   "execution_count": 828,
   "metadata": {},
   "outputs": [
    {
     "name": "stderr",
     "output_type": "stream",
     "text": [
      "C:\\ProgramData\\Anaconda3\\lib\\site-packages\\ipykernel_launcher.py:5: SettingWithCopyWarning: \n",
      "A value is trying to be set on a copy of a slice from a DataFrame.\n",
      "Try using .loc[row_indexer,col_indexer] = value instead\n",
      "\n",
      "See the caveats in the documentation: http://pandas.pydata.org/pandas-docs/stable/indexing.html#indexing-view-versus-copy\n",
      "  \"\"\"\n"
     ]
    }
   ],
   "source": [
    "#Funcion que pasa a formato datetime las fechas que recibimos.\n",
    "def datetime(date,format_string):\n",
    "    return pd.to_datetime(date,format= format_string,errors='coerce')\n",
    "\n",
    "timeData[\"timestamp\"]= datetime(timeData[\"timestamp\"],\"%Y-%m-%dT%H:%M:%S\")"
   ]
  },
  {
   "cell_type": "markdown",
   "metadata": {},
   "source": [
    "Mapeado de las fechas"
   ]
  },
  {
   "cell_type": "code",
   "execution_count": 829,
   "metadata": {},
   "outputs": [
    {
     "name": "stderr",
     "output_type": "stream",
     "text": [
      "C:\\ProgramData\\Anaconda3\\lib\\site-packages\\ipykernel_launcher.py:1: SettingWithCopyWarning: \n",
      "A value is trying to be set on a copy of a slice from a DataFrame.\n",
      "Try using .loc[row_indexer,col_indexer] = value instead\n",
      "\n",
      "See the caveats in the documentation: http://pandas.pydata.org/pandas-docs/stable/indexing.html#indexing-view-versus-copy\n",
      "  \"\"\"Entry point for launching an IPython kernel.\n",
      "C:\\ProgramData\\Anaconda3\\lib\\site-packages\\ipykernel_launcher.py:2: SettingWithCopyWarning: \n",
      "A value is trying to be set on a copy of a slice from a DataFrame.\n",
      "Try using .loc[row_indexer,col_indexer] = value instead\n",
      "\n",
      "See the caveats in the documentation: http://pandas.pydata.org/pandas-docs/stable/indexing.html#indexing-view-versus-copy\n",
      "  \n",
      "C:\\ProgramData\\Anaconda3\\lib\\site-packages\\ipykernel_launcher.py:3: SettingWithCopyWarning: \n",
      "A value is trying to be set on a copy of a slice from a DataFrame.\n",
      "Try using .loc[row_indexer,col_indexer] = value instead\n",
      "\n",
      "See the caveats in the documentation: http://pandas.pydata.org/pandas-docs/stable/indexing.html#indexing-view-versus-copy\n",
      "  This is separate from the ipykernel package so we can avoid doing imports until\n",
      "C:\\ProgramData\\Anaconda3\\lib\\site-packages\\ipykernel_launcher.py:4: SettingWithCopyWarning: \n",
      "A value is trying to be set on a copy of a slice from a DataFrame.\n",
      "Try using .loc[row_indexer,col_indexer] = value instead\n",
      "\n",
      "See the caveats in the documentation: http://pandas.pydata.org/pandas-docs/stable/indexing.html#indexing-view-versus-copy\n",
      "  after removing the cwd from sys.path.\n"
     ]
    }
   ],
   "source": [
    "timeData[\"year\"] = timeData[\"timestamp\"].map(lambda x: x.year)\n",
    "timeData[\"month\"] = timeData[\"timestamp\"].map(lambda x: x.month)\n",
    "timeData[\"day\"] = timeData[\"timestamp\"].map(lambda x: x.day)\n",
    "timeData[\"hour\"] = timeData[\"timestamp\"].map(lambda x: x.hour)"
   ]
  },
  {
   "cell_type": "markdown",
   "metadata": {},
   "source": [
    "Feature que analiza los ultimos 15 dias"
   ]
  },
  {
   "cell_type": "code",
   "execution_count": 830,
   "metadata": {},
   "outputs": [],
   "source": [
    "last_15days = timeData[[\"person\",\"event\",\"month\",\"day\"]]"
   ]
  },
  {
   "cell_type": "code",
   "execution_count": 831,
   "metadata": {},
   "outputs": [],
   "source": [
    "last_15days = last_15days[last_15days[\"month\"] == 5]"
   ]
  },
  {
   "cell_type": "code",
   "execution_count": 832,
   "metadata": {},
   "outputs": [],
   "source": [
    "last_15days = last_15days[last_15days[\"day\"] > 14]\n",
    "last_15days = last_15days[[\"person\",\"event\"]]\n"
   ]
  },
  {
   "cell_type": "code",
   "execution_count": 833,
   "metadata": {},
   "outputs": [],
   "source": [
    "last_15days[\"count_activity\"] = 1"
   ]
  },
  {
   "cell_type": "code",
   "execution_count": 834,
   "metadata": {},
   "outputs": [],
   "source": [
    "last_15days = pd.get_dummies(last_15days, columns=[\"event\"])"
   ]
  },
  {
   "cell_type": "code",
   "execution_count": 835,
   "metadata": {},
   "outputs": [],
   "source": [
    "last_15days = last_15days.groupby(\"person\",as_index=False).sum()\n",
    "last_15days = last_15days[[\"person\",\"count_activity\",\"event_conversion\",\"event_checkout\",\"event_viewed product\"]]\n"
   ]
  },
  {
   "cell_type": "code",
   "execution_count": 836,
   "metadata": {},
   "outputs": [],
   "source": [
    "last_15days.columns = [\"person\",\"count_activity\",\"conversiones_15lastdays\",\"checkout_15lastdays\",\"viewed_15lastday\"]"
   ]
  },
  {
   "cell_type": "markdown",
   "metadata": {},
   "source": [
    "Nuevo formateo de timedata"
   ]
  },
  {
   "cell_type": "code",
   "execution_count": 837,
   "metadata": {},
   "outputs": [
    {
     "name": "stderr",
     "output_type": "stream",
     "text": [
      "C:\\ProgramData\\Anaconda3\\lib\\site-packages\\ipykernel_launcher.py:1: SettingWithCopyWarning: \n",
      "A value is trying to be set on a copy of a slice from a DataFrame.\n",
      "Try using .loc[row_indexer,col_indexer] = value instead\n",
      "\n",
      "See the caveats in the documentation: http://pandas.pydata.org/pandas-docs/stable/indexing.html#indexing-view-versus-copy\n",
      "  \"\"\"Entry point for launching an IPython kernel.\n"
     ]
    }
   ],
   "source": [
    "timeData[\"minute\"] = timeData[\"timestamp\"].map(lambda x: x.minute)"
   ]
  },
  {
   "cell_type": "markdown",
   "metadata": {},
   "source": [
    "Se elimina el year por ser todos 2018"
   ]
  },
  {
   "cell_type": "code",
   "execution_count": 838,
   "metadata": {},
   "outputs": [
    {
     "data": {
      "text/plain": [
       "2018    2341681\n",
       "Name: year, dtype: int64"
      ]
     },
     "execution_count": 838,
     "metadata": {},
     "output_type": "execute_result"
    }
   ],
   "source": [
    "timeData[\"year\"].value_counts()"
   ]
  },
  {
   "cell_type": "code",
   "execution_count": 839,
   "metadata": {},
   "outputs": [],
   "source": [
    "timeData = timeData.drop(\"year\",axis = 1)"
   ]
  },
  {
   "cell_type": "markdown",
   "metadata": {},
   "source": [
    "Nuevo formateo de TimeData"
   ]
  },
  {
   "cell_type": "code",
   "execution_count": 840,
   "metadata": {},
   "outputs": [],
   "source": [
    "timeData = pd.get_dummies(timeData, columns=[\"event\"])"
   ]
  },
  {
   "cell_type": "code",
   "execution_count": 841,
   "metadata": {},
   "outputs": [],
   "source": [
    "timeData = timeData.drop([\"timestamp\",\"Parte del dia\"], axis=1)"
   ]
  },
  {
   "cell_type": "code",
   "execution_count": 842,
   "metadata": {},
   "outputs": [],
   "source": [
    "timeData = timeData.drop(\"minute\",axis=1)"
   ]
  },
  {
   "cell_type": "markdown",
   "metadata": {},
   "source": [
    "Feature con sesiones de los usuarios"
   ]
  },
  {
   "cell_type": "code",
   "execution_count": 843,
   "metadata": {},
   "outputs": [],
   "source": [
    "secionesUsuarios = timeData.groupby([\"person\",\"month\",\"day\",\"hour\"]).sum()"
   ]
  },
  {
   "cell_type": "code",
   "execution_count": 844,
   "metadata": {},
   "outputs": [],
   "source": [
    "secionesUsuarios[\"cant_seciones\"] = 1"
   ]
  },
  {
   "cell_type": "code",
   "execution_count": 845,
   "metadata": {},
   "outputs": [],
   "source": [
    "secionesUsuarios = secionesUsuarios[[\"cant_seciones\",\"event_checkout\",\"event_conversion\",\"event_ad campaign hit\",\"event_lead\"]]\n"
   ]
  },
  {
   "cell_type": "code",
   "execution_count": 846,
   "metadata": {},
   "outputs": [],
   "source": [
    "secionesUsuarios = secionesUsuarios.reset_index()"
   ]
  },
  {
   "cell_type": "code",
   "execution_count": 847,
   "metadata": {},
   "outputs": [],
   "source": [
    "secionesUsuarios = secionesUsuarios.drop([\"day\",\"hour\",\"month\"],axis=1)"
   ]
  },
  {
   "cell_type": "code",
   "execution_count": 848,
   "metadata": {},
   "outputs": [],
   "source": [
    "secionesUsuarios = secionesUsuarios.groupby([\"person\"]).sum().fillna(0)"
   ]
  },
  {
   "cell_type": "code",
   "execution_count": 849,
   "metadata": {},
   "outputs": [],
   "source": [
    "secionesUsuarios = secionesUsuarios.reset_index()"
   ]
  },
  {
   "cell_type": "markdown",
   "metadata": {},
   "source": [
    "Por dispositivo que usa el usuario para entrar al sitio"
   ]
  },
  {
   "cell_type": "code",
   "execution_count": 850,
   "metadata": {},
   "outputs": [
    {
     "data": {
      "text/plain": [
       "Windows       1262240\n",
       "Android        975740\n",
       "iOS             73279\n",
       "Mac             10206\n",
       "Linux            9456\n",
       "Ubuntu           3313\n",
       "nan              2870\n",
       "Chrome           2376\n",
       "Other            1048\n",
       "Tizen             531\n",
       "BlackBerry        518\n",
       "Fedora             92\n",
       "FreeBSD             8\n",
       "Symbian             4\n",
       "Name: operating_system_version, dtype: int64"
      ]
     },
     "execution_count": 850,
     "metadata": {},
     "output_type": "execute_result"
    }
   ],
   "source": [
    "deviceUsersData[\"operating_system_version\"].map(lambda x: str(x).split(\" \")[0]).value_counts()"
   ]
  },
  {
   "cell_type": "code",
   "execution_count": 851,
   "metadata": {},
   "outputs": [
    {
     "name": "stderr",
     "output_type": "stream",
     "text": [
      "C:\\ProgramData\\Anaconda3\\lib\\site-packages\\ipykernel_launcher.py:1: SettingWithCopyWarning: \n",
      "A value is trying to be set on a copy of a slice from a DataFrame.\n",
      "Try using .loc[row_indexer,col_indexer] = value instead\n",
      "\n",
      "See the caveats in the documentation: http://pandas.pydata.org/pandas-docs/stable/indexing.html#indexing-view-versus-copy\n",
      "  \"\"\"Entry point for launching an IPython kernel.\n"
     ]
    }
   ],
   "source": [
    "deviceUsersData[\"operating_system_version\"] = deviceUsersData[\"operating_system_version\"].map(lambda x: str(x).split(\" \")[0])"
   ]
  },
  {
   "cell_type": "code",
   "execution_count": 852,
   "metadata": {},
   "outputs": [
    {
     "name": "stderr",
     "output_type": "stream",
     "text": [
      "C:\\ProgramData\\Anaconda3\\lib\\site-packages\\ipykernel_launcher.py:1: SettingWithCopyWarning: \n",
      "A value is trying to be set on a copy of a slice from a DataFrame.\n",
      "Try using .loc[row_indexer,col_indexer] = value instead\n",
      "\n",
      "See the caveats in the documentation: http://pandas.pydata.org/pandas-docs/stable/indexing.html#indexing-view-versus-copy\n",
      "  \"\"\"Entry point for launching an IPython kernel.\n"
     ]
    }
   ],
   "source": [
    "deviceUsersData[\"device_type\"] = deviceUsersData[\"device_type\"].map(lambda x: \"otros\" if(x == \"Tablet\" or x==\"Unknown\") else x)"
   ]
  },
  {
   "cell_type": "code",
   "execution_count": 853,
   "metadata": {},
   "outputs": [],
   "source": [
    "device_user_type = deviceUsersData[[\"person\",\"device_type\"]]"
   ]
  },
  {
   "cell_type": "code",
   "execution_count": 854,
   "metadata": {},
   "outputs": [
    {
     "name": "stderr",
     "output_type": "stream",
     "text": [
      "C:\\ProgramData\\Anaconda3\\lib\\site-packages\\ipykernel_launcher.py:1: SettingWithCopyWarning: \n",
      "A value is trying to be set on a copy of a slice from a DataFrame.\n",
      "Try using .loc[row_indexer,col_indexer] = value instead\n",
      "\n",
      "See the caveats in the documentation: http://pandas.pydata.org/pandas-docs/stable/indexing.html#indexing-view-versus-copy\n",
      "  \"\"\"Entry point for launching an IPython kernel.\n"
     ]
    }
   ],
   "source": [
    "device_user_type[\"count\"] = 1"
   ]
  },
  {
   "cell_type": "code",
   "execution_count": 855,
   "metadata": {},
   "outputs": [],
   "source": [
    "device_user_type = device_user_type.groupby([\"person\",\"device_type\"]).max().unstack().fillna(0).reset_index()"
   ]
  },
  {
   "cell_type": "code",
   "execution_count": 856,
   "metadata": {},
   "outputs": [],
   "source": [
    "multiindex = device_user_type.columns\n",
    "multiindex = multiindex.tolist()\n",
    "multiindex\n",
    "ind = pd.Index([ (e[1] if e[0]!= \"person\" else e[0]) for e in multiindex])\n",
    "device_user_type.columns = ind\n"
   ]
  },
  {
   "cell_type": "code",
   "execution_count": 857,
   "metadata": {},
   "outputs": [],
   "source": [
    "device_user_system = deviceUsersData[[\"person\",\"operating_system_version\"]]"
   ]
  },
  {
   "cell_type": "code",
   "execution_count": 858,
   "metadata": {},
   "outputs": [
    {
     "name": "stderr",
     "output_type": "stream",
     "text": [
      "C:\\ProgramData\\Anaconda3\\lib\\site-packages\\ipykernel_launcher.py:1: SettingWithCopyWarning: \n",
      "A value is trying to be set on a copy of a slice from a DataFrame.\n",
      "Try using .loc[row_indexer,col_indexer] = value instead\n",
      "\n",
      "See the caveats in the documentation: http://pandas.pydata.org/pandas-docs/stable/indexing.html#indexing-view-versus-copy\n",
      "  \"\"\"Entry point for launching an IPython kernel.\n"
     ]
    }
   ],
   "source": [
    "device_user_system[\"count\"] = 1"
   ]
  },
  {
   "cell_type": "code",
   "execution_count": 859,
   "metadata": {},
   "outputs": [],
   "source": [
    "device_user_system = device_user_system.groupby([\"person\",\"operating_system_version\"]).max().unstack().fillna(0).reset_index()"
   ]
  },
  {
   "cell_type": "code",
   "execution_count": 860,
   "metadata": {},
   "outputs": [],
   "source": [
    "multiindex = device_user_system.columns\n",
    "multiindex = multiindex.tolist()\n",
    "multiindex\n",
    "ind = pd.Index([ (e[1] if e[0]!= \"person\" else e[0]) for e in multiindex])\n",
    "device_user_system.columns = ind"
   ]
  },
  {
   "cell_type": "code",
   "execution_count": 861,
   "metadata": {},
   "outputs": [],
   "source": [
    "device_user_system = device_user_system[[\"person\",\"Windows\",\"Android\",\"iOS\"]]"
   ]
  },
  {
   "cell_type": "markdown",
   "metadata": {},
   "source": [
    "Informacion usuarios"
   ]
  },
  {
   "cell_type": "code",
   "execution_count": 862,
   "metadata": {},
   "outputs": [],
   "source": [
    "dic_terminos = {}\n",
    "for busqueda in infoUserData[\"search_term\"]:\n",
    "    for term in str(busqueda).split(\" \"):\n",
    "        if (not term in dic_terminos.keys()):\n",
    "            dic_terminos[term] = 1\n",
    "        else:\n",
    "            dic_terminos[term]+=1     "
   ]
  },
  {
   "cell_type": "code",
   "execution_count": 863,
   "metadata": {},
   "outputs": [],
   "source": [
    "list_terminos = sorted(dic_terminos.items(), key=lambda kv: kv[1])"
   ]
  },
  {
   "cell_type": "code",
   "execution_count": 864,
   "metadata": {},
   "outputs": [],
   "source": [
    "list_terminos = list_terminos[::-1]"
   ]
  },
  {
   "cell_type": "code",
   "execution_count": 865,
   "metadata": {},
   "outputs": [
    {
     "data": {
      "text/plain": [
       "('nan', 2227918)"
      ]
     },
     "execution_count": 865,
     "metadata": {},
     "output_type": "execute_result"
    }
   ],
   "source": [
    "list_terminos.pop(0)"
   ]
  },
  {
   "cell_type": "code",
   "execution_count": 866,
   "metadata": {},
   "outputs": [],
   "source": [
    "terminos = []\n",
    "for name,count in list_terminos:\n",
    "    if(len(name)>2):\n",
    "        terminos.append((name,count))    "
   ]
  },
  {
   "cell_type": "code",
   "execution_count": 867,
   "metadata": {},
   "outputs": [],
   "source": [
    "terminos_populares = terminos[:300]"
   ]
  },
  {
   "cell_type": "code",
   "execution_count": 868,
   "metadata": {},
   "outputs": [
    {
     "name": "stderr",
     "output_type": "stream",
     "text": [
      "C:\\ProgramData\\Anaconda3\\lib\\site-packages\\ipykernel_launcher.py:1: SettingWithCopyWarning: \n",
      "A value is trying to be set on a copy of a slice from a DataFrame.\n",
      "Try using .loc[row_indexer,col_indexer] = value instead\n",
      "\n",
      "See the caveats in the documentation: http://pandas.pydata.org/pandas-docs/stable/indexing.html#indexing-view-versus-copy\n",
      "  \"\"\"Entry point for launching an IPython kernel.\n"
     ]
    }
   ],
   "source": [
    "infoUserData[\"search_term\"] = infoUserData[\"search_term\"].fillna(\"0\")"
   ]
  },
  {
   "cell_type": "code",
   "execution_count": 869,
   "metadata": {},
   "outputs": [],
   "source": [
    "def verificarPopularidadElTermino(string,terminospopulares):\n",
    "    if (string==0):\n",
    "        return False\n",
    "    for palabra in string.split(\" \"):\n",
    "        \n",
    "        if(palabra in [name for name,count in terminospopulares]):\n",
    "            return True\n",
    "        \n",
    "    return False"
   ]
  },
  {
   "cell_type": "code",
   "execution_count": 870,
   "metadata": {},
   "outputs": [
    {
     "name": "stderr",
     "output_type": "stream",
     "text": [
      "C:\\ProgramData\\Anaconda3\\lib\\site-packages\\ipykernel_launcher.py:1: SettingWithCopyWarning: \n",
      "A value is trying to be set on a copy of a slice from a DataFrame.\n",
      "Try using .loc[row_indexer,col_indexer] = value instead\n",
      "\n",
      "See the caveats in the documentation: http://pandas.pydata.org/pandas-docs/stable/indexing.html#indexing-view-versus-copy\n",
      "  \"\"\"Entry point for launching an IPython kernel.\n"
     ]
    }
   ],
   "source": [
    "infoUserData[\"Busca_terminos_populares\"] = infoUserData[\"search_term\"].map(lambda x:1 if(verificarPopularidadElTermino(x,terminos_populares)) else 0)"
   ]
  },
  {
   "cell_type": "markdown",
   "metadata": {},
   "source": [
    "Feature con el campaign_source y channel mas populares"
   ]
  },
  {
   "cell_type": "code",
   "execution_count": 871,
   "metadata": {},
   "outputs": [],
   "source": [
    "person_campaing = infoUserData[[\"person\",\"campaign_source\"]]\n",
    "person_channel = infoUserData[[\"person\",\"channel\"]]"
   ]
  },
  {
   "cell_type": "code",
   "execution_count": 872,
   "metadata": {},
   "outputs": [],
   "source": [
    "person_term = infoUserData[[\"person\",\"Busca_terminos_populares\"]]"
   ]
  },
  {
   "cell_type": "code",
   "execution_count": 873,
   "metadata": {},
   "outputs": [],
   "source": [
    "person_term = person_term.groupby(\"person\",as_index = False).sum()"
   ]
  },
  {
   "cell_type": "code",
   "execution_count": 874,
   "metadata": {},
   "outputs": [],
   "source": [
    "person_campaing = person_campaing.dropna()"
   ]
  },
  {
   "cell_type": "code",
   "execution_count": 875,
   "metadata": {},
   "outputs": [],
   "source": [
    "person_campaing = pd.get_dummies(person_campaing, columns=[\"campaign_source\"])"
   ]
  },
  {
   "cell_type": "code",
   "execution_count": 876,
   "metadata": {},
   "outputs": [],
   "source": [
    "person_campaing = person_campaing[[\"person\",\"campaign_source_google\",\"campaign_source_criteo\",\"campaign_source_rtbhouse\"]]"
   ]
  },
  {
   "cell_type": "code",
   "execution_count": 877,
   "metadata": {},
   "outputs": [],
   "source": [
    "person_campaing = person_campaing.groupby(\"person\",as_index=False).sum()"
   ]
  },
  {
   "cell_type": "code",
   "execution_count": 878,
   "metadata": {},
   "outputs": [],
   "source": [
    "person_channel = person_channel.dropna()"
   ]
  },
  {
   "cell_type": "code",
   "execution_count": 879,
   "metadata": {},
   "outputs": [],
   "source": [
    "person_channel = pd.get_dummies(person_channel, columns=[\"channel\"])"
   ]
  },
  {
   "cell_type": "code",
   "execution_count": 880,
   "metadata": {},
   "outputs": [],
   "source": [
    "person_channel = person_channel[[\"person\",\"channel_Direct\",\"channel_Paid\",\"channel_Organic\",\"channel_Referral\"]]"
   ]
  },
  {
   "cell_type": "code",
   "execution_count": 881,
   "metadata": {},
   "outputs": [],
   "source": [
    "person_channel = person_channel.groupby(\"person\",as_index=False).sum()"
   ]
  },
  {
   "cell_type": "markdown",
   "metadata": {},
   "source": [
    "Productos visto por el usuario"
   ]
  },
  {
   "cell_type": "code",
   "execution_count": 882,
   "metadata": {},
   "outputs": [
    {
     "name": "stderr",
     "output_type": "stream",
     "text": [
      "C:\\ProgramData\\Anaconda3\\lib\\site-packages\\ipykernel_launcher.py:1: SettingWithCopyWarning: \n",
      "A value is trying to be set on a copy of a slice from a DataFrame.\n",
      "Try using .loc[row_indexer,col_indexer] = value instead\n",
      "\n",
      "See the caveats in the documentation: http://pandas.pydata.org/pandas-docs/stable/indexing.html#indexing-view-versus-copy\n",
      "  \"\"\"Entry point for launching an IPython kernel.\n",
      "C:\\ProgramData\\Anaconda3\\lib\\site-packages\\ipykernel_launcher.py:2: SettingWithCopyWarning: \n",
      "A value is trying to be set on a copy of a slice from a DataFrame.\n",
      "Try using .loc[row_indexer,col_indexer] = value instead\n",
      "\n",
      "See the caveats in the documentation: http://pandas.pydata.org/pandas-docs/stable/indexing.html#indexing-view-versus-copy\n",
      "  \n"
     ]
    }
   ],
   "source": [
    "productData[\"model\"] = productData[\"model\"].fillna(\"Desconocido\")\n",
    "productData[\"marca\"] = productData[\"model\"].map(lambda x:\"apple\" if(x.split(\" \")[0] in [\"iphone\",\"ipad\"]) else x.split(\" \")[0])"
   ]
  },
  {
   "cell_type": "code",
   "execution_count": 883,
   "metadata": {},
   "outputs": [
    {
     "name": "stderr",
     "output_type": "stream",
     "text": [
      "C:\\ProgramData\\Anaconda3\\lib\\site-packages\\ipykernel_launcher.py:1: SettingWithCopyWarning: \n",
      "A value is trying to be set on a copy of a slice from a DataFrame.\n",
      "Try using .loc[row_indexer,col_indexer] = value instead\n",
      "\n",
      "See the caveats in the documentation: http://pandas.pydata.org/pandas-docs/stable/indexing.html#indexing-view-versus-copy\n",
      "  \"\"\"Entry point for launching an IPython kernel.\n"
     ]
    }
   ],
   "source": [
    "productData[\"version\"] = productData[\"model\"].map(lambda x:\" \".join(x.split(\" \")[0:2]) if(x.split(\" \")[0] in [\"iphone\",\"ipad\"]) else \" \".join(x.split(\" \")[1:3]))"
   ]
  },
  {
   "cell_type": "code",
   "execution_count": 884,
   "metadata": {},
   "outputs": [],
   "source": [
    "users_view_list = productData[[\"person\",\"skus\"]]"
   ]
  },
  {
   "cell_type": "code",
   "execution_count": 885,
   "metadata": {},
   "outputs": [],
   "source": [
    "productData = productData[(productData[\"event\"] == \"checkout\")]"
   ]
  },
  {
   "cell_type": "code",
   "execution_count": 886,
   "metadata": {},
   "outputs": [],
   "source": [
    "productData = productData[[\"person\",\"marca\",\"condition\",\"version\",\"storage\"]]"
   ]
  },
  {
   "cell_type": "code",
   "execution_count": 887,
   "metadata": {},
   "outputs": [],
   "source": [
    "productData= pd.get_dummies(productData, columns=[\"marca\",\"condition\",\"version\",\"storage\"])\n",
    "productDataDummies = productData"
   ]
  },
  {
   "cell_type": "code",
   "execution_count": 888,
   "metadata": {},
   "outputs": [],
   "source": [
    "productData = productData.groupby(\"person\",as_index=False).sum()"
   ]
  },
  {
   "cell_type": "code",
   "execution_count": 889,
   "metadata": {},
   "outputs": [],
   "source": [
    "productData = productData.drop([\"marca_quantum\",\"condition_Novo\"],axis = 1)"
   ]
  },
  {
   "cell_type": "code",
   "execution_count": 890,
   "metadata": {},
   "outputs": [],
   "source": [
    "productData = productData[['person', 'marca_apple', 'marca_asus', 'marca_lenovo', 'marca_lg',\n",
    "       'marca_motorola', 'marca_samsung', 'marca_sony', 'condition_Bom',\n",
    "       'condition_Bom - Sem Touch ID', 'condition_Excelente',\n",
    "       'condition_Muito Bom',\"version_galaxy j7\",\"version_galaxy j5\",\"version_galaxy s7\",\"version_iphone 6\",\"version_iphone 5s\",\"version_iphone 6s\",\"version_moto g4\",\"version_moto g2\",\"version_galaxy s6\",'storage_128GB', 'storage_16GB', 'storage_256GB', 'storage_32GB',\n",
    "       'storage_4GB', 'storage_512MB', 'storage_64GB', 'storage_8GB']]"
   ]
  },
  {
   "cell_type": "code",
   "execution_count": 891,
   "metadata": {},
   "outputs": [],
   "source": [
    "users_view_list[\"skus\"] = users_view_list[\"skus\"].fillna(0)"
   ]
  },
  {
   "cell_type": "code",
   "execution_count": 892,
   "metadata": {},
   "outputs": [],
   "source": [
    "users_view_list[\"skus\"] = users_view_list[\"skus\"].map(lambda x:0 if(x == 0) else 1)"
   ]
  },
  {
   "cell_type": "code",
   "execution_count": 893,
   "metadata": {},
   "outputs": [],
   "source": [
    "users_view_list = users_view_list.groupby(\"person\",as_index=False).max()"
   ]
  },
  {
   "cell_type": "markdown",
   "metadata": {},
   "source": [
    "Feature de new vs returning?"
   ]
  },
  {
   "cell_type": "code",
   "execution_count": 894,
   "metadata": {},
   "outputs": [],
   "source": [
    "new_last15days = infoUserData[[\"person\",\"timestamp\",\"new_vs_returning\"]]"
   ]
  },
  {
   "cell_type": "code",
   "execution_count": 895,
   "metadata": {},
   "outputs": [
    {
     "name": "stderr",
     "output_type": "stream",
     "text": [
      "C:\\ProgramData\\Anaconda3\\lib\\site-packages\\ipykernel_launcher.py:1: SettingWithCopyWarning: \n",
      "A value is trying to be set on a copy of a slice from a DataFrame.\n",
      "Try using .loc[row_indexer,col_indexer] = value instead\n",
      "\n",
      "See the caveats in the documentation: http://pandas.pydata.org/pandas-docs/stable/indexing.html#indexing-view-versus-copy\n",
      "  \"\"\"Entry point for launching an IPython kernel.\n",
      "C:\\ProgramData\\Anaconda3\\lib\\site-packages\\ipykernel_launcher.py:2: SettingWithCopyWarning: \n",
      "A value is trying to be set on a copy of a slice from a DataFrame.\n",
      "Try using .loc[row_indexer,col_indexer] = value instead\n",
      "\n",
      "See the caveats in the documentation: http://pandas.pydata.org/pandas-docs/stable/indexing.html#indexing-view-versus-copy\n",
      "  \n",
      "C:\\ProgramData\\Anaconda3\\lib\\site-packages\\ipykernel_launcher.py:3: SettingWithCopyWarning: \n",
      "A value is trying to be set on a copy of a slice from a DataFrame.\n",
      "Try using .loc[row_indexer,col_indexer] = value instead\n",
      "\n",
      "See the caveats in the documentation: http://pandas.pydata.org/pandas-docs/stable/indexing.html#indexing-view-versus-copy\n",
      "  This is separate from the ipykernel package so we can avoid doing imports until\n"
     ]
    }
   ],
   "source": [
    "new_last15days[\"timestamp\"]= datetime(new_last15days[\"timestamp\"],\"%Y-%m-%dT%H:%M:%S\")\n",
    "new_last15days[\"month\"] = new_last15days[\"timestamp\"].map(lambda x: x.month)\n",
    "new_last15days[\"day\"] = new_last15days[\"timestamp\"].map(lambda x: x.day)\n",
    "\n"
   ]
  },
  {
   "cell_type": "code",
   "execution_count": 896,
   "metadata": {},
   "outputs": [],
   "source": [
    "new_last15days = new_last15days[new_last15days[\"month\"] == 5]\n",
    "new_last15days = new_last15days[new_last15days[\"day\"] >14]"
   ]
  },
  {
   "cell_type": "code",
   "execution_count": 897,
   "metadata": {},
   "outputs": [],
   "source": [
    "new_last15days[\"new_15lastdays\"] = new_last15days[\"new_vs_returning\"] == \"New\""
   ]
  },
  {
   "cell_type": "code",
   "execution_count": 898,
   "metadata": {},
   "outputs": [
    {
     "data": {
      "text/plain": [
       "False    1377983\n",
       "True       25484\n",
       "Name: new_15lastdays, dtype: int64"
      ]
     },
     "execution_count": 898,
     "metadata": {},
     "output_type": "execute_result"
    }
   ],
   "source": [
    "new_last15days[\"new_15lastdays\"].value_counts()"
   ]
  },
  {
   "cell_type": "code",
   "execution_count": 899,
   "metadata": {},
   "outputs": [],
   "source": [
    "new_last15days = new_last15days[[\"person\",\"new_15lastdays\"]]\n"
   ]
  },
  {
   "cell_type": "code",
   "execution_count": 900,
   "metadata": {},
   "outputs": [],
   "source": [
    "new_last15days = new_last15days.groupby(\"person\",as_index=False).max()"
   ]
  },
  {
   "cell_type": "code",
   "execution_count": 901,
   "metadata": {},
   "outputs": [],
   "source": [
    "new_last15days[\"new_15lastdays\"] = new_last15days[\"new_15lastdays\"].map(lambda x: 1 if(x) else 0) "
   ]
  },
  {
   "cell_type": "markdown",
   "metadata": {},
   "source": [
    "Features geograficos"
   ]
  },
  {
   "cell_type": "code",
   "execution_count": 902,
   "metadata": {},
   "outputs": [],
   "source": [
    "geoData = geoData[geoData[\"event\"] == \"conversion\"]"
   ]
  },
  {
   "cell_type": "code",
   "execution_count": 903,
   "metadata": {},
   "outputs": [],
   "source": [
    "region = geoData[[\"person\",\"region\"]]"
   ]
  },
  {
   "cell_type": "code",
   "execution_count": 904,
   "metadata": {},
   "outputs": [],
   "source": [
    "region = region.drop_duplicates(subset = \"person\", keep = \"first\")"
   ]
  },
  {
   "cell_type": "code",
   "execution_count": 905,
   "metadata": {},
   "outputs": [
    {
     "data": {
      "text/plain": [
       "False    29\n",
       "True     15\n",
       "Name: region, dtype: int64"
      ]
     },
     "execution_count": 905,
     "metadata": {},
     "output_type": "execute_result"
    }
   ],
   "source": [
    "(region[\"region\"].value_counts() > 50).value_counts()"
   ]
  },
  {
   "cell_type": "code",
   "execution_count": 906,
   "metadata": {},
   "outputs": [],
   "source": [
    "region[\"region\"] = region[\"region\"].fillna(0)"
   ]
  },
  {
   "cell_type": "code",
   "execution_count": 907,
   "metadata": {},
   "outputs": [],
   "source": [
    "sell_region = region[\"region\"].value_counts()"
   ]
  },
  {
   "cell_type": "code",
   "execution_count": 908,
   "metadata": {},
   "outputs": [],
   "source": [
    "region[\"ventas_region\"] = region[\"region\"].map(lambda x: sell_region[x]) "
   ]
  },
  {
   "cell_type": "code",
   "execution_count": 909,
   "metadata": {},
   "outputs": [],
   "source": [
    "esBrasilero = geoData[[\"person\",\"country\"]]"
   ]
  },
  {
   "cell_type": "code",
   "execution_count": 910,
   "metadata": {},
   "outputs": [
    {
     "name": "stderr",
     "output_type": "stream",
     "text": [
      "C:\\ProgramData\\Anaconda3\\lib\\site-packages\\ipykernel_launcher.py:1: SettingWithCopyWarning: \n",
      "A value is trying to be set on a copy of a slice from a DataFrame.\n",
      "Try using .loc[row_indexer,col_indexer] = value instead\n",
      "\n",
      "See the caveats in the documentation: http://pandas.pydata.org/pandas-docs/stable/indexing.html#indexing-view-versus-copy\n",
      "  \"\"\"Entry point for launching an IPython kernel.\n"
     ]
    }
   ],
   "source": [
    "esBrasilero[\"Brasilero\"] = esBrasilero[\"country\"].map(lambda x: 1 if(x == \"Brazil\") else 0)"
   ]
  },
  {
   "cell_type": "code",
   "execution_count": 911,
   "metadata": {},
   "outputs": [],
   "source": [
    "esBrasilero = esBrasilero[[\"person\",\"Brasilero\"]]"
   ]
  },
  {
   "cell_type": "code",
   "execution_count": 912,
   "metadata": {},
   "outputs": [],
   "source": [
    "esBrasilero = esBrasilero.groupby(\"person\",as_index=False).max()"
   ]
  },
  {
   "cell_type": "markdown",
   "metadata": {},
   "source": [
    "Feature con Colores"
   ]
  },
  {
   "cell_type": "code",
   "execution_count": 913,
   "metadata": {},
   "outputs": [
    {
     "data": {
      "text/plain": [
       "Preto             314925\n",
       "Dourado           275212\n",
       "Cinza espacial    151770\n",
       "Branco            126496\n",
       "Prateado          114284\n",
       "Name: color, dtype: int64"
      ]
     },
     "execution_count": 913,
     "metadata": {},
     "output_type": "execute_result"
    }
   ],
   "source": [
    "personColor[\"color\"].value_counts().head()"
   ]
  },
  {
   "cell_type": "code",
   "execution_count": 914,
   "metadata": {},
   "outputs": [],
   "source": [
    "personColor = personColor.dropna()"
   ]
  },
  {
   "cell_type": "code",
   "execution_count": 915,
   "metadata": {},
   "outputs": [],
   "source": [
    "bestcolorseller = personColor[personColor[\"event\"] == \"checkout\"]\n",
    "colorsellers = bestcolorseller[\"color\"].value_counts()"
   ]
  },
  {
   "cell_type": "code",
   "execution_count": 916,
   "metadata": {},
   "outputs": [],
   "source": [
    "personColor = pd.get_dummies(personColor, columns=[\"color\"])"
   ]
  },
  {
   "cell_type": "code",
   "execution_count": 917,
   "metadata": {},
   "outputs": [],
   "source": [
    "personColor = personColor[personColor[\"event\"] == \"viewed product\"]"
   ]
  },
  {
   "cell_type": "code",
   "execution_count": 918,
   "metadata": {},
   "outputs": [],
   "source": [
    "personColor = personColor[[\"person\",\"color_Preto\",\"color_Dourado\",\"color_Branco\",\"color_Cinza espacial\"]]\n"
   ]
  },
  {
   "cell_type": "code",
   "execution_count": 919,
   "metadata": {},
   "outputs": [],
   "source": [
    "personColor = personColor.groupby(\"person\").sum()"
   ]
  },
  {
   "cell_type": "markdown",
   "metadata": {},
   "source": [
    "Feature con la probabilidad de compra"
   ]
  },
  {
   "cell_type": "code",
   "execution_count": 920,
   "metadata": {},
   "outputs": [],
   "source": [
    "versiones = productDataDummies\n",
    "\n",
    "#65315 son las cantidades de conversiones\n",
    "versiones['marca_apple'] = (versiones['marca_apple'].sum())/65315\n",
    "versiones['marca_asus'] = (versiones['marca_asus'].sum())/65315\n",
    "versiones['marca_lenovo'] = (versiones['marca_lenovo'].sum())/65315\n",
    "versiones['marca_lg']= (versiones['marca_lg'].sum())/65315\n",
    "versiones['marca_motorola']= (versiones['marca_motorola'].sum())/65315\n",
    "versiones['marca_quantum']= (versiones['marca_quantum'].sum())/65315\n",
    "versiones['marca_samsung']= (versiones['marca_samsung'].sum())/65315\n",
    "versiones['marca_sony']= (versiones['marca_sony'].sum())/65315\n",
    "#Aca se puede ver la probabilidad de conversion de cada marca\n",
    "#Yo quiero la probabilidad de cada usuario de que compre una marca\n",
    "#Necesito la cantidad de compras de cada usuario por marca"
   ]
  },
  {
   "cell_type": "code",
   "execution_count": 921,
   "metadata": {},
   "outputs": [],
   "source": [
    "comprasPorMarcaData = eventsData[[\"person\",\"event\",\"model\"]]\n",
    "comprasPorMarcaData = comprasPorMarcaData[comprasPorMarcaData['event'].map(lambda x: x =='checkout')]\n",
    "comprasPorMarcaData[\"model\"] = comprasPorMarcaData[\"model\"].fillna(\"Desconocido\")\n",
    "comprasPorMarcaData[\"marca\"] = comprasPorMarcaData[\"model\"].map(lambda x:\"apple\" if(x.split(\" \")[0] in [\"iphone\",\"ipad\"]) else x.split(\" \")[0])\n",
    "comprasPorMarcaData = pd.get_dummies(comprasPorMarcaData, columns = ['marca'])\n",
    "comprasPorMarcaData['marca_apple'] = comprasPorMarcaData['marca_apple'].map(lambda x: x* 0.409875)\n",
    "comprasPorMarcaData['marca_asus'] = comprasPorMarcaData['marca_asus'].map(lambda x: x* 0.001562)\n",
    "comprasPorMarcaData['marca_lenovo'] = comprasPorMarcaData['marca_lenovo'].map(lambda x: x* 0.008773)\n",
    "comprasPorMarcaData['marca_lg'] = comprasPorMarcaData['marca_lg'].map(lambda x: x* 0.017454)\n",
    "comprasPorMarcaData['marca_motorola'] = comprasPorMarcaData['marca_motorola'].map(lambda x: x* 0.129251)\n",
    "comprasPorMarcaData['marca_quantum'] = comprasPorMarcaData['marca_quantum'].map(lambda x: x* 0.000505)\n",
    "comprasPorMarcaData['marca_samsung'] = comprasPorMarcaData['marca_samsung'].map(lambda x: x* 0.426211)\n",
    "comprasPorMarcaData['marca_sony'] = comprasPorMarcaData['marca_sony'].map(lambda x: x* 0.006369)\n",
    "comprasPorMarcaData = comprasPorMarcaData.groupby('person').agg({'marca_apple':'sum','marca_asus':'sum','marca_lenovo':'sum','marca_lg':'sum','marca_motorola':'sum','marca_quantum':'sum','marca_samsung':'sum','marca_sony':'sum'})\n",
    "comprasPorMarcaData.columns = ['Prob_Apple','Prob_Asus','Prob_Lenovo','Prob_lg','Prob_motorola','Prob_quantum','Prob_samsung','Prob_sony']"
   ]
  },
  {
   "cell_type": "markdown",
   "metadata": {},
   "source": [
    "Feature con el screen resolution"
   ]
  },
  {
   "cell_type": "code",
   "execution_count": 922,
   "metadata": {},
   "outputs": [],
   "source": [
    "resolutionData = eventsData[['person','event','screen_resolution']]\n",
    "resolutionData = resolutionData[resolutionData['event'].map(lambda x: x == 'conversion')]\n",
    "resolutionData = resolutionData.fillna('')\n",
    "resolutionData['screen_resolution'] = resolutionData['screen_resolution'].map(lambda x: 'A' if( x == '360x640') else x)\n",
    "resolutionData['screen_resolution'] = resolutionData['screen_resolution'].map(lambda x: 'B' if (x == '1366x768')else x)\n",
    "resolutionData['screen_resolution'] = resolutionData['screen_resolution'].map(lambda x: 'C' if (x == '1920x1080') else x)\n",
    "resolutionData['screen_resolution'] = resolutionData['screen_resolution'].map(lambda x: 'D' if (x == '1360x768') else x)\n",
    "resolutionData['screen_resolution'] = resolutionData['screen_resolution'].map(lambda x: 'E' if (x != 'A'and x!= 'B'and x!='C' and x!='D') else x)\n",
    "resolutionData = pd.get_dummies(resolutionData, columns = ['screen_resolution'])\n",
    "resolutionData = resolutionData.groupby('person').agg({'screen_resolution_A':'sum','screen_resolution_B':'sum','screen_resolution_C':'sum','screen_resolution_D':'sum','screen_resolution_E':'sum'})"
   ]
  },
  {
   "cell_type": "markdown",
   "metadata": {},
   "source": [
    "Mergeo todos mis resultados de los nuevos features"
   ]
  },
  {
   "cell_type": "code",
   "execution_count": 923,
   "metadata": {},
   "outputs": [],
   "source": [
    "secionesUsuariosReducido = secionesUsuarios#[[\"person\",\"cant_seciones5\",\"cant_seciones4\",\"cant_seciones3\",\"event_checkout5\",\"event_checkout4\",\"event_conversion5\",\"event_conversion4\",\"event_ad campaign hit4\",\"event_ad campaign hit5\",\"event_lead5\",\"event_lead4\"]]"
   ]
  },
  {
   "cell_type": "code",
   "execution_count": 924,
   "metadata": {},
   "outputs": [
    {
     "data": {
      "text/plain": [
       "38829"
      ]
     },
     "execution_count": 924,
     "metadata": {},
     "output_type": "execute_result"
    }
   ],
   "source": [
    "dataTrocafone = pd.merge(secionesUsuariosReducido,users_view_list,on=\"person\",how = \"outer\")\n",
    "dataTrocafone['person'].count()"
   ]
  },
  {
   "cell_type": "code",
   "execution_count": 925,
   "metadata": {},
   "outputs": [],
   "source": [
    "dataTrocafone = pd.merge(dataTrocafone,resolutionData,on=\"person\",how = \"outer\")\n",
    "dataTrocafone = dataTrocafone.fillna(0)"
   ]
  },
  {
   "cell_type": "code",
   "execution_count": 926,
   "metadata": {},
   "outputs": [
    {
     "data": {
      "text/plain": [
       "38829"
      ]
     },
     "execution_count": 926,
     "metadata": {},
     "output_type": "execute_result"
    }
   ],
   "source": [
    "dataTrocafone = pd.merge(dataTrocafone,person_term,on=\"person\",how=\"outer\")\n",
    "dataTrocafone['person'].count()"
   ]
  },
  {
   "cell_type": "code",
   "execution_count": 927,
   "metadata": {},
   "outputs": [
    {
     "data": {
      "text/plain": [
       "38829"
      ]
     },
     "execution_count": 927,
     "metadata": {},
     "output_type": "execute_result"
    }
   ],
   "source": [
    "dataTrocafone = pd.merge(dataTrocafone,device_user_type,on=\"person\",how=\"outer\")\n",
    "dataTrocafone['person'].count()"
   ]
  },
  {
   "cell_type": "code",
   "execution_count": 928,
   "metadata": {},
   "outputs": [
    {
     "data": {
      "text/plain": [
       "38829"
      ]
     },
     "execution_count": 928,
     "metadata": {},
     "output_type": "execute_result"
    }
   ],
   "source": [
    "dataTrocafone[\"Computer\"] = dataTrocafone[\"Computer\"].fillna(0)\n",
    "dataTrocafone['person'].count()"
   ]
  },
  {
   "cell_type": "code",
   "execution_count": 929,
   "metadata": {},
   "outputs": [
    {
     "data": {
      "text/plain": [
       "38829"
      ]
     },
     "execution_count": 929,
     "metadata": {},
     "output_type": "execute_result"
    }
   ],
   "source": [
    "dataTrocafone[\"Smartphone\"] = dataTrocafone[\"Smartphone\"].fillna(0)\n",
    "dataTrocafone['person'].count()"
   ]
  },
  {
   "cell_type": "code",
   "execution_count": 930,
   "metadata": {},
   "outputs": [
    {
     "data": {
      "text/plain": [
       "38829"
      ]
     },
     "execution_count": 930,
     "metadata": {},
     "output_type": "execute_result"
    }
   ],
   "source": [
    "dataTrocafone[\"otros\"] = dataTrocafone[\"otros\"].fillna(0)\n",
    "dataTrocafone['person'].count()"
   ]
  },
  {
   "cell_type": "code",
   "execution_count": 931,
   "metadata": {},
   "outputs": [
    {
     "data": {
      "text/plain": [
       "38829"
      ]
     },
     "execution_count": 931,
     "metadata": {},
     "output_type": "execute_result"
    }
   ],
   "source": [
    "dataTrocafone = pd.merge(dataTrocafone,productData,on=\"person\",how=\"outer\")\n",
    "dataTrocafone['person'].count()"
   ]
  },
  {
   "cell_type": "code",
   "execution_count": 932,
   "metadata": {},
   "outputs": [
    {
     "data": {
      "text/plain": [
       "38829"
      ]
     },
     "execution_count": 932,
     "metadata": {},
     "output_type": "execute_result"
    }
   ],
   "source": [
    "dataTrocafone = pd.merge(dataTrocafone,users_partedeldia,on=\"person\",how=\"left\")\n",
    "dataTrocafone['person'].count()"
   ]
  },
  {
   "cell_type": "code",
   "execution_count": 933,
   "metadata": {},
   "outputs": [
    {
     "data": {
      "text/plain": [
       "38829"
      ]
     },
     "execution_count": 933,
     "metadata": {},
     "output_type": "execute_result"
    }
   ],
   "source": [
    "dataTrocafone = pd.merge(dataTrocafone,person_campaing,on=\"person\",how=\"outer\")\n",
    "dataTrocafone['person'].count()"
   ]
  },
  {
   "cell_type": "code",
   "execution_count": 934,
   "metadata": {},
   "outputs": [
    {
     "data": {
      "text/plain": [
       "38829"
      ]
     },
     "execution_count": 934,
     "metadata": {},
     "output_type": "execute_result"
    }
   ],
   "source": [
    "dataTrocafone = pd.merge(dataTrocafone,person_channel,on=\"person\",how=\"outer\")\n",
    "dataTrocafone['person'].count()"
   ]
  },
  {
   "cell_type": "code",
   "execution_count": 935,
   "metadata": {},
   "outputs": [
    {
     "data": {
      "text/plain": [
       "38829"
      ]
     },
     "execution_count": 935,
     "metadata": {},
     "output_type": "execute_result"
    }
   ],
   "source": [
    "dataTrocafone = pd.merge(dataTrocafone,esBrasilero,on=\"person\",how=\"outer\")\n",
    "dataTrocafone['person'].count()"
   ]
  },
  {
   "cell_type": "code",
   "execution_count": 936,
   "metadata": {},
   "outputs": [],
   "source": [
    "dataTrocafone = dataTrocafone.fillna(0)"
   ]
  },
  {
   "cell_type": "code",
   "execution_count": 937,
   "metadata": {},
   "outputs": [
    {
     "data": {
      "text/plain": [
       "38829"
      ]
     },
     "execution_count": 937,
     "metadata": {},
     "output_type": "execute_result"
    }
   ],
   "source": [
    "dataTrocafone = pd.merge(dataTrocafone,region,on=\"person\",how=\"outer\")\n",
    "dataTrocafone['person'].count()"
   ]
  },
  {
   "cell_type": "code",
   "execution_count": 938,
   "metadata": {},
   "outputs": [],
   "source": [
    "dataTrocafone = dataTrocafone.drop(\"region\",axis=1)"
   ]
  },
  {
   "cell_type": "code",
   "execution_count": 939,
   "metadata": {},
   "outputs": [],
   "source": [
    "dataTrocafone[\"ventas_region\"] = dataTrocafone[\"ventas_region\"].fillna(0)"
   ]
  },
  {
   "cell_type": "code",
   "execution_count": 940,
   "metadata": {},
   "outputs": [
    {
     "data": {
      "text/plain": [
       "38829"
      ]
     },
     "execution_count": 940,
     "metadata": {},
     "output_type": "execute_result"
    }
   ],
   "source": [
    "dataTrocafone = pd.merge(dataTrocafone,last_15days,how = \"left\", on=\"person\")\n",
    "dataTrocafone['person'].count()"
   ]
  },
  {
   "cell_type": "code",
   "execution_count": 941,
   "metadata": {},
   "outputs": [],
   "source": [
    "dataTrocafone[\"count_activity\"] = dataTrocafone[\"count_activity\"].fillna(0)"
   ]
  },
  {
   "cell_type": "code",
   "execution_count": 942,
   "metadata": {},
   "outputs": [],
   "source": [
    "dataTrocafone[\"conversiones_15lastdays\"] = dataTrocafone[\"conversiones_15lastdays\"].fillna(0)\n",
    "dataTrocafone[\"checkout_15lastdays\"] = dataTrocafone[\"checkout_15lastdays\"].fillna(0)\n",
    "dataTrocafone[\"viewed_15lastday\"] = dataTrocafone[\"viewed_15lastday\"].fillna(0)"
   ]
  },
  {
   "cell_type": "code",
   "execution_count": 943,
   "metadata": {},
   "outputs": [],
   "source": [
    "personColor = personColor.reset_index()"
   ]
  },
  {
   "cell_type": "code",
   "execution_count": 944,
   "metadata": {},
   "outputs": [
    {
     "data": {
      "text/plain": [
       "38829"
      ]
     },
     "execution_count": 944,
     "metadata": {},
     "output_type": "execute_result"
    }
   ],
   "source": [
    "dataTrocafone = pd.merge(dataTrocafone,personColor,how = \"left\", on=\"person\")\n",
    "dataTrocafone['person'].count()"
   ]
  },
  {
   "cell_type": "code",
   "execution_count": 945,
   "metadata": {},
   "outputs": [],
   "source": [
    "dataTrocafone[\"color_Preto\"] = dataTrocafone[\"color_Preto\"].fillna(0)\n",
    "dataTrocafone[\"color_Dourado\"] = dataTrocafone[\"color_Dourado\"].fillna(0)\n",
    "dataTrocafone[\"color_Branco\"] = dataTrocafone[\"color_Branco\"].fillna(0)\n",
    "dataTrocafone[\"color_Cinza espacial\"] = dataTrocafone[\"color_Cinza espacial\"].fillna(0)"
   ]
  },
  {
   "cell_type": "code",
   "execution_count": 946,
   "metadata": {},
   "outputs": [
    {
     "data": {
      "text/plain": [
       "38829"
      ]
     },
     "execution_count": 946,
     "metadata": {},
     "output_type": "execute_result"
    }
   ],
   "source": [
    "dataTrocafone = pd.merge(dataTrocafone,new_last15days,how = \"left\", on=\"person\")\n",
    "dataTrocafone['person'].count()"
   ]
  },
  {
   "cell_type": "code",
   "execution_count": 947,
   "metadata": {},
   "outputs": [],
   "source": [
    "dataTrocafone[\"new_15lastdays\"] = dataTrocafone[\"new_15lastdays\"].fillna(0)\n"
   ]
  },
  {
   "cell_type": "code",
   "execution_count": 948,
   "metadata": {},
   "outputs": [
    {
     "data": {
      "text/plain": [
       "38829"
      ]
     },
     "execution_count": 948,
     "metadata": {},
     "output_type": "execute_result"
    }
   ],
   "source": [
    "dataTrocafone = pd.merge(dataTrocafone,skuData,how = \"left\", on=\"person\")\n",
    "dataTrocafone = pd.merge(dataTrocafone,dataSearchAndSelling,how = \"left\", on=\"person\")\n",
    "dataTrocafone['person'].count()"
   ]
  },
  {
   "cell_type": "code",
   "execution_count": 949,
   "metadata": {},
   "outputs": [
    {
     "data": {
      "text/plain": [
       "38829"
      ]
     },
     "execution_count": 949,
     "metadata": {},
     "output_type": "execute_result"
    }
   ],
   "source": [
    "dataTrocafone[\"cantidad_De_Compras_De_Mismo_Sku\"] = dataTrocafone[\"cantidad_De_Compras_De_Mismo_Sku\"].fillna(0)\n",
    "dataTrocafone[\"sku\"] = dataTrocafone[\"sku\"].fillna(0)\n",
    "dataTrocafone['person'].count()"
   ]
  },
  {
   "cell_type": "code",
   "execution_count": 950,
   "metadata": {},
   "outputs": [
    {
     "data": {
      "text/plain": [
       "38829"
      ]
     },
     "execution_count": 950,
     "metadata": {},
     "output_type": "execute_result"
    }
   ],
   "source": [
    "dataTrocafone[\"search_and_purchase\"] = dataTrocafone[\"search_and_purchase\"].fillna(0)\n",
    "dataTrocafone[\"Cantidad_De_Busquedas_Por_Termino\"] = dataTrocafone[\"Cantidad_De_Busquedas_Por_Termino\"].fillna(0)\n",
    "dataTrocafone['person'].count()"
   ]
  },
  {
   "cell_type": "code",
   "execution_count": 951,
   "metadata": {},
   "outputs": [
    {
     "data": {
      "text/plain": [
       "38829"
      ]
     },
     "execution_count": 951,
     "metadata": {},
     "output_type": "execute_result"
    }
   ],
   "source": [
    "dataTrocafone = pd.merge(dataTrocafone,auxiliar,how = \"left\", on=\"person\")\n",
    "dataTrocafone[\"cantidad_de_Url_de_compra\"] = dataTrocafone[\"cantidad_de_Url_de_compra\"].fillna(0)\n",
    "dataTrocafone['person'].count()"
   ]
  },
  {
   "cell_type": "code",
   "execution_count": 952,
   "metadata": {},
   "outputs": [
    {
     "data": {
      "text/plain": [
       "38829"
      ]
     },
     "execution_count": 952,
     "metadata": {},
     "output_type": "execute_result"
    }
   ],
   "source": [
    "dataTrocafone = pd.merge(dataTrocafone,staticPageData,how = \"left\", on=\"person\")\n",
    "dataTrocafone[\"cantidadDeStaticPage\"] = dataTrocafone[\"cantidadDeStaticPage\"].fillna(0)\n",
    "dataTrocafone['person'].count()"
   ]
  },
  {
   "cell_type": "code",
   "execution_count": 953,
   "metadata": {},
   "outputs": [
    {
     "name": "stdout",
     "output_type": "stream",
     "text": [
      "<class 'pandas.core.frame.DataFrame'>\n",
      "Int64Index: 38829 entries, 0 to 38828\n",
      "Data columns (total 73 columns):\n",
      "person                               38829 non-null object\n",
      "cant_seciones                        38829 non-null int64\n",
      "event_checkout                       38829 non-null float64\n",
      "event_conversion                     38829 non-null float64\n",
      "event_ad campaign hit                38829 non-null float64\n",
      "event_lead                           38829 non-null float64\n",
      "skus                                 38829 non-null int64\n",
      "screen_resolution_A                  38829 non-null float64\n",
      "screen_resolution_B                  38829 non-null float64\n",
      "screen_resolution_C                  38829 non-null float64\n",
      "screen_resolution_D                  38829 non-null float64\n",
      "screen_resolution_E                  38829 non-null float64\n",
      "Busca_terminos_populares             38829 non-null int64\n",
      "Computer                             38829 non-null float64\n",
      "Smartphone                           38829 non-null float64\n",
      "otros                                38829 non-null float64\n",
      "marca_apple                          38829 non-null float64\n",
      "marca_asus                           38829 non-null float64\n",
      "marca_lenovo                         38829 non-null float64\n",
      "marca_lg                             38829 non-null float64\n",
      "marca_motorola                       38829 non-null float64\n",
      "marca_samsung                        38829 non-null float64\n",
      "marca_sony                           38829 non-null float64\n",
      "condition_Bom                        38829 non-null float64\n",
      "condition_Bom - Sem Touch ID         38829 non-null float64\n",
      "condition_Excelente                  38829 non-null float64\n",
      "condition_Muito Bom                  38829 non-null float64\n",
      "version_galaxy j7                    38829 non-null float64\n",
      "version_galaxy j5                    38829 non-null float64\n",
      "version_galaxy s7                    38829 non-null float64\n",
      "version_iphone 6                     38829 non-null float64\n",
      "version_iphone 5s                    38829 non-null float64\n",
      "version_iphone 6s                    38829 non-null float64\n",
      "version_moto g4                      38829 non-null float64\n",
      "version_moto g2                      38829 non-null float64\n",
      "version_galaxy s6                    38829 non-null float64\n",
      "storage_128GB                        38829 non-null float64\n",
      "storage_16GB                         38829 non-null float64\n",
      "storage_256GB                        38829 non-null float64\n",
      "storage_32GB                         38829 non-null float64\n",
      "storage_4GB                          38829 non-null float64\n",
      "storage_512MB                        38829 non-null float64\n",
      "storage_64GB                         38829 non-null float64\n",
      "storage_8GB                          38829 non-null float64\n",
      "Parte del dia_Madrugada              38829 non-null float64\n",
      "Parte del dia_Mañana                 38829 non-null float64\n",
      "Parte del dia_Noche                  38829 non-null float64\n",
      "Parte del dia_Tarde                  38829 non-null float64\n",
      "campaign_source_google               38829 non-null float64\n",
      "campaign_source_criteo               38829 non-null float64\n",
      "campaign_source_rtbhouse             38829 non-null float64\n",
      "channel_Direct                       38829 non-null float64\n",
      "channel_Paid                         38829 non-null float64\n",
      "channel_Organic                      38829 non-null float64\n",
      "channel_Referral                     38829 non-null float64\n",
      "Brasilero                            38829 non-null float64\n",
      "ventas_region                        38829 non-null float64\n",
      "count_activity                       38829 non-null float64\n",
      "conversiones_15lastdays              38829 non-null float64\n",
      "checkout_15lastdays                  38829 non-null float64\n",
      "viewed_15lastday                     38829 non-null float64\n",
      "color_Preto                          38829 non-null float64\n",
      "color_Dourado                        38829 non-null float64\n",
      "color_Branco                         38829 non-null float64\n",
      "color_Cinza espacial                 38829 non-null float64\n",
      "new_15lastdays                       38829 non-null float64\n",
      "sku                                  38829 non-null float64\n",
      "cantidad_De_Compras_De_Mismo_Sku     38829 non-null float64\n",
      "Cantidad_De_Busquedas_Por_Termino    38829 non-null float64\n",
      "search_and_purchase                  38829 non-null float64\n",
      "cantidad_de_Url_de_compra            38829 non-null float64\n",
      "cantidadDeStaticPage                 38829 non-null float64\n",
      "sku_multiple                         38829 non-null float64\n",
      "dtypes: float64(69), int64(3), object(1)\n",
      "memory usage: 21.9+ MB\n"
     ]
    }
   ],
   "source": [
    "dataTrocafone = pd.merge(dataTrocafone,dataF,how = \"left\", on=\"person\")\n",
    "dataTrocafone[\"sku_multiple\"] = dataTrocafone[\"sku_multiple\"].fillna(0)\n",
    "dataTrocafone.info()"
   ]
  },
  {
   "cell_type": "markdown",
   "metadata": {},
   "source": [
    "Armo el set de training y el de test"
   ]
  },
  {
   "cell_type": "code",
   "execution_count": 954,
   "metadata": {},
   "outputs": [],
   "source": [
    "trainingSet = pd.read_csv(\"data/labels_training_set.csv\", low_memory = False)"
   ]
  },
  {
   "cell_type": "code",
   "execution_count": 955,
   "metadata": {},
   "outputs": [
    {
     "data": {
      "text/plain": [
       "19414"
      ]
     },
     "execution_count": 955,
     "metadata": {},
     "output_type": "execute_result"
    }
   ],
   "source": [
    "trainingSet[\"person\"].count()"
   ]
  },
  {
   "cell_type": "code",
   "execution_count": 956,
   "metadata": {},
   "outputs": [
    {
     "data": {
      "text/plain": [
       "38829"
      ]
     },
     "execution_count": 956,
     "metadata": {},
     "output_type": "execute_result"
    }
   ],
   "source": [
    "dataTrocafone[\"person\"].count()"
   ]
  },
  {
   "cell_type": "code",
   "execution_count": 957,
   "metadata": {},
   "outputs": [],
   "source": [
    "setTraining = pd.merge(dataTrocafone,trainingSet,on=\"person\",how = \"inner\")"
   ]
  },
  {
   "cell_type": "code",
   "execution_count": 958,
   "metadata": {},
   "outputs": [
    {
     "data": {
      "text/plain": [
       "19414"
      ]
     },
     "execution_count": 958,
     "metadata": {},
     "output_type": "execute_result"
    }
   ],
   "source": [
    "setTraining[\"person\"].count()"
   ]
  },
  {
   "cell_type": "code",
   "execution_count": 959,
   "metadata": {},
   "outputs": [],
   "source": [
    "setTraining.to_csv('setEntrenamiento.csv')"
   ]
  },
  {
   "cell_type": "code",
   "execution_count": 960,
   "metadata": {},
   "outputs": [],
   "source": [
    "kaggle_test = pd.read_csv(\"data/trocafone_kaggle_test.csv\", low_memory = False)"
   ]
  },
  {
   "cell_type": "code",
   "execution_count": 961,
   "metadata": {},
   "outputs": [
    {
     "data": {
      "text/plain": [
       "19415"
      ]
     },
     "execution_count": 961,
     "metadata": {},
     "output_type": "execute_result"
    }
   ],
   "source": [
    "kaggle_test[\"person\"].count()"
   ]
  },
  {
   "cell_type": "code",
   "execution_count": 962,
   "metadata": {},
   "outputs": [],
   "source": [
    "test = pd.merge(kaggle_test,dataTrocafone,on=\"person\",how=\"inner\")"
   ]
  },
  {
   "cell_type": "code",
   "execution_count": 963,
   "metadata": {},
   "outputs": [
    {
     "data": {
      "text/plain": [
       "19415"
      ]
     },
     "execution_count": 963,
     "metadata": {},
     "output_type": "execute_result"
    }
   ],
   "source": [
    "test[\"person\"].count()"
   ]
  },
  {
   "cell_type": "code",
   "execution_count": 964,
   "metadata": {},
   "outputs": [],
   "source": [
    "test.to_csv(\"setTest.csv\")"
   ]
  },
  {
   "cell_type": "code",
   "execution_count": 965,
   "metadata": {},
   "outputs": [
    {
     "name": "stdout",
     "output_type": "stream",
     "text": [
      "<class 'pandas.core.frame.DataFrame'>\n",
      "Int64Index: 19415 entries, 0 to 19414\n",
      "Data columns (total 73 columns):\n",
      "person                               19415 non-null object\n",
      "cant_seciones                        19415 non-null int64\n",
      "event_checkout                       19415 non-null float64\n",
      "event_conversion                     19415 non-null float64\n",
      "event_ad campaign hit                19415 non-null float64\n",
      "event_lead                           19415 non-null float64\n",
      "skus                                 19415 non-null int64\n",
      "screen_resolution_A                  19415 non-null float64\n",
      "screen_resolution_B                  19415 non-null float64\n",
      "screen_resolution_C                  19415 non-null float64\n",
      "screen_resolution_D                  19415 non-null float64\n",
      "screen_resolution_E                  19415 non-null float64\n",
      "Busca_terminos_populares             19415 non-null int64\n",
      "Computer                             19415 non-null float64\n",
      "Smartphone                           19415 non-null float64\n",
      "otros                                19415 non-null float64\n",
      "marca_apple                          19415 non-null float64\n",
      "marca_asus                           19415 non-null float64\n",
      "marca_lenovo                         19415 non-null float64\n",
      "marca_lg                             19415 non-null float64\n",
      "marca_motorola                       19415 non-null float64\n",
      "marca_samsung                        19415 non-null float64\n",
      "marca_sony                           19415 non-null float64\n",
      "condition_Bom                        19415 non-null float64\n",
      "condition_Bom - Sem Touch ID         19415 non-null float64\n",
      "condition_Excelente                  19415 non-null float64\n",
      "condition_Muito Bom                  19415 non-null float64\n",
      "version_galaxy j7                    19415 non-null float64\n",
      "version_galaxy j5                    19415 non-null float64\n",
      "version_galaxy s7                    19415 non-null float64\n",
      "version_iphone 6                     19415 non-null float64\n",
      "version_iphone 5s                    19415 non-null float64\n",
      "version_iphone 6s                    19415 non-null float64\n",
      "version_moto g4                      19415 non-null float64\n",
      "version_moto g2                      19415 non-null float64\n",
      "version_galaxy s6                    19415 non-null float64\n",
      "storage_128GB                        19415 non-null float64\n",
      "storage_16GB                         19415 non-null float64\n",
      "storage_256GB                        19415 non-null float64\n",
      "storage_32GB                         19415 non-null float64\n",
      "storage_4GB                          19415 non-null float64\n",
      "storage_512MB                        19415 non-null float64\n",
      "storage_64GB                         19415 non-null float64\n",
      "storage_8GB                          19415 non-null float64\n",
      "Parte del dia_Madrugada              19415 non-null float64\n",
      "Parte del dia_Mañana                 19415 non-null float64\n",
      "Parte del dia_Noche                  19415 non-null float64\n",
      "Parte del dia_Tarde                  19415 non-null float64\n",
      "campaign_source_google               19415 non-null float64\n",
      "campaign_source_criteo               19415 non-null float64\n",
      "campaign_source_rtbhouse             19415 non-null float64\n",
      "channel_Direct                       19415 non-null float64\n",
      "channel_Paid                         19415 non-null float64\n",
      "channel_Organic                      19415 non-null float64\n",
      "channel_Referral                     19415 non-null float64\n",
      "Brasilero                            19415 non-null float64\n",
      "ventas_region                        19415 non-null float64\n",
      "count_activity                       19415 non-null float64\n",
      "conversiones_15lastdays              19415 non-null float64\n",
      "checkout_15lastdays                  19415 non-null float64\n",
      "viewed_15lastday                     19415 non-null float64\n",
      "color_Preto                          19415 non-null float64\n",
      "color_Dourado                        19415 non-null float64\n",
      "color_Branco                         19415 non-null float64\n",
      "color_Cinza espacial                 19415 non-null float64\n",
      "new_15lastdays                       19415 non-null float64\n",
      "sku                                  19415 non-null float64\n",
      "cantidad_De_Compras_De_Mismo_Sku     19415 non-null float64\n",
      "Cantidad_De_Busquedas_Por_Termino    19415 non-null float64\n",
      "search_and_purchase                  19415 non-null float64\n",
      "cantidad_de_Url_de_compra            19415 non-null float64\n",
      "cantidadDeStaticPage                 19415 non-null float64\n",
      "sku_multiple                         19415 non-null float64\n",
      "dtypes: float64(69), int64(3), object(1)\n",
      "memory usage: 11.0+ MB\n"
     ]
    }
   ],
   "source": [
    "test.info()"
   ]
  },
  {
   "cell_type": "code",
   "execution_count": null,
   "metadata": {},
   "outputs": [],
   "source": []
  },
  {
   "cell_type": "code",
   "execution_count": null,
   "metadata": {},
   "outputs": [],
   "source": []
  }
 ],
 "metadata": {
  "kernelspec": {
   "display_name": "Python 3",
   "language": "python",
   "name": "python3"
  },
  "language_info": {
   "codemirror_mode": {
    "name": "ipython",
    "version": 3
   },
   "file_extension": ".py",
   "mimetype": "text/x-python",
   "name": "python",
   "nbconvert_exporter": "python",
   "pygments_lexer": "ipython3",
   "version": "3.6.6"
  }
 },
 "nbformat": 4,
 "nbformat_minor": 2
}
