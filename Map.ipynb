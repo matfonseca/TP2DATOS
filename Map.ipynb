{
 "cells": [
  {
   "cell_type": "code",
   "execution_count": 1,
   "metadata": {},
   "outputs": [],
   "source": [
    "import pandas as pd\n",
    "import numpy as np\n",
    "import datetime as dt"
   ]
  },
  {
   "cell_type": "markdown",
   "metadata": {},
   "source": [
    "Lectura inicial"
   ]
  },
  {
   "cell_type": "code",
   "execution_count": 119,
   "metadata": {},
   "outputs": [],
   "source": [
    "eventsData = pd.read_csv(\"data/Eventos(+completo).csv\",low_memory = False)\n"
   ]
  },
  {
   "cell_type": "markdown",
   "metadata": {},
   "source": [
    "Feature con la cantidad de static page por usuario"
   ]
  },
  {
   "cell_type": "code",
   "execution_count": 120,
   "metadata": {},
   "outputs": [],
   "source": [
    "staticPageData = pd.DataFrame({'cantidadDeStaticPage' :eventsData.groupby(['person','staticpage']).size()})\n",
    "staticPageData.reset_index(inplace = True)\n",
    "staticPageData = staticPageData.groupby('person').agg({'cantidadDeStaticPage':'sum'}).reset_index()\n"
   ]
  },
  {
   "cell_type": "markdown",
   "metadata": {},
   "source": [
    "Feature con la cantidad de veces que entra a un url de compra"
   ]
  },
  {
   "cell_type": "code",
   "execution_count": 121,
   "metadata": {},
   "outputs": [],
   "source": [
    "#No funciono\n",
    "auxiliar = pd.DataFrame({'cantidad_de_Url_de_compra' :eventsData.groupby(['person','url']).size()})\n",
    "auxiliar = auxiliar.reset_index()\n",
    "auxiliar[\"url\"] = auxiliar['url'].map(lambda x: x.split('/')[1])\n",
    "auxiliar = auxiliar.groupby('person').agg({'cantidad_de_Url_de_compra':'sum'}).reset_index()\n"
   ]
  },
  {
   "cell_type": "markdown",
   "metadata": {},
   "source": [
    "Feature con la cantidad de busquedas que realiza un usuario por termino"
   ]
  },
  {
   "cell_type": "code",
   "execution_count": 122,
   "metadata": {},
   "outputs": [],
   "source": [
    "#No aporta mucho\n",
    "searchData = pd.DataFrame({'Cantidad_De_Busquedas_Por_Termino' :eventsData.groupby(['search_term','person','event']).size()})\n",
    "searchData = searchData.sort_values(by ='Cantidad_De_Busquedas_Por_Termino',ascending= False )\n",
    "searchData.reset_index(inplace = True)\n",
    "searchData.set_index('person',inplace = True)\n",
    "searchData = searchData.drop('event',axis=1)\n",
    "searchData.reset_index(inplace=True)\n"
   ]
  },
  {
   "cell_type": "markdown",
   "metadata": {},
   "source": [
    "Prototipos"
   ]
  },
  {
   "cell_type": "code",
   "execution_count": 123,
   "metadata": {},
   "outputs": [],
   "source": [
    "#No aporta mucho\n",
    "conversionData = eventsData[eventsData['event'].map(lambda x: ( x== 'conversion'))]\n",
    "conversionData.set_index('person', inplace = True)\n",
    "conversionData = conversionData.loc[:,['model','condition']]\n"
   ]
  },
  {
   "cell_type": "code",
   "execution_count": 124,
   "metadata": {},
   "outputs": [],
   "source": [
    "#No sirvio\n",
    "dataF = pd.DataFrame({'cantidad_de_Url_de_compra' :eventsData.groupby(['person','skus']).size()})\n",
    "dataF = dataF.reset_index()\n",
    "dataF['sku_multiple']= dataF['skus'].map(lambda x: len(x.split(',')))\n",
    "dataF = dataF.groupby('person').agg({'sku_multiple':'sum'}).reset_index()"
   ]
  },
  {
   "cell_type": "markdown",
   "metadata": {},
   "source": [
    "Feature que usa searchData y conversionData. Analiza con la cantidad de busquedas por termino y la cantidad de veces que compro lo que busco"
   ]
  },
  {
   "cell_type": "code",
   "execution_count": 125,
   "metadata": {},
   "outputs": [],
   "source": [
    "#Aumento en 2%\n",
    "dataSearchAndSelling = pd.merge(searchData,conversionData.reset_index(),on=\"person\",how=\"inner\")\n",
    "dataSearchAndSelling\n",
    "dataSearchAndSelling[\"model\"] = dataSearchAndSelling[\"model\"].fillna(\"Desconocido\")\n",
    "dataSearchAndSelling[\"marca\"] = dataSearchAndSelling[\"model\"].map(lambda x:\"apple\" if(x.split(\" \")[0] in [\"iphone\",\"ipad\"]) else x.split(\" \")[0])\n",
    "dataSearchAndSelling[\"search_term\"] = dataSearchAndSelling['search_term'].map(lambda x: 'samsung' if x.split(\" \")[0].lower() in ['s6','s8','s7','samsung'] else x.split(' ')[0])\n",
    "dataSearchAndSelling[\"search_term\"] = dataSearchAndSelling['search_term'].map(lambda x: 'motorola' if x.split(\" \")[0].lower() in ['motorola','moto'] else x.split(' ')[0])\n",
    "dataSearchAndSelling[\"search_term\"] = dataSearchAndSelling['search_term'].map(lambda x: 'iphone' if x.split(\" \")[0].lower() in ['iphone'] else x.split(' ')[0])\n",
    "dataSearchAndSelling['search_and_purchase'] = dataSearchAndSelling['search_term']==(dataSearchAndSelling['marca'])\n",
    "dataSearchAndSelling[\"search_and_purchase\"] = dataSearchAndSelling['search_and_purchase'].map(lambda x: 1 if x == True else 0)\n",
    "dataSearchAndSelling = dataSearchAndSelling.drop(['search_term','condition','model','marca'],axis = 1)\n",
    "dataSearchAndSelling = dataSearchAndSelling.groupby('person').agg({'Cantidad_De_Busquedas_Por_Termino':'sum', 'search_and_purchase':'sum'}).reset_index()\n"
   ]
  },
  {
   "cell_type": "markdown",
   "metadata": {},
   "source": [
    "Feature que cuenta la cantidad de sku repetidos por usuario"
   ]
  },
  {
   "cell_type": "code",
   "execution_count": 126,
   "metadata": {},
   "outputs": [],
   "source": [
    "#Aporto poco\n",
    "skuData = pd.DataFrame({'cantidad_De_Compras_De_Mismo_Sku' :eventsData.groupby(['sku','event','person']).size()})\n",
    "skuData = skuData.reset_index()\n",
    "skuData = skuData[skuData['event'].map(lambda x: ( x== 'conversion'))]\n",
    "skuData = skuData.drop(['event'],axis=1)\n",
    "skuData = skuData.groupby('person').agg({'sku':'first', 'cantidad_De_Compras_De_Mismo_Sku':'sum' }).reset_index()"
   ]
  },
  {
   "cell_type": "markdown",
   "metadata": {},
   "source": [
    "Inicializacion de dataframes que se usaran despues"
   ]
  },
  {
   "cell_type": "code",
   "execution_count": 127,
   "metadata": {},
   "outputs": [],
   "source": [
    "geoData = eventsData[[\"person\",\"event\",\"city\",\"region\",\"country\"]]"
   ]
  },
  {
   "cell_type": "code",
   "execution_count": 128,
   "metadata": {},
   "outputs": [],
   "source": [
    "deviceUsersData = eventsData[[\"person\",\"browser_version\",\"operating_system_version\",\"screen_resolution\",\"device_type\"]]"
   ]
  },
  {
   "cell_type": "code",
   "execution_count": 129,
   "metadata": {},
   "outputs": [],
   "source": [
    "productData = eventsData[[\"person\",\"event\",\"sku\",\"model\",\"condition\",\"storage\",\"skus\"]]"
   ]
  },
  {
   "cell_type": "code",
   "execution_count": 130,
   "metadata": {},
   "outputs": [],
   "source": [
    "infoUserData = eventsData[[\"person\",\"timestamp\",\"search_term\",\"staticpage\",\"campaign_source\",\"search_engine\",\"channel\",\"new_vs_returning\"]]"
   ]
  },
  {
   "cell_type": "code",
   "execution_count": 131,
   "metadata": {},
   "outputs": [],
   "source": [
    "timeData = eventsData[[\"person\",\"timestamp\",\"Parte del dia\",\"event\"]]"
   ]
  },
  {
   "cell_type": "code",
   "execution_count": 132,
   "metadata": {},
   "outputs": [],
   "source": [
    "personColor = eventsData[[\"person\",\"event\",\"color\"]]"
   ]
  },
  {
   "cell_type": "markdown",
   "metadata": {},
   "source": [
    "Busco crear nuevo features "
   ]
  },
  {
   "cell_type": "markdown",
   "metadata": {},
   "source": [
    "temporales"
   ]
  },
  {
   "cell_type": "code",
   "execution_count": 133,
   "metadata": {},
   "outputs": [],
   "source": [
    "users_partedeldia = timeData[[\"person\",\"Parte del dia\"]]"
   ]
  },
  {
   "cell_type": "code",
   "execution_count": 134,
   "metadata": {},
   "outputs": [],
   "source": [
    "users_partedeldia = pd.get_dummies(users_partedeldia, columns=[\"Parte del dia\"])"
   ]
  },
  {
   "cell_type": "code",
   "execution_count": 135,
   "metadata": {},
   "outputs": [],
   "source": [
    "users_partedeldia = users_partedeldia.groupby(\"person\",as_index = False).sum()"
   ]
  },
  {
   "cell_type": "code",
   "execution_count": 136,
   "metadata": {},
   "outputs": [
    {
     "name": "stderr",
     "output_type": "stream",
     "text": [
      "/anaconda/lib/python3.6/site-packages/ipykernel/__main__.py:5: SettingWithCopyWarning: \n",
      "A value is trying to be set on a copy of a slice from a DataFrame.\n",
      "Try using .loc[row_indexer,col_indexer] = value instead\n",
      "\n",
      "See the caveats in the documentation: http://pandas.pydata.org/pandas-docs/stable/indexing.html#indexing-view-versus-copy\n"
     ]
    }
   ],
   "source": [
    "#Funcion que pasa a formato datetime las fechas que recibimos.\n",
    "def datetime(date,format_string):\n",
    "    return pd.to_datetime(date,format= format_string,errors='coerce')\n",
    "\n",
    "timeData[\"timestamp\"]= datetime(timeData[\"timestamp\"],\"%Y-%m-%dT%H:%M:%S\")"
   ]
  },
  {
   "cell_type": "markdown",
   "metadata": {},
   "source": [
    "Mapeado de las fechas"
   ]
  },
  {
   "cell_type": "code",
   "execution_count": 137,
   "metadata": {},
   "outputs": [
    {
     "name": "stderr",
     "output_type": "stream",
     "text": [
      "/anaconda/lib/python3.6/site-packages/ipykernel/__main__.py:1: SettingWithCopyWarning: \n",
      "A value is trying to be set on a copy of a slice from a DataFrame.\n",
      "Try using .loc[row_indexer,col_indexer] = value instead\n",
      "\n",
      "See the caveats in the documentation: http://pandas.pydata.org/pandas-docs/stable/indexing.html#indexing-view-versus-copy\n",
      "  if __name__ == '__main__':\n",
      "/anaconda/lib/python3.6/site-packages/ipykernel/__main__.py:2: SettingWithCopyWarning: \n",
      "A value is trying to be set on a copy of a slice from a DataFrame.\n",
      "Try using .loc[row_indexer,col_indexer] = value instead\n",
      "\n",
      "See the caveats in the documentation: http://pandas.pydata.org/pandas-docs/stable/indexing.html#indexing-view-versus-copy\n",
      "  from ipykernel import kernelapp as app\n",
      "/anaconda/lib/python3.6/site-packages/ipykernel/__main__.py:3: SettingWithCopyWarning: \n",
      "A value is trying to be set on a copy of a slice from a DataFrame.\n",
      "Try using .loc[row_indexer,col_indexer] = value instead\n",
      "\n",
      "See the caveats in the documentation: http://pandas.pydata.org/pandas-docs/stable/indexing.html#indexing-view-versus-copy\n",
      "  app.launch_new_instance()\n",
      "/anaconda/lib/python3.6/site-packages/ipykernel/__main__.py:4: SettingWithCopyWarning: \n",
      "A value is trying to be set on a copy of a slice from a DataFrame.\n",
      "Try using .loc[row_indexer,col_indexer] = value instead\n",
      "\n",
      "See the caveats in the documentation: http://pandas.pydata.org/pandas-docs/stable/indexing.html#indexing-view-versus-copy\n"
     ]
    }
   ],
   "source": [
    "timeData[\"year\"] = timeData[\"timestamp\"].map(lambda x: x.year)\n",
    "timeData[\"month\"] = timeData[\"timestamp\"].map(lambda x: x.month)\n",
    "timeData[\"day\"] = timeData[\"timestamp\"].map(lambda x: x.day)\n",
    "timeData[\"hour\"] = timeData[\"timestamp\"].map(lambda x: x.hour)"
   ]
  },
  {
   "cell_type": "markdown",
   "metadata": {},
   "source": [
    "Feature que analiza los ultimos 15 dias"
   ]
  },
  {
   "cell_type": "code",
   "execution_count": 138,
   "metadata": {},
   "outputs": [],
   "source": [
    "last_15days = timeData[[\"person\",\"event\",\"month\",\"day\"]]"
   ]
  },
  {
   "cell_type": "code",
   "execution_count": 139,
   "metadata": {},
   "outputs": [],
   "source": [
    "last_15days = last_15days[last_15days[\"month\"] == 5]"
   ]
  },
  {
   "cell_type": "code",
   "execution_count": 140,
   "metadata": {},
   "outputs": [],
   "source": [
    "last_15days = last_15days[last_15days[\"day\"] > 14]\n",
    "last_15days = last_15days[[\"person\",\"event\"]]\n"
   ]
  },
  {
   "cell_type": "code",
   "execution_count": 141,
   "metadata": {},
   "outputs": [],
   "source": [
    "last_15days[\"count_activity\"] = 1"
   ]
  },
  {
   "cell_type": "code",
   "execution_count": 142,
   "metadata": {},
   "outputs": [],
   "source": [
    "last_15days = pd.get_dummies(last_15days, columns=[\"event\"])"
   ]
  },
  {
   "cell_type": "code",
   "execution_count": 143,
   "metadata": {},
   "outputs": [],
   "source": [
    "last_15days = last_15days.groupby(\"person\",as_index=False).sum()\n",
    "last_15days = last_15days[[\"person\",\"count_activity\",\"event_conversion\",\"event_checkout\",\"event_viewed product\"]]\n"
   ]
  },
  {
   "cell_type": "code",
   "execution_count": 144,
   "metadata": {},
   "outputs": [],
   "source": [
    "last_15days.columns = [\"person\",\"count_activity\",\"conversiones_15lastdays\",\"checkout_15lastdays\",\"viewed_15lastday\"]"
   ]
  },
  {
   "cell_type": "markdown",
   "metadata": {},
   "source": [
    "Nuevo formateo de timedata"
   ]
  },
  {
   "cell_type": "code",
   "execution_count": 145,
   "metadata": {},
   "outputs": [
    {
     "name": "stderr",
     "output_type": "stream",
     "text": [
      "/anaconda/lib/python3.6/site-packages/ipykernel/__main__.py:1: SettingWithCopyWarning: \n",
      "A value is trying to be set on a copy of a slice from a DataFrame.\n",
      "Try using .loc[row_indexer,col_indexer] = value instead\n",
      "\n",
      "See the caveats in the documentation: http://pandas.pydata.org/pandas-docs/stable/indexing.html#indexing-view-versus-copy\n",
      "  if __name__ == '__main__':\n"
     ]
    }
   ],
   "source": [
    "timeData[\"minute\"] = timeData[\"timestamp\"].map(lambda x: x.minute)"
   ]
  },
  {
   "cell_type": "markdown",
   "metadata": {},
   "source": [
    "Se elimina el year por ser todos 2018"
   ]
  },
  {
   "cell_type": "code",
   "execution_count": 146,
   "metadata": {},
   "outputs": [
    {
     "data": {
      "text/plain": [
       "2018    2341681\n",
       "Name: year, dtype: int64"
      ]
     },
     "execution_count": 146,
     "metadata": {},
     "output_type": "execute_result"
    }
   ],
   "source": [
    "timeData[\"year\"].value_counts()"
   ]
  },
  {
   "cell_type": "code",
   "execution_count": 147,
   "metadata": {},
   "outputs": [],
   "source": [
    "timeData = timeData.drop(\"year\",axis = 1)"
   ]
  },
  {
   "cell_type": "markdown",
   "metadata": {},
   "source": [
    "Nuevo formateo de TimeData"
   ]
  },
  {
   "cell_type": "code",
   "execution_count": 148,
   "metadata": {},
   "outputs": [],
   "source": [
    "timeData = pd.get_dummies(timeData, columns=[\"event\"])"
   ]
  },
  {
   "cell_type": "code",
   "execution_count": 149,
   "metadata": {},
   "outputs": [],
   "source": [
    "timeData = timeData.drop([\"timestamp\",\"Parte del dia\"], axis=1)"
   ]
  },
  {
   "cell_type": "code",
   "execution_count": 150,
   "metadata": {},
   "outputs": [],
   "source": [
    "timeData = timeData.drop(\"minute\",axis=1)"
   ]
  },
  {
   "cell_type": "markdown",
   "metadata": {},
   "source": [
    "Feature con sesiones de los usuarios"
   ]
  },
  {
   "cell_type": "code",
   "execution_count": 151,
   "metadata": {},
   "outputs": [],
   "source": [
    "secionesUsuarios = timeData.groupby([\"person\",\"month\",\"day\",\"hour\"]).sum()"
   ]
  },
  {
   "cell_type": "code",
   "execution_count": 152,
   "metadata": {},
   "outputs": [],
   "source": [
    "secionesUsuarios[\"cant_seciones\"] = 1"
   ]
  },
  {
   "cell_type": "code",
   "execution_count": 153,
   "metadata": {},
   "outputs": [],
   "source": [
    "secionesUsuarios = secionesUsuarios[[\"cant_seciones\",\"event_checkout\",\"event_conversion\",\"event_ad campaign hit\",\"event_lead\"]]\n"
   ]
  },
  {
   "cell_type": "code",
   "execution_count": 154,
   "metadata": {},
   "outputs": [],
   "source": [
    "secionesUsuarios = secionesUsuarios.reset_index()"
   ]
  },
  {
   "cell_type": "code",
   "execution_count": 155,
   "metadata": {},
   "outputs": [],
   "source": [
    "secionesUsuarios = secionesUsuarios.drop([\"day\",\"hour\",\"month\"],axis=1)"
   ]
  },
  {
   "cell_type": "code",
   "execution_count": 156,
   "metadata": {},
   "outputs": [],
   "source": [
    "secionesUsuarios = secionesUsuarios.groupby([\"person\"]).sum().fillna(0)"
   ]
  },
  {
   "cell_type": "code",
   "execution_count": 157,
   "metadata": {},
   "outputs": [],
   "source": [
    "secionesUsuarios = secionesUsuarios.reset_index()"
   ]
  },
  {
   "cell_type": "markdown",
   "metadata": {},
   "source": [
    "Por dispositivo que usa el usuario para entrar al sitio"
   ]
  },
  {
   "cell_type": "code",
   "execution_count": 158,
   "metadata": {},
   "outputs": [
    {
     "data": {
      "text/plain": [
       "Windows       1262240\n",
       "Android        975740\n",
       "iOS             73279\n",
       "Mac             10206\n",
       "Linux            9456\n",
       "Ubuntu           3313\n",
       "nan              2870\n",
       "Chrome           2376\n",
       "Other            1048\n",
       "Tizen             531\n",
       "BlackBerry        518\n",
       "Fedora             92\n",
       "FreeBSD             8\n",
       "Symbian             4\n",
       "Name: operating_system_version, dtype: int64"
      ]
     },
     "execution_count": 158,
     "metadata": {},
     "output_type": "execute_result"
    }
   ],
   "source": [
    "deviceUsersData[\"operating_system_version\"].map(lambda x: str(x).split(\" \")[0]).value_counts()"
   ]
  },
  {
   "cell_type": "code",
   "execution_count": 159,
   "metadata": {},
   "outputs": [
    {
     "name": "stderr",
     "output_type": "stream",
     "text": [
      "/anaconda/lib/python3.6/site-packages/ipykernel/__main__.py:1: SettingWithCopyWarning: \n",
      "A value is trying to be set on a copy of a slice from a DataFrame.\n",
      "Try using .loc[row_indexer,col_indexer] = value instead\n",
      "\n",
      "See the caveats in the documentation: http://pandas.pydata.org/pandas-docs/stable/indexing.html#indexing-view-versus-copy\n",
      "  if __name__ == '__main__':\n"
     ]
    }
   ],
   "source": [
    "deviceUsersData[\"operating_system_version\"] = deviceUsersData[\"operating_system_version\"].map(lambda x: str(x).split(\" \")[0])"
   ]
  },
  {
   "cell_type": "code",
   "execution_count": 160,
   "metadata": {},
   "outputs": [
    {
     "name": "stderr",
     "output_type": "stream",
     "text": [
      "/anaconda/lib/python3.6/site-packages/ipykernel/__main__.py:1: SettingWithCopyWarning: \n",
      "A value is trying to be set on a copy of a slice from a DataFrame.\n",
      "Try using .loc[row_indexer,col_indexer] = value instead\n",
      "\n",
      "See the caveats in the documentation: http://pandas.pydata.org/pandas-docs/stable/indexing.html#indexing-view-versus-copy\n",
      "  if __name__ == '__main__':\n"
     ]
    }
   ],
   "source": [
    "deviceUsersData[\"device_type\"] = deviceUsersData[\"device_type\"].map(lambda x: \"otros\" if(x == \"Tablet\" or x==\"Unknown\") else x)"
   ]
  },
  {
   "cell_type": "code",
   "execution_count": 161,
   "metadata": {},
   "outputs": [],
   "source": [
    "device_user_type = deviceUsersData[[\"person\",\"device_type\"]]"
   ]
  },
  {
   "cell_type": "code",
   "execution_count": 162,
   "metadata": {},
   "outputs": [
    {
     "name": "stderr",
     "output_type": "stream",
     "text": [
      "/anaconda/lib/python3.6/site-packages/ipykernel/__main__.py:1: SettingWithCopyWarning: \n",
      "A value is trying to be set on a copy of a slice from a DataFrame.\n",
      "Try using .loc[row_indexer,col_indexer] = value instead\n",
      "\n",
      "See the caveats in the documentation: http://pandas.pydata.org/pandas-docs/stable/indexing.html#indexing-view-versus-copy\n",
      "  if __name__ == '__main__':\n"
     ]
    }
   ],
   "source": [
    "device_user_type[\"count\"] = 1"
   ]
  },
  {
   "cell_type": "code",
   "execution_count": 163,
   "metadata": {},
   "outputs": [],
   "source": [
    "device_user_type = device_user_type.groupby([\"person\",\"device_type\"]).max().unstack().fillna(0).reset_index()"
   ]
  },
  {
   "cell_type": "code",
   "execution_count": 164,
   "metadata": {},
   "outputs": [],
   "source": [
    "multiindex = device_user_type.columns\n",
    "multiindex = multiindex.tolist()\n",
    "multiindex\n",
    "ind = pd.Index([ (e[1] if e[0]!= \"person\" else e[0]) for e in multiindex])\n",
    "device_user_type.columns = ind\n"
   ]
  },
  {
   "cell_type": "code",
   "execution_count": 165,
   "metadata": {},
   "outputs": [],
   "source": [
    "device_user_system = deviceUsersData[[\"person\",\"operating_system_version\"]]"
   ]
  },
  {
   "cell_type": "code",
   "execution_count": 166,
   "metadata": {},
   "outputs": [
    {
     "name": "stderr",
     "output_type": "stream",
     "text": [
      "/anaconda/lib/python3.6/site-packages/ipykernel/__main__.py:1: SettingWithCopyWarning: \n",
      "A value is trying to be set on a copy of a slice from a DataFrame.\n",
      "Try using .loc[row_indexer,col_indexer] = value instead\n",
      "\n",
      "See the caveats in the documentation: http://pandas.pydata.org/pandas-docs/stable/indexing.html#indexing-view-versus-copy\n",
      "  if __name__ == '__main__':\n"
     ]
    }
   ],
   "source": [
    "device_user_system[\"count\"] = 1"
   ]
  },
  {
   "cell_type": "code",
   "execution_count": 167,
   "metadata": {},
   "outputs": [],
   "source": [
    "device_user_system = device_user_system.groupby([\"person\",\"operating_system_version\"]).max().unstack().fillna(0).reset_index()"
   ]
  },
  {
   "cell_type": "code",
   "execution_count": 168,
   "metadata": {},
   "outputs": [],
   "source": [
    "multiindex = device_user_system.columns\n",
    "multiindex = multiindex.tolist()\n",
    "multiindex\n",
    "ind = pd.Index([ (e[1] if e[0]!= \"person\" else e[0]) for e in multiindex])\n",
    "device_user_system.columns = ind"
   ]
  },
  {
   "cell_type": "code",
   "execution_count": 169,
   "metadata": {},
   "outputs": [],
   "source": [
    "device_user_system = device_user_system[[\"person\",\"Windows\",\"Android\",\"iOS\"]]"
   ]
  },
  {
   "cell_type": "markdown",
   "metadata": {},
   "source": [
    "Informacion usuarios"
   ]
  },
  {
   "cell_type": "code",
   "execution_count": 170,
   "metadata": {},
   "outputs": [],
   "source": [
    "dic_terminos = {}\n",
    "for busqueda in infoUserData[\"search_term\"]:\n",
    "    for term in str(busqueda).split(\" \"):\n",
    "        if (not term in dic_terminos.keys()):\n",
    "            dic_terminos[term] = 1\n",
    "        else:\n",
    "            dic_terminos[term]+=1     "
   ]
  },
  {
   "cell_type": "code",
   "execution_count": 171,
   "metadata": {},
   "outputs": [],
   "source": [
    "list_terminos = sorted(dic_terminos.items(), key=lambda kv: kv[1])"
   ]
  },
  {
   "cell_type": "code",
   "execution_count": 172,
   "metadata": {},
   "outputs": [],
   "source": [
    "list_terminos = list_terminos[::-1]"
   ]
  },
  {
   "cell_type": "code",
   "execution_count": 173,
   "metadata": {},
   "outputs": [
    {
     "data": {
      "text/plain": [
       "('nan', 2227918)"
      ]
     },
     "execution_count": 173,
     "metadata": {},
     "output_type": "execute_result"
    }
   ],
   "source": [
    "list_terminos.pop(0)"
   ]
  },
  {
   "cell_type": "code",
   "execution_count": 174,
   "metadata": {},
   "outputs": [],
   "source": [
    "terminos = []\n",
    "for name,count in list_terminos:\n",
    "    if(len(name)>2):\n",
    "        terminos.append((name,count))    "
   ]
  },
  {
   "cell_type": "code",
   "execution_count": 175,
   "metadata": {},
   "outputs": [],
   "source": [
    "terminos_populares = terminos[:300]"
   ]
  },
  {
   "cell_type": "code",
   "execution_count": 176,
   "metadata": {},
   "outputs": [
    {
     "name": "stderr",
     "output_type": "stream",
     "text": [
      "/anaconda/lib/python3.6/site-packages/ipykernel/__main__.py:1: SettingWithCopyWarning: \n",
      "A value is trying to be set on a copy of a slice from a DataFrame.\n",
      "Try using .loc[row_indexer,col_indexer] = value instead\n",
      "\n",
      "See the caveats in the documentation: http://pandas.pydata.org/pandas-docs/stable/indexing.html#indexing-view-versus-copy\n",
      "  if __name__ == '__main__':\n"
     ]
    }
   ],
   "source": [
    "infoUserData[\"search_term\"] = infoUserData[\"search_term\"].fillna(\"0\")"
   ]
  },
  {
   "cell_type": "code",
   "execution_count": 177,
   "metadata": {},
   "outputs": [],
   "source": [
    "def verificarPopularidadElTermino(string,terminospopulares):\n",
    "    if (string==0):\n",
    "        return False\n",
    "    for palabra in string.split(\" \"):\n",
    "        \n",
    "        if(palabra in [name for name,count in terminospopulares]):\n",
    "            return True\n",
    "        \n",
    "    return False"
   ]
  },
  {
   "cell_type": "code",
   "execution_count": 178,
   "metadata": {},
   "outputs": [
    {
     "name": "stderr",
     "output_type": "stream",
     "text": [
      "/anaconda/lib/python3.6/site-packages/ipykernel/__main__.py:1: SettingWithCopyWarning: \n",
      "A value is trying to be set on a copy of a slice from a DataFrame.\n",
      "Try using .loc[row_indexer,col_indexer] = value instead\n",
      "\n",
      "See the caveats in the documentation: http://pandas.pydata.org/pandas-docs/stable/indexing.html#indexing-view-versus-copy\n",
      "  if __name__ == '__main__':\n"
     ]
    }
   ],
   "source": [
    "infoUserData[\"Busca_terminos_populares\"] = infoUserData[\"search_term\"].map(lambda x:1 if(verificarPopularidadElTermino(x,terminos_populares)) else 0)"
   ]
  },
  {
   "cell_type": "markdown",
   "metadata": {},
   "source": [
    "Feature con el campaign_source y channel mas populares"
   ]
  },
  {
   "cell_type": "code",
   "execution_count": 179,
   "metadata": {},
   "outputs": [],
   "source": [
    "person_campaing = infoUserData[[\"person\",\"campaign_source\"]]\n",
    "person_channel = infoUserData[[\"person\",\"channel\"]]"
   ]
  },
  {
   "cell_type": "code",
   "execution_count": 180,
   "metadata": {},
   "outputs": [],
   "source": [
    "person_term = infoUserData[[\"person\",\"Busca_terminos_populares\"]]"
   ]
  },
  {
   "cell_type": "code",
   "execution_count": 181,
   "metadata": {},
   "outputs": [],
   "source": [
    "person_term = person_term.groupby(\"person\",as_index = False).sum()"
   ]
  },
  {
   "cell_type": "code",
   "execution_count": 182,
   "metadata": {},
   "outputs": [],
   "source": [
    "person_campaing = person_campaing.dropna()"
   ]
  },
  {
   "cell_type": "code",
   "execution_count": 183,
   "metadata": {},
   "outputs": [],
   "source": [
    "person_campaing = pd.get_dummies(person_campaing, columns=[\"campaign_source\"])"
   ]
  },
  {
   "cell_type": "code",
   "execution_count": 184,
   "metadata": {},
   "outputs": [],
   "source": [
    "person_campaing = person_campaing[[\"person\",\"campaign_source_google\",\"campaign_source_criteo\",\"campaign_source_rtbhouse\"]]"
   ]
  },
  {
   "cell_type": "code",
   "execution_count": 185,
   "metadata": {},
   "outputs": [],
   "source": [
    "person_campaing = person_campaing.groupby(\"person\",as_index=False).sum()"
   ]
  },
  {
   "cell_type": "code",
   "execution_count": 186,
   "metadata": {},
   "outputs": [],
   "source": [
    "person_channel = person_channel.dropna()"
   ]
  },
  {
   "cell_type": "code",
   "execution_count": 187,
   "metadata": {},
   "outputs": [],
   "source": [
    "person_channel = pd.get_dummies(person_channel, columns=[\"channel\"])"
   ]
  },
  {
   "cell_type": "code",
   "execution_count": 188,
   "metadata": {},
   "outputs": [],
   "source": [
    "person_channel = person_channel[[\"person\",\"channel_Direct\",\"channel_Paid\",\"channel_Organic\",\"channel_Referral\"]]"
   ]
  },
  {
   "cell_type": "code",
   "execution_count": 189,
   "metadata": {},
   "outputs": [],
   "source": [
    "person_channel = person_channel.groupby(\"person\",as_index=False).sum()"
   ]
  },
  {
   "cell_type": "markdown",
   "metadata": {},
   "source": [
    "Productos visto por el usuario"
   ]
  },
  {
   "cell_type": "code",
   "execution_count": 190,
   "metadata": {},
   "outputs": [
    {
     "name": "stderr",
     "output_type": "stream",
     "text": [
      "/anaconda/lib/python3.6/site-packages/ipykernel/__main__.py:1: SettingWithCopyWarning: \n",
      "A value is trying to be set on a copy of a slice from a DataFrame.\n",
      "Try using .loc[row_indexer,col_indexer] = value instead\n",
      "\n",
      "See the caveats in the documentation: http://pandas.pydata.org/pandas-docs/stable/indexing.html#indexing-view-versus-copy\n",
      "  if __name__ == '__main__':\n",
      "/anaconda/lib/python3.6/site-packages/ipykernel/__main__.py:2: SettingWithCopyWarning: \n",
      "A value is trying to be set on a copy of a slice from a DataFrame.\n",
      "Try using .loc[row_indexer,col_indexer] = value instead\n",
      "\n",
      "See the caveats in the documentation: http://pandas.pydata.org/pandas-docs/stable/indexing.html#indexing-view-versus-copy\n",
      "  from ipykernel import kernelapp as app\n"
     ]
    }
   ],
   "source": [
    "productData[\"model\"] = productData[\"model\"].fillna(\"Desconocido\")\n",
    "productData[\"marca\"] = productData[\"model\"].map(lambda x:\"apple\" if(x.split(\" \")[0] in [\"iphone\",\"ipad\"]) else x.split(\" \")[0])"
   ]
  },
  {
   "cell_type": "code",
   "execution_count": 191,
   "metadata": {},
   "outputs": [
    {
     "name": "stderr",
     "output_type": "stream",
     "text": [
      "/anaconda/lib/python3.6/site-packages/ipykernel/__main__.py:1: SettingWithCopyWarning: \n",
      "A value is trying to be set on a copy of a slice from a DataFrame.\n",
      "Try using .loc[row_indexer,col_indexer] = value instead\n",
      "\n",
      "See the caveats in the documentation: http://pandas.pydata.org/pandas-docs/stable/indexing.html#indexing-view-versus-copy\n",
      "  if __name__ == '__main__':\n"
     ]
    }
   ],
   "source": [
    "productData[\"version\"] = productData[\"model\"].map(lambda x:\" \".join(x.split(\" \")[0:2]) if(x.split(\" \")[0] in [\"iphone\",\"ipad\"]) else \" \".join(x.split(\" \")[1:3]))"
   ]
  },
  {
   "cell_type": "code",
   "execution_count": 192,
   "metadata": {},
   "outputs": [],
   "source": [
    "users_view_list = productData[[\"person\",\"skus\"]]"
   ]
  },
  {
   "cell_type": "code",
   "execution_count": 193,
   "metadata": {},
   "outputs": [],
   "source": [
    "productData = productData[(productData[\"event\"] == \"checkout\")]"
   ]
  },
  {
   "cell_type": "code",
   "execution_count": 194,
   "metadata": {},
   "outputs": [],
   "source": [
    "productData = productData[[\"person\",\"marca\",\"condition\",\"version\",\"storage\"]]"
   ]
  },
  {
   "cell_type": "code",
   "execution_count": 195,
   "metadata": {},
   "outputs": [],
   "source": [
    "productData= pd.get_dummies(productData, columns=[\"marca\",\"condition\",\"version\",\"storage\"])\n",
    "productDataDummies = productData"
   ]
  },
  {
   "cell_type": "code",
   "execution_count": 196,
   "metadata": {},
   "outputs": [],
   "source": [
    "productData = productData.groupby(\"person\",as_index=False).sum()"
   ]
  },
  {
   "cell_type": "code",
   "execution_count": 197,
   "metadata": {},
   "outputs": [],
   "source": [
    "productData = productData.drop([\"marca_quantum\",\"condition_Novo\"],axis = 1)"
   ]
  },
  {
   "cell_type": "code",
   "execution_count": 198,
   "metadata": {},
   "outputs": [],
   "source": [
    "productData = productData[['person', 'marca_apple', 'marca_asus', 'marca_lenovo', 'marca_lg',\n",
    "       'marca_motorola', 'marca_samsung', 'marca_sony', 'condition_Bom',\n",
    "       'condition_Bom - Sem Touch ID', 'condition_Excelente',\n",
    "       'condition_Muito Bom',\"version_galaxy j7\",\"version_galaxy j5\",\"version_galaxy s7\",\"version_iphone 6\",\"version_iphone 5s\",\"version_iphone 6s\",\"version_moto g4\",\"version_moto g2\",\"version_galaxy s6\",'storage_128GB', 'storage_16GB', 'storage_256GB', 'storage_32GB',\n",
    "       'storage_4GB', 'storage_512MB', 'storage_64GB', 'storage_8GB']]"
   ]
  },
  {
   "cell_type": "code",
   "execution_count": 199,
   "metadata": {},
   "outputs": [],
   "source": [
    "users_view_list[\"skus\"] = users_view_list[\"skus\"].fillna(0)"
   ]
  },
  {
   "cell_type": "code",
   "execution_count": 200,
   "metadata": {},
   "outputs": [],
   "source": [
    "users_view_list[\"skus\"] = users_view_list[\"skus\"].map(lambda x:0 if(x == 0) else 1)"
   ]
  },
  {
   "cell_type": "code",
   "execution_count": 201,
   "metadata": {},
   "outputs": [],
   "source": [
    "users_view_list = users_view_list.groupby(\"person\",as_index=False).max()"
   ]
  },
  {
   "cell_type": "markdown",
   "metadata": {},
   "source": [
    "Feature de new vs returning"
   ]
  },
  {
   "cell_type": "code",
   "execution_count": 202,
   "metadata": {},
   "outputs": [],
   "source": [
    "new_last15days = infoUserData[[\"person\",\"timestamp\",\"new_vs_returning\"]]"
   ]
  },
  {
   "cell_type": "code",
   "execution_count": 203,
   "metadata": {},
   "outputs": [
    {
     "name": "stderr",
     "output_type": "stream",
     "text": [
      "/anaconda/lib/python3.6/site-packages/ipykernel/__main__.py:1: SettingWithCopyWarning: \n",
      "A value is trying to be set on a copy of a slice from a DataFrame.\n",
      "Try using .loc[row_indexer,col_indexer] = value instead\n",
      "\n",
      "See the caveats in the documentation: http://pandas.pydata.org/pandas-docs/stable/indexing.html#indexing-view-versus-copy\n",
      "  if __name__ == '__main__':\n",
      "/anaconda/lib/python3.6/site-packages/ipykernel/__main__.py:2: SettingWithCopyWarning: \n",
      "A value is trying to be set on a copy of a slice from a DataFrame.\n",
      "Try using .loc[row_indexer,col_indexer] = value instead\n",
      "\n",
      "See the caveats in the documentation: http://pandas.pydata.org/pandas-docs/stable/indexing.html#indexing-view-versus-copy\n",
      "  from ipykernel import kernelapp as app\n",
      "/anaconda/lib/python3.6/site-packages/ipykernel/__main__.py:3: SettingWithCopyWarning: \n",
      "A value is trying to be set on a copy of a slice from a DataFrame.\n",
      "Try using .loc[row_indexer,col_indexer] = value instead\n",
      "\n",
      "See the caveats in the documentation: http://pandas.pydata.org/pandas-docs/stable/indexing.html#indexing-view-versus-copy\n",
      "  app.launch_new_instance()\n"
     ]
    }
   ],
   "source": [
    "new_last15days[\"timestamp\"]= datetime(new_last15days[\"timestamp\"],\"%Y-%m-%dT%H:%M:%S\")\n",
    "new_last15days[\"month\"] = new_last15days[\"timestamp\"].map(lambda x: x.month)\n",
    "new_last15days[\"day\"] = new_last15days[\"timestamp\"].map(lambda x: x.day)\n",
    "\n"
   ]
  },
  {
   "cell_type": "code",
   "execution_count": 204,
   "metadata": {},
   "outputs": [],
   "source": [
    "new_last15days = new_last15days[new_last15days[\"month\"] == 5]\n",
    "new_last15days = new_last15days[new_last15days[\"day\"] >14]"
   ]
  },
  {
   "cell_type": "code",
   "execution_count": 205,
   "metadata": {},
   "outputs": [],
   "source": [
    "new_last15days[\"new_15lastdays\"] = new_last15days[\"new_vs_returning\"] == \"New\""
   ]
  },
  {
   "cell_type": "code",
   "execution_count": 206,
   "metadata": {},
   "outputs": [
    {
     "data": {
      "text/plain": [
       "False    1377983\n",
       "True       25484\n",
       "Name: new_15lastdays, dtype: int64"
      ]
     },
     "execution_count": 206,
     "metadata": {},
     "output_type": "execute_result"
    }
   ],
   "source": [
    "new_last15days[\"new_15lastdays\"].value_counts()"
   ]
  },
  {
   "cell_type": "code",
   "execution_count": 207,
   "metadata": {},
   "outputs": [],
   "source": [
    "new_last15days = new_last15days[[\"person\",\"new_15lastdays\"]]\n"
   ]
  },
  {
   "cell_type": "code",
   "execution_count": 208,
   "metadata": {},
   "outputs": [],
   "source": [
    "new_last15days = new_last15days.groupby(\"person\",as_index=False).max()"
   ]
  },
  {
   "cell_type": "code",
   "execution_count": 209,
   "metadata": {},
   "outputs": [],
   "source": [
    "new_last15days[\"new_15lastdays\"] = new_last15days[\"new_15lastdays\"].map(lambda x: 1 if(x) else 0) "
   ]
  },
  {
   "cell_type": "markdown",
   "metadata": {},
   "source": [
    "Features geograficos"
   ]
  },
  {
   "cell_type": "code",
   "execution_count": 210,
   "metadata": {},
   "outputs": [],
   "source": [
    "geoData = geoData[geoData[\"event\"] == \"conversion\"]"
   ]
  },
  {
   "cell_type": "code",
   "execution_count": 211,
   "metadata": {},
   "outputs": [],
   "source": [
    "region = geoData[[\"person\",\"region\"]]"
   ]
  },
  {
   "cell_type": "code",
   "execution_count": 212,
   "metadata": {},
   "outputs": [],
   "source": [
    "region = region.drop_duplicates(subset = \"person\", keep = \"first\")"
   ]
  },
  {
   "cell_type": "code",
   "execution_count": 213,
   "metadata": {},
   "outputs": [
    {
     "data": {
      "text/plain": [
       "False    29\n",
       "True     15\n",
       "Name: region, dtype: int64"
      ]
     },
     "execution_count": 213,
     "metadata": {},
     "output_type": "execute_result"
    }
   ],
   "source": [
    "(region[\"region\"].value_counts() > 50).value_counts()"
   ]
  },
  {
   "cell_type": "code",
   "execution_count": 214,
   "metadata": {},
   "outputs": [],
   "source": [
    "region[\"region\"] = region[\"region\"].fillna(0)"
   ]
  },
  {
   "cell_type": "code",
   "execution_count": 215,
   "metadata": {},
   "outputs": [],
   "source": [
    "sell_region = region[\"region\"].value_counts()"
   ]
  },
  {
   "cell_type": "code",
   "execution_count": 216,
   "metadata": {},
   "outputs": [],
   "source": [
    "region[\"ventas_region\"] = region[\"region\"].map(lambda x: sell_region[x]) "
   ]
  },
  {
   "cell_type": "code",
   "execution_count": 217,
   "metadata": {},
   "outputs": [],
   "source": [
    "esBrasilero = geoData[[\"person\",\"country\"]]"
   ]
  },
  {
   "cell_type": "code",
   "execution_count": 218,
   "metadata": {},
   "outputs": [
    {
     "name": "stderr",
     "output_type": "stream",
     "text": [
      "/anaconda/lib/python3.6/site-packages/ipykernel/__main__.py:1: SettingWithCopyWarning: \n",
      "A value is trying to be set on a copy of a slice from a DataFrame.\n",
      "Try using .loc[row_indexer,col_indexer] = value instead\n",
      "\n",
      "See the caveats in the documentation: http://pandas.pydata.org/pandas-docs/stable/indexing.html#indexing-view-versus-copy\n",
      "  if __name__ == '__main__':\n"
     ]
    }
   ],
   "source": [
    "esBrasilero[\"Brasilero\"] = esBrasilero[\"country\"].map(lambda x: 1 if(x == \"Brazil\") else 0)"
   ]
  },
  {
   "cell_type": "code",
   "execution_count": 219,
   "metadata": {},
   "outputs": [],
   "source": [
    "esBrasilero = esBrasilero[[\"person\",\"Brasilero\"]]"
   ]
  },
  {
   "cell_type": "code",
   "execution_count": 220,
   "metadata": {},
   "outputs": [],
   "source": [
    "esBrasilero = esBrasilero.groupby(\"person\",as_index=False).max()"
   ]
  },
  {
   "cell_type": "markdown",
   "metadata": {},
   "source": [
    "Feature con Colores"
   ]
  },
  {
   "cell_type": "code",
   "execution_count": 221,
   "metadata": {},
   "outputs": [
    {
     "data": {
      "text/plain": [
       "Preto             314925\n",
       "Dourado           275212\n",
       "Cinza espacial    151770\n",
       "Branco            126496\n",
       "Prateado          114284\n",
       "Name: color, dtype: int64"
      ]
     },
     "execution_count": 221,
     "metadata": {},
     "output_type": "execute_result"
    }
   ],
   "source": [
    "personColor[\"color\"].value_counts().head()"
   ]
  },
  {
   "cell_type": "code",
   "execution_count": 222,
   "metadata": {},
   "outputs": [],
   "source": [
    "personColor = personColor.dropna()"
   ]
  },
  {
   "cell_type": "code",
   "execution_count": 223,
   "metadata": {},
   "outputs": [],
   "source": [
    "bestcolorseller = personColor[personColor[\"event\"] == \"checkout\"]\n",
    "colorsellers = bestcolorseller[\"color\"].value_counts()"
   ]
  },
  {
   "cell_type": "code",
   "execution_count": 224,
   "metadata": {},
   "outputs": [],
   "source": [
    "personColor = pd.get_dummies(personColor, columns=[\"color\"])"
   ]
  },
  {
   "cell_type": "code",
   "execution_count": 225,
   "metadata": {},
   "outputs": [],
   "source": [
    "personColor = personColor[personColor[\"event\"] == \"viewed product\"]"
   ]
  },
  {
   "cell_type": "code",
   "execution_count": 226,
   "metadata": {},
   "outputs": [],
   "source": [
    "personColor = personColor[[\"person\",\"color_Preto\",\"color_Dourado\",\"color_Branco\",\"color_Cinza espacial\"]]\n"
   ]
  },
  {
   "cell_type": "code",
   "execution_count": 227,
   "metadata": {},
   "outputs": [],
   "source": [
    "personColor = personColor.groupby(\"person\").sum()"
   ]
  },
  {
   "cell_type": "markdown",
   "metadata": {},
   "source": [
    "Feature con la probabilidad de compra"
   ]
  },
  {
   "cell_type": "code",
   "execution_count": 228,
   "metadata": {},
   "outputs": [],
   "source": [
    "versiones = productDataDummies\n",
    "\n",
    "#65315 son las cantidades de checkouts\n",
    "versiones['marca_apple'] = (versiones['marca_apple'].sum())/65315\n",
    "versiones['marca_asus'] = (versiones['marca_asus'].sum())/65315\n",
    "versiones['marca_lenovo'] = (versiones['marca_lenovo'].sum())/65315\n",
    "versiones['marca_lg']= (versiones['marca_lg'].sum())/65315\n",
    "versiones['marca_motorola']= (versiones['marca_motorola'].sum())/65315\n",
    "versiones['marca_quantum']= (versiones['marca_quantum'].sum())/65315\n",
    "versiones['marca_samsung']= (versiones['marca_samsung'].sum())/65315\n",
    "versiones['marca_sony']= (versiones['marca_sony'].sum())/65315\n"
   ]
  },
  {
   "cell_type": "code",
   "execution_count": 229,
   "metadata": {},
   "outputs": [],
   "source": [
    "comprasPorMarcaData = eventsData[[\"person\",\"event\",\"model\"]]\n",
    "comprasPorMarcaData = comprasPorMarcaData[comprasPorMarcaData['event'].map(lambda x: x =='checkout')]\n",
    "comprasPorMarcaData[\"model\"] = comprasPorMarcaData[\"model\"].fillna(\"Desconocido\")\n",
    "comprasPorMarcaData[\"marca\"] = comprasPorMarcaData[\"model\"].map(lambda x:\"apple\" if(x.split(\" \")[0] in [\"iphone\",\"ipad\"]) else x.split(\" \")[0])\n",
    "comprasPorMarcaData = pd.get_dummies(comprasPorMarcaData, columns = ['marca'])\n",
    "comprasPorMarcaData['marca_apple'] = comprasPorMarcaData['marca_apple'].map(lambda x: x* 0.409875)\n",
    "comprasPorMarcaData['marca_asus'] = comprasPorMarcaData['marca_asus'].map(lambda x: x* 0.001562)\n",
    "comprasPorMarcaData['marca_lenovo'] = comprasPorMarcaData['marca_lenovo'].map(lambda x: x* 0.008773)\n",
    "comprasPorMarcaData['marca_lg'] = comprasPorMarcaData['marca_lg'].map(lambda x: x* 0.017454)\n",
    "comprasPorMarcaData['marca_motorola'] = comprasPorMarcaData['marca_motorola'].map(lambda x: x* 0.129251)\n",
    "comprasPorMarcaData['marca_quantum'] = comprasPorMarcaData['marca_quantum'].map(lambda x: x* 0.000505)\n",
    "comprasPorMarcaData['marca_samsung'] = comprasPorMarcaData['marca_samsung'].map(lambda x: x* 0.426211)\n",
    "comprasPorMarcaData['marca_sony'] = comprasPorMarcaData['marca_sony'].map(lambda x: x* 0.006369)\n",
    "comprasPorMarcaData = comprasPorMarcaData.groupby('person').agg({'marca_apple':'sum','marca_asus':'sum','marca_lenovo':'sum','marca_lg':'sum','marca_motorola':'sum','marca_quantum':'sum','marca_samsung':'sum','marca_sony':'sum'})\n",
    "comprasPorMarcaData.columns = ['Prob_Apple','Prob_Asus','Prob_Lenovo','Prob_lg','Prob_motorola','Prob_quantum','Prob_samsung','Prob_sony']"
   ]
  },
  {
   "cell_type": "markdown",
   "metadata": {},
   "source": [
    "Feature con el screen resolution"
   ]
  },
  {
   "cell_type": "code",
   "execution_count": 230,
   "metadata": {},
   "outputs": [
    {
     "data": {
      "text/html": [
       "<div>\n",
       "<table border=\"1\" class=\"dataframe\">\n",
       "  <thead>\n",
       "    <tr style=\"text-align: right;\">\n",
       "      <th></th>\n",
       "      <th>screen_resolution</th>\n",
       "    </tr>\n",
       "    <tr>\n",
       "      <th>person</th>\n",
       "      <th></th>\n",
       "    </tr>\n",
       "  </thead>\n",
       "  <tbody>\n",
       "    <tr>\n",
       "      <th>000ba417</th>\n",
       "      <td>0</td>\n",
       "    </tr>\n",
       "    <tr>\n",
       "      <th>001001be</th>\n",
       "      <td>1</td>\n",
       "    </tr>\n",
       "    <tr>\n",
       "      <th>001804a2</th>\n",
       "      <td>0</td>\n",
       "    </tr>\n",
       "    <tr>\n",
       "      <th>0019e639</th>\n",
       "      <td>0</td>\n",
       "    </tr>\n",
       "    <tr>\n",
       "      <th>001b0bf9</th>\n",
       "      <td>0</td>\n",
       "    </tr>\n",
       "    <tr>\n",
       "      <th>0020152e</th>\n",
       "      <td>0</td>\n",
       "    </tr>\n",
       "    <tr>\n",
       "      <th>002aea56</th>\n",
       "      <td>0</td>\n",
       "    </tr>\n",
       "    <tr>\n",
       "      <th>002ed810</th>\n",
       "      <td>0</td>\n",
       "    </tr>\n",
       "    <tr>\n",
       "      <th>0038a117</th>\n",
       "      <td>0</td>\n",
       "    </tr>\n",
       "    <tr>\n",
       "      <th>0043a48e</th>\n",
       "      <td>1</td>\n",
       "    </tr>\n",
       "    <tr>\n",
       "      <th>004ed8ba</th>\n",
       "      <td>0</td>\n",
       "    </tr>\n",
       "    <tr>\n",
       "      <th>00546f4c</th>\n",
       "      <td>1</td>\n",
       "    </tr>\n",
       "    <tr>\n",
       "      <th>00750af8</th>\n",
       "      <td>0</td>\n",
       "    </tr>\n",
       "    <tr>\n",
       "      <th>0076b7dc</th>\n",
       "      <td>1</td>\n",
       "    </tr>\n",
       "    <tr>\n",
       "      <th>00971729</th>\n",
       "      <td>0</td>\n",
       "    </tr>\n",
       "    <tr>\n",
       "      <th>009944e1</th>\n",
       "      <td>0</td>\n",
       "    </tr>\n",
       "    <tr>\n",
       "      <th>009f8292</th>\n",
       "      <td>0</td>\n",
       "    </tr>\n",
       "    <tr>\n",
       "      <th>00caa482</th>\n",
       "      <td>0</td>\n",
       "    </tr>\n",
       "    <tr>\n",
       "      <th>00cd1373</th>\n",
       "      <td>0</td>\n",
       "    </tr>\n",
       "    <tr>\n",
       "      <th>00ecfd1a</th>\n",
       "      <td>1</td>\n",
       "    </tr>\n",
       "    <tr>\n",
       "      <th>00fa4cd7</th>\n",
       "      <td>1</td>\n",
       "    </tr>\n",
       "    <tr>\n",
       "      <th>01039bf1</th>\n",
       "      <td>0</td>\n",
       "    </tr>\n",
       "    <tr>\n",
       "      <th>010b0b0b</th>\n",
       "      <td>0</td>\n",
       "    </tr>\n",
       "    <tr>\n",
       "      <th>011beb42</th>\n",
       "      <td>0</td>\n",
       "    </tr>\n",
       "    <tr>\n",
       "      <th>0137a57b</th>\n",
       "      <td>1</td>\n",
       "    </tr>\n",
       "    <tr>\n",
       "      <th>0163bf88</th>\n",
       "      <td>0</td>\n",
       "    </tr>\n",
       "    <tr>\n",
       "      <th>016a78e4</th>\n",
       "      <td>0</td>\n",
       "    </tr>\n",
       "    <tr>\n",
       "      <th>016b86b9</th>\n",
       "      <td>1</td>\n",
       "    </tr>\n",
       "    <tr>\n",
       "      <th>016f3833</th>\n",
       "      <td>0</td>\n",
       "    </tr>\n",
       "    <tr>\n",
       "      <th>017fd805</th>\n",
       "      <td>1</td>\n",
       "    </tr>\n",
       "    <tr>\n",
       "      <th>...</th>\n",
       "      <td>...</td>\n",
       "    </tr>\n",
       "    <tr>\n",
       "      <th>fe2df59e</th>\n",
       "      <td>0</td>\n",
       "    </tr>\n",
       "    <tr>\n",
       "      <th>fe3a4e34</th>\n",
       "      <td>1</td>\n",
       "    </tr>\n",
       "    <tr>\n",
       "      <th>fe3dccab</th>\n",
       "      <td>1</td>\n",
       "    </tr>\n",
       "    <tr>\n",
       "      <th>fe4029d3</th>\n",
       "      <td>0</td>\n",
       "    </tr>\n",
       "    <tr>\n",
       "      <th>fe469427</th>\n",
       "      <td>0</td>\n",
       "    </tr>\n",
       "    <tr>\n",
       "      <th>fe542b35</th>\n",
       "      <td>0</td>\n",
       "    </tr>\n",
       "    <tr>\n",
       "      <th>fe5679d2</th>\n",
       "      <td>1</td>\n",
       "    </tr>\n",
       "    <tr>\n",
       "      <th>fe87a4ba</th>\n",
       "      <td>0</td>\n",
       "    </tr>\n",
       "    <tr>\n",
       "      <th>fe98d076</th>\n",
       "      <td>0</td>\n",
       "    </tr>\n",
       "    <tr>\n",
       "      <th>febfbe81</th>\n",
       "      <td>0</td>\n",
       "    </tr>\n",
       "    <tr>\n",
       "      <th>fec57275</th>\n",
       "      <td>0</td>\n",
       "    </tr>\n",
       "    <tr>\n",
       "      <th>fed81014</th>\n",
       "      <td>1</td>\n",
       "    </tr>\n",
       "    <tr>\n",
       "      <th>ff277a45</th>\n",
       "      <td>0</td>\n",
       "    </tr>\n",
       "    <tr>\n",
       "      <th>ff28a233</th>\n",
       "      <td>0</td>\n",
       "    </tr>\n",
       "    <tr>\n",
       "      <th>ff2c02d6</th>\n",
       "      <td>0</td>\n",
       "    </tr>\n",
       "    <tr>\n",
       "      <th>ff360f9d</th>\n",
       "      <td>0</td>\n",
       "    </tr>\n",
       "    <tr>\n",
       "      <th>ff406fa9</th>\n",
       "      <td>0</td>\n",
       "    </tr>\n",
       "    <tr>\n",
       "      <th>ff415840</th>\n",
       "      <td>0</td>\n",
       "    </tr>\n",
       "    <tr>\n",
       "      <th>ff5bd3ac</th>\n",
       "      <td>0</td>\n",
       "    </tr>\n",
       "    <tr>\n",
       "      <th>ff644553</th>\n",
       "      <td>0</td>\n",
       "    </tr>\n",
       "    <tr>\n",
       "      <th>ff705ce5</th>\n",
       "      <td>0</td>\n",
       "    </tr>\n",
       "    <tr>\n",
       "      <th>ff89d18f</th>\n",
       "      <td>0</td>\n",
       "    </tr>\n",
       "    <tr>\n",
       "      <th>ff9e0500</th>\n",
       "      <td>0</td>\n",
       "    </tr>\n",
       "    <tr>\n",
       "      <th>ffc670b3</th>\n",
       "      <td>0</td>\n",
       "    </tr>\n",
       "    <tr>\n",
       "      <th>ffd62616</th>\n",
       "      <td>0</td>\n",
       "    </tr>\n",
       "    <tr>\n",
       "      <th>ffdafc72</th>\n",
       "      <td>0</td>\n",
       "    </tr>\n",
       "    <tr>\n",
       "      <th>ffe53446</th>\n",
       "      <td>0</td>\n",
       "    </tr>\n",
       "    <tr>\n",
       "      <th>ffed0342</th>\n",
       "      <td>0</td>\n",
       "    </tr>\n",
       "    <tr>\n",
       "      <th>fff2bdde</th>\n",
       "      <td>0</td>\n",
       "    </tr>\n",
       "    <tr>\n",
       "      <th>fff72025</th>\n",
       "      <td>1</td>\n",
       "    </tr>\n",
       "  </tbody>\n",
       "</table>\n",
       "<p>4293 rows × 1 columns</p>\n",
       "</div>"
      ],
      "text/plain": [
       "          screen_resolution\n",
       "person                     \n",
       "000ba417                  0\n",
       "001001be                  1\n",
       "001804a2                  0\n",
       "0019e639                  0\n",
       "001b0bf9                  0\n",
       "0020152e                  0\n",
       "002aea56                  0\n",
       "002ed810                  0\n",
       "0038a117                  0\n",
       "0043a48e                  1\n",
       "004ed8ba                  0\n",
       "00546f4c                  1\n",
       "00750af8                  0\n",
       "0076b7dc                  1\n",
       "00971729                  0\n",
       "009944e1                  0\n",
       "009f8292                  0\n",
       "00caa482                  0\n",
       "00cd1373                  0\n",
       "00ecfd1a                  1\n",
       "00fa4cd7                  1\n",
       "01039bf1                  0\n",
       "010b0b0b                  0\n",
       "011beb42                  0\n",
       "0137a57b                  1\n",
       "0163bf88                  0\n",
       "016a78e4                  0\n",
       "016b86b9                  1\n",
       "016f3833                  0\n",
       "017fd805                  1\n",
       "...                     ...\n",
       "fe2df59e                  0\n",
       "fe3a4e34                  1\n",
       "fe3dccab                  1\n",
       "fe4029d3                  0\n",
       "fe469427                  0\n",
       "fe542b35                  0\n",
       "fe5679d2                  1\n",
       "fe87a4ba                  0\n",
       "fe98d076                  0\n",
       "febfbe81                  0\n",
       "fec57275                  0\n",
       "fed81014                  1\n",
       "ff277a45                  0\n",
       "ff28a233                  0\n",
       "ff2c02d6                  0\n",
       "ff360f9d                  0\n",
       "ff406fa9                  0\n",
       "ff415840                  0\n",
       "ff5bd3ac                  0\n",
       "ff644553                  0\n",
       "ff705ce5                  0\n",
       "ff89d18f                  0\n",
       "ff9e0500                  0\n",
       "ffc670b3                  0\n",
       "ffd62616                  0\n",
       "ffdafc72                  0\n",
       "ffe53446                  0\n",
       "ffed0342                  0\n",
       "fff2bdde                  0\n",
       "fff72025                  1\n",
       "\n",
       "[4293 rows x 1 columns]"
      ]
     },
     "execution_count": 230,
     "metadata": {},
     "output_type": "execute_result"
    }
   ],
   "source": [
    "resolutionData = eventsData[['person','event','screen_resolution']]\n",
    "resolutionData = resolutionData[resolutionData['event'].map(lambda x: x == 'conversion')]\n",
    "resolutionData = resolutionData.fillna('')\n",
    "resolutionData['screen_resolution'] = resolutionData['screen_resolution'].map(lambda x: 1 if( x == '360x640') else 0)\n",
    "resolutionData = resolutionData.groupby('person').agg({'screen_resolution':'sum'})\n",
    "resolutionData['screen_resolution'] = resolutionData['screen_resolution'].map(lambda x: 1 if (x>0) else 0)\n",
    "resolutionData"
   ]
  },
  {
   "cell_type": "markdown",
   "metadata": {},
   "source": [
    "Mergeo todos mis resultados de los nuevos features"
   ]
  },
  {
   "cell_type": "code",
   "execution_count": 231,
   "metadata": {},
   "outputs": [],
   "source": [
    "secionesUsuariosReducido = secionesUsuarios#[[\"person\",\"cant_seciones5\",\"cant_seciones4\",\"cant_seciones3\",\"event_checkout5\",\"event_checkout4\",\"event_conversion5\",\"event_conversion4\",\"event_ad campaign hit4\",\"event_ad campaign hit5\",\"event_lead5\",\"event_lead4\"]]"
   ]
  },
  {
   "cell_type": "code",
   "execution_count": 232,
   "metadata": {},
   "outputs": [
    {
     "name": "stdout",
     "output_type": "stream",
     "text": [
      "<class 'pandas.core.frame.DataFrame'>\n",
      "Int64Index: 38829 entries, 0 to 38828\n",
      "Data columns (total 7 columns):\n",
      "person                   38829 non-null object\n",
      "cant_seciones            38829 non-null int64\n",
      "event_checkout           38829 non-null float64\n",
      "event_conversion         38829 non-null float64\n",
      "event_ad campaign hit    38829 non-null float64\n",
      "event_lead               38829 non-null float64\n",
      "skus                     38829 non-null int64\n",
      "dtypes: float64(4), int64(2), object(1)\n",
      "memory usage: 2.4+ MB\n"
     ]
    }
   ],
   "source": [
    "dataTrocafone = pd.merge(secionesUsuariosReducido,users_view_list,on=\"person\",how = \"outer\")\n",
    "dataTrocafone.info()"
   ]
  },
  {
   "cell_type": "code",
   "execution_count": 234,
   "metadata": {},
   "outputs": [
    {
     "name": "stdout",
     "output_type": "stream",
     "text": [
      "<class 'pandas.core.frame.DataFrame'>\n",
      "Int64Index: 38829 entries, 0 to 38828\n",
      "Data columns (total 8 columns):\n",
      "person                   38829 non-null object\n",
      "cant_seciones            38829 non-null int64\n",
      "event_checkout           38829 non-null float64\n",
      "event_conversion         38829 non-null float64\n",
      "event_ad campaign hit    38829 non-null float64\n",
      "event_lead               38829 non-null float64\n",
      "skus                     38829 non-null int64\n",
      "screen_resolution        4293 non-null float64\n",
      "dtypes: float64(5), int64(2), object(1)\n",
      "memory usage: 2.7+ MB\n"
     ]
    }
   ],
   "source": [
    "dataTrocafone = pd.merge(dataTrocafone,resolutionData.reset_index(),on=\"person\",how = \"outer\")\n",
    "#dataTrocafone['screen_resolution_A'] = dataTrocafone['screen_resolution_A'].fillna(dataTrocafone['screen_resolution_A'].mean())\n",
    "dataTrocafone.info()"
   ]
  },
  {
   "cell_type": "code",
   "execution_count": 235,
   "metadata": {},
   "outputs": [
    {
     "data": {
      "text/plain": [
       "38829"
      ]
     },
     "execution_count": 235,
     "metadata": {},
     "output_type": "execute_result"
    }
   ],
   "source": [
    "dataTrocafone = pd.merge(dataTrocafone,person_term,on=\"person\",how=\"outer\")\n",
    "dataTrocafone['person'].count()"
   ]
  },
  {
   "cell_type": "code",
   "execution_count": 236,
   "metadata": {},
   "outputs": [
    {
     "data": {
      "text/plain": [
       "38829"
      ]
     },
     "execution_count": 236,
     "metadata": {},
     "output_type": "execute_result"
    }
   ],
   "source": [
    "dataTrocafone = pd.merge(dataTrocafone,device_user_type,on=\"person\",how=\"outer\")\n",
    "dataTrocafone['person'].count()"
   ]
  },
  {
   "cell_type": "code",
   "execution_count": 237,
   "metadata": {},
   "outputs": [
    {
     "data": {
      "text/plain": [
       "38829"
      ]
     },
     "execution_count": 237,
     "metadata": {},
     "output_type": "execute_result"
    }
   ],
   "source": [
    "dataTrocafone[\"Computer\"] = dataTrocafone[\"Computer\"].fillna(0)\n",
    "dataTrocafone['person'].count()"
   ]
  },
  {
   "cell_type": "code",
   "execution_count": 238,
   "metadata": {},
   "outputs": [
    {
     "data": {
      "text/plain": [
       "38829"
      ]
     },
     "execution_count": 238,
     "metadata": {},
     "output_type": "execute_result"
    }
   ],
   "source": [
    "dataTrocafone[\"Smartphone\"] = dataTrocafone[\"Smartphone\"].fillna(0)\n",
    "dataTrocafone['person'].count()"
   ]
  },
  {
   "cell_type": "code",
   "execution_count": 239,
   "metadata": {},
   "outputs": [
    {
     "data": {
      "text/plain": [
       "38829"
      ]
     },
     "execution_count": 239,
     "metadata": {},
     "output_type": "execute_result"
    }
   ],
   "source": [
    "dataTrocafone[\"otros\"] = dataTrocafone[\"otros\"].fillna(0)\n",
    "dataTrocafone['person'].count()"
   ]
  },
  {
   "cell_type": "code",
   "execution_count": 240,
   "metadata": {},
   "outputs": [
    {
     "data": {
      "text/plain": [
       "38829"
      ]
     },
     "execution_count": 240,
     "metadata": {},
     "output_type": "execute_result"
    }
   ],
   "source": [
    "dataTrocafone = pd.merge(dataTrocafone,productData,on=\"person\",how=\"outer\")\n",
    "dataTrocafone['person'].count()"
   ]
  },
  {
   "cell_type": "code",
   "execution_count": 241,
   "metadata": {},
   "outputs": [
    {
     "data": {
      "text/plain": [
       "38829"
      ]
     },
     "execution_count": 241,
     "metadata": {},
     "output_type": "execute_result"
    }
   ],
   "source": [
    "dataTrocafone = pd.merge(dataTrocafone,users_partedeldia,on=\"person\",how=\"left\")\n",
    "dataTrocafone['person'].count()"
   ]
  },
  {
   "cell_type": "code",
   "execution_count": 242,
   "metadata": {},
   "outputs": [
    {
     "data": {
      "text/plain": [
       "38829"
      ]
     },
     "execution_count": 242,
     "metadata": {},
     "output_type": "execute_result"
    }
   ],
   "source": [
    "dataTrocafone = pd.merge(dataTrocafone,person_campaing,on=\"person\",how=\"outer\")\n",
    "dataTrocafone['person'].count()"
   ]
  },
  {
   "cell_type": "code",
   "execution_count": 243,
   "metadata": {},
   "outputs": [
    {
     "data": {
      "text/plain": [
       "38829"
      ]
     },
     "execution_count": 243,
     "metadata": {},
     "output_type": "execute_result"
    }
   ],
   "source": [
    "dataTrocafone = pd.merge(dataTrocafone,person_channel,on=\"person\",how=\"outer\")\n",
    "dataTrocafone['person'].count()"
   ]
  },
  {
   "cell_type": "code",
   "execution_count": 244,
   "metadata": {},
   "outputs": [
    {
     "data": {
      "text/plain": [
       "38829"
      ]
     },
     "execution_count": 244,
     "metadata": {},
     "output_type": "execute_result"
    }
   ],
   "source": [
    "dataTrocafone = pd.merge(dataTrocafone,esBrasilero,on=\"person\",how=\"outer\")\n",
    "dataTrocafone['person'].count()"
   ]
  },
  {
   "cell_type": "code",
   "execution_count": 245,
   "metadata": {},
   "outputs": [],
   "source": [
    "dataTrocafone = dataTrocafone.fillna(0)"
   ]
  },
  {
   "cell_type": "code",
   "execution_count": 246,
   "metadata": {},
   "outputs": [
    {
     "data": {
      "text/plain": [
       "38829"
      ]
     },
     "execution_count": 246,
     "metadata": {},
     "output_type": "execute_result"
    }
   ],
   "source": [
    "dataTrocafone = pd.merge(dataTrocafone,region,on=\"person\",how=\"outer\")\n",
    "dataTrocafone['person'].count()"
   ]
  },
  {
   "cell_type": "code",
   "execution_count": 247,
   "metadata": {},
   "outputs": [],
   "source": [
    "dataTrocafone = dataTrocafone.drop(\"region\",axis=1)"
   ]
  },
  {
   "cell_type": "code",
   "execution_count": 248,
   "metadata": {},
   "outputs": [],
   "source": [
    "dataTrocafone[\"ventas_region\"] = dataTrocafone[\"ventas_region\"].fillna(0)"
   ]
  },
  {
   "cell_type": "code",
   "execution_count": 249,
   "metadata": {},
   "outputs": [
    {
     "data": {
      "text/plain": [
       "38829"
      ]
     },
     "execution_count": 249,
     "metadata": {},
     "output_type": "execute_result"
    }
   ],
   "source": [
    "dataTrocafone = pd.merge(dataTrocafone,last_15days,how = \"left\", on=\"person\")\n",
    "dataTrocafone['person'].count()"
   ]
  },
  {
   "cell_type": "code",
   "execution_count": 250,
   "metadata": {},
   "outputs": [],
   "source": [
    "dataTrocafone[\"count_activity\"] = dataTrocafone[\"count_activity\"].fillna(0)"
   ]
  },
  {
   "cell_type": "code",
   "execution_count": 251,
   "metadata": {},
   "outputs": [],
   "source": [
    "dataTrocafone[\"conversiones_15lastdays\"] = dataTrocafone[\"conversiones_15lastdays\"].fillna(0)\n",
    "dataTrocafone[\"checkout_15lastdays\"] = dataTrocafone[\"checkout_15lastdays\"].fillna(0)\n",
    "dataTrocafone[\"viewed_15lastday\"] = dataTrocafone[\"viewed_15lastday\"].fillna(0)"
   ]
  },
  {
   "cell_type": "code",
   "execution_count": 252,
   "metadata": {},
   "outputs": [],
   "source": [
    "personColor = personColor.reset_index()"
   ]
  },
  {
   "cell_type": "code",
   "execution_count": 253,
   "metadata": {},
   "outputs": [
    {
     "data": {
      "text/plain": [
       "38829"
      ]
     },
     "execution_count": 253,
     "metadata": {},
     "output_type": "execute_result"
    }
   ],
   "source": [
    "dataTrocafone = pd.merge(dataTrocafone,personColor,how = \"left\", on=\"person\")\n",
    "dataTrocafone['person'].count()"
   ]
  },
  {
   "cell_type": "code",
   "execution_count": 254,
   "metadata": {},
   "outputs": [],
   "source": [
    "dataTrocafone[\"color_Preto\"] = dataTrocafone[\"color_Preto\"].fillna(0)\n",
    "dataTrocafone[\"color_Dourado\"] = dataTrocafone[\"color_Dourado\"].fillna(0)\n",
    "dataTrocafone[\"color_Branco\"] = dataTrocafone[\"color_Branco\"].fillna(0)\n",
    "dataTrocafone[\"color_Cinza espacial\"] = dataTrocafone[\"color_Cinza espacial\"].fillna(0)"
   ]
  },
  {
   "cell_type": "code",
   "execution_count": 255,
   "metadata": {},
   "outputs": [
    {
     "data": {
      "text/plain": [
       "38829"
      ]
     },
     "execution_count": 255,
     "metadata": {},
     "output_type": "execute_result"
    }
   ],
   "source": [
    "dataTrocafone = pd.merge(dataTrocafone,new_last15days,how = \"left\", on=\"person\")\n",
    "dataTrocafone['person'].count()"
   ]
  },
  {
   "cell_type": "code",
   "execution_count": 256,
   "metadata": {},
   "outputs": [],
   "source": [
    "dataTrocafone[\"new_15lastdays\"] = dataTrocafone[\"new_15lastdays\"].fillna(0)\n"
   ]
  },
  {
   "cell_type": "code",
   "execution_count": 257,
   "metadata": {},
   "outputs": [
    {
     "data": {
      "text/plain": [
       "38829"
      ]
     },
     "execution_count": 257,
     "metadata": {},
     "output_type": "execute_result"
    }
   ],
   "source": [
    "dataTrocafone = pd.merge(dataTrocafone,skuData,how = \"left\", on=\"person\")\n",
    "dataTrocafone = pd.merge(dataTrocafone,dataSearchAndSelling,how = \"left\", on=\"person\")\n",
    "dataTrocafone['person'].count()"
   ]
  },
  {
   "cell_type": "code",
   "execution_count": 258,
   "metadata": {},
   "outputs": [
    {
     "data": {
      "text/plain": [
       "38829"
      ]
     },
     "execution_count": 258,
     "metadata": {},
     "output_type": "execute_result"
    }
   ],
   "source": [
    "dataTrocafone[\"cantidad_De_Compras_De_Mismo_Sku\"] = dataTrocafone[\"cantidad_De_Compras_De_Mismo_Sku\"].fillna(0)\n",
    "dataTrocafone[\"sku\"] = dataTrocafone[\"sku\"].fillna(0)\n",
    "dataTrocafone['person'].count()"
   ]
  },
  {
   "cell_type": "code",
   "execution_count": 259,
   "metadata": {},
   "outputs": [
    {
     "data": {
      "text/plain": [
       "38829"
      ]
     },
     "execution_count": 259,
     "metadata": {},
     "output_type": "execute_result"
    }
   ],
   "source": [
    "dataTrocafone[\"search_and_purchase\"] = dataTrocafone[\"search_and_purchase\"].fillna(0)\n",
    "dataTrocafone[\"Cantidad_De_Busquedas_Por_Termino\"] = dataTrocafone[\"Cantidad_De_Busquedas_Por_Termino\"].fillna(0)\n",
    "dataTrocafone['person'].count()"
   ]
  },
  {
   "cell_type": "code",
   "execution_count": 260,
   "metadata": {},
   "outputs": [
    {
     "data": {
      "text/plain": [
       "38829"
      ]
     },
     "execution_count": 260,
     "metadata": {},
     "output_type": "execute_result"
    }
   ],
   "source": [
    "dataTrocafone = pd.merge(dataTrocafone,auxiliar,how = \"left\", on=\"person\")\n",
    "dataTrocafone[\"cantidad_de_Url_de_compra\"] = dataTrocafone[\"cantidad_de_Url_de_compra\"].fillna(0)\n",
    "dataTrocafone['person'].count()"
   ]
  },
  {
   "cell_type": "code",
   "execution_count": 261,
   "metadata": {},
   "outputs": [
    {
     "data": {
      "text/plain": [
       "38829"
      ]
     },
     "execution_count": 261,
     "metadata": {},
     "output_type": "execute_result"
    }
   ],
   "source": [
    "dataTrocafone = pd.merge(dataTrocafone,staticPageData,how = \"left\", on=\"person\")\n",
    "dataTrocafone[\"cantidadDeStaticPage\"] = dataTrocafone[\"cantidadDeStaticPage\"].fillna(0)\n",
    "dataTrocafone['person'].count()"
   ]
  },
  {
   "cell_type": "code",
   "execution_count": 263,
   "metadata": {},
   "outputs": [
    {
     "name": "stdout",
     "output_type": "stream",
     "text": [
      "<class 'pandas.core.frame.DataFrame'>\n",
      "Int64Index: 38829 entries, 0 to 38828\n",
      "Data columns (total 76 columns):\n",
      "person                               38829 non-null object\n",
      "cant_seciones                        38829 non-null int64\n",
      "event_checkout                       38829 non-null float64\n",
      "event_conversion                     38829 non-null float64\n",
      "event_ad campaign hit                38829 non-null float64\n",
      "event_lead                           38829 non-null float64\n",
      "skus                                 38829 non-null int64\n",
      "screen_resolution                    38829 non-null float64\n",
      "Busca_terminos_populares             38829 non-null int64\n",
      "Computer                             38829 non-null float64\n",
      "Smartphone                           38829 non-null float64\n",
      "otros                                38829 non-null float64\n",
      "marca_apple                          38829 non-null float64\n",
      "marca_asus                           38829 non-null float64\n",
      "marca_lenovo                         38829 non-null float64\n",
      "marca_lg                             38829 non-null float64\n",
      "marca_motorola                       38829 non-null float64\n",
      "marca_samsung                        38829 non-null float64\n",
      "marca_sony                           38829 non-null float64\n",
      "condition_Bom                        38829 non-null float64\n",
      "condition_Bom - Sem Touch ID         38829 non-null float64\n",
      "condition_Excelente                  38829 non-null float64\n",
      "condition_Muito Bom                  38829 non-null float64\n",
      "version_galaxy j7                    38829 non-null float64\n",
      "version_galaxy j5                    38829 non-null float64\n",
      "version_galaxy s7                    38829 non-null float64\n",
      "version_iphone 6                     38829 non-null float64\n",
      "version_iphone 5s                    38829 non-null float64\n",
      "version_iphone 6s                    38829 non-null float64\n",
      "version_moto g4                      38829 non-null float64\n",
      "version_moto g2                      38829 non-null float64\n",
      "version_galaxy s6                    38829 non-null float64\n",
      "storage_128GB                        38829 non-null float64\n",
      "storage_16GB                         38829 non-null float64\n",
      "storage_256GB                        38829 non-null float64\n",
      "storage_32GB                         38829 non-null float64\n",
      "storage_4GB                          38829 non-null float64\n",
      "storage_512MB                        38829 non-null float64\n",
      "storage_64GB                         38829 non-null float64\n",
      "storage_8GB                          38829 non-null float64\n",
      "Parte del dia_Madrugada              38829 non-null float64\n",
      "Parte del dia_Mañana                 38829 non-null float64\n",
      "Parte del dia_Noche                  38829 non-null float64\n",
      "Parte del dia_Tarde                  38829 non-null float64\n",
      "campaign_source_google               38829 non-null float64\n",
      "campaign_source_criteo               38829 non-null float64\n",
      "campaign_source_rtbhouse             38829 non-null float64\n",
      "channel_Direct                       38829 non-null float64\n",
      "channel_Paid                         38829 non-null float64\n",
      "channel_Organic                      38829 non-null float64\n",
      "channel_Referral                     38829 non-null float64\n",
      "Brasilero                            38829 non-null float64\n",
      "ventas_region                        38829 non-null float64\n",
      "count_activity                       38829 non-null float64\n",
      "conversiones_15lastdays              38829 non-null float64\n",
      "checkout_15lastdays                  38829 non-null float64\n",
      "viewed_15lastday                     38829 non-null float64\n",
      "color_Preto                          38829 non-null float64\n",
      "color_Dourado                        38829 non-null float64\n",
      "color_Branco                         38829 non-null float64\n",
      "color_Cinza espacial                 38829 non-null float64\n",
      "new_15lastdays                       38829 non-null float64\n",
      "sku                                  38829 non-null float64\n",
      "cantidad_De_Compras_De_Mismo_Sku     38829 non-null float64\n",
      "Cantidad_De_Busquedas_Por_Termino    38829 non-null float64\n",
      "search_and_purchase                  38829 non-null float64\n",
      "cantidad_de_Url_de_compra            38829 non-null float64\n",
      "cantidadDeStaticPage                 38829 non-null float64\n",
      "Prob_Apple                           38829 non-null float64\n",
      "Prob_Asus                            38829 non-null float64\n",
      "Prob_Lenovo                          38829 non-null float64\n",
      "Prob_lg                              38829 non-null float64\n",
      "Prob_motorola                        38829 non-null float64\n",
      "Prob_quantum                         38829 non-null float64\n",
      "Prob_samsung                         38829 non-null float64\n",
      "Prob_sony                            38829 non-null float64\n",
      "dtypes: float64(72), int64(3), object(1)\n",
      "memory usage: 22.8+ MB\n"
     ]
    }
   ],
   "source": [
    "dataTrocafone = pd.merge(dataTrocafone,comprasPorMarcaData.reset_index(),how = \"left\", on=\"person\")\n",
    "dataTrocafone = dataTrocafone.fillna(0)\n",
    "dataTrocafone.info()"
   ]
  },
  {
   "cell_type": "code",
   "execution_count": 264,
   "metadata": {},
   "outputs": [],
   "source": [
    "dataTrocafone = pd.merge(dataTrocafone,dataF,how = \"left\", on=\"person\")\n",
    "dataTrocafone[\"sku_multiple\"] = dataTrocafone[\"sku_multiple\"].fillna(0)"
   ]
  },
  {
   "cell_type": "markdown",
   "metadata": {},
   "source": [
    "Armo el set de training y el de test"
   ]
  },
  {
   "cell_type": "code",
   "execution_count": 265,
   "metadata": {},
   "outputs": [],
   "source": [
    "trainingSet = pd.read_csv(\"data/labels_training_set.csv\", low_memory = False)"
   ]
  },
  {
   "cell_type": "code",
   "execution_count": 266,
   "metadata": {},
   "outputs": [
    {
     "data": {
      "text/plain": [
       "19414"
      ]
     },
     "execution_count": 266,
     "metadata": {},
     "output_type": "execute_result"
    }
   ],
   "source": [
    "trainingSet[\"person\"].count()"
   ]
  },
  {
   "cell_type": "code",
   "execution_count": 267,
   "metadata": {},
   "outputs": [
    {
     "data": {
      "text/plain": [
       "38829"
      ]
     },
     "execution_count": 267,
     "metadata": {},
     "output_type": "execute_result"
    }
   ],
   "source": [
    "dataTrocafone[\"person\"].count()"
   ]
  },
  {
   "cell_type": "code",
   "execution_count": 268,
   "metadata": {},
   "outputs": [],
   "source": [
    "setTraining = pd.merge(dataTrocafone,trainingSet,on=\"person\",how = \"inner\")"
   ]
  },
  {
   "cell_type": "code",
   "execution_count": 269,
   "metadata": {},
   "outputs": [
    {
     "data": {
      "text/plain": [
       "19414"
      ]
     },
     "execution_count": 269,
     "metadata": {},
     "output_type": "execute_result"
    }
   ],
   "source": [
    "setTraining[\"person\"].count()"
   ]
  },
  {
   "cell_type": "code",
   "execution_count": 271,
   "metadata": {},
   "outputs": [],
   "source": [
    "setTraining.to_csv('setEntrenamiento.csv',index=False)"
   ]
  },
  {
   "cell_type": "code",
   "execution_count": 272,
   "metadata": {},
   "outputs": [],
   "source": [
    "kaggle_test = pd.read_csv(\"data/trocafone_kaggle_test.csv\", low_memory = False)"
   ]
  },
  {
   "cell_type": "code",
   "execution_count": 273,
   "metadata": {},
   "outputs": [
    {
     "data": {
      "text/plain": [
       "19415"
      ]
     },
     "execution_count": 273,
     "metadata": {},
     "output_type": "execute_result"
    }
   ],
   "source": [
    "kaggle_test[\"person\"].count()"
   ]
  },
  {
   "cell_type": "code",
   "execution_count": 274,
   "metadata": {},
   "outputs": [],
   "source": [
    "test = pd.merge(kaggle_test,dataTrocafone,on=\"person\",how=\"inner\")"
   ]
  },
  {
   "cell_type": "code",
   "execution_count": 275,
   "metadata": {},
   "outputs": [
    {
     "data": {
      "text/plain": [
       "19415"
      ]
     },
     "execution_count": 275,
     "metadata": {},
     "output_type": "execute_result"
    }
   ],
   "source": [
    "test[\"person\"].count()"
   ]
  },
  {
   "cell_type": "code",
   "execution_count": 276,
   "metadata": {},
   "outputs": [],
   "source": [
    "test.to_csv(\"setTest.csv\",index = False)"
   ]
  },
  {
   "cell_type": "code",
   "execution_count": 277,
   "metadata": {},
   "outputs": [
    {
     "name": "stdout",
     "output_type": "stream",
     "text": [
      "<class 'pandas.core.frame.DataFrame'>\n",
      "Int64Index: 19415 entries, 0 to 19414\n",
      "Data columns (total 77 columns):\n",
      "person                               19415 non-null object\n",
      "cant_seciones                        19415 non-null int64\n",
      "event_checkout                       19415 non-null float64\n",
      "event_conversion                     19415 non-null float64\n",
      "event_ad campaign hit                19415 non-null float64\n",
      "event_lead                           19415 non-null float64\n",
      "skus                                 19415 non-null int64\n",
      "screen_resolution                    19415 non-null float64\n",
      "Busca_terminos_populares             19415 non-null int64\n",
      "Computer                             19415 non-null float64\n",
      "Smartphone                           19415 non-null float64\n",
      "otros                                19415 non-null float64\n",
      "marca_apple                          19415 non-null float64\n",
      "marca_asus                           19415 non-null float64\n",
      "marca_lenovo                         19415 non-null float64\n",
      "marca_lg                             19415 non-null float64\n",
      "marca_motorola                       19415 non-null float64\n",
      "marca_samsung                        19415 non-null float64\n",
      "marca_sony                           19415 non-null float64\n",
      "condition_Bom                        19415 non-null float64\n",
      "condition_Bom - Sem Touch ID         19415 non-null float64\n",
      "condition_Excelente                  19415 non-null float64\n",
      "condition_Muito Bom                  19415 non-null float64\n",
      "version_galaxy j7                    19415 non-null float64\n",
      "version_galaxy j5                    19415 non-null float64\n",
      "version_galaxy s7                    19415 non-null float64\n",
      "version_iphone 6                     19415 non-null float64\n",
      "version_iphone 5s                    19415 non-null float64\n",
      "version_iphone 6s                    19415 non-null float64\n",
      "version_moto g4                      19415 non-null float64\n",
      "version_moto g2                      19415 non-null float64\n",
      "version_galaxy s6                    19415 non-null float64\n",
      "storage_128GB                        19415 non-null float64\n",
      "storage_16GB                         19415 non-null float64\n",
      "storage_256GB                        19415 non-null float64\n",
      "storage_32GB                         19415 non-null float64\n",
      "storage_4GB                          19415 non-null float64\n",
      "storage_512MB                        19415 non-null float64\n",
      "storage_64GB                         19415 non-null float64\n",
      "storage_8GB                          19415 non-null float64\n",
      "Parte del dia_Madrugada              19415 non-null float64\n",
      "Parte del dia_Mañana                 19415 non-null float64\n",
      "Parte del dia_Noche                  19415 non-null float64\n",
      "Parte del dia_Tarde                  19415 non-null float64\n",
      "campaign_source_google               19415 non-null float64\n",
      "campaign_source_criteo               19415 non-null float64\n",
      "campaign_source_rtbhouse             19415 non-null float64\n",
      "channel_Direct                       19415 non-null float64\n",
      "channel_Paid                         19415 non-null float64\n",
      "channel_Organic                      19415 non-null float64\n",
      "channel_Referral                     19415 non-null float64\n",
      "Brasilero                            19415 non-null float64\n",
      "ventas_region                        19415 non-null float64\n",
      "count_activity                       19415 non-null float64\n",
      "conversiones_15lastdays              19415 non-null float64\n",
      "checkout_15lastdays                  19415 non-null float64\n",
      "viewed_15lastday                     19415 non-null float64\n",
      "color_Preto                          19415 non-null float64\n",
      "color_Dourado                        19415 non-null float64\n",
      "color_Branco                         19415 non-null float64\n",
      "color_Cinza espacial                 19415 non-null float64\n",
      "new_15lastdays                       19415 non-null float64\n",
      "sku                                  19415 non-null float64\n",
      "cantidad_De_Compras_De_Mismo_Sku     19415 non-null float64\n",
      "Cantidad_De_Busquedas_Por_Termino    19415 non-null float64\n",
      "search_and_purchase                  19415 non-null float64\n",
      "cantidad_de_Url_de_compra            19415 non-null float64\n",
      "cantidadDeStaticPage                 19415 non-null float64\n",
      "Prob_Apple                           19415 non-null float64\n",
      "Prob_Asus                            19415 non-null float64\n",
      "Prob_Lenovo                          19415 non-null float64\n",
      "Prob_lg                              19415 non-null float64\n",
      "Prob_motorola                        19415 non-null float64\n",
      "Prob_quantum                         19415 non-null float64\n",
      "Prob_samsung                         19415 non-null float64\n",
      "Prob_sony                            19415 non-null float64\n",
      "sku_multiple                         19415 non-null float64\n",
      "dtypes: float64(73), int64(3), object(1)\n",
      "memory usage: 11.6+ MB\n"
     ]
    }
   ],
   "source": [
    "test.info()"
   ]
  }
 ],
 "metadata": {
  "kernelspec": {
   "display_name": "Python 3",
   "language": "python",
   "name": "python3"
  },
  "language_info": {
   "codemirror_mode": {
    "name": "ipython",
    "version": 3
   },
   "file_extension": ".py",
   "mimetype": "text/x-python",
   "name": "python",
   "nbconvert_exporter": "python",
   "pygments_lexer": "ipython3",
   "version": "3.6.0"
  }
 },
 "nbformat": 4,
 "nbformat_minor": 2
}
