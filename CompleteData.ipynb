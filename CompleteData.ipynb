{
 "cells": [
  {
   "cell_type": "code",
   "execution_count": 2,
   "metadata": {},
   "outputs": [],
   "source": [
    "import pandas as pd\n",
    "import datetime as dt\n",
    "import numpy as np"
   ]
  },
  {
   "cell_type": "markdown",
   "metadata": {},
   "source": [
    "SET DE DATOS"
   ]
  },
  {
   "cell_type": "code",
   "execution_count": 3,
   "metadata": {},
   "outputs": [],
   "source": [
    "eventsData = pd.read_csv(\"data/events_up_to_01062018.csv\",low_memory = False)"
   ]
  },
  {
   "cell_type": "code",
   "execution_count": 4,
   "metadata": {},
   "outputs": [],
   "source": [
    "trainingSet = pd.read_csv(\"data/labels_training_set.csv\", low_memory = False)"
   ]
  },
  {
   "cell_type": "code",
   "execution_count": 5,
   "metadata": {},
   "outputs": [],
   "source": [
    "kaggle_test = pd.read_csv(\"data/trocafone_kaggle_test.csv\", low_memory = False)"
   ]
  },
  {
   "cell_type": "markdown",
   "metadata": {},
   "source": [
    "Funciones para agregar datos"
   ]
  },
  {
   "cell_type": "code",
   "execution_count": 6,
   "metadata": {},
   "outputs": [],
   "source": [
    "def agregarNacionalidadRegionYCiudad(df):\n",
    "    userscountry = {}\n",
    "    usersregion ={}\n",
    "    userscity = {}\n",
    "    device_type = {}\n",
    "    screen_resolution = {}\n",
    "    operating_system_version = {}\n",
    "    browser_version = {}\n",
    "    new_vs_returning = {}\n",
    "    channel={}\n",
    "    df = eventsData\n",
    "    df = df[[\"event\",\"person\",\"country\",\"region\",\"city\",\"screen_resolution\",\"device_type\",\"operating_system_version\",\"browser_version\",\"new_vs_returning\",\"channel\"]]\n",
    "    df= df[df[\"event\"] == \"visited site\"]\n",
    "    df = df.drop_duplicates(keep=\"first\")\n",
    "    df = df.set_index(\"person\")\n",
    "    for user, row in df.iterrows():\n",
    "        userscountry[user] = row[\"country\"]\n",
    "        usersregion[user] =row[\"region\"]\n",
    "        userscity[user] = row[\"city\"]\n",
    "        device_type[user] = row[\"device_type\"]\n",
    "        screen_resolution[user]=row[\"screen_resolution\"]\n",
    "        operating_system_version[user] = row[\"operating_system_version\"]\n",
    "        browser_version[user] = row[\"browser_version\"]\n",
    "        new_vs_returning[user] = row[\"new_vs_returning\"]\n",
    "        channel[user] = row[\"channel\"]\n",
    "    return userscountry,usersregion,userscity,device_type,screen_resolution,operating_system_version,browser_version,new_vs_returning,channel"
   ]
  },
  {
   "cell_type": "code",
   "execution_count": 7,
   "metadata": {},
   "outputs": [],
   "source": [
    "def agregarModelos(df):\n",
    "    skuModels = {}\n",
    "    \n",
    "    df = df[[\"event\",\"sku\",\"model\"]]\n",
    "    df= df[df[\"event\"] == \"checkout\"]\n",
    "    df = df.drop_duplicates(keep=\"first\")\n",
    "    df = df.set_index(\"sku\")\n",
    "    for sku, row in df.iterrows():\n",
    "        skuModels[sku] = row[\"model\"]\n",
    "    return skuModels"
   ]
  },
  {
   "cell_type": "code",
   "execution_count": 8,
   "metadata": {},
   "outputs": [],
   "source": [
    "def capitalize_words(string):\n",
    "    words = string.split()\n",
    "    return ' '.join([word.capitalize() for word in words])\n",
    "\n",
    "\n"
   ]
  },
  {
   "cell_type": "code",
   "execution_count": 9,
   "metadata": {},
   "outputs": [],
   "source": [
    "urls={}\n",
    "for url in eventsData[\"url\"].dropna():\n",
    "    if(len(url)>1):\n",
    "        stringModelo = url.split(\"/\")[2:]\n",
    "        if(len(stringModelo)>1):\n",
    "            \n",
    "            stringModelo1 = stringModelo[1].split(\"-\")\n",
    "            \n",
    "            if(stringModelo[0] == stringModelo1[0]):\n",
    "                urls[url] = capitalize_words(\" \".join(stringModelo1))\n",
    "            else:\n",
    "                urls[url] = capitalize_words(\" \".join([stringModelo[0]]+stringModelo1))\n",
    "        else:\n",
    "            #print(stringModelo)\n",
    "            urls[url] = capitalize_words(\" \".join(stringModelo))"
   ]
  },
  {
   "cell_type": "code",
   "execution_count": 10,
   "metadata": {},
   "outputs": [],
   "source": [
    "#Funcion que pasa a formato datetime las fechas que recibimos.\n",
    "def datetime(date,format_string):\n",
    "    return pd.to_datetime(date,format= format_string,errors='coerce')\n",
    "\n",
    "\n"
   ]
  },
  {
   "cell_type": "code",
   "execution_count": 11,
   "metadata": {},
   "outputs": [],
   "source": [
    "def DevolverParteDelDia(date):\n",
    "    if(date.hour > 0 and date.hour<6):\n",
    "        return \"Madrugada\"\n",
    "    elif(date.hour > 6 and date.hour<12):\n",
    "        return \"Mañana\"\n",
    "    elif(date.hour>12 and date.hour<18):\n",
    "        return \"Tarde\"\n",
    "    else:\n",
    "        return \"Noche\""
   ]
  },
  {
   "cell_type": "markdown",
   "metadata": {},
   "source": [
    "Agrego Nacionalidades faltantes"
   ]
  },
  {
   "cell_type": "code",
   "execution_count": 12,
   "metadata": {},
   "outputs": [],
   "source": [
    "userscountry,usersregion,userscity,device_type,screen_resolution,operating_system_version,browser_version,new_vs_returning,channel = agregarNacionalidadRegionYCiudad(eventsData)\n",
    "eventsData[\"country\"] = eventsData[\"country\"].fillna(eventsData[\"person\"].map(userscountry))\n",
    "eventsData[\"region\"] = eventsData[\"region\"].fillna(eventsData[\"person\"].map(usersregion))\n",
    "eventsData[\"city\"] = eventsData[\"city\"].fillna(eventsData[\"person\"].map(userscity))\n",
    "eventsData[\"device_type\"] = eventsData[\"device_type\"].fillna(eventsData[\"person\"].map(device_type))\n",
    "eventsData[\"screen_resolution\"] = eventsData[\"screen_resolution\"].fillna(eventsData[\"person\"].map(screen_resolution))\n",
    "eventsData[\"operating_system_version\"] = eventsData[\"operating_system_version\"].fillna(eventsData[\"person\"].map(operating_system_version))\n",
    "eventsData[\"browser_version\"] = eventsData[\"browser_version\"].fillna(eventsData[\"person\"].map(browser_version))\n",
    "#eventsData[\"new_vs_returning\"] = eventsData[\"new_vs_returning\"].fillna(eventsData[\"person\"].map(new_vs_returning))\n",
    "#eventsData[\"channel\"] = eventsData[\"channel\"].fillna(eventsData[\"person\"].map(channel))"
   ]
  },
  {
   "cell_type": "markdown",
   "metadata": {},
   "source": [
    "Agrego modelos faltantes"
   ]
  },
  {
   "cell_type": "code",
   "execution_count": 13,
   "metadata": {},
   "outputs": [
    {
     "data": {
      "text/plain": [
       "False    1321513\n",
       "True     1020168\n",
       "Name: model, dtype: int64"
      ]
     },
     "execution_count": 13,
     "metadata": {},
     "output_type": "execute_result"
    }
   ],
   "source": [
    "eventsData[\"model\"].isnull().value_counts()"
   ]
  },
  {
   "cell_type": "code",
   "execution_count": 14,
   "metadata": {},
   "outputs": [],
   "source": [
    "eventsData[\"model\"] = eventsData[\"model\"].fillna(eventsData[\"url\"].map(urls))"
   ]
  },
  {
   "cell_type": "code",
   "execution_count": 15,
   "metadata": {},
   "outputs": [],
   "source": [
    "eventsData[\"model\"] = eventsData[\"model\"].map(lambda x: x.lower() if ((not pd.isnull(x)) )else x)"
   ]
  },
  {
   "cell_type": "code",
   "execution_count": 16,
   "metadata": {},
   "outputs": [
    {
     "data": {
      "text/plain": [
       "False    1448457\n",
       "True      893224\n",
       "Name: model, dtype: int64"
      ]
     },
     "execution_count": 16,
     "metadata": {},
     "output_type": "execute_result"
    }
   ],
   "source": [
    "eventsData[\"model\"].isnull().value_counts()"
   ]
  },
  {
   "cell_type": "markdown",
   "metadata": {},
   "source": [
    "Agrego parte del dia "
   ]
  },
  {
   "cell_type": "code",
   "execution_count": 17,
   "metadata": {},
   "outputs": [],
   "source": [
    "eventsData[\"timestamp\"] = datetime(eventsData[\"timestamp\"],\"%Y-%m-%dT%H:%M:%S\")"
   ]
  },
  {
   "cell_type": "code",
   "execution_count": 18,
   "metadata": {},
   "outputs": [],
   "source": [
    "eventsData[\"Parte del dia\"] = eventsData[\"timestamp\"].map(lambda x: DevolverParteDelDia(x))"
   ]
  },
  {
   "cell_type": "code",
   "execution_count": 19,
   "metadata": {},
   "outputs": [
    {
     "data": {
      "text/html": [
       "<div>\n",
       "<table border=\"1\" class=\"dataframe\">\n",
       "  <thead>\n",
       "    <tr style=\"text-align: right;\">\n",
       "      <th></th>\n",
       "      <th>timestamp</th>\n",
       "      <th>event</th>\n",
       "      <th>person</th>\n",
       "      <th>url</th>\n",
       "      <th>sku</th>\n",
       "      <th>model</th>\n",
       "      <th>condition</th>\n",
       "      <th>storage</th>\n",
       "      <th>color</th>\n",
       "      <th>skus</th>\n",
       "      <th>...</th>\n",
       "      <th>channel</th>\n",
       "      <th>new_vs_returning</th>\n",
       "      <th>city</th>\n",
       "      <th>region</th>\n",
       "      <th>country</th>\n",
       "      <th>device_type</th>\n",
       "      <th>screen_resolution</th>\n",
       "      <th>operating_system_version</th>\n",
       "      <th>browser_version</th>\n",
       "      <th>Parte del dia</th>\n",
       "    </tr>\n",
       "  </thead>\n",
       "  <tbody>\n",
       "    <tr>\n",
       "      <th>0</th>\n",
       "      <td>2018-05-18 00:11:59</td>\n",
       "      <td>viewed product</td>\n",
       "      <td>4886f805</td>\n",
       "      <td>NaN</td>\n",
       "      <td>9288.0</td>\n",
       "      <td>samsung galaxy j7 prime</td>\n",
       "      <td>Excelente</td>\n",
       "      <td>32GB</td>\n",
       "      <td>Dourado</td>\n",
       "      <td>NaN</td>\n",
       "      <td>...</td>\n",
       "      <td>NaN</td>\n",
       "      <td>NaN</td>\n",
       "      <td>Cantagalo</td>\n",
       "      <td>Rio de Janeiro</td>\n",
       "      <td>Brazil</td>\n",
       "      <td>Smartphone</td>\n",
       "      <td>360x640</td>\n",
       "      <td>Android 7</td>\n",
       "      <td>Chrome Mobile 64.0</td>\n",
       "      <td>Noche</td>\n",
       "    </tr>\n",
       "    <tr>\n",
       "      <th>1</th>\n",
       "      <td>2018-05-18 00:11:27</td>\n",
       "      <td>viewed product</td>\n",
       "      <td>ad93850f</td>\n",
       "      <td>NaN</td>\n",
       "      <td>304.0</td>\n",
       "      <td>iphone 5s</td>\n",
       "      <td>Muito Bom</td>\n",
       "      <td>32GB</td>\n",
       "      <td>Cinza espacial</td>\n",
       "      <td>NaN</td>\n",
       "      <td>...</td>\n",
       "      <td>NaN</td>\n",
       "      <td>NaN</td>\n",
       "      <td>São Paulo</td>\n",
       "      <td>Sao Paulo</td>\n",
       "      <td>Brazil</td>\n",
       "      <td>Smartphone</td>\n",
       "      <td>360x640</td>\n",
       "      <td>Android 5.1.1</td>\n",
       "      <td>Chrome Mobile 66.0</td>\n",
       "      <td>Noche</td>\n",
       "    </tr>\n",
       "    <tr>\n",
       "      <th>2</th>\n",
       "      <td>2018-05-18 00:11:16</td>\n",
       "      <td>viewed product</td>\n",
       "      <td>0297fc1e</td>\n",
       "      <td>NaN</td>\n",
       "      <td>6888.0</td>\n",
       "      <td>iphone 6s</td>\n",
       "      <td>Muito Bom</td>\n",
       "      <td>64GB</td>\n",
       "      <td>Prateado</td>\n",
       "      <td>NaN</td>\n",
       "      <td>...</td>\n",
       "      <td>NaN</td>\n",
       "      <td>NaN</td>\n",
       "      <td>Niterói</td>\n",
       "      <td>Rio de Janeiro</td>\n",
       "      <td>Brazil</td>\n",
       "      <td>Smartphone</td>\n",
       "      <td>360x640</td>\n",
       "      <td>Android 6.0.1</td>\n",
       "      <td>Chrome Mobile 61.0</td>\n",
       "      <td>Noche</td>\n",
       "    </tr>\n",
       "    <tr>\n",
       "      <th>3</th>\n",
       "      <td>2018-05-18 00:11:14</td>\n",
       "      <td>viewed product</td>\n",
       "      <td>2d681dd8</td>\n",
       "      <td>NaN</td>\n",
       "      <td>11890.0</td>\n",
       "      <td>iphone 7</td>\n",
       "      <td>Bom</td>\n",
       "      <td>128GB</td>\n",
       "      <td>Vermelho</td>\n",
       "      <td>NaN</td>\n",
       "      <td>...</td>\n",
       "      <td>NaN</td>\n",
       "      <td>NaN</td>\n",
       "      <td>Juquitiba</td>\n",
       "      <td>Sao Paulo</td>\n",
       "      <td>Brazil</td>\n",
       "      <td>Computer</td>\n",
       "      <td>1360x768</td>\n",
       "      <td>Windows 8.1</td>\n",
       "      <td>Chrome 66.0</td>\n",
       "      <td>Noche</td>\n",
       "    </tr>\n",
       "    <tr>\n",
       "      <th>4</th>\n",
       "      <td>2018-05-18 00:11:09</td>\n",
       "      <td>viewed product</td>\n",
       "      <td>cccea85e</td>\n",
       "      <td>NaN</td>\n",
       "      <td>7517.0</td>\n",
       "      <td>lg g4 h818p</td>\n",
       "      <td>Excelente</td>\n",
       "      <td>32GB</td>\n",
       "      <td>Branco</td>\n",
       "      <td>NaN</td>\n",
       "      <td>...</td>\n",
       "      <td>NaN</td>\n",
       "      <td>NaN</td>\n",
       "      <td>Osasco</td>\n",
       "      <td>Sao Paulo</td>\n",
       "      <td>Brazil</td>\n",
       "      <td>Computer</td>\n",
       "      <td>1536x864</td>\n",
       "      <td>Windows 7</td>\n",
       "      <td>Chrome 66.0</td>\n",
       "      <td>Noche</td>\n",
       "    </tr>\n",
       "  </tbody>\n",
       "</table>\n",
       "<p>5 rows × 24 columns</p>\n",
       "</div>"
      ],
      "text/plain": [
       "            timestamp           event    person  url      sku  \\\n",
       "0 2018-05-18 00:11:59  viewed product  4886f805  NaN   9288.0   \n",
       "1 2018-05-18 00:11:27  viewed product  ad93850f  NaN    304.0   \n",
       "2 2018-05-18 00:11:16  viewed product  0297fc1e  NaN   6888.0   \n",
       "3 2018-05-18 00:11:14  viewed product  2d681dd8  NaN  11890.0   \n",
       "4 2018-05-18 00:11:09  viewed product  cccea85e  NaN   7517.0   \n",
       "\n",
       "                     model  condition storage           color skus  \\\n",
       "0  samsung galaxy j7 prime  Excelente    32GB         Dourado  NaN   \n",
       "1                iphone 5s  Muito Bom    32GB  Cinza espacial  NaN   \n",
       "2                iphone 6s  Muito Bom    64GB        Prateado  NaN   \n",
       "3                 iphone 7        Bom   128GB        Vermelho  NaN   \n",
       "4              lg g4 h818p  Excelente    32GB          Branco  NaN   \n",
       "\n",
       "       ...      channel new_vs_returning       city          region country  \\\n",
       "0      ...          NaN              NaN  Cantagalo  Rio de Janeiro  Brazil   \n",
       "1      ...          NaN              NaN  São Paulo       Sao Paulo  Brazil   \n",
       "2      ...          NaN              NaN    Niterói  Rio de Janeiro  Brazil   \n",
       "3      ...          NaN              NaN  Juquitiba       Sao Paulo  Brazil   \n",
       "4      ...          NaN              NaN     Osasco       Sao Paulo  Brazil   \n",
       "\n",
       "  device_type screen_resolution operating_system_version     browser_version  \\\n",
       "0  Smartphone           360x640                Android 7  Chrome Mobile 64.0   \n",
       "1  Smartphone           360x640            Android 5.1.1  Chrome Mobile 66.0   \n",
       "2  Smartphone           360x640            Android 6.0.1  Chrome Mobile 61.0   \n",
       "3    Computer          1360x768             Windows 8.1          Chrome 66.0   \n",
       "4    Computer          1536x864               Windows 7          Chrome 66.0   \n",
       "\n",
       "  Parte del dia  \n",
       "0         Noche  \n",
       "1         Noche  \n",
       "2         Noche  \n",
       "3         Noche  \n",
       "4         Noche  \n",
       "\n",
       "[5 rows x 24 columns]"
      ]
     },
     "execution_count": 19,
     "metadata": {},
     "output_type": "execute_result"
    }
   ],
   "source": [
    "eventsData.head()"
   ]
  },
  {
   "cell_type": "code",
   "execution_count": 20,
   "metadata": {},
   "outputs": [],
   "source": [
    "eventsData.to_csv('Eventos(+completo).csv')"
   ]
  },
  {
   "cell_type": "code",
   "execution_count": null,
   "metadata": {},
   "outputs": [],
   "source": []
  }
 ],
 "metadata": {
  "kernelspec": {
   "display_name": "Python 3",
   "language": "python",
   "name": "python3"
  },
  "language_info": {
   "codemirror_mode": {
    "name": "ipython",
    "version": 3
   },
   "file_extension": ".py",
   "mimetype": "text/x-python",
   "name": "python",
   "nbconvert_exporter": "python",
   "pygments_lexer": "ipython3",
   "version": "3.6.0"
  }
 },
 "nbformat": 4,
 "nbformat_minor": 2
}
