{
 "cells": [
  {
   "cell_type": "code",
   "execution_count": 8,
   "metadata": {},
   "outputs": [],
   "source": [
    "import pandas as pd\n",
    "import numpy as np\n",
    "import datetime as dt\n"
   ]
  },
  {
   "cell_type": "code",
   "execution_count": 11,
   "metadata": {},
   "outputs": [
    {
     "data": {
      "text/plain": [
       "Index(['Unnamed: 0', 'timestamp', 'event', 'person', 'url', 'sku', 'model',\n",
       "       'condition', 'storage', 'color', 'skus', 'search_term', 'staticpage',\n",
       "       'campaign_source', 'search_engine', 'channel', 'new_vs_returning',\n",
       "       'city', 'region', 'country', 'device_type', 'screen_resolution',\n",
       "       'operating_system_version', 'browser_version', 'Parte del dia'],\n",
       "      dtype='object')"
      ]
     },
     "execution_count": 11,
     "metadata": {},
     "output_type": "execute_result"
    }
   ],
   "source": [
    "usersDataTrain = pd.read_csv(r\"C:\\Users\\brian\\Documents\\GitHub\\TP2DATOS\\Eventos(+completo).csv\")\n",
    "usersDataTrain.columns\n"
   ]
  },
  {
   "cell_type": "code",
   "execution_count": 12,
   "metadata": {},
   "outputs": [],
   "source": [
    "def datetime(date,format_string):\n",
    "    return pd.to_datetime(date,format= format_string,errors='coerce')\n",
    "\n",
    "usersDataTrain[\"timestamp\"]= datetime(usersDataTrain[\"timestamp\"],\"%Y-%m-%dT%H:%M:%S\")\n"
   ]
  },
  {
   "cell_type": "code",
   "execution_count": 14,
   "metadata": {},
   "outputs": [],
   "source": [
    "usersDataTrain[\"month\"] = usersDataTrain[\"timestamp\"].map(lambda x: x.month)\n",
    "usersDataTrain[\"day\"] = usersDataTrain[\"timestamp\"].map(lambda x: x.day)\n",
    "usersDataTrain = usersDataTrain[usersDataTrain[\"month\"] == 5]\n",
    "usersDataTrain = usersDataTrain[usersDataTrain[\"day\"] >21]"
   ]
  },
  {
   "cell_type": "code",
   "execution_count": 15,
   "metadata": {},
   "outputs": [],
   "source": [
    "eventosData = usersDataTrain\n",
    "eventosData = eventosData[['person','event']]\n",
    "eventosData = pd.get_dummies(eventosData, columns=['event'])\n",
    "eventosData = eventosData.groupby('person').agg({'event_ad campaign hit':'sum', 'event_brand listing':'sum',\n",
    "       'event_checkout':'sum', 'event_conversion':'sum', 'event_generic listing':'sum',\n",
    "       'event_lead':'sum', 'event_search engine hit':'sum', 'event_searched products':'sum',\n",
    "       'event_staticpage':'sum', 'event_viewed product':'sum', 'event_visited site':'sum'})"
   ]
  },
  {
   "cell_type": "code",
   "execution_count": 16,
   "metadata": {},
   "outputs": [
    {
     "data": {
      "text/plain": [
       "event_ad campaign hit       3.633496\n",
       "event_brand listing         6.800610\n",
       "event_checkout              1.552333\n",
       "event_conversion            1.387586\n",
       "event_generic listing       3.726851\n",
       "event_lead                  1.409091\n",
       "event_search engine hit     2.767946\n",
       "event_searched products     6.930053\n",
       "event_staticpage            2.128850\n",
       "event_viewed product       19.089104\n",
       "event_visited site          2.832423\n",
       "dtype: float64"
      ]
     },
     "execution_count": 16,
     "metadata": {},
     "output_type": "execute_result"
    }
   ],
   "source": [
    "eventosData.replace(0,np.nan,inplace = True)\n",
    "eventosData[eventosData.columns].mean()"
   ]
  },
  {
   "cell_type": "code",
   "execution_count": 17,
   "metadata": {},
   "outputs": [],
   "source": [
    "#Vamos a mapear si son mayores al promedio de la columna\n",
    "eventosData['usuario_Checkeador'] = eventosData['event_checkout'].map(lambda x: 1 if (x >=   1.552333) else 0)\n",
    "eventosData['usuario_susceptible_campaign'] = eventosData['event_ad campaign hit'].map(lambda x: 1 if (x >=  3.633496) else 0)\n",
    "eventosData['usuario_convertidor'] = eventosData['event_conversion'].map(lambda x: 1 if (x >=  1.387586) else 0)\n",
    "eventosData['usuario_buscador'] = eventosData['event_viewed product'].map(lambda x:1 if (x>= 19.089104) else 0)\n",
    "eventosData['usuario_googleador'] = eventosData['event_search engine hit'].map(lambda x: 1 if(x>=2.767946 ) else 0)\n",
    "eventosData['usuario_dubitativo']= ((eventosData['usuario_Checkeador'] + eventosData['usuario_buscador'] )== 2)\n",
    "eventosData['usuario_poco_util'] =((eventosData['usuario_Checkeador'] + eventosData['usuario_buscador'] )== 0)\n",
    "eventosData['usuario_recurrente'] =  eventosData['event_visited site'].map(lambda x: 1 if (x >=  2.832423) else 0)\n",
    "eventosData['usuario_muy_activo']=((eventosData['usuario_Checkeador'] + eventosData['usuario_buscador']+eventosData['usuario_convertidor'] )== 3)\n",
    "eventosData = eventosData[['usuario_Checkeador','usuario_susceptible_campaign','usuario_buscador','usuario_dubitativo','usuario_poco_util','usuario_muy_activo','usuario_convertidor']]\n",
    "eventosData = eventosData.fillna(0)"
   ]
  },
  {
   "cell_type": "code",
   "execution_count": 18,
   "metadata": {},
   "outputs": [],
   "source": [
    "usersDataTrain = pd.read_csv(\"setEntrenamiento.csv\")\n",
    "usersDataTrain = pd.merge(usersDataTrain,eventosData,how = \"left\",on = \"person\")\n",
    "usersDataTrain=usersDataTrain.fillna(0)\n",
    "usersDataTrain.to_csv(\"setEntrenamiento.csv\",index = False)"
   ]
  },
  {
   "cell_type": "code",
   "execution_count": 19,
   "metadata": {},
   "outputs": [],
   "source": [
    "test = pd.read_csv('setTest.csv')\n",
    "test = pd.merge(test,eventosData,how = \"left\",on = \"person\")\n",
    "test =test.fillna(0)\n",
    "test.to_csv(\"setTest.csv\",index = False)"
   ]
  },
  {
   "cell_type": "code",
   "execution_count": null,
   "metadata": {},
   "outputs": [],
   "source": []
  }
 ],
 "metadata": {
  "kernelspec": {
   "display_name": "Python 3",
   "language": "python",
   "name": "python3"
  },
  "language_info": {
   "codemirror_mode": {
    "name": "ipython",
    "version": 3
   },
   "file_extension": ".py",
   "mimetype": "text/x-python",
   "name": "python",
   "nbconvert_exporter": "python",
   "pygments_lexer": "ipython3",
   "version": "3.6.6"
  }
 },
 "nbformat": 4,
 "nbformat_minor": 2
}
