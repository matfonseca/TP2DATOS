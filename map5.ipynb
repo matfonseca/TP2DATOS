{
 "cells": [
  {
   "cell_type": "code",
   "execution_count": 2,
   "metadata": {},
   "outputs": [],
   "source": [
    "import pandas as pd\n",
    "import numpy as np\n",
    "import datetime as dt\n"
   ]
  },
  {
   "cell_type": "code",
   "execution_count": 3,
   "metadata": {},
   "outputs": [
    {
     "name": "stderr",
     "output_type": "stream",
     "text": [
      "/anaconda/lib/python3.6/site-packages/IPython/core/interactiveshell.py:2717: DtypeWarning: Columns (3,5,6,7,8,9,10,11,12,13,14,15) have mixed types. Specify dtype option on import or set low_memory=False.\n",
      "  interactivity=interactivity, compiler=compiler, result=result)\n"
     ]
    },
    {
     "data": {
      "text/plain": [
       "Index(['timestamp', 'event', 'person', 'url', 'sku', 'model', 'condition',\n",
       "       'storage', 'color', 'skus', 'search_term', 'staticpage',\n",
       "       'campaign_source', 'search_engine', 'channel', 'new_vs_returning',\n",
       "       'city', 'region', 'country', 'device_type', 'screen_resolution',\n",
       "       'operating_system_version', 'browser_version', 'Parte del dia'],\n",
       "      dtype='object')"
      ]
     },
     "execution_count": 3,
     "metadata": {},
     "output_type": "execute_result"
    }
   ],
   "source": [
    "usersDataTrain = pd.read_csv(\"data/Eventos(+completo).csv\")\n",
    "usersDataTrain.columns\n"
   ]
  },
  {
   "cell_type": "code",
   "execution_count": 4,
   "metadata": {},
   "outputs": [],
   "source": [
    "def datetime(date,format_string):\n",
    "    return pd.to_datetime(date,format= format_string,errors='coerce')\n",
    "\n",
    "usersDataTrain[\"timestamp\"]= datetime(usersDataTrain[\"timestamp\"],\"%Y-%m-%dT%H:%M:%S\")\n"
   ]
  },
  {
   "cell_type": "code",
   "execution_count": 5,
   "metadata": {},
   "outputs": [],
   "source": [
    "usersDataTrain[\"month\"] = usersDataTrain[\"timestamp\"].map(lambda x: x.month)\n",
    "usersDataTrain[\"day\"] = usersDataTrain[\"timestamp\"].map(lambda x: x.day)\n",
    "usersDataTrain = usersDataTrain[usersDataTrain[\"month\"] == 5]\n",
    "usersDataTrain = usersDataTrain[usersDataTrain[\"day\"] >21]"
   ]
  },
  {
   "cell_type": "code",
   "execution_count": 6,
   "metadata": {},
   "outputs": [],
   "source": [
    "eventosData = usersDataTrain\n",
    "eventosData = eventosData[['person','event']]\n",
    "eventosData = pd.get_dummies(eventosData, columns=['event'])\n",
    "eventosData = eventosData.groupby('person').agg({'event_ad campaign hit':'sum', 'event_brand listing':'sum',\n",
    "       'event_checkout':'sum', 'event_conversion':'sum', 'event_generic listing':'sum',\n",
    "       'event_lead':'sum', 'event_search engine hit':'sum', 'event_searched products':'sum',\n",
    "       'event_staticpage':'sum', 'event_viewed product':'sum', 'event_visited site':'sum'})"
   ]
  },
  {
   "cell_type": "code",
   "execution_count": 7,
   "metadata": {},
   "outputs": [
    {
     "data": {
      "text/plain": [
       "event_ad campaign hit       3.633496\n",
       "event_brand listing         6.800610\n",
       "event_checkout              1.552333\n",
       "event_conversion            1.387586\n",
       "event_generic listing       3.726851\n",
       "event_lead                  1.409091\n",
       "event_search engine hit     2.767946\n",
       "event_searched products     6.930053\n",
       "event_staticpage            2.128850\n",
       "event_viewed product       19.089104\n",
       "event_visited site          2.832423\n",
       "dtype: float64"
      ]
     },
     "execution_count": 7,
     "metadata": {},
     "output_type": "execute_result"
    }
   ],
   "source": [
    "eventosData.replace(0,np.nan,inplace = True)\n",
    "eventosData[eventosData.columns].mean()"
   ]
  },
  {
   "cell_type": "code",
   "execution_count": 9,
   "metadata": {},
   "outputs": [],
   "source": [
    "#Vamos a mapear si son mayores al promedio de la columna\n",
    "eventosData['usuario_Checkeador'] = eventosData['event_checkout'].map(lambda x: 1 if (x >=   1.552333) else 0)\n",
    "eventosData['usuario_susceptible_campaign'] = eventosData['event_ad campaign hit'].map(lambda x: 1 if (x >=  3.633496) else 0)\n",
    "eventosData['usuario_convertidor'] = eventosData['event_conversion'].map(lambda x: 1 if (x >=  1.387586) else 0)\n",
    "eventosData['usuario_buscador'] = eventosData['event_viewed product'].map(lambda x:1 if (x>= 19.089104) else 0)\n",
    "eventosData['usuario_googleador'] = eventosData['event_search engine hit'].map(lambda x: 1 if(x>=2.767946 ) else 0)\n",
    "eventosData['usuario_dubitativo']= ((eventosData['usuario_Checkeador'] + eventosData['usuario_buscador'] )== 2)\n",
    "eventosData['usuario_poco_util'] =((eventosData['usuario_Checkeador'] + eventosData['usuario_buscador'] )== 0)\n",
    "eventosData['usuario_recurrente'] =  eventosData['event_visited site'].map(lambda x: 1 if (x >=  2.832423) else 0)\n",
    "eventosData['usuario_muy_activo']=((eventosData['usuario_Checkeador'] + eventosData['usuario_buscador']+eventosData['usuario_convertidor'] )== 3)\n",
    "eventosData = eventosData[['usuario_Checkeador','usuario_susceptible_campaign','usuario_buscador','usuario_dubitativo','usuario_poco_util','usuario_muy_activo','usuario_convertidor']]\n",
    "eventosData = eventosData.fillna(0)"
   ]
  },
  {
   "cell_type": "code",
   "execution_count": 11,
   "metadata": {},
   "outputs": [],
   "source": [
    "usersDataTrain = pd.read_csv(\"setEntrenamiento.csv\")\n",
    "usersDataTrain = pd.merge(usersDataTrain,eventosData.reset_index(),how = \"left\",on = \"person\")\n",
    "usersDataTrain=usersDataTrain.fillna(0)\n",
    "usersDataTrain.to_csv(\"setEntrenamiento.csv\",index = False)"
   ]
  },
  {
   "cell_type": "code",
   "execution_count": 12,
   "metadata": {},
   "outputs": [],
   "source": [
    "test = pd.read_csv('setTest.csv')\n",
    "test = pd.merge(test,eventosData.reset_index(),how = \"left\",on = \"person\")\n",
    "test =test.fillna(0)\n",
    "test.to_csv(\"setTest.csv\",index = False)"
   ]
  },
  {
   "cell_type": "code",
   "execution_count": 13,
   "metadata": {},
   "outputs": [
    {
     "name": "stdout",
     "output_type": "stream",
     "text": [
      "<class 'pandas.core.frame.DataFrame'>\n",
      "Int64Index: 19414 entries, 0 to 19413\n",
      "Data columns (total 96 columns):\n",
      "person                               19414 non-null object\n",
      "cant_seciones                        19414 non-null int64\n",
      "event_checkout                       19414 non-null float64\n",
      "event_conversion                     19414 non-null float64\n",
      "event_ad campaign hit                19414 non-null float64\n",
      "event_lead                           19414 non-null float64\n",
      "skus                                 19414 non-null int64\n",
      "screen_resolution                    19414 non-null float64\n",
      "Busca_terminos_populares             19414 non-null int64\n",
      "Computer                             19414 non-null float64\n",
      "Smartphone                           19414 non-null float64\n",
      "otros                                19414 non-null float64\n",
      "marca_apple                          19414 non-null float64\n",
      "marca_asus                           19414 non-null float64\n",
      "marca_lenovo                         19414 non-null float64\n",
      "marca_lg                             19414 non-null float64\n",
      "marca_motorola                       19414 non-null float64\n",
      "marca_samsung                        19414 non-null float64\n",
      "marca_sony                           19414 non-null float64\n",
      "condition_Bom                        19414 non-null float64\n",
      "condition_Bom - Sem Touch ID         19414 non-null float64\n",
      "condition_Excelente                  19414 non-null float64\n",
      "condition_Muito Bom                  19414 non-null float64\n",
      "version_galaxy j7                    19414 non-null float64\n",
      "version_galaxy j5                    19414 non-null float64\n",
      "version_galaxy s7                    19414 non-null float64\n",
      "version_iphone 6                     19414 non-null float64\n",
      "version_iphone 5s                    19414 non-null float64\n",
      "version_iphone 6s                    19414 non-null float64\n",
      "version_moto g4                      19414 non-null float64\n",
      "version_moto g2                      19414 non-null float64\n",
      "version_galaxy s6                    19414 non-null float64\n",
      "storage_128GB                        19414 non-null float64\n",
      "storage_16GB                         19414 non-null float64\n",
      "storage_256GB                        19414 non-null float64\n",
      "storage_32GB                         19414 non-null float64\n",
      "storage_4GB                          19414 non-null float64\n",
      "storage_512MB                        19414 non-null float64\n",
      "storage_64GB                         19414 non-null float64\n",
      "storage_8GB                          19414 non-null float64\n",
      "Parte del dia_Madrugada              19414 non-null float64\n",
      "Parte del dia_Mañana                 19414 non-null float64\n",
      "Parte del dia_Noche                  19414 non-null float64\n",
      "Parte del dia_Tarde                  19414 non-null float64\n",
      "campaign_source_google               19414 non-null float64\n",
      "campaign_source_criteo               19414 non-null float64\n",
      "campaign_source_rtbhouse             19414 non-null float64\n",
      "channel_Direct                       19414 non-null float64\n",
      "channel_Paid                         19414 non-null float64\n",
      "channel_Organic                      19414 non-null float64\n",
      "channel_Referral                     19414 non-null float64\n",
      "Brasilero                            19414 non-null float64\n",
      "ventas_region                        19414 non-null float64\n",
      "count_activity                       19414 non-null float64\n",
      "conversiones_15lastdays              19414 non-null float64\n",
      "checkout_15lastdays                  19414 non-null float64\n",
      "viewed_15lastday                     19414 non-null float64\n",
      "color_Preto                          19414 non-null float64\n",
      "color_Dourado                        19414 non-null float64\n",
      "color_Branco                         19414 non-null float64\n",
      "color_Cinza espacial                 19414 non-null float64\n",
      "new_15lastdays                       19414 non-null float64\n",
      "sku                                  19414 non-null float64\n",
      "cantidad_De_Compras_De_Mismo_Sku     19414 non-null float64\n",
      "Cantidad_De_Busquedas_Por_Termino    19414 non-null float64\n",
      "search_and_purchase                  19414 non-null float64\n",
      "cantidad_de_Url_de_compra            19414 non-null float64\n",
      "cantidadDeStaticPage                 19414 non-null float64\n",
      "Prob_Apple                           19414 non-null float64\n",
      "Prob_Asus                            19414 non-null float64\n",
      "Prob_Lenovo                          19414 non-null float64\n",
      "Prob_lg                              19414 non-null float64\n",
      "Prob_motorola                        19414 non-null float64\n",
      "Prob_quantum                         19414 non-null float64\n",
      "Prob_samsung                         19414 non-null float64\n",
      "Prob_sony                            19414 non-null float64\n",
      "sku_multiple                         19414 non-null float64\n",
      "label                                19414 non-null int64\n",
      "prob_marca                           19414 non-null float64\n",
      "prob_model                           19414 non-null float64\n",
      "prob_marca_checkout                  19414 non-null float64\n",
      "prob_marca_en_base_checkout          19414 non-null float64\n",
      "prob_model_en_base_checkout          19414 non-null float64\n",
      "sku_0.0                              19414 non-null float64\n",
      "sku_2831.0                           19414 non-null float64\n",
      "sku_3371.0                           19414 non-null float64\n",
      "sku_6357.0                           19414 non-null float64\n",
      "sku_6371.0                           19414 non-null float64\n",
      "compraPopular                        19414 non-null float64\n",
      "usuario_Checkeador                   19414 non-null float64\n",
      "usuario_susceptible_campaign         19414 non-null float64\n",
      "usuario_buscador                     19414 non-null float64\n",
      "usuario_dubitativo                   19414 non-null object\n",
      "usuario_poco_util                    19414 non-null object\n",
      "usuario_muy_activo                   19414 non-null object\n",
      "usuario_convertidor                  19414 non-null float64\n",
      "dtypes: float64(88), int64(4), object(4)\n",
      "memory usage: 14.4+ MB\n"
     ]
    }
   ],
   "source": []
  },
  {
   "cell_type": "code",
   "execution_count": null,
   "metadata": {},
   "outputs": [],
   "source": []
  }
 ],
 "metadata": {
  "kernelspec": {
   "display_name": "Python 3",
   "language": "python",
   "name": "python3"
  },
  "language_info": {
   "codemirror_mode": {
    "name": "ipython",
    "version": 3
   },
   "file_extension": ".py",
   "mimetype": "text/x-python",
   "name": "python",
   "nbconvert_exporter": "python",
   "pygments_lexer": "ipython3",
   "version": "3.6.0"
  }
 },
 "nbformat": 4,
 "nbformat_minor": 2
}
