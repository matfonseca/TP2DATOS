{
 "cells": [
  {
   "cell_type": "code",
   "execution_count": 1,
   "metadata": {},
   "outputs": [],
   "source": [
    "import pandas as pd\n",
    "import numpy as np\n",
    "import datetime as dt\n"
   ]
  },
  {
   "cell_type": "code",
   "execution_count": 2,
   "metadata": {},
   "outputs": [
    {
     "name": "stderr",
     "output_type": "stream",
     "text": [
      "C:\\ProgramData\\Anaconda3\\lib\\site-packages\\IPython\\core\\interactiveshell.py:3018: DtypeWarning: Columns (4,6,7,8,9,10,11,12,13,14,15,16) have mixed types. Specify dtype option on import or set low_memory=False.\n",
      "  interactivity=interactivity, compiler=compiler, result=result)\n"
     ]
    }
   ],
   "source": [
    "usersDataTrain = pd.read_csv(r\"C:\\Users\\brian\\Documents\\GitHub\\TP2DATOS\\Eventos(+completo).csv\")"
   ]
  },
  {
   "cell_type": "code",
   "execution_count": 3,
   "metadata": {},
   "outputs": [],
   "source": [
    "eventosData = usersDataTrain\n",
    "eventosData = eventosData[['person','event']]\n",
    "eventosData = pd.get_dummies(eventosData, columns=['event'])\n",
    "eventosData = eventosData.groupby('person').agg({'event_ad campaign hit':'sum', 'event_brand listing':'sum',\n",
    "       'event_checkout':'sum', 'event_conversion':'sum', 'event_generic listing':'sum',\n",
    "       'event_lead':'sum', 'event_search engine hit':'sum', 'event_searched products':'sum',\n",
    "       'event_staticpage':'sum', 'event_viewed product':'sum', 'event_visited site':'sum'})"
   ]
  },
  {
   "cell_type": "code",
   "execution_count": 4,
   "metadata": {},
   "outputs": [
    {
     "data": {
      "text/plain": [
       "event_ad campaign hit       5.999624\n",
       "event_brand listing        11.249259\n",
       "event_checkout              1.989310\n",
       "event_conversion            1.651759\n",
       "event_generic listing       6.359976\n",
       "event_lead                  1.697755\n",
       "event_search engine hit     4.079828\n",
       "event_searched products     9.976018\n",
       "event_staticpage            2.762950\n",
       "event_viewed product       33.614974\n",
       "event_visited site          5.336253\n",
       "dtype: float64"
      ]
     },
     "execution_count": 4,
     "metadata": {},
     "output_type": "execute_result"
    }
   ],
   "source": [
    "eventosData.replace(0,np.nan,inplace = True)\n",
    "eventosData[eventosData.columns].mean()"
   ]
  },
  {
   "cell_type": "code",
   "execution_count": 5,
   "metadata": {},
   "outputs": [],
   "source": [
    "#Vamos a mapear si son mayores al promedio de la columna\n",
    "eventosData['usuario_Checkeador'] = eventosData['event_checkout'].map(lambda x: 1 if (x >=  1.989310) else 0)\n",
    "eventosData['usuario_susceptible_campaign'] = eventosData['event_ad campaign hit'].map(lambda x: 1 if (x >=  5.999624) else 0)\n",
    "eventosData['usuario_convertidor'] = eventosData['event_conversion'].map(lambda x: 1 if (x >=  1.651759) else 0)\n",
    "eventosData['usuario_buscador'] = eventosData['event_viewed product'].map(lambda x:1 if (x>= 33.614974) else 0)\n",
    "eventosData['usuario_dubitativo']= ((eventosData['usuario_Checkeador'] + eventosData['usuario_buscador'] )== 2)\n",
    "eventosData['usuario_poco_util'] =((eventosData['usuario_Checkeador'] + eventosData['usuario_buscador'] )== 0)\n",
    "eventosData['usuario_recurrente'] =  eventosData['event_visited site'].map(lambda x: 1 if (x >= 5.336253) else 0)\n",
    "eventosData['usuario_muy_activo']=((eventosData['usuario_Checkeador'] + eventosData['usuario_buscador']+eventosData['usuario_convertidor'] )== 3)\n",
    "eventosData = eventosData[['usuario_Checkeador','usuario_susceptible_campaign','usuario_buscador','usuario_dubitativo','usuario_poco_util','usuario_muy_activo','usuario_convertidor']]\n",
    "eventosData = eventosData.fillna(0)"
   ]
  },
  {
   "cell_type": "code",
   "execution_count": 6,
   "metadata": {},
   "outputs": [],
   "source": [
    "usersDataTrain = pd.read_csv(\"setEntrenamiento.csv\")\n",
    "usersDataTrain = pd.merge(usersDataTrain,eventosData,how = \"left\",on = \"person\")\n",
    "usersDataTrain=usersDataTrain.fillna(0)\n",
    "usersDataTrain.to_csv(\"setEntrenamiento.csv\",index = False)"
   ]
  },
  {
   "cell_type": "code",
   "execution_count": 7,
   "metadata": {},
   "outputs": [],
   "source": [
    "test = pd.read_csv('setTest.csv')\n",
    "test = pd.merge(test,eventosData,how = \"left\",on = \"person\")\n",
    "test =test.fillna(0)\n",
    "test.to_csv(\"setTest.csv\",index = False)"
   ]
  },
  {
   "cell_type": "code",
   "execution_count": null,
   "metadata": {},
   "outputs": [],
   "source": []
  }
 ],
 "metadata": {
  "kernelspec": {
   "display_name": "Python 3",
   "language": "python",
   "name": "python3"
  },
  "language_info": {
   "codemirror_mode": {
    "name": "ipython",
    "version": 3
   },
   "file_extension": ".py",
   "mimetype": "text/x-python",
   "name": "python",
   "nbconvert_exporter": "python",
   "pygments_lexer": "ipython3",
   "version": "3.6.6"
  }
 },
 "nbformat": 4,
 "nbformat_minor": 2
}
