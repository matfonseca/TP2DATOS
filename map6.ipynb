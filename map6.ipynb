{
 "cells": [
  {
   "cell_type": "code",
   "execution_count": 1,
   "metadata": {},
   "outputs": [],
   "source": [
    "import pandas as pd\n",
    "import numpy as np\n",
    "import datetime as dt"
   ]
  },
  {
   "cell_type": "code",
   "execution_count": 2,
   "metadata": {},
   "outputs": [],
   "source": [
    "eventsData = pd.read_csv(\"data/Eventos(+completo).csv\",low_memory = False)"
   ]
  },
  {
   "cell_type": "code",
   "execution_count": 3,
   "metadata": {},
   "outputs": [],
   "source": [
    "#Funcion que pasa a formato datetime las fechas que recibimos.\n",
    "def datetime(date,format_string):\n",
    "    return pd.to_datetime(date,format= format_string,errors='coerce')\n",
    "\n",
    "eventsData[\"timestamp\"]= datetime(eventsData[\"timestamp\"],\"%Y-%m-%dT%H:%M:%S\")"
   ]
  },
  {
   "cell_type": "code",
   "execution_count": 4,
   "metadata": {},
   "outputs": [],
   "source": [
    "eventsData[\"month\"] = eventsData[\"timestamp\"].map(lambda x: x.month)\n",
    "eventsData[\"day\"] = eventsData[\"timestamp\"].map(lambda x: x.day)\n"
   ]
  },
  {
   "cell_type": "code",
   "execution_count": 5,
   "metadata": {},
   "outputs": [],
   "source": [
    "eventsData = eventsData.dropna(subset = [\"model\"] ,how = \"all\")"
   ]
  },
  {
   "cell_type": "code",
   "execution_count": 6,
   "metadata": {},
   "outputs": [],
   "source": [
    "eventsData[\"marca\"] = eventsData[\"model\"].map(lambda x:\"apple\" if(x.split(\" \")[0] in [\"iphone\",\"ipad\"]) else x.split(\" \")[0])"
   ]
  },
  {
   "cell_type": "code",
   "execution_count": 7,
   "metadata": {},
   "outputs": [],
   "source": [
    "eventsData[\"version\"] = eventsData[\"model\"].map(lambda x:\" \".join(x.split(\" \")[0:2]) if(x.split(\" \")[0] in [\"iphone\",\"ipad\"]) else \" \".join(x.split(\" \")[1:3]))"
   ]
  },
  {
   "cell_type": "code",
   "execution_count": 8,
   "metadata": {},
   "outputs": [
    {
     "data": {
      "text/plain": [
       "Index(['Unnamed: 0', 'timestamp', 'event', 'person', 'url', 'sku', 'model',\n",
       "       'condition', 'storage', 'color', 'skus', 'search_term', 'staticpage',\n",
       "       'campaign_source', 'search_engine', 'channel', 'new_vs_returning',\n",
       "       'city', 'region', 'country', 'device_type', 'screen_resolution',\n",
       "       'operating_system_version', 'browser_version', 'Parte del dia', 'month',\n",
       "       'day', 'marca', 'version'],\n",
       "      dtype='object')"
      ]
     },
     "execution_count": 8,
     "metadata": {},
     "output_type": "execute_result"
    }
   ],
   "source": [
    "eventsData.columns"
   ]
  },
  {
   "cell_type": "code",
   "execution_count": 9,
   "metadata": {},
   "outputs": [],
   "source": [
    "eventsData[\"count\"] = 1"
   ]
  },
  {
   "cell_type": "code",
   "execution_count": 10,
   "metadata": {},
   "outputs": [],
   "source": [
    "actividad  = eventsData[[\"person\",\"count\"]].groupby(\"person\",as_index =False).sum()"
   ]
  },
  {
   "cell_type": "code",
   "execution_count": 11,
   "metadata": {},
   "outputs": [
    {
     "data": {
      "text/html": [
       "<div>\n",
       "<table border=\"1\" class=\"dataframe\">\n",
       "  <thead>\n",
       "    <tr style=\"text-align: right;\">\n",
       "      <th></th>\n",
       "      <th>person</th>\n",
       "      <th>count</th>\n",
       "    </tr>\n",
       "  </thead>\n",
       "  <tbody>\n",
       "    <tr>\n",
       "      <th>0</th>\n",
       "      <td>0008ed71</td>\n",
       "      <td>3</td>\n",
       "    </tr>\n",
       "    <tr>\n",
       "      <th>1</th>\n",
       "      <td>00091926</td>\n",
       "      <td>389</td>\n",
       "    </tr>\n",
       "    <tr>\n",
       "      <th>2</th>\n",
       "      <td>00091a7a</td>\n",
       "      <td>4</td>\n",
       "    </tr>\n",
       "    <tr>\n",
       "      <th>3</th>\n",
       "      <td>000ba417</td>\n",
       "      <td>161</td>\n",
       "    </tr>\n",
       "    <tr>\n",
       "      <th>4</th>\n",
       "      <td>000c79fe</td>\n",
       "      <td>4</td>\n",
       "    </tr>\n",
       "  </tbody>\n",
       "</table>\n",
       "</div>"
      ],
      "text/plain": [
       "     person  count\n",
       "0  0008ed71      3\n",
       "1  00091926    389\n",
       "2  00091a7a      4\n",
       "3  000ba417    161\n",
       "4  000c79fe      4"
      ]
     },
     "execution_count": 11,
     "metadata": {},
     "output_type": "execute_result"
    }
   ],
   "source": [
    "\n",
    "actividad.head()"
   ]
  },
  {
   "cell_type": "code",
   "execution_count": 12,
   "metadata": {},
   "outputs": [],
   "source": [
    "eventsData = pd.merge(eventsData,actividad,how=\"left\",on = \"person\")"
   ]
  },
  {
   "cell_type": "code",
   "execution_count": 13,
   "metadata": {},
   "outputs": [
    {
     "data": {
      "text/plain": [
       "Index(['Unnamed: 0', 'timestamp', 'event', 'person', 'url', 'sku', 'model',\n",
       "       'condition', 'storage', 'color', 'skus', 'search_term', 'staticpage',\n",
       "       'campaign_source', 'search_engine', 'channel', 'new_vs_returning',\n",
       "       'city', 'region', 'country', 'device_type', 'screen_resolution',\n",
       "       'operating_system_version', 'browser_version', 'Parte del dia', 'month',\n",
       "       'day', 'marca', 'version', 'count_x', 'count_y'],\n",
       "      dtype='object')"
      ]
     },
     "execution_count": 13,
     "metadata": {},
     "output_type": "execute_result"
    }
   ],
   "source": [
    "eventsData.columns"
   ]
  },
  {
   "cell_type": "code",
   "execution_count": 14,
   "metadata": {},
   "outputs": [
    {
     "data": {
      "text/html": [
       "<div>\n",
       "<table border=\"1\" class=\"dataframe\">\n",
       "  <thead>\n",
       "    <tr style=\"text-align: right;\">\n",
       "      <th></th>\n",
       "      <th>Unnamed: 0</th>\n",
       "      <th>timestamp</th>\n",
       "      <th>event</th>\n",
       "      <th>person</th>\n",
       "      <th>url</th>\n",
       "      <th>sku</th>\n",
       "      <th>model</th>\n",
       "      <th>condition</th>\n",
       "      <th>storage</th>\n",
       "      <th>color</th>\n",
       "      <th>...</th>\n",
       "      <th>screen_resolution</th>\n",
       "      <th>operating_system_version</th>\n",
       "      <th>browser_version</th>\n",
       "      <th>Parte del dia</th>\n",
       "      <th>month</th>\n",
       "      <th>day</th>\n",
       "      <th>marca</th>\n",
       "      <th>version</th>\n",
       "      <th>count_x</th>\n",
       "      <th>count_y</th>\n",
       "    </tr>\n",
       "  </thead>\n",
       "  <tbody>\n",
       "    <tr>\n",
       "      <th>0</th>\n",
       "      <td>0</td>\n",
       "      <td>2018-05-18 00:11:59</td>\n",
       "      <td>viewed product</td>\n",
       "      <td>4886f805</td>\n",
       "      <td>NaN</td>\n",
       "      <td>9288.0</td>\n",
       "      <td>samsung galaxy j7 prime</td>\n",
       "      <td>Excelente</td>\n",
       "      <td>32GB</td>\n",
       "      <td>Dourado</td>\n",
       "      <td>...</td>\n",
       "      <td>360x640</td>\n",
       "      <td>Android 7</td>\n",
       "      <td>Chrome Mobile 64.0</td>\n",
       "      <td>Noche</td>\n",
       "      <td>5</td>\n",
       "      <td>18</td>\n",
       "      <td>samsung</td>\n",
       "      <td>galaxy j7</td>\n",
       "      <td>1</td>\n",
       "      <td>5</td>\n",
       "    </tr>\n",
       "    <tr>\n",
       "      <th>1</th>\n",
       "      <td>1</td>\n",
       "      <td>2018-05-18 00:11:27</td>\n",
       "      <td>viewed product</td>\n",
       "      <td>ad93850f</td>\n",
       "      <td>NaN</td>\n",
       "      <td>304.0</td>\n",
       "      <td>iphone 5s</td>\n",
       "      <td>Muito Bom</td>\n",
       "      <td>32GB</td>\n",
       "      <td>Cinza espacial</td>\n",
       "      <td>...</td>\n",
       "      <td>360x640</td>\n",
       "      <td>Android 5.1.1</td>\n",
       "      <td>Chrome Mobile 66.0</td>\n",
       "      <td>Noche</td>\n",
       "      <td>5</td>\n",
       "      <td>18</td>\n",
       "      <td>apple</td>\n",
       "      <td>iphone 5s</td>\n",
       "      <td>1</td>\n",
       "      <td>26</td>\n",
       "    </tr>\n",
       "    <tr>\n",
       "      <th>2</th>\n",
       "      <td>2</td>\n",
       "      <td>2018-05-18 00:11:16</td>\n",
       "      <td>viewed product</td>\n",
       "      <td>0297fc1e</td>\n",
       "      <td>NaN</td>\n",
       "      <td>6888.0</td>\n",
       "      <td>iphone 6s</td>\n",
       "      <td>Muito Bom</td>\n",
       "      <td>64GB</td>\n",
       "      <td>Prateado</td>\n",
       "      <td>...</td>\n",
       "      <td>360x640</td>\n",
       "      <td>Android 6.0.1</td>\n",
       "      <td>Chrome Mobile 61.0</td>\n",
       "      <td>Noche</td>\n",
       "      <td>5</td>\n",
       "      <td>18</td>\n",
       "      <td>apple</td>\n",
       "      <td>iphone 6s</td>\n",
       "      <td>1</td>\n",
       "      <td>439</td>\n",
       "    </tr>\n",
       "    <tr>\n",
       "      <th>3</th>\n",
       "      <td>3</td>\n",
       "      <td>2018-05-18 00:11:14</td>\n",
       "      <td>viewed product</td>\n",
       "      <td>2d681dd8</td>\n",
       "      <td>NaN</td>\n",
       "      <td>11890.0</td>\n",
       "      <td>iphone 7</td>\n",
       "      <td>Bom</td>\n",
       "      <td>128GB</td>\n",
       "      <td>Vermelho</td>\n",
       "      <td>...</td>\n",
       "      <td>1360x768</td>\n",
       "      <td>Windows 8.1</td>\n",
       "      <td>Chrome 66.0</td>\n",
       "      <td>Noche</td>\n",
       "      <td>5</td>\n",
       "      <td>18</td>\n",
       "      <td>apple</td>\n",
       "      <td>iphone 7</td>\n",
       "      <td>1</td>\n",
       "      <td>14</td>\n",
       "    </tr>\n",
       "    <tr>\n",
       "      <th>4</th>\n",
       "      <td>4</td>\n",
       "      <td>2018-05-18 00:11:09</td>\n",
       "      <td>viewed product</td>\n",
       "      <td>cccea85e</td>\n",
       "      <td>NaN</td>\n",
       "      <td>7517.0</td>\n",
       "      <td>lg g4 h818p</td>\n",
       "      <td>Excelente</td>\n",
       "      <td>32GB</td>\n",
       "      <td>Branco</td>\n",
       "      <td>...</td>\n",
       "      <td>1536x864</td>\n",
       "      <td>Windows 7</td>\n",
       "      <td>Chrome 66.0</td>\n",
       "      <td>Noche</td>\n",
       "      <td>5</td>\n",
       "      <td>18</td>\n",
       "      <td>lg</td>\n",
       "      <td>g4 h818p</td>\n",
       "      <td>1</td>\n",
       "      <td>754</td>\n",
       "    </tr>\n",
       "  </tbody>\n",
       "</table>\n",
       "<p>5 rows × 31 columns</p>\n",
       "</div>"
      ],
      "text/plain": [
       "   Unnamed: 0           timestamp           event    person  url      sku  \\\n",
       "0           0 2018-05-18 00:11:59  viewed product  4886f805  NaN   9288.0   \n",
       "1           1 2018-05-18 00:11:27  viewed product  ad93850f  NaN    304.0   \n",
       "2           2 2018-05-18 00:11:16  viewed product  0297fc1e  NaN   6888.0   \n",
       "3           3 2018-05-18 00:11:14  viewed product  2d681dd8  NaN  11890.0   \n",
       "4           4 2018-05-18 00:11:09  viewed product  cccea85e  NaN   7517.0   \n",
       "\n",
       "                     model  condition storage           color   ...    \\\n",
       "0  samsung galaxy j7 prime  Excelente    32GB         Dourado   ...     \n",
       "1                iphone 5s  Muito Bom    32GB  Cinza espacial   ...     \n",
       "2                iphone 6s  Muito Bom    64GB        Prateado   ...     \n",
       "3                 iphone 7        Bom   128GB        Vermelho   ...     \n",
       "4              lg g4 h818p  Excelente    32GB          Branco   ...     \n",
       "\n",
       "  screen_resolution operating_system_version     browser_version  \\\n",
       "0           360x640                Android 7  Chrome Mobile 64.0   \n",
       "1           360x640            Android 5.1.1  Chrome Mobile 66.0   \n",
       "2           360x640            Android 6.0.1  Chrome Mobile 61.0   \n",
       "3          1360x768             Windows 8.1          Chrome 66.0   \n",
       "4          1536x864               Windows 7          Chrome 66.0   \n",
       "\n",
       "  Parte del dia month day    marca    version count_x count_y  \n",
       "0         Noche     5  18  samsung  galaxy j7       1       5  \n",
       "1         Noche     5  18    apple  iphone 5s       1      26  \n",
       "2         Noche     5  18    apple  iphone 6s       1     439  \n",
       "3         Noche     5  18    apple   iphone 7       1      14  \n",
       "4         Noche     5  18       lg   g4 h818p       1     754  \n",
       "\n",
       "[5 rows x 31 columns]"
      ]
     },
     "execution_count": 14,
     "metadata": {},
     "output_type": "execute_result"
    }
   ],
   "source": [
    "eventsData.head()"
   ]
  },
  {
   "cell_type": "code",
   "execution_count": 15,
   "metadata": {},
   "outputs": [],
   "source": [
    "eventsData[\"activo\"] = eventsData[\"count_y\"] > 7"
   ]
  },
  {
   "cell_type": "code",
   "execution_count": 16,
   "metadata": {},
   "outputs": [],
   "source": [
    "marcas_ventas = eventsData[eventsData[\"event\"] == \"conversion\"][\"marca\"].value_counts()"
   ]
  },
  {
   "cell_type": "code",
   "execution_count": 17,
   "metadata": {},
   "outputs": [
    {
     "data": {
      "text/plain": [
       "samsung     3615\n",
       "apple       2031\n",
       "motorola    1104\n",
       "lg           161\n",
       "lenovo        99\n",
       "sony          56\n",
       "asus          22\n",
       "quantum        3\n",
       "Name: marca, dtype: int64"
      ]
     },
     "execution_count": 17,
     "metadata": {},
     "output_type": "execute_result"
    }
   ],
   "source": [
    "marcas_ventas"
   ]
  },
  {
   "cell_type": "code",
   "execution_count": 18,
   "metadata": {},
   "outputs": [],
   "source": [
    "version_ventas = eventsData[eventsData[\"event\"] == \"conversion\"][\"version\"].value_counts()"
   ]
  },
  {
   "cell_type": "code",
   "execution_count": 19,
   "metadata": {},
   "outputs": [],
   "source": [
    "version_ventas = version_ventas < 200"
   ]
  },
  {
   "cell_type": "code",
   "execution_count": null,
   "metadata": {},
   "outputs": [],
   "source": [
    "marcas_ventas = marcas_ventas < 1000"
   ]
  },
  {
   "cell_type": "code",
   "execution_count": null,
   "metadata": {},
   "outputs": [],
   "source": [
    "eventsData[\"marcas_malas\"] = eventsData[\"marca\"].map(lambda x: marcas_ventas[x] if(x in marcas_ventas.keys()) else True)"
   ]
  },
  {
   "cell_type": "code",
   "execution_count": null,
   "metadata": {},
   "outputs": [],
   "source": [
    "eventsData[\"versiones_malas\"] = eventsData[\"version\"].map(lambda x: version_ventas[x] if(x in version_ventas.keys()) else True)"
   ]
  },
  {
   "cell_type": "code",
   "execution_count": null,
   "metadata": {},
   "outputs": [],
   "source": [
    "eventsData[\"versiones_malas\"].value_counts()"
   ]
  },
  {
   "cell_type": "code",
   "execution_count": null,
   "metadata": {},
   "outputs": [],
   "source": [
    "eventsData = eventsData[[\"person\",\"versiones_malas\",\"marcas_malas\",\"activo\"]]"
   ]
  },
  {
   "cell_type": "code",
   "execution_count": null,
   "metadata": {},
   "outputs": [],
   "source": [
    "eventsData = eventsData.groupby(\"person\",as_index = False).agg({\"versiones_malas\":np.mean, \"marcas_malas\":np.mean, \"activo\":max})"
   ]
  },
  {
   "cell_type": "code",
   "execution_count": null,
   "metadata": {},
   "outputs": [],
   "source": [
    "train = pd.read_csv(\"setEntrenamiento.csv\")"
   ]
  },
  {
   "cell_type": "code",
   "execution_count": null,
   "metadata": {},
   "outputs": [],
   "source": [
    "train = train.drop(\"Unnamed: 0\",axis = 1)"
   ]
  },
  {
   "cell_type": "code",
   "execution_count": null,
   "metadata": {},
   "outputs": [],
   "source": [
    "train = pd.merge(train,eventsData,on=\"person\",how =\"left\")"
   ]
  },
  {
   "cell_type": "code",
   "execution_count": null,
   "metadata": {},
   "outputs": [],
   "source": [
    "train[\"versiones_malas\"] = train[\"versiones_malas\"].fillna(train[\"versiones_malas\"].mean())"
   ]
  },
  {
   "cell_type": "code",
   "execution_count": null,
   "metadata": {},
   "outputs": [],
   "source": [
    "train[\"marcas_malas\"] = train[\"marcas_malas\"].fillna(train[\"marcas_malas\"].mean())"
   ]
  },
  {
   "cell_type": "code",
   "execution_count": null,
   "metadata": {},
   "outputs": [],
   "source": [
    "train[\"activo\"] = train[\"activo\"].fillna(False)"
   ]
  },
  {
   "cell_type": "code",
   "execution_count": null,
   "metadata": {},
   "outputs": [],
   "source": [
    "train.to_csv(\"setEntrenamiento.csv\",index = False)"
   ]
  },
  {
   "cell_type": "code",
   "execution_count": null,
   "metadata": {},
   "outputs": [],
   "source": [
    "test = pd.read_csv(\"setTest.csv\")"
   ]
  },
  {
   "cell_type": "code",
   "execution_count": 218,
   "metadata": {},
   "outputs": [],
   "source": [
    "test = pd.merge(test,eventsData,on=\"person\",how=\"left\")"
   ]
  },
  {
   "cell_type": "code",
   "execution_count": 219,
   "metadata": {},
   "outputs": [
    {
     "data": {
      "text/plain": [
       "Index(['person', 'cant_seciones', 'event_checkout', 'event_conversion',\n",
       "       'event_ad campaign hit', 'event_lead', 'skus', 'screen_resolution',\n",
       "       'Busca_terminos_populares', 'Computer', 'Smartphone', 'otros',\n",
       "       'marca_apple', 'marca_asus', 'marca_lenovo', 'marca_lg',\n",
       "       'marca_motorola', 'marca_samsung', 'marca_sony', 'condition_Bom',\n",
       "       'condition_Bom - Sem Touch ID', 'condition_Excelente',\n",
       "       'condition_Muito Bom', 'version_galaxy j7', 'version_galaxy j5',\n",
       "       'version_galaxy s7', 'version_iphone 6', 'version_iphone 5s',\n",
       "       'version_iphone 6s', 'version_moto g4', 'version_moto g2',\n",
       "       'version_galaxy s6', 'storage_128GB', 'storage_16GB', 'storage_256GB',\n",
       "       'storage_32GB', 'storage_4GB', 'storage_512MB', 'storage_64GB',\n",
       "       'storage_8GB', 'Parte del dia_Madrugada', 'Parte del dia_Mañana',\n",
       "       'Parte del dia_Noche', 'Parte del dia_Tarde', 'campaign_source_google',\n",
       "       'campaign_source_criteo', 'campaign_source_rtbhouse', 'channel_Direct',\n",
       "       'channel_Paid', 'channel_Organic', 'channel_Referral', 'Brasilero',\n",
       "       'ventas_region', 'count_activity', 'conversiones_15lastdays',\n",
       "       'checkout_15lastdays', 'viewed_15lastday', 'color_Preto',\n",
       "       'color_Dourado', 'color_Branco', 'color_Cinza espacial',\n",
       "       'new_15lastdays', 'sku', 'cantidad_De_Compras_De_Mismo_Sku',\n",
       "       'Cantidad_De_Busquedas_Por_Termino', 'search_and_purchase',\n",
       "       'cantidad_de_Url_de_compra', 'cantidadDeStaticPage', 'Prob_Apple',\n",
       "       'Prob_Asus', 'Prob_Lenovo', 'Prob_lg', 'Prob_motorola', 'Prob_quantum',\n",
       "       'Prob_samsung', 'Prob_sony', 'sku_multiple', 'prob_marca', 'prob_model',\n",
       "       'prob_marca_checkout', 'prob_marca_en_base_checkout',\n",
       "       'prob_model_en_base_checkout', 'sku_0.0', 'sku_2831.0', 'sku_3371.0',\n",
       "       'sku_6357.0', 'sku_6371.0', 'compraPopular', 'usuario_Checkeador',\n",
       "       'usuario_susceptible_campaign', 'usuario_buscador',\n",
       "       'usuario_dubitativo', 'usuario_poco_util', 'usuario_muy_activo',\n",
       "       'usuario_convertidor', 'versiones_malas', 'marcas_malas', 'activo'],\n",
       "      dtype='object')"
      ]
     },
     "execution_count": 219,
     "metadata": {},
     "output_type": "execute_result"
    }
   ],
   "source": [
    "test.columns"
   ]
  },
  {
   "cell_type": "code",
   "execution_count": 221,
   "metadata": {},
   "outputs": [],
   "source": [
    "test[\"versiones_malas\"] = test[\"versiones_malas\"].fillna(test[\"versiones_malas\"].mean())"
   ]
  },
  {
   "cell_type": "code",
   "execution_count": 222,
   "metadata": {},
   "outputs": [],
   "source": [
    "test[\"marcas_malas\"] = test[\"marcas_malas\"].fillna(test[\"marcas_malas\"].mean())"
   ]
  },
  {
   "cell_type": "code",
   "execution_count": 223,
   "metadata": {},
   "outputs": [],
   "source": [
    "test[\"activo\"] = test[\"activo\"].fillna(False)"
   ]
  },
  {
   "cell_type": "code",
   "execution_count": 224,
   "metadata": {},
   "outputs": [
    {
     "name": "stdout",
     "output_type": "stream",
     "text": [
      "<class 'pandas.core.frame.DataFrame'>\n",
      "Int64Index: 19415 entries, 0 to 19414\n",
      "Data columns (total 98 columns):\n",
      "person                               19415 non-null object\n",
      "cant_seciones                        19415 non-null int64\n",
      "event_checkout                       19415 non-null float64\n",
      "event_conversion                     19415 non-null float64\n",
      "event_ad campaign hit                19415 non-null float64\n",
      "event_lead                           19415 non-null float64\n",
      "skus                                 19415 non-null int64\n",
      "screen_resolution                    19415 non-null float64\n",
      "Busca_terminos_populares             19415 non-null int64\n",
      "Computer                             19415 non-null float64\n",
      "Smartphone                           19415 non-null float64\n",
      "otros                                19415 non-null float64\n",
      "marca_apple                          19415 non-null float64\n",
      "marca_asus                           19415 non-null float64\n",
      "marca_lenovo                         19415 non-null float64\n",
      "marca_lg                             19415 non-null float64\n",
      "marca_motorola                       19415 non-null float64\n",
      "marca_samsung                        19415 non-null float64\n",
      "marca_sony                           19415 non-null float64\n",
      "condition_Bom                        19415 non-null float64\n",
      "condition_Bom - Sem Touch ID         19415 non-null float64\n",
      "condition_Excelente                  19415 non-null float64\n",
      "condition_Muito Bom                  19415 non-null float64\n",
      "version_galaxy j7                    19415 non-null float64\n",
      "version_galaxy j5                    19415 non-null float64\n",
      "version_galaxy s7                    19415 non-null float64\n",
      "version_iphone 6                     19415 non-null float64\n",
      "version_iphone 5s                    19415 non-null float64\n",
      "version_iphone 6s                    19415 non-null float64\n",
      "version_moto g4                      19415 non-null float64\n",
      "version_moto g2                      19415 non-null float64\n",
      "version_galaxy s6                    19415 non-null float64\n",
      "storage_128GB                        19415 non-null float64\n",
      "storage_16GB                         19415 non-null float64\n",
      "storage_256GB                        19415 non-null float64\n",
      "storage_32GB                         19415 non-null float64\n",
      "storage_4GB                          19415 non-null float64\n",
      "storage_512MB                        19415 non-null float64\n",
      "storage_64GB                         19415 non-null float64\n",
      "storage_8GB                          19415 non-null float64\n",
      "Parte del dia_Madrugada              19415 non-null float64\n",
      "Parte del dia_Mañana                 19415 non-null float64\n",
      "Parte del dia_Noche                  19415 non-null float64\n",
      "Parte del dia_Tarde                  19415 non-null float64\n",
      "campaign_source_google               19415 non-null float64\n",
      "campaign_source_criteo               19415 non-null float64\n",
      "campaign_source_rtbhouse             19415 non-null float64\n",
      "channel_Direct                       19415 non-null float64\n",
      "channel_Paid                         19415 non-null float64\n",
      "channel_Organic                      19415 non-null float64\n",
      "channel_Referral                     19415 non-null float64\n",
      "Brasilero                            19415 non-null float64\n",
      "ventas_region                        19415 non-null float64\n",
      "count_activity                       19415 non-null float64\n",
      "conversiones_15lastdays              19415 non-null float64\n",
      "checkout_15lastdays                  19415 non-null float64\n",
      "viewed_15lastday                     19415 non-null float64\n",
      "color_Preto                          19415 non-null float64\n",
      "color_Dourado                        19415 non-null float64\n",
      "color_Branco                         19415 non-null float64\n",
      "color_Cinza espacial                 19415 non-null float64\n",
      "new_15lastdays                       19415 non-null float64\n",
      "sku                                  19415 non-null float64\n",
      "cantidad_De_Compras_De_Mismo_Sku     19415 non-null float64\n",
      "Cantidad_De_Busquedas_Por_Termino    19415 non-null float64\n",
      "search_and_purchase                  19415 non-null float64\n",
      "cantidad_de_Url_de_compra            19415 non-null float64\n",
      "cantidadDeStaticPage                 19415 non-null float64\n",
      "Prob_Apple                           19415 non-null float64\n",
      "Prob_Asus                            19415 non-null float64\n",
      "Prob_Lenovo                          19415 non-null float64\n",
      "Prob_lg                              19415 non-null float64\n",
      "Prob_motorola                        19415 non-null float64\n",
      "Prob_quantum                         19415 non-null float64\n",
      "Prob_samsung                         19415 non-null float64\n",
      "Prob_sony                            19415 non-null float64\n",
      "sku_multiple                         19415 non-null float64\n",
      "prob_marca                           19415 non-null float64\n",
      "prob_model                           19415 non-null float64\n",
      "prob_marca_checkout                  19415 non-null float64\n",
      "prob_marca_en_base_checkout          19415 non-null float64\n",
      "prob_model_en_base_checkout          19415 non-null float64\n",
      "sku_0.0                              19415 non-null float64\n",
      "sku_2831.0                           19415 non-null float64\n",
      "sku_3371.0                           19415 non-null float64\n",
      "sku_6357.0                           19415 non-null float64\n",
      "sku_6371.0                           19415 non-null float64\n",
      "compraPopular                        19415 non-null float64\n",
      "usuario_Checkeador                   19415 non-null int64\n",
      "usuario_susceptible_campaign         19415 non-null int64\n",
      "usuario_buscador                     19415 non-null int64\n",
      "usuario_dubitativo                   19415 non-null bool\n",
      "usuario_poco_util                    19415 non-null bool\n",
      "usuario_muy_activo                   19415 non-null bool\n",
      "usuario_convertidor                  19415 non-null int64\n",
      "versiones_malas                      19415 non-null float64\n",
      "marcas_malas                         19415 non-null float64\n",
      "activo                               19415 non-null bool\n",
      "dtypes: bool(4), float64(86), int64(7), object(1)\n",
      "memory usage: 14.1+ MB\n"
     ]
    }
   ],
   "source": [
    "test.info()"
   ]
  },
  {
   "cell_type": "code",
   "execution_count": 225,
   "metadata": {},
   "outputs": [],
   "source": [
    "test.to_csv(\"setTest.csv\",index = False)"
   ]
  },
  {
   "cell_type": "code",
   "execution_count": null,
   "metadata": {},
   "outputs": [],
   "source": []
  }
 ],
 "metadata": {
  "kernelspec": {
   "display_name": "Python 3",
   "language": "python",
   "name": "python3"
  },
  "language_info": {
   "codemirror_mode": {
    "name": "ipython",
    "version": 3
   },
   "file_extension": ".py",
   "mimetype": "text/x-python",
   "name": "python",
   "nbconvert_exporter": "python",
   "pygments_lexer": "ipython3",
   "version": "3.6.0"
  }
 },
 "nbformat": 4,
 "nbformat_minor": 2
}
