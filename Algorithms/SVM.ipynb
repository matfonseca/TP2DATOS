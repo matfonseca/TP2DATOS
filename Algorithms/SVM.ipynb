{
 "cells": [
  {
   "cell_type": "code",
   "execution_count": null,
   "metadata": {},
   "outputs": [],
   "source": [
    "import pandas as pd\n",
    "import numpy as np\n",
    "import matplotlib.pyplot as plt\n",
    "from sklearn.model_selection import RandomizedSearchCV\n",
    "from sklearn.ensemble import RandomForestClassifier\n",
    "from sklearn import svm\n",
    "%matplotlib inline"
   ]
  },
  {
   "cell_type": "code",
   "execution_count": null,
   "metadata": {},
   "outputs": [],
   "source": [
    "usersDataTrain = pd.read_csv('../setEntrenamiento.csv')"
   ]
  },
  {
   "cell_type": "code",
   "execution_count": null,
   "metadata": {},
   "outputs": [],
   "source": [
    "usersDataTrain.head()"
   ]
  },
  {
   "cell_type": "code",
   "execution_count": null,
   "metadata": {},
   "outputs": [],
   "source": [
    "total_train= usersDataTrain.drop(['Unnamed: 0', 'person', 'cant_seciones',\n",
    "       'event_ad campaign hit', 'event_lead',\n",
    "       'screen_resolution', 'Busca_terminos_populares',\n",
    "       'otros', 'marca_apple', 'marca_asus', 'marca_lenovo',\n",
    "       'marca_lg', 'marca_motorola', 'marca_samsung', 'marca_sony',\n",
    "       'condition_Bom', 'condition_Bom - Sem Touch ID', 'condition_Excelente',\n",
    "       'condition_Muito Bom', 'version_galaxy j7', 'version_galaxy j5',\n",
    "       'version_galaxy s7', 'version_iphone 6', 'version_iphone 5s',\n",
    "       'version_iphone 6s', 'version_moto g4', 'version_moto g2',\n",
    "       'version_galaxy s6', 'storage_128GB', 'storage_16GB', 'storage_256GB',\n",
    "       'storage_32GB', 'storage_4GB', 'storage_512MB', 'storage_64GB',\n",
    "       'storage_8GB', 'Parte del dia_Madrugada', 'Parte del dia_Mañana',\n",
    "       'Parte del dia_Noche', 'Parte del dia_Tarde','channel_Direct',\n",
    "       'channel_Paid', 'channel_Organic', 'channel_Referral', 'Brasilero',\n",
    "       'color_Preto',\n",
    "       'color_Dourado', 'color_Branco', 'color_Cinza espacial',\n",
    "       'sku', 'cantidad_De_Compras_De_Mismo_Sku',\n",
    "       'Cantidad_De_Busquedas_Por_Termino', 'search_and_purchase',\n",
    "       'cantidad_de_Url_de_compra', 'cantidadDeStaticPage', 'Prob_Apple',\n",
    "       'Prob_Asus', 'Prob_Lenovo', 'Prob_lg', 'Prob_motorola', 'Prob_quantum',\n",
    "       'Prob_samsung', 'Prob_sony', 'sku_multiple', 'prob_marca',\n",
    "       'prob_model', 'prob_marca_checkout', 'usuario_Checkeador',\n",
    "       'usuario_susceptible_campaign', 'usuario_buscador',\n",
    "       'usuario_dubitativo', 'prob_marca_en_base_checkout',\n",
    "       'prob_model_en_base_checkout', 'sku_0.0', 'sku_2831.0', 'sku_3371.0',\n",
    "       'sku_6357.0', 'sku_6371.0', 'compraPopular'],axis=1)"
   ]
  },
  {
   "cell_type": "code",
   "execution_count": null,
   "metadata": {},
   "outputs": [],
   "source": [
    "total_train.columns"
   ]
  },
  {
   "cell_type": "code",
   "execution_count": null,
   "metadata": {},
   "outputs": [],
   "source": [
    "users1s = total_train[total_train[\"label\"] == 1]\n",
    "users0s = total_train[total_train[\"label\"] == 0].head(980)\n",
    "total_train = pd.concat([users0s,users1s], ignore_index=True)\n",
    "\n",
    "total_train[\"label\"].value_counts()"
   ]
  },
  {
   "cell_type": "code",
   "execution_count": null,
   "metadata": {},
   "outputs": [],
   "source": [
    "from sklearn.model_selection import train_test_split\n",
    "X_train, X_test, y_train, y_test = train_test_split(total_train.drop(['label'], axis=1).values, total_train[\"label\"] , test_size=0.20, random_state=75)\n",
    "\n"
   ]
  },
  {
   "cell_type": "code",
   "execution_count": null,
   "metadata": {},
   "outputs": [],
   "source": [
    "clf = svm.SVC(probability=True, kernel='rbf')"
   ]
  },
  {
   "cell_type": "code",
   "execution_count": null,
   "metadata": {},
   "outputs": [],
   "source": [
    "clf.fit(X_train, y_train)"
   ]
  },
  {
   "cell_type": "code",
   "execution_count": null,
   "metadata": {},
   "outputs": [],
   "source": [
    "result = clf.predict_proba(X_test)"
   ]
  },
  {
   "cell_type": "code",
   "execution_count": null,
   "metadata": {},
   "outputs": [],
   "source": [
    "result2 = []\n",
    "for elem in result:\n",
    "    result2.append(elem[1])"
   ]
  },
  {
   "cell_type": "code",
   "execution_count": null,
   "metadata": {},
   "outputs": [],
   "source": [
    "from sklearn import metrics\n",
    "pred = result2\n",
    "fpr, tpr, thresholds = metrics.roc_curve(y_test, pred)\n",
    "metrics.auc(fpr, tpr)"
   ]
  },
  {
   "cell_type": "code",
   "execution_count": null,
   "metadata": {},
   "outputs": [],
   "source": [
    "test = pd.read_csv('../setTest.csv')"
   ]
  },
  {
   "cell_type": "code",
   "execution_count": null,
   "metadata": {},
   "outputs": [],
   "source": [
    "person = test[\"person\"]"
   ]
  },
  {
   "cell_type": "code",
   "execution_count": null,
   "metadata": {},
   "outputs": [],
   "source": [
    "test= test.drop(['Unnamed: 0', 'person', 'cant_seciones',\n",
    "       'event_ad campaign hit', 'event_lead',\n",
    "       'screen_resolution', 'Busca_terminos_populares',\n",
    "       'otros', 'marca_apple', 'marca_asus', 'marca_lenovo',\n",
    "       'marca_lg', 'marca_motorola', 'marca_samsung', 'marca_sony',\n",
    "       'condition_Bom', 'condition_Bom - Sem Touch ID', 'condition_Excelente',\n",
    "       'condition_Muito Bom', 'version_galaxy j7', 'version_galaxy j5',\n",
    "       'version_galaxy s7', 'version_iphone 6', 'version_iphone 5s',\n",
    "       'version_iphone 6s', 'version_moto g4', 'version_moto g2',\n",
    "       'version_galaxy s6', 'storage_128GB', 'storage_16GB', 'storage_256GB',\n",
    "       'storage_32GB', 'storage_4GB', 'storage_512MB', 'storage_64GB',\n",
    "       'storage_8GB', 'Parte del dia_Madrugada', 'Parte del dia_Mañana',\n",
    "       'Parte del dia_Noche', 'Parte del dia_Tarde','channel_Direct',\n",
    "       'channel_Paid', 'channel_Organic', 'channel_Referral', 'Brasilero',\n",
    "       'color_Preto',\n",
    "       'color_Dourado', 'color_Branco', 'color_Cinza espacial',\n",
    "       'sku', 'cantidad_De_Compras_De_Mismo_Sku',\n",
    "       'Cantidad_De_Busquedas_Por_Termino', 'search_and_purchase',\n",
    "       'cantidad_de_Url_de_compra', 'cantidadDeStaticPage', 'Prob_Apple',\n",
    "       'Prob_Asus', 'Prob_Lenovo', 'Prob_lg', 'Prob_motorola', 'Prob_quantum',\n",
    "       'Prob_samsung', 'Prob_sony', 'sku_multiple', 'prob_marca',\n",
    "       'prob_model', 'prob_marca_checkout', 'usuario_Checkeador',\n",
    "       'usuario_susceptible_campaign', 'usuario_buscador',\n",
    "       'usuario_dubitativo', 'prob_marca_en_base_checkout',\n",
    "       'prob_model_en_base_checkout', 'sku_0.0', 'sku_2831.0', 'sku_3371.0',\n",
    "       'sku_6357.0', 'sku_6371.0', 'compraPopular'],axis=1)"
   ]
  },
  {
   "cell_type": "code",
   "execution_count": null,
   "metadata": {},
   "outputs": [],
   "source": [
    "test.head()"
   ]
  },
  {
   "cell_type": "code",
   "execution_count": null,
   "metadata": {},
   "outputs": [],
   "source": [
    "test.columns"
   ]
  },
  {
   "cell_type": "code",
   "execution_count": null,
   "metadata": {},
   "outputs": [],
   "source": [
    "test.shape"
   ]
  },
  {
   "cell_type": "code",
   "execution_count": null,
   "metadata": {},
   "outputs": [],
   "source": [
    "nombreCol = []\n",
    "for namecolumn in usersDataTrain.columns:\n",
    "     if ( not namecolumn in test.columns):\n",
    "            nombreCol.append(namecolumn)\n",
    "print(nombreCol)\n",
    "for namecolumn in test.columns:\n",
    "     if ( not namecolumn in usersDataTrain.columns):\n",
    "            nombreCol.append(namecolumn)\n",
    "print(nombreCol)"
   ]
  },
  {
   "cell_type": "code",
   "execution_count": null,
   "metadata": {},
   "outputs": [],
   "source": [
    "result = clf.predict_proba(test)"
   ]
  },
  {
   "cell_type": "code",
   "execution_count": null,
   "metadata": {},
   "outputs": [],
   "source": [
    "result2 = []\n",
    "for elem in result:\n",
    "    result2.append(elem[1])"
   ]
  },
  {
   "cell_type": "code",
   "execution_count": null,
   "metadata": {},
   "outputs": [],
   "source": [
    "person = person.to_frame()"
   ]
  },
  {
   "cell_type": "code",
   "execution_count": null,
   "metadata": {},
   "outputs": [],
   "source": [
    "person['label'] = result2"
   ]
  },
  {
   "cell_type": "code",
   "execution_count": null,
   "metadata": {},
   "outputs": [],
   "source": [
    "(person[\"label\"]<0.5).value_counts()"
   ]
  },
  {
   "cell_type": "code",
   "execution_count": null,
   "metadata": {},
   "outputs": [],
   "source": [
    "kaggle = pd.read_csv('../data/trocafone_kaggle_test.csv')"
   ]
  },
  {
   "cell_type": "code",
   "execution_count": null,
   "metadata": {},
   "outputs": [],
   "source": [
    "kaggle.head()"
   ]
  },
  {
   "cell_type": "code",
   "execution_count": null,
   "metadata": {},
   "outputs": [],
   "source": [
    "resultado = pd.merge(kaggle,person,on=\"person\",how = \"left\")"
   ]
  },
  {
   "cell_type": "code",
   "execution_count": null,
   "metadata": {},
   "outputs": [],
   "source": [
    "resultado[\"label\"].isnull().value_counts()"
   ]
  },
  {
   "cell_type": "code",
   "execution_count": null,
   "metadata": {},
   "outputs": [],
   "source": [
    "resultado.to_csv('resultadoRandomSVM.csv', index=False)"
   ]
  }
 ],
 "metadata": {
  "kernelspec": {
   "display_name": "Python 3",
   "language": "python",
   "name": "python3"
  },
  "language_info": {
   "codemirror_mode": {
    "name": "ipython",
    "version": 3
   },
   "file_extension": ".py",
   "mimetype": "text/x-python",
   "name": "python",
   "nbconvert_exporter": "python",
   "pygments_lexer": "ipython3",
   "version": "3.6.5"
  }
 },
 "nbformat": 4,
 "nbformat_minor": 2
}
