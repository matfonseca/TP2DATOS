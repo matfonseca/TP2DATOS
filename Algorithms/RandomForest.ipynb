{
 "cells": [
  {
   "cell_type": "code",
   "execution_count": 1,
   "metadata": {},
   "outputs": [],
   "source": [
    "import pandas as pd\n",
    "import numpy as np\n",
    "import matplotlib.pyplot as plt\n",
    "from sklearn.model_selection import RandomizedSearchCV\n",
    "from sklearn.ensemble import RandomForestClassifier\n",
    "%matplotlib inline"
   ]
  },
  {
   "cell_type": "code",
   "execution_count": 42,
   "metadata": {},
   "outputs": [],
   "source": [
    "usersDataTrain = pd.read_csv('../setEntrenamiento.csv')\n"
   ]
  },
  {
   "cell_type": "code",
   "execution_count": 43,
   "metadata": {},
   "outputs": [
    {
     "data": {
      "text/html": [
       "<div>\n",
       "<style scoped>\n",
       "    .dataframe tbody tr th:only-of-type {\n",
       "        vertical-align: middle;\n",
       "    }\n",
       "\n",
       "    .dataframe tbody tr th {\n",
       "        vertical-align: top;\n",
       "    }\n",
       "\n",
       "    .dataframe thead th {\n",
       "        text-align: right;\n",
       "    }\n",
       "</style>\n",
       "<table border=\"1\" class=\"dataframe\">\n",
       "  <thead>\n",
       "    <tr style=\"text-align: right;\">\n",
       "      <th></th>\n",
       "      <th>Unnamed: 0</th>\n",
       "      <th>person</th>\n",
       "      <th>cant_seciones</th>\n",
       "      <th>event_checkout</th>\n",
       "      <th>event_conversion</th>\n",
       "      <th>event_ad campaign hit</th>\n",
       "      <th>event_lead</th>\n",
       "      <th>skus</th>\n",
       "      <th>screen_resolution</th>\n",
       "      <th>Busca_terminos_populares</th>\n",
       "      <th>...</th>\n",
       "      <th>sku_6357.0</th>\n",
       "      <th>sku_6371.0</th>\n",
       "      <th>compraPopular</th>\n",
       "      <th>usuario_Checkeador</th>\n",
       "      <th>usuario_susceptible_campaign</th>\n",
       "      <th>usuario_buscador</th>\n",
       "      <th>usuario_dubitativo</th>\n",
       "      <th>usuario_poco_util</th>\n",
       "      <th>usuario_muy_activo</th>\n",
       "      <th>usuario_convertidor</th>\n",
       "    </tr>\n",
       "  </thead>\n",
       "  <tbody>\n",
       "    <tr>\n",
       "      <th>0</th>\n",
       "      <td>0</td>\n",
       "      <td>0008ed71</td>\n",
       "      <td>3</td>\n",
       "      <td>3.0</td>\n",
       "      <td>0.0</td>\n",
       "      <td>0.0</td>\n",
       "      <td>0.0</td>\n",
       "      <td>1</td>\n",
       "      <td>0.0</td>\n",
       "      <td>0</td>\n",
       "      <td>...</td>\n",
       "      <td>0.0</td>\n",
       "      <td>0.0</td>\n",
       "      <td>0.0</td>\n",
       "      <td>1</td>\n",
       "      <td>0</td>\n",
       "      <td>0</td>\n",
       "      <td>False</td>\n",
       "      <td>False</td>\n",
       "      <td>False</td>\n",
       "      <td>0</td>\n",
       "    </tr>\n",
       "    <tr>\n",
       "      <th>1</th>\n",
       "      <td>1</td>\n",
       "      <td>000c79fe</td>\n",
       "      <td>1</td>\n",
       "      <td>1.0</td>\n",
       "      <td>0.0</td>\n",
       "      <td>1.0</td>\n",
       "      <td>0.0</td>\n",
       "      <td>1</td>\n",
       "      <td>0.0</td>\n",
       "      <td>8</td>\n",
       "      <td>...</td>\n",
       "      <td>0.0</td>\n",
       "      <td>0.0</td>\n",
       "      <td>1.0</td>\n",
       "      <td>0</td>\n",
       "      <td>0</td>\n",
       "      <td>0</td>\n",
       "      <td>False</td>\n",
       "      <td>True</td>\n",
       "      <td>False</td>\n",
       "      <td>0</td>\n",
       "    </tr>\n",
       "    <tr>\n",
       "      <th>2</th>\n",
       "      <td>2</td>\n",
       "      <td>001802e4</td>\n",
       "      <td>1</td>\n",
       "      <td>1.0</td>\n",
       "      <td>0.0</td>\n",
       "      <td>5.0</td>\n",
       "      <td>0.0</td>\n",
       "      <td>1</td>\n",
       "      <td>0.0</td>\n",
       "      <td>0</td>\n",
       "      <td>...</td>\n",
       "      <td>0.0</td>\n",
       "      <td>0.0</td>\n",
       "      <td>1.0</td>\n",
       "      <td>0</td>\n",
       "      <td>0</td>\n",
       "      <td>0</td>\n",
       "      <td>False</td>\n",
       "      <td>True</td>\n",
       "      <td>False</td>\n",
       "      <td>0</td>\n",
       "    </tr>\n",
       "    <tr>\n",
       "      <th>3</th>\n",
       "      <td>3</td>\n",
       "      <td>0019e639</td>\n",
       "      <td>21</td>\n",
       "      <td>15.0</td>\n",
       "      <td>2.0</td>\n",
       "      <td>29.0</td>\n",
       "      <td>0.0</td>\n",
       "      <td>1</td>\n",
       "      <td>0.0</td>\n",
       "      <td>3</td>\n",
       "      <td>...</td>\n",
       "      <td>0.0</td>\n",
       "      <td>0.0</td>\n",
       "      <td>0.0</td>\n",
       "      <td>1</td>\n",
       "      <td>1</td>\n",
       "      <td>1</td>\n",
       "      <td>True</td>\n",
       "      <td>False</td>\n",
       "      <td>True</td>\n",
       "      <td>1</td>\n",
       "    </tr>\n",
       "    <tr>\n",
       "      <th>4</th>\n",
       "      <td>4</td>\n",
       "      <td>001b0bf9</td>\n",
       "      <td>1</td>\n",
       "      <td>2.0</td>\n",
       "      <td>1.0</td>\n",
       "      <td>0.0</td>\n",
       "      <td>0.0</td>\n",
       "      <td>1</td>\n",
       "      <td>0.0</td>\n",
       "      <td>0</td>\n",
       "      <td>...</td>\n",
       "      <td>0.0</td>\n",
       "      <td>0.0</td>\n",
       "      <td>1.0</td>\n",
       "      <td>1</td>\n",
       "      <td>0</td>\n",
       "      <td>0</td>\n",
       "      <td>False</td>\n",
       "      <td>False</td>\n",
       "      <td>False</td>\n",
       "      <td>0</td>\n",
       "    </tr>\n",
       "  </tbody>\n",
       "</table>\n",
       "<p>5 rows × 97 columns</p>\n",
       "</div>"
      ],
      "text/plain": [
       "   Unnamed: 0    person  cant_seciones  event_checkout  event_conversion  \\\n",
       "0           0  0008ed71              3             3.0               0.0   \n",
       "1           1  000c79fe              1             1.0               0.0   \n",
       "2           2  001802e4              1             1.0               0.0   \n",
       "3           3  0019e639             21            15.0               2.0   \n",
       "4           4  001b0bf9              1             2.0               1.0   \n",
       "\n",
       "   event_ad campaign hit  event_lead  skus  screen_resolution  \\\n",
       "0                    0.0         0.0     1                0.0   \n",
       "1                    1.0         0.0     1                0.0   \n",
       "2                    5.0         0.0     1                0.0   \n",
       "3                   29.0         0.0     1                0.0   \n",
       "4                    0.0         0.0     1                0.0   \n",
       "\n",
       "   Busca_terminos_populares         ...           sku_6357.0  sku_6371.0  \\\n",
       "0                         0         ...                  0.0         0.0   \n",
       "1                         8         ...                  0.0         0.0   \n",
       "2                         0         ...                  0.0         0.0   \n",
       "3                         3         ...                  0.0         0.0   \n",
       "4                         0         ...                  0.0         0.0   \n",
       "\n",
       "   compraPopular  usuario_Checkeador  usuario_susceptible_campaign  \\\n",
       "0            0.0                   1                             0   \n",
       "1            1.0                   0                             0   \n",
       "2            1.0                   0                             0   \n",
       "3            0.0                   1                             1   \n",
       "4            1.0                   1                             0   \n",
       "\n",
       "   usuario_buscador  usuario_dubitativo  usuario_poco_util  \\\n",
       "0                 0               False              False   \n",
       "1                 0               False               True   \n",
       "2                 0               False               True   \n",
       "3                 1                True              False   \n",
       "4                 0               False              False   \n",
       "\n",
       "   usuario_muy_activo  usuario_convertidor  \n",
       "0               False                    0  \n",
       "1               False                    0  \n",
       "2               False                    0  \n",
       "3                True                    1  \n",
       "4               False                    0  \n",
       "\n",
       "[5 rows x 97 columns]"
      ]
     },
     "execution_count": 43,
     "metadata": {},
     "output_type": "execute_result"
    }
   ],
   "source": [
    "usersDataTrain.head()"
   ]
  },
  {
   "cell_type": "code",
   "execution_count": 171,
   "metadata": {},
   "outputs": [],
   "source": [
    "total_train= usersDataTrain.drop(['Unnamed: 0', 'person',\n",
    "       'event_ad campaign hit','screen_resolution', 'Busca_terminos_populares',\n",
    "       'otros', 'marca_apple', 'marca_asus',\n",
    "       'marca_lg', 'marca_motorola', 'marca_samsung', 'marca_sony',\n",
    "       'condition_Bom', 'condition_Bom - Sem Touch ID', 'condition_Excelente',\n",
    "       'condition_Muito Bom', 'version_galaxy j7', 'version_galaxy j5',\n",
    "       'version_galaxy s7', 'version_iphone 6', 'version_iphone 5s',\n",
    "       'version_iphone 6s', 'version_moto g4', 'version_moto g2',\n",
    "       'version_galaxy s6', 'storage_128GB', 'storage_16GB', 'storage_256GB',\n",
    "       'storage_32GB', 'storage_4GB', 'storage_512MB', 'storage_64GB',\n",
    "       'storage_8GB', 'Parte del dia_Madrugada', 'Parte del dia_Mañana',\n",
    "       'Parte del dia_Noche', 'Parte del dia_Tarde','channel_Direct',\n",
    "       'channel_Paid', 'channel_Organic', 'channel_Referral', 'Brasilero',\n",
    "       'color_Dourado', 'color_Branco',\n",
    "        'cantidad_De_Compras_De_Mismo_Sku',\n",
    "       'Cantidad_De_Busquedas_Por_Termino', 'search_and_purchase',\n",
    "       'cantidad_de_Url_de_compra', 'cantidadDeStaticPage', 'Prob_Apple',\n",
    "       'Prob_Asus', 'Prob_Lenovo', 'Prob_motorola', 'Prob_quantum',\n",
    "       'Prob_samsung',  'sku_multiple', 'prob_marca',\n",
    "       'prob_model', 'prob_marca_checkout', 'usuario_Checkeador',\n",
    "       'usuario_susceptible_campaign',\n",
    "       'usuario_dubitativo',\n",
    "       'prob_model_en_base_checkout', 'sku_0.0', 'sku_2831.0',\n",
    "        'compraPopular', 'event_lead',\n",
    "        'count_activity',\n",
    "        'color_Preto', 'Prob_lg',\n",
    "       'Prob_sony','usuario_poco_util']\n",
    "       ,axis=1)"
   ]
  },
  {
   "cell_type": "code",
   "execution_count": 172,
   "metadata": {},
   "outputs": [
    {
     "data": {
      "text/plain": [
       "Index(['cant_seciones', 'event_checkout', 'event_conversion', 'skus',\n",
       "       'Computer', 'Smartphone', 'marca_lenovo', 'campaign_source_google',\n",
       "       'campaign_source_criteo', 'campaign_source_rtbhouse', 'ventas_region',\n",
       "       'conversiones_15lastdays', 'checkout_15lastdays', 'viewed_15lastday',\n",
       "       'color_Cinza espacial', 'new_15lastdays', 'sku', 'label',\n",
       "       'prob_marca_en_base_checkout', 'sku_3371.0', 'sku_6357.0', 'sku_6371.0',\n",
       "       'usuario_buscador', 'usuario_muy_activo', 'usuario_convertidor'],\n",
       "      dtype='object')"
      ]
     },
     "execution_count": 172,
     "metadata": {},
     "output_type": "execute_result"
    }
   ],
   "source": [
    "total_train.columns\n"
   ]
  },
  {
   "cell_type": "code",
   "execution_count": 173,
   "metadata": {},
   "outputs": [
    {
     "data": {
      "text/plain": [
       "1    980\n",
       "0    980\n",
       "Name: label, dtype: int64"
      ]
     },
     "execution_count": 173,
     "metadata": {},
     "output_type": "execute_result"
    }
   ],
   "source": [
    "users1s = total_train[total_train[\"label\"] == 1]\n",
    "users0s = total_train[total_train[\"label\"] == 0].head(980)\n",
    "total_train = pd.concat([users0s,users1s], ignore_index=True)\n",
    "\n",
    "total_train[\"label\"].value_counts()"
   ]
  },
  {
   "cell_type": "code",
   "execution_count": 174,
   "metadata": {},
   "outputs": [],
   "source": [
    "from sklearn.model_selection import train_test_split\n",
    "X_train, X_test, y_train, y_test = train_test_split(total_train.drop(['label'], axis=1).values, total_train[\"label\"] , test_size=0.20, random_state=75)\n",
    "\n"
   ]
  },
  {
   "cell_type": "code",
   "execution_count": 175,
   "metadata": {},
   "outputs": [
    {
     "name": "stdout",
     "output_type": "stream",
     "text": [
      "{'n_estimators': [200, 227, 255, 282, 310, 337, 365, 393, 420, 448, 475, 503, 531, 558, 586, 613, 641, 668, 696, 724, 751, 779, 806, 834, 862, 889, 917, 944, 972, 1000], 'max_features': ['auto', 'sqrt'], 'max_depth': [10, 26, 43, 60, 76, 93, 110, None], 'min_samples_split': [2, 5, 10], 'min_samples_leaf': [1, 2, 4], 'bootstrap': [True, False]}\n"
     ]
    }
   ],
   "source": [
    "\n",
    "# Number of trees in random forest\n",
    "n_estimators = [int(x) for x in np.linspace(start = 200, stop = 1000, num = 30)]\n",
    "# Number of features to consider at every split\n",
    "max_features = ['auto', 'sqrt']\n",
    "# Maximum number of levels in tree\n",
    "max_depth = [int(x) for x in np.linspace(10, 110, num = 7)]\n",
    "max_depth.append(None)\n",
    "# Minimum number of samples required to split a node\n",
    "min_samples_split = [2, 5, 10]\n",
    "# Minimum number of samples required at each leaf node\n",
    "min_samples_leaf = [1, 2, 4]\n",
    "# Method of selecting samples for training each tree\n",
    "bootstrap = [True, False]\n",
    "# Create the random grid\n",
    "random_grid = {'n_estimators': n_estimators,\n",
    "               'max_features': max_features,\n",
    "               'max_depth': max_depth,\n",
    "               'min_samples_split': min_samples_split,\n",
    "               'min_samples_leaf': min_samples_leaf,\n",
    "               'bootstrap': bootstrap}\n",
    "print(random_grid)"
   ]
  },
  {
   "cell_type": "code",
   "execution_count": 176,
   "metadata": {},
   "outputs": [
    {
     "name": "stdout",
     "output_type": "stream",
     "text": [
      "Fitting 5 folds for each of 700 candidates, totalling 3500 fits\n"
     ]
    },
    {
     "name": "stderr",
     "output_type": "stream",
     "text": [
      "[Parallel(n_jobs=-1)]: Using backend LokyBackend with 8 concurrent workers.\n",
      "[Parallel(n_jobs=-1)]: Done  25 tasks      | elapsed:    7.7s\n",
      "[Parallel(n_jobs=-1)]: Done 146 tasks      | elapsed:   34.5s\n",
      "[Parallel(n_jobs=-1)]: Done 349 tasks      | elapsed:  1.3min\n",
      "[Parallel(n_jobs=-1)]: Done 632 tasks      | elapsed:  2.4min\n",
      "[Parallel(n_jobs=-1)]: Done 997 tasks      | elapsed:  3.8min\n",
      "[Parallel(n_jobs=-1)]: Done 1442 tasks      | elapsed:  5.5min\n",
      "[Parallel(n_jobs=-1)]: Done 1969 tasks      | elapsed:  7.6min\n",
      "[Parallel(n_jobs=-1)]: Done 2576 tasks      | elapsed:  9.9min\n",
      "[Parallel(n_jobs=-1)]: Done 3265 tasks      | elapsed: 12.4min\n",
      "[Parallel(n_jobs=-1)]: Done 3500 out of 3500 | elapsed: 13.5min finished\n"
     ]
    },
    {
     "data": {
      "text/plain": [
       "RandomizedSearchCV(cv=5, error_score='raise-deprecating',\n",
       "          estimator=RandomForestClassifier(bootstrap=True, class_weight=None, criterion='gini',\n",
       "            max_depth=None, max_features='auto', max_leaf_nodes=None,\n",
       "            min_impurity_decrease=0.0, min_impurity_split=None,\n",
       "            min_samples_leaf=1, min_samples_split=2,\n",
       "            min_weight_fraction_leaf=0.0, n_estimators='warn', n_jobs=None,\n",
       "            oob_score=False, random_state=None, verbose=0,\n",
       "            warm_start=False),\n",
       "          fit_params=None, iid='warn', n_iter=700, n_jobs=-1,\n",
       "          param_distributions={'n_estimators': [200, 227, 255, 282, 310, 337, 365, 393, 420, 448, 475, 503, 531, 558, 586, 613, 641, 668, 696, 724, 751, 779, 806, 834, 862, 889, 917, 944, 972, 1000], 'max_features': ['auto', 'sqrt'], 'max_depth': [10, 26, 43, 60, 76, 93, 110, None], 'min_samples_split': [2, 5, 10], 'min_samples_leaf': [1, 2, 4], 'bootstrap': [True, False]},\n",
       "          pre_dispatch='2*n_jobs', random_state=42, refit=True,\n",
       "          return_train_score='warn', scoring=make_scorer(roc_auc_score),\n",
       "          verbose=2)"
      ]
     },
     "execution_count": 176,
     "metadata": {},
     "output_type": "execute_result"
    }
   ],
   "source": [
    "# Use the random grid to search for best hyperparameters\n",
    "# First create the base model to tune\n",
    "# Create a random forest Classifier. By convention, clf means 'Classifier'\n",
    "from sklearn.ensemble import RandomForestClassifier\n",
    "clf = RandomForestClassifier()\n",
    "from sklearn.metrics import make_scorer, roc_auc_score\n",
    "auc = make_scorer(roc_auc_score)\n",
    "\n",
    "# Random search of parameters, using 3 fold cross validation, \n",
    "# search across 100 different combinations, and use all available cores\n",
    "rf_random = RandomizedSearchCV(estimator = clf, param_distributions = random_grid, n_iter = 700, cv = 5, verbose=2, random_state=42, n_jobs = -1,scoring = auc)\n",
    "# Fit the random search model\n",
    "rf_random.fit(X_train, y_train)"
   ]
  },
  {
   "cell_type": "code",
   "execution_count": 177,
   "metadata": {},
   "outputs": [
    {
     "data": {
      "text/plain": [
       "{'n_estimators': 282,\n",
       " 'min_samples_split': 10,\n",
       " 'min_samples_leaf': 4,\n",
       " 'max_features': 'sqrt',\n",
       " 'max_depth': 43,\n",
       " 'bootstrap': True}"
      ]
     },
     "execution_count": 177,
     "metadata": {},
     "output_type": "execute_result"
    }
   ],
   "source": [
    "rf_random.best_params_\n"
   ]
  },
  {
   "cell_type": "code",
   "execution_count": 178,
   "metadata": {},
   "outputs": [],
   "source": [
    "clf = RandomForestClassifier(bootstrap= True,\n",
    " max_depth= 43,\n",
    " max_features =  'sqrt',\n",
    " min_samples_leaf=4,\n",
    " min_samples_split= 10,\n",
    " n_estimators= 282\n",
    "  )                            "
   ]
  },
  {
   "cell_type": "code",
   "execution_count": 179,
   "metadata": {},
   "outputs": [
    {
     "data": {
      "text/plain": [
       "RandomForestClassifier(bootstrap=True, class_weight=None, criterion='gini',\n",
       "            max_depth=43, max_features='sqrt', max_leaf_nodes=None,\n",
       "            min_impurity_decrease=0.0, min_impurity_split=None,\n",
       "            min_samples_leaf=4, min_samples_split=10,\n",
       "            min_weight_fraction_leaf=0.0, n_estimators=282, n_jobs=None,\n",
       "            oob_score=False, random_state=None, verbose=0,\n",
       "            warm_start=False)"
      ]
     },
     "execution_count": 179,
     "metadata": {},
     "output_type": "execute_result"
    }
   ],
   "source": [
    "clf.fit(X_train, y_train)"
   ]
  },
  {
   "cell_type": "code",
   "execution_count": 180,
   "metadata": {},
   "outputs": [],
   "source": [
    "result = clf.predict_proba(X_test)"
   ]
  },
  {
   "cell_type": "code",
   "execution_count": 181,
   "metadata": {},
   "outputs": [],
   "source": [
    "result2 = []\n",
    "for elem in result:\n",
    "    result2.append(elem[1])"
   ]
  },
  {
   "cell_type": "code",
   "execution_count": 182,
   "metadata": {},
   "outputs": [
    {
     "data": {
      "text/plain": [
       "0.8963990939151717"
      ]
     },
     "execution_count": 182,
     "metadata": {},
     "output_type": "execute_result"
    }
   ],
   "source": [
    "from sklearn import metrics\n",
    "pred = result2\n",
    "fpr, tpr, thresholds = metrics.roc_curve(y_test, pred)\n",
    "metrics.auc(fpr, tpr)"
   ]
  },
  {
   "cell_type": "code",
   "execution_count": 183,
   "metadata": {},
   "outputs": [
    {
     "name": "stdout",
     "output_type": "stream",
     "text": [
      "Feature ranking:\n",
      "1. feature 17 (0.234477)\n",
      "2. feature 12 (0.183981)\n",
      "3. feature 1 (0.129493)\n",
      "4. feature 13 (0.091535)\n",
      "5. feature 0 (0.068814)\n",
      "6. feature 7 (0.042724)\n",
      "7. feature 15 (0.038014)\n",
      "8. feature 14 (0.036535)\n",
      "9. feature 21 (0.027714)\n",
      "10. feature 4 (0.019883)\n",
      "11. feature 10 (0.018792)\n",
      "12. feature 16 (0.018471)\n",
      "13. feature 8 (0.016725)\n",
      "14. feature 3 (0.013208)\n",
      "15. feature 5 (0.013127)\n",
      "16. feature 2 (0.013066)\n",
      "17. feature 9 (0.011200)\n",
      "18. feature 11 (0.007509)\n",
      "19. feature 23 (0.007081)\n",
      "20. feature 22 (0.006353)\n",
      "21. feature 20 (0.001009)\n",
      "22. feature 6 (0.000256)\n",
      "23. feature 18 (0.000034)\n",
      "24. feature 19 (0.000000)\n"
     ]
    }
   ],
   "source": [
    "from sklearn.datasets import make_classification\n",
    "from sklearn.ensemble import ExtraTreesClassifier\n",
    "importances = clf.feature_importances_\n",
    "std = np.std([tree.feature_importances_ for tree in clf.estimators_],\n",
    "             axis=0)\n",
    "indices = np.argsort(importances)[::-1]\n",
    "\n",
    "# Print the feature ranking\n",
    "print(\"Feature ranking:\")\n",
    "\n",
    "for f in range(X_train.shape[1]):\n",
    "    print(\"%d. feature %d (%f)\" % (f + 1, indices[f], importances[indices[f]]))\n"
   ]
  },
  {
   "cell_type": "code",
   "execution_count": 184,
   "metadata": {},
   "outputs": [],
   "source": [
    "test = pd.read_csv('../setTest.csv')"
   ]
  },
  {
   "cell_type": "code",
   "execution_count": 185,
   "metadata": {},
   "outputs": [],
   "source": [
    "person = test[\"person\"]"
   ]
  },
  {
   "cell_type": "code",
   "execution_count": 186,
   "metadata": {},
   "outputs": [
    {
     "data": {
      "text/html": [
       "<div>\n",
       "<style scoped>\n",
       "    .dataframe tbody tr th:only-of-type {\n",
       "        vertical-align: middle;\n",
       "    }\n",
       "\n",
       "    .dataframe tbody tr th {\n",
       "        vertical-align: top;\n",
       "    }\n",
       "\n",
       "    .dataframe thead th {\n",
       "        text-align: right;\n",
       "    }\n",
       "</style>\n",
       "<table border=\"1\" class=\"dataframe\">\n",
       "  <thead>\n",
       "    <tr style=\"text-align: right;\">\n",
       "      <th></th>\n",
       "      <th>Unnamed: 0</th>\n",
       "      <th>person</th>\n",
       "      <th>cant_seciones</th>\n",
       "      <th>event_checkout</th>\n",
       "      <th>event_conversion</th>\n",
       "      <th>event_ad campaign hit</th>\n",
       "      <th>event_lead</th>\n",
       "      <th>skus</th>\n",
       "      <th>screen_resolution</th>\n",
       "      <th>Busca_terminos_populares</th>\n",
       "      <th>...</th>\n",
       "      <th>sku_6357.0</th>\n",
       "      <th>sku_6371.0</th>\n",
       "      <th>compraPopular</th>\n",
       "      <th>usuario_Checkeador</th>\n",
       "      <th>usuario_susceptible_campaign</th>\n",
       "      <th>usuario_buscador</th>\n",
       "      <th>usuario_dubitativo</th>\n",
       "      <th>usuario_poco_util</th>\n",
       "      <th>usuario_muy_activo</th>\n",
       "      <th>usuario_convertidor</th>\n",
       "    </tr>\n",
       "  </thead>\n",
       "  <tbody>\n",
       "    <tr>\n",
       "      <th>0</th>\n",
       "      <td>0</td>\n",
       "      <td>4886f805</td>\n",
       "      <td>1</td>\n",
       "      <td>1.0</td>\n",
       "      <td>0.0</td>\n",
       "      <td>0.0</td>\n",
       "      <td>0.0</td>\n",
       "      <td>1</td>\n",
       "      <td>0.0</td>\n",
       "      <td>0</td>\n",
       "      <td>...</td>\n",
       "      <td>0.0</td>\n",
       "      <td>0.0</td>\n",
       "      <td>1.0</td>\n",
       "      <td>0</td>\n",
       "      <td>0</td>\n",
       "      <td>0</td>\n",
       "      <td>False</td>\n",
       "      <td>True</td>\n",
       "      <td>False</td>\n",
       "      <td>0</td>\n",
       "    </tr>\n",
       "    <tr>\n",
       "      <th>1</th>\n",
       "      <td>1</td>\n",
       "      <td>0297fc1e</td>\n",
       "      <td>96</td>\n",
       "      <td>7.0</td>\n",
       "      <td>0.0</td>\n",
       "      <td>29.0</td>\n",
       "      <td>1.0</td>\n",
       "      <td>1</td>\n",
       "      <td>0.0</td>\n",
       "      <td>5</td>\n",
       "      <td>...</td>\n",
       "      <td>0.0</td>\n",
       "      <td>0.0</td>\n",
       "      <td>1.0</td>\n",
       "      <td>1</td>\n",
       "      <td>1</td>\n",
       "      <td>1</td>\n",
       "      <td>True</td>\n",
       "      <td>False</td>\n",
       "      <td>False</td>\n",
       "      <td>0</td>\n",
       "    </tr>\n",
       "    <tr>\n",
       "      <th>2</th>\n",
       "      <td>2</td>\n",
       "      <td>2d681dd8</td>\n",
       "      <td>2</td>\n",
       "      <td>1.0</td>\n",
       "      <td>0.0</td>\n",
       "      <td>1.0</td>\n",
       "      <td>0.0</td>\n",
       "      <td>1</td>\n",
       "      <td>0.0</td>\n",
       "      <td>1</td>\n",
       "      <td>...</td>\n",
       "      <td>0.0</td>\n",
       "      <td>0.0</td>\n",
       "      <td>0.0</td>\n",
       "      <td>0</td>\n",
       "      <td>0</td>\n",
       "      <td>0</td>\n",
       "      <td>False</td>\n",
       "      <td>True</td>\n",
       "      <td>False</td>\n",
       "      <td>0</td>\n",
       "    </tr>\n",
       "    <tr>\n",
       "      <th>3</th>\n",
       "      <td>3</td>\n",
       "      <td>cccea85e</td>\n",
       "      <td>28</td>\n",
       "      <td>1.0</td>\n",
       "      <td>0.0</td>\n",
       "      <td>15.0</td>\n",
       "      <td>0.0</td>\n",
       "      <td>1</td>\n",
       "      <td>0.0</td>\n",
       "      <td>0</td>\n",
       "      <td>...</td>\n",
       "      <td>0.0</td>\n",
       "      <td>0.0</td>\n",
       "      <td>0.0</td>\n",
       "      <td>0</td>\n",
       "      <td>1</td>\n",
       "      <td>1</td>\n",
       "      <td>False</td>\n",
       "      <td>False</td>\n",
       "      <td>False</td>\n",
       "      <td>0</td>\n",
       "    </tr>\n",
       "    <tr>\n",
       "      <th>4</th>\n",
       "      <td>4</td>\n",
       "      <td>4c8a8b93</td>\n",
       "      <td>20</td>\n",
       "      <td>2.0</td>\n",
       "      <td>0.0</td>\n",
       "      <td>14.0</td>\n",
       "      <td>0.0</td>\n",
       "      <td>1</td>\n",
       "      <td>0.0</td>\n",
       "      <td>9</td>\n",
       "      <td>...</td>\n",
       "      <td>0.0</td>\n",
       "      <td>0.0</td>\n",
       "      <td>1.0</td>\n",
       "      <td>1</td>\n",
       "      <td>1</td>\n",
       "      <td>1</td>\n",
       "      <td>True</td>\n",
       "      <td>False</td>\n",
       "      <td>False</td>\n",
       "      <td>0</td>\n",
       "    </tr>\n",
       "  </tbody>\n",
       "</table>\n",
       "<p>5 rows × 96 columns</p>\n",
       "</div>"
      ],
      "text/plain": [
       "   Unnamed: 0    person  cant_seciones  event_checkout  event_conversion  \\\n",
       "0           0  4886f805              1             1.0               0.0   \n",
       "1           1  0297fc1e             96             7.0               0.0   \n",
       "2           2  2d681dd8              2             1.0               0.0   \n",
       "3           3  cccea85e             28             1.0               0.0   \n",
       "4           4  4c8a8b93             20             2.0               0.0   \n",
       "\n",
       "   event_ad campaign hit  event_lead  skus  screen_resolution  \\\n",
       "0                    0.0         0.0     1                0.0   \n",
       "1                   29.0         1.0     1                0.0   \n",
       "2                    1.0         0.0     1                0.0   \n",
       "3                   15.0         0.0     1                0.0   \n",
       "4                   14.0         0.0     1                0.0   \n",
       "\n",
       "   Busca_terminos_populares         ...           sku_6357.0  sku_6371.0  \\\n",
       "0                         0         ...                  0.0         0.0   \n",
       "1                         5         ...                  0.0         0.0   \n",
       "2                         1         ...                  0.0         0.0   \n",
       "3                         0         ...                  0.0         0.0   \n",
       "4                         9         ...                  0.0         0.0   \n",
       "\n",
       "   compraPopular  usuario_Checkeador  usuario_susceptible_campaign  \\\n",
       "0            1.0                   0                             0   \n",
       "1            1.0                   1                             1   \n",
       "2            0.0                   0                             0   \n",
       "3            0.0                   0                             1   \n",
       "4            1.0                   1                             1   \n",
       "\n",
       "   usuario_buscador  usuario_dubitativo  usuario_poco_util  \\\n",
       "0                 0               False               True   \n",
       "1                 1                True              False   \n",
       "2                 0               False               True   \n",
       "3                 1               False              False   \n",
       "4                 1                True              False   \n",
       "\n",
       "   usuario_muy_activo  usuario_convertidor  \n",
       "0               False                    0  \n",
       "1               False                    0  \n",
       "2               False                    0  \n",
       "3               False                    0  \n",
       "4               False                    0  \n",
       "\n",
       "[5 rows x 96 columns]"
      ]
     },
     "execution_count": 186,
     "metadata": {},
     "output_type": "execute_result"
    }
   ],
   "source": [
    "test.head()"
   ]
  },
  {
   "cell_type": "code",
   "execution_count": 188,
   "metadata": {},
   "outputs": [],
   "source": [
    "test = test.drop(['Unnamed: 0', 'person',\n",
    "       'event_ad campaign hit','screen_resolution', 'Busca_terminos_populares',\n",
    "       'otros', 'marca_apple', 'marca_asus',\n",
    "       'marca_lg', 'marca_motorola', 'marca_samsung', 'marca_sony',\n",
    "       'condition_Bom', 'condition_Bom - Sem Touch ID', 'condition_Excelente',\n",
    "       'condition_Muito Bom', 'version_galaxy j7', 'version_galaxy j5',\n",
    "       'version_galaxy s7', 'version_iphone 6', 'version_iphone 5s',\n",
    "       'version_iphone 6s', 'version_moto g4', 'version_moto g2',\n",
    "       'version_galaxy s6', 'storage_128GB', 'storage_16GB', 'storage_256GB',\n",
    "       'storage_32GB', 'storage_4GB', 'storage_512MB', 'storage_64GB',\n",
    "       'storage_8GB', 'Parte del dia_Madrugada', 'Parte del dia_Mañana',\n",
    "       'Parte del dia_Noche', 'Parte del dia_Tarde','channel_Direct',\n",
    "       'channel_Paid', 'channel_Organic', 'channel_Referral', 'Brasilero',\n",
    "       'color_Dourado', 'color_Branco',\n",
    "        'cantidad_De_Compras_De_Mismo_Sku',\n",
    "       'Cantidad_De_Busquedas_Por_Termino', 'search_and_purchase',\n",
    "       'cantidad_de_Url_de_compra', 'cantidadDeStaticPage', 'Prob_Apple',\n",
    "       'Prob_Asus', 'Prob_Lenovo', 'Prob_motorola', 'Prob_quantum',\n",
    "       'Prob_samsung',  'sku_multiple', 'prob_marca',\n",
    "       'prob_model', 'prob_marca_checkout', 'usuario_Checkeador',\n",
    "       'usuario_susceptible_campaign',\n",
    "       'usuario_dubitativo',\n",
    "       'prob_model_en_base_checkout', 'sku_0.0', 'sku_2831.0',\n",
    "        'compraPopular', 'event_lead',\n",
    "        'count_activity',\n",
    "        'color_Preto', 'Prob_lg',\n",
    "       'Prob_sony','usuario_poco_util']\n",
    "       ,axis=1)"
   ]
  },
  {
   "cell_type": "code",
   "execution_count": 189,
   "metadata": {},
   "outputs": [
    {
     "data": {
      "text/html": [
       "<div>\n",
       "<style scoped>\n",
       "    .dataframe tbody tr th:only-of-type {\n",
       "        vertical-align: middle;\n",
       "    }\n",
       "\n",
       "    .dataframe tbody tr th {\n",
       "        vertical-align: top;\n",
       "    }\n",
       "\n",
       "    .dataframe thead th {\n",
       "        text-align: right;\n",
       "    }\n",
       "</style>\n",
       "<table border=\"1\" class=\"dataframe\">\n",
       "  <thead>\n",
       "    <tr style=\"text-align: right;\">\n",
       "      <th></th>\n",
       "      <th>cant_seciones</th>\n",
       "      <th>event_checkout</th>\n",
       "      <th>event_conversion</th>\n",
       "      <th>skus</th>\n",
       "      <th>Computer</th>\n",
       "      <th>Smartphone</th>\n",
       "      <th>marca_lenovo</th>\n",
       "      <th>campaign_source_google</th>\n",
       "      <th>campaign_source_criteo</th>\n",
       "      <th>campaign_source_rtbhouse</th>\n",
       "      <th>...</th>\n",
       "      <th>color_Cinza espacial</th>\n",
       "      <th>new_15lastdays</th>\n",
       "      <th>sku</th>\n",
       "      <th>prob_marca_en_base_checkout</th>\n",
       "      <th>sku_3371.0</th>\n",
       "      <th>sku_6357.0</th>\n",
       "      <th>sku_6371.0</th>\n",
       "      <th>usuario_buscador</th>\n",
       "      <th>usuario_muy_activo</th>\n",
       "      <th>usuario_convertidor</th>\n",
       "    </tr>\n",
       "  </thead>\n",
       "  <tbody>\n",
       "    <tr>\n",
       "      <th>0</th>\n",
       "      <td>1</td>\n",
       "      <td>1.0</td>\n",
       "      <td>0.0</td>\n",
       "      <td>1</td>\n",
       "      <td>0.0</td>\n",
       "      <td>1.0</td>\n",
       "      <td>0.0</td>\n",
       "      <td>0.0</td>\n",
       "      <td>0.0</td>\n",
       "      <td>0.0</td>\n",
       "      <td>...</td>\n",
       "      <td>0.0</td>\n",
       "      <td>1.0</td>\n",
       "      <td>0.0</td>\n",
       "      <td>0.213106</td>\n",
       "      <td>0.0</td>\n",
       "      <td>0.0</td>\n",
       "      <td>0.0</td>\n",
       "      <td>0</td>\n",
       "      <td>False</td>\n",
       "      <td>0</td>\n",
       "    </tr>\n",
       "    <tr>\n",
       "      <th>1</th>\n",
       "      <td>96</td>\n",
       "      <td>7.0</td>\n",
       "      <td>0.0</td>\n",
       "      <td>1</td>\n",
       "      <td>0.0</td>\n",
       "      <td>1.0</td>\n",
       "      <td>0.0</td>\n",
       "      <td>4.0</td>\n",
       "      <td>5.0</td>\n",
       "      <td>18.0</td>\n",
       "      <td>...</td>\n",
       "      <td>86.0</td>\n",
       "      <td>0.0</td>\n",
       "      <td>0.0</td>\n",
       "      <td>0.204938</td>\n",
       "      <td>0.0</td>\n",
       "      <td>0.0</td>\n",
       "      <td>0.0</td>\n",
       "      <td>1</td>\n",
       "      <td>False</td>\n",
       "      <td>0</td>\n",
       "    </tr>\n",
       "    <tr>\n",
       "      <th>2</th>\n",
       "      <td>2</td>\n",
       "      <td>1.0</td>\n",
       "      <td>0.0</td>\n",
       "      <td>1</td>\n",
       "      <td>1.0</td>\n",
       "      <td>0.0</td>\n",
       "      <td>0.0</td>\n",
       "      <td>1.0</td>\n",
       "      <td>0.0</td>\n",
       "      <td>0.0</td>\n",
       "      <td>...</td>\n",
       "      <td>0.0</td>\n",
       "      <td>1.0</td>\n",
       "      <td>0.0</td>\n",
       "      <td>0.064625</td>\n",
       "      <td>0.0</td>\n",
       "      <td>0.0</td>\n",
       "      <td>0.0</td>\n",
       "      <td>0</td>\n",
       "      <td>False</td>\n",
       "      <td>0</td>\n",
       "    </tr>\n",
       "    <tr>\n",
       "      <th>3</th>\n",
       "      <td>28</td>\n",
       "      <td>1.0</td>\n",
       "      <td>0.0</td>\n",
       "      <td>1</td>\n",
       "      <td>1.0</td>\n",
       "      <td>0.0</td>\n",
       "      <td>0.0</td>\n",
       "      <td>11.0</td>\n",
       "      <td>2.0</td>\n",
       "      <td>1.0</td>\n",
       "      <td>...</td>\n",
       "      <td>0.0</td>\n",
       "      <td>0.0</td>\n",
       "      <td>0.0</td>\n",
       "      <td>0.000000</td>\n",
       "      <td>0.0</td>\n",
       "      <td>0.0</td>\n",
       "      <td>0.0</td>\n",
       "      <td>1</td>\n",
       "      <td>False</td>\n",
       "      <td>0</td>\n",
       "    </tr>\n",
       "    <tr>\n",
       "      <th>4</th>\n",
       "      <td>20</td>\n",
       "      <td>2.0</td>\n",
       "      <td>0.0</td>\n",
       "      <td>1</td>\n",
       "      <td>0.0</td>\n",
       "      <td>1.0</td>\n",
       "      <td>0.0</td>\n",
       "      <td>8.0</td>\n",
       "      <td>0.0</td>\n",
       "      <td>1.0</td>\n",
       "      <td>...</td>\n",
       "      <td>24.0</td>\n",
       "      <td>1.0</td>\n",
       "      <td>0.0</td>\n",
       "      <td>0.273250</td>\n",
       "      <td>0.0</td>\n",
       "      <td>0.0</td>\n",
       "      <td>0.0</td>\n",
       "      <td>1</td>\n",
       "      <td>False</td>\n",
       "      <td>0</td>\n",
       "    </tr>\n",
       "  </tbody>\n",
       "</table>\n",
       "<p>5 rows × 24 columns</p>\n",
       "</div>"
      ],
      "text/plain": [
       "   cant_seciones  event_checkout  event_conversion  skus  Computer  \\\n",
       "0              1             1.0               0.0     1       0.0   \n",
       "1             96             7.0               0.0     1       0.0   \n",
       "2              2             1.0               0.0     1       1.0   \n",
       "3             28             1.0               0.0     1       1.0   \n",
       "4             20             2.0               0.0     1       0.0   \n",
       "\n",
       "   Smartphone  marca_lenovo  campaign_source_google  campaign_source_criteo  \\\n",
       "0         1.0           0.0                     0.0                     0.0   \n",
       "1         1.0           0.0                     4.0                     5.0   \n",
       "2         0.0           0.0                     1.0                     0.0   \n",
       "3         0.0           0.0                    11.0                     2.0   \n",
       "4         1.0           0.0                     8.0                     0.0   \n",
       "\n",
       "   campaign_source_rtbhouse         ...           color_Cinza espacial  \\\n",
       "0                       0.0         ...                            0.0   \n",
       "1                      18.0         ...                           86.0   \n",
       "2                       0.0         ...                            0.0   \n",
       "3                       1.0         ...                            0.0   \n",
       "4                       1.0         ...                           24.0   \n",
       "\n",
       "   new_15lastdays  sku  prob_marca_en_base_checkout  sku_3371.0  sku_6357.0  \\\n",
       "0             1.0  0.0                     0.213106         0.0         0.0   \n",
       "1             0.0  0.0                     0.204938         0.0         0.0   \n",
       "2             1.0  0.0                     0.064625         0.0         0.0   \n",
       "3             0.0  0.0                     0.000000         0.0         0.0   \n",
       "4             1.0  0.0                     0.273250         0.0         0.0   \n",
       "\n",
       "   sku_6371.0  usuario_buscador  usuario_muy_activo  usuario_convertidor  \n",
       "0         0.0                 0               False                    0  \n",
       "1         0.0                 1               False                    0  \n",
       "2         0.0                 0               False                    0  \n",
       "3         0.0                 1               False                    0  \n",
       "4         0.0                 1               False                    0  \n",
       "\n",
       "[5 rows x 24 columns]"
      ]
     },
     "execution_count": 189,
     "metadata": {},
     "output_type": "execute_result"
    }
   ],
   "source": [
    "test.head()"
   ]
  },
  {
   "cell_type": "code",
   "execution_count": 190,
   "metadata": {},
   "outputs": [
    {
     "data": {
      "text/plain": [
       "Index(['cant_seciones', 'event_checkout', 'event_conversion', 'skus',\n",
       "       'Computer', 'Smartphone', 'marca_lenovo', 'campaign_source_google',\n",
       "       'campaign_source_criteo', 'campaign_source_rtbhouse', 'ventas_region',\n",
       "       'conversiones_15lastdays', 'checkout_15lastdays', 'viewed_15lastday',\n",
       "       'color_Cinza espacial', 'new_15lastdays', 'sku',\n",
       "       'prob_marca_en_base_checkout', 'sku_3371.0', 'sku_6357.0', 'sku_6371.0',\n",
       "       'usuario_buscador', 'usuario_muy_activo', 'usuario_convertidor'],\n",
       "      dtype='object')"
      ]
     },
     "execution_count": 190,
     "metadata": {},
     "output_type": "execute_result"
    }
   ],
   "source": [
    "test.columns"
   ]
  },
  {
   "cell_type": "code",
   "execution_count": 191,
   "metadata": {},
   "outputs": [
    {
     "data": {
      "text/plain": [
       "(19415, 24)"
      ]
     },
     "execution_count": 191,
     "metadata": {},
     "output_type": "execute_result"
    }
   ],
   "source": [
    "test.shape"
   ]
  },
  {
   "cell_type": "code",
   "execution_count": 192,
   "metadata": {},
   "outputs": [
    {
     "name": "stdout",
     "output_type": "stream",
     "text": [
      "['Unnamed: 0', 'person', 'event_ad campaign hit', 'event_lead', 'screen_resolution', 'Busca_terminos_populares', 'otros', 'marca_apple', 'marca_asus', 'marca_lg', 'marca_motorola', 'marca_samsung', 'marca_sony', 'condition_Bom', 'condition_Bom - Sem Touch ID', 'condition_Excelente', 'condition_Muito Bom', 'version_galaxy j7', 'version_galaxy j5', 'version_galaxy s7', 'version_iphone 6', 'version_iphone 5s', 'version_iphone 6s', 'version_moto g4', 'version_moto g2', 'version_galaxy s6', 'storage_128GB', 'storage_16GB', 'storage_256GB', 'storage_32GB', 'storage_4GB', 'storage_512MB', 'storage_64GB', 'storage_8GB', 'Parte del dia_Madrugada', 'Parte del dia_Mañana', 'Parte del dia_Noche', 'Parte del dia_Tarde', 'channel_Direct', 'channel_Paid', 'channel_Organic', 'channel_Referral', 'Brasilero', 'count_activity', 'color_Preto', 'color_Dourado', 'color_Branco', 'cantidad_De_Compras_De_Mismo_Sku', 'Cantidad_De_Busquedas_Por_Termino', 'search_and_purchase', 'cantidad_de_Url_de_compra', 'cantidadDeStaticPage', 'Prob_Apple', 'Prob_Asus', 'Prob_Lenovo', 'Prob_lg', 'Prob_motorola', 'Prob_quantum', 'Prob_samsung', 'Prob_sony', 'sku_multiple', 'label', 'prob_marca', 'prob_model', 'prob_marca_checkout', 'prob_model_en_base_checkout', 'sku_0.0', 'sku_2831.0', 'compraPopular', 'usuario_Checkeador', 'usuario_susceptible_campaign', 'usuario_dubitativo', 'usuario_poco_util']\n",
      "['Unnamed: 0', 'person', 'event_ad campaign hit', 'event_lead', 'screen_resolution', 'Busca_terminos_populares', 'otros', 'marca_apple', 'marca_asus', 'marca_lg', 'marca_motorola', 'marca_samsung', 'marca_sony', 'condition_Bom', 'condition_Bom - Sem Touch ID', 'condition_Excelente', 'condition_Muito Bom', 'version_galaxy j7', 'version_galaxy j5', 'version_galaxy s7', 'version_iphone 6', 'version_iphone 5s', 'version_iphone 6s', 'version_moto g4', 'version_moto g2', 'version_galaxy s6', 'storage_128GB', 'storage_16GB', 'storage_256GB', 'storage_32GB', 'storage_4GB', 'storage_512MB', 'storage_64GB', 'storage_8GB', 'Parte del dia_Madrugada', 'Parte del dia_Mañana', 'Parte del dia_Noche', 'Parte del dia_Tarde', 'channel_Direct', 'channel_Paid', 'channel_Organic', 'channel_Referral', 'Brasilero', 'count_activity', 'color_Preto', 'color_Dourado', 'color_Branco', 'cantidad_De_Compras_De_Mismo_Sku', 'Cantidad_De_Busquedas_Por_Termino', 'search_and_purchase', 'cantidad_de_Url_de_compra', 'cantidadDeStaticPage', 'Prob_Apple', 'Prob_Asus', 'Prob_Lenovo', 'Prob_lg', 'Prob_motorola', 'Prob_quantum', 'Prob_samsung', 'Prob_sony', 'sku_multiple', 'label', 'prob_marca', 'prob_model', 'prob_marca_checkout', 'prob_model_en_base_checkout', 'sku_0.0', 'sku_2831.0', 'compraPopular', 'usuario_Checkeador', 'usuario_susceptible_campaign', 'usuario_dubitativo', 'usuario_poco_util']\n"
     ]
    }
   ],
   "source": [
    "nombreCol = []\n",
    "for namecolumn in usersDataTrain.columns:\n",
    "     if ( not namecolumn in test.columns):\n",
    "            nombreCol.append(namecolumn)\n",
    "print(nombreCol)\n",
    "for namecolumn in test.columns:\n",
    "     if ( not namecolumn in usersDataTrain.columns):\n",
    "            nombreCol.append(namecolumn)\n",
    "print(nombreCol)"
   ]
  },
  {
   "cell_type": "code",
   "execution_count": 193,
   "metadata": {},
   "outputs": [],
   "source": [
    "result = clf.predict_proba(test)"
   ]
  },
  {
   "cell_type": "code",
   "execution_count": 194,
   "metadata": {},
   "outputs": [],
   "source": [
    "result2 = []\n",
    "for elem in result:\n",
    "    result2.append(elem[1])"
   ]
  },
  {
   "cell_type": "code",
   "execution_count": 195,
   "metadata": {},
   "outputs": [],
   "source": [
    "person = person.to_frame()"
   ]
  },
  {
   "cell_type": "code",
   "execution_count": 196,
   "metadata": {},
   "outputs": [],
   "source": [
    "person['label'] = result2"
   ]
  },
  {
   "cell_type": "code",
   "execution_count": 197,
   "metadata": {},
   "outputs": [
    {
     "data": {
      "text/html": [
       "<div>\n",
       "<style scoped>\n",
       "    .dataframe tbody tr th:only-of-type {\n",
       "        vertical-align: middle;\n",
       "    }\n",
       "\n",
       "    .dataframe tbody tr th {\n",
       "        vertical-align: top;\n",
       "    }\n",
       "\n",
       "    .dataframe thead th {\n",
       "        text-align: right;\n",
       "    }\n",
       "</style>\n",
       "<table border=\"1\" class=\"dataframe\">\n",
       "  <thead>\n",
       "    <tr style=\"text-align: right;\">\n",
       "      <th></th>\n",
       "      <th>person</th>\n",
       "      <th>label</th>\n",
       "    </tr>\n",
       "  </thead>\n",
       "  <tbody>\n",
       "    <tr>\n",
       "      <th>0</th>\n",
       "      <td>4886f805</td>\n",
       "      <td>0.029756</td>\n",
       "    </tr>\n",
       "    <tr>\n",
       "      <th>1</th>\n",
       "      <td>0297fc1e</td>\n",
       "      <td>0.486578</td>\n",
       "    </tr>\n",
       "    <tr>\n",
       "      <th>2</th>\n",
       "      <td>2d681dd8</td>\n",
       "      <td>0.139271</td>\n",
       "    </tr>\n",
       "    <tr>\n",
       "      <th>3</th>\n",
       "      <td>cccea85e</td>\n",
       "      <td>0.748583</td>\n",
       "    </tr>\n",
       "    <tr>\n",
       "      <th>4</th>\n",
       "      <td>4c8a8b93</td>\n",
       "      <td>0.585443</td>\n",
       "    </tr>\n",
       "  </tbody>\n",
       "</table>\n",
       "</div>"
      ],
      "text/plain": [
       "     person     label\n",
       "0  4886f805  0.029756\n",
       "1  0297fc1e  0.486578\n",
       "2  2d681dd8  0.139271\n",
       "3  cccea85e  0.748583\n",
       "4  4c8a8b93  0.585443"
      ]
     },
     "execution_count": 197,
     "metadata": {},
     "output_type": "execute_result"
    }
   ],
   "source": [
    "person.head()"
   ]
  },
  {
   "cell_type": "code",
   "execution_count": 198,
   "metadata": {},
   "outputs": [
    {
     "data": {
      "text/plain": [
       "True     14131\n",
       "False     5284\n",
       "Name: label, dtype: int64"
      ]
     },
     "execution_count": 198,
     "metadata": {},
     "output_type": "execute_result"
    }
   ],
   "source": [
    "(person[\"label\"]<0.5).value_counts()"
   ]
  },
  {
   "cell_type": "code",
   "execution_count": 199,
   "metadata": {},
   "outputs": [],
   "source": [
    "kaggle = pd.read_csv('../data/trocafone_kaggle_test.csv')"
   ]
  },
  {
   "cell_type": "code",
   "execution_count": 200,
   "metadata": {},
   "outputs": [
    {
     "data": {
      "text/html": [
       "<div>\n",
       "<style scoped>\n",
       "    .dataframe tbody tr th:only-of-type {\n",
       "        vertical-align: middle;\n",
       "    }\n",
       "\n",
       "    .dataframe tbody tr th {\n",
       "        vertical-align: top;\n",
       "    }\n",
       "\n",
       "    .dataframe thead th {\n",
       "        text-align: right;\n",
       "    }\n",
       "</style>\n",
       "<table border=\"1\" class=\"dataframe\">\n",
       "  <thead>\n",
       "    <tr style=\"text-align: right;\">\n",
       "      <th></th>\n",
       "      <th>person</th>\n",
       "    </tr>\n",
       "  </thead>\n",
       "  <tbody>\n",
       "    <tr>\n",
       "      <th>0</th>\n",
       "      <td>4886f805</td>\n",
       "    </tr>\n",
       "    <tr>\n",
       "      <th>1</th>\n",
       "      <td>0297fc1e</td>\n",
       "    </tr>\n",
       "    <tr>\n",
       "      <th>2</th>\n",
       "      <td>2d681dd8</td>\n",
       "    </tr>\n",
       "    <tr>\n",
       "      <th>3</th>\n",
       "      <td>cccea85e</td>\n",
       "    </tr>\n",
       "    <tr>\n",
       "      <th>4</th>\n",
       "      <td>4c8a8b93</td>\n",
       "    </tr>\n",
       "  </tbody>\n",
       "</table>\n",
       "</div>"
      ],
      "text/plain": [
       "     person\n",
       "0  4886f805\n",
       "1  0297fc1e\n",
       "2  2d681dd8\n",
       "3  cccea85e\n",
       "4  4c8a8b93"
      ]
     },
     "execution_count": 200,
     "metadata": {},
     "output_type": "execute_result"
    }
   ],
   "source": [
    "kaggle.head()"
   ]
  },
  {
   "cell_type": "code",
   "execution_count": 201,
   "metadata": {},
   "outputs": [],
   "source": [
    "resultado = pd.merge(kaggle,person,on=\"person\",how = \"left\")"
   ]
  },
  {
   "cell_type": "code",
   "execution_count": 202,
   "metadata": {},
   "outputs": [
    {
     "data": {
      "text/html": [
       "<div>\n",
       "<style scoped>\n",
       "    .dataframe tbody tr th:only-of-type {\n",
       "        vertical-align: middle;\n",
       "    }\n",
       "\n",
       "    .dataframe tbody tr th {\n",
       "        vertical-align: top;\n",
       "    }\n",
       "\n",
       "    .dataframe thead th {\n",
       "        text-align: right;\n",
       "    }\n",
       "</style>\n",
       "<table border=\"1\" class=\"dataframe\">\n",
       "  <thead>\n",
       "    <tr style=\"text-align: right;\">\n",
       "      <th></th>\n",
       "      <th>person</th>\n",
       "      <th>label</th>\n",
       "    </tr>\n",
       "  </thead>\n",
       "  <tbody>\n",
       "    <tr>\n",
       "      <th>0</th>\n",
       "      <td>4886f805</td>\n",
       "      <td>0.029756</td>\n",
       "    </tr>\n",
       "    <tr>\n",
       "      <th>1</th>\n",
       "      <td>0297fc1e</td>\n",
       "      <td>0.486578</td>\n",
       "    </tr>\n",
       "    <tr>\n",
       "      <th>2</th>\n",
       "      <td>2d681dd8</td>\n",
       "      <td>0.139271</td>\n",
       "    </tr>\n",
       "    <tr>\n",
       "      <th>3</th>\n",
       "      <td>cccea85e</td>\n",
       "      <td>0.748583</td>\n",
       "    </tr>\n",
       "    <tr>\n",
       "      <th>4</th>\n",
       "      <td>4c8a8b93</td>\n",
       "      <td>0.585443</td>\n",
       "    </tr>\n",
       "  </tbody>\n",
       "</table>\n",
       "</div>"
      ],
      "text/plain": [
       "     person     label\n",
       "0  4886f805  0.029756\n",
       "1  0297fc1e  0.486578\n",
       "2  2d681dd8  0.139271\n",
       "3  cccea85e  0.748583\n",
       "4  4c8a8b93  0.585443"
      ]
     },
     "execution_count": 202,
     "metadata": {},
     "output_type": "execute_result"
    }
   ],
   "source": [
    "resultado.head()"
   ]
  },
  {
   "cell_type": "code",
   "execution_count": 203,
   "metadata": {},
   "outputs": [
    {
     "data": {
      "text/plain": [
       "False    19415\n",
       "Name: label, dtype: int64"
      ]
     },
     "execution_count": 203,
     "metadata": {},
     "output_type": "execute_result"
    }
   ],
   "source": [
    "resultado[\"label\"].isnull().value_counts()"
   ]
  },
  {
   "cell_type": "code",
   "execution_count": 204,
   "metadata": {},
   "outputs": [],
   "source": [
    "resultado.to_csv('resultadoRandomForestUnderSamplingUltimo.csv', index=False)"
   ]
  },
  {
   "cell_type": "code",
   "execution_count": null,
   "metadata": {},
   "outputs": [],
   "source": []
  },
  {
   "cell_type": "code",
   "execution_count": null,
   "metadata": {},
   "outputs": [],
   "source": []
  }
 ],
 "metadata": {
  "kernelspec": {
   "display_name": "Python 3",
   "language": "python",
   "name": "python3"
  },
  "language_info": {
   "codemirror_mode": {
    "name": "ipython",
    "version": 3
   },
   "file_extension": ".py",
   "mimetype": "text/x-python",
   "name": "python",
   "nbconvert_exporter": "python",
   "pygments_lexer": "ipython3",
   "version": "3.6.6"
  }
 },
 "nbformat": 4,
 "nbformat_minor": 2
}
