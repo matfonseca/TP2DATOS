{
 "cells": [
  {
   "cell_type": "markdown",
   "metadata": {},
   "source": [
    "# SVM"
   ]
  },
  {
   "cell_type": "code",
   "execution_count": null,
   "metadata": {},
   "outputs": [],
   "source": [
    "import pandas as pd\n",
    "import numpy as np\n",
    "import matplotlib.pyplot as plt\n",
    "from pandas.util import hash_pandas_object\n",
    "from sklearn import svm\n",
    "\n",
    "%matplotlib inline"
   ]
  },
  {
   "cell_type": "code",
   "execution_count": null,
   "metadata": {},
   "outputs": [],
   "source": [
    "postulations = pd.read_csv('../MapDataAnalysis/SVC/postulaciones_nopostulacionesRedCodificado1.5M.csv')"
   ]
  },
  {
   "cell_type": "code",
   "execution_count": 4,
   "metadata": {},
   "outputs": [
    {
     "data": {
      "text/html": [
       "<div>\n",
       "<style scoped>\n",
       "    .dataframe tbody tr th:only-of-type {\n",
       "        vertical-align: middle;\n",
       "    }\n",
       "\n",
       "    .dataframe tbody tr th {\n",
       "        vertical-align: top;\n",
       "    }\n",
       "\n",
       "    .dataframe thead th {\n",
       "        text-align: right;\n",
       "    }\n",
       "</style>\n",
       "<table border=\"1\" class=\"dataframe\">\n",
       "  <thead>\n",
       "    <tr style=\"text-align: right;\">\n",
       "      <th></th>\n",
       "      <th>Unnamed: 0</th>\n",
       "      <th>idaviso</th>\n",
       "      <th>idpostulante</th>\n",
       "      <th>nombre_area</th>\n",
       "      <th>nombre_sort</th>\n",
       "      <th>se_postulo</th>\n",
       "      <th>titulo</th>\n",
       "      <th>estadoEncoded</th>\n",
       "      <th>tipoDeTrabajoEncoded</th>\n",
       "      <th>nivelLaboralEncoded</th>\n",
       "      <th>sexoEncoded</th>\n",
       "      <th>edadEncoded</th>\n",
       "      <th>zonaEncoded</th>\n",
       "    </tr>\n",
       "  </thead>\n",
       "  <tbody>\n",
       "    <tr>\n",
       "      <th>0</th>\n",
       "      <td>0</td>\n",
       "      <td>1112439027</td>\n",
       "      <td>Nz06E1z</td>\n",
       "      <td>Seguridad</td>\n",
       "      <td>1.0</td>\n",
       "      <td>1</td>\n",
       "      <td>Vigilador General con CLU (TURNO NOCTURNO) - V...</td>\n",
       "      <td>1</td>\n",
       "      <td>0</td>\n",
       "      <td>0</td>\n",
       "      <td>1</td>\n",
       "      <td>3.0</td>\n",
       "      <td>0.0</td>\n",
       "    </tr>\n",
       "    <tr>\n",
       "      <th>1</th>\n",
       "      <td>1</td>\n",
       "      <td>1112033906</td>\n",
       "      <td>aEWKPN</td>\n",
       "      <td>Ventas</td>\n",
       "      <td>1.0</td>\n",
       "      <td>1</td>\n",
       "      <td>Cajero/a-Repositor/a (Capital Federal)</td>\n",
       "      <td>1</td>\n",
       "      <td>0</td>\n",
       "      <td>0</td>\n",
       "      <td>0</td>\n",
       "      <td>4.0</td>\n",
       "      <td>0.0</td>\n",
       "    </tr>\n",
       "    <tr>\n",
       "      <th>2</th>\n",
       "      <td>2</td>\n",
       "      <td>1112377084</td>\n",
       "      <td>4rPOLLR</td>\n",
       "      <td>Recepcionista</td>\n",
       "      <td>2.0</td>\n",
       "      <td>1</td>\n",
       "      <td>RECEPCIONISTA</td>\n",
       "      <td>2</td>\n",
       "      <td>0</td>\n",
       "      <td>1</td>\n",
       "      <td>0</td>\n",
       "      <td>3.0</td>\n",
       "      <td>NaN</td>\n",
       "    </tr>\n",
       "    <tr>\n",
       "      <th>3</th>\n",
       "      <td>3</td>\n",
       "      <td>1112339832</td>\n",
       "      <td>8MPYLND</td>\n",
       "      <td>Producción</td>\n",
       "      <td>2.0</td>\n",
       "      <td>1</td>\n",
       "      <td>Operarios de depósito</td>\n",
       "      <td>1</td>\n",
       "      <td>0</td>\n",
       "      <td>0</td>\n",
       "      <td>2</td>\n",
       "      <td>3.0</td>\n",
       "      <td>0.0</td>\n",
       "    </tr>\n",
       "    <tr>\n",
       "      <th>4</th>\n",
       "      <td>4</td>\n",
       "      <td>1112416123</td>\n",
       "      <td>wVk6zNd</td>\n",
       "      <td>Secretaria</td>\n",
       "      <td>3.0</td>\n",
       "      <td>1</td>\n",
       "      <td>Secretaria - Part Time / Turno Tarde</td>\n",
       "      <td>0</td>\n",
       "      <td>1</td>\n",
       "      <td>0</td>\n",
       "      <td>0</td>\n",
       "      <td>0.0</td>\n",
       "      <td>0.0</td>\n",
       "    </tr>\n",
       "  </tbody>\n",
       "</table>\n",
       "</div>"
      ],
      "text/plain": [
       "   Unnamed: 0     idaviso idpostulante    nombre_area  nombre_sort  \\\n",
       "0           0  1112439027      Nz06E1z      Seguridad          1.0   \n",
       "1           1  1112033906       aEWKPN         Ventas          1.0   \n",
       "2           2  1112377084      4rPOLLR  Recepcionista          2.0   \n",
       "3           3  1112339832      8MPYLND     Producción          2.0   \n",
       "4           4  1112416123      wVk6zNd     Secretaria          3.0   \n",
       "\n",
       "   se_postulo                                             titulo  \\\n",
       "0           1  Vigilador General con CLU (TURNO NOCTURNO) - V...   \n",
       "1           1             Cajero/a-Repositor/a (Capital Federal)   \n",
       "2           1                                      RECEPCIONISTA   \n",
       "3           1                              Operarios de depósito   \n",
       "4           1               Secretaria - Part Time / Turno Tarde   \n",
       "\n",
       "   estadoEncoded  tipoDeTrabajoEncoded  nivelLaboralEncoded  sexoEncoded  \\\n",
       "0              1                     0                    0            1   \n",
       "1              1                     0                    0            0   \n",
       "2              2                     0                    1            0   \n",
       "3              1                     0                    0            2   \n",
       "4              0                     1                    0            0   \n",
       "\n",
       "   edadEncoded  zonaEncoded  \n",
       "0          3.0          0.0  \n",
       "1          4.0          0.0  \n",
       "2          3.0          NaN  \n",
       "3          3.0          0.0  \n",
       "4          0.0          0.0  "
      ]
     },
     "execution_count": 4,
     "metadata": {},
     "output_type": "execute_result"
    }
   ],
   "source": [
    "postulations.head()"
   ]
  },
  {
   "cell_type": "code",
   "execution_count": 6,
   "metadata": {},
   "outputs": [],
   "source": [
    "postulations =postulations.drop(columns = ['idaviso','idpostulante','Unnamed: 0'])"
   ]
  },
  {
   "cell_type": "code",
   "execution_count": 7,
   "metadata": {},
   "outputs": [
    {
     "data": {
      "text/html": [
       "<div>\n",
       "<style scoped>\n",
       "    .dataframe tbody tr th:only-of-type {\n",
       "        vertical-align: middle;\n",
       "    }\n",
       "\n",
       "    .dataframe tbody tr th {\n",
       "        vertical-align: top;\n",
       "    }\n",
       "\n",
       "    .dataframe thead th {\n",
       "        text-align: right;\n",
       "    }\n",
       "</style>\n",
       "<table border=\"1\" class=\"dataframe\">\n",
       "  <thead>\n",
       "    <tr style=\"text-align: right;\">\n",
       "      <th></th>\n",
       "      <th>nombre_area</th>\n",
       "      <th>nombre_sort</th>\n",
       "      <th>se_postulo</th>\n",
       "      <th>titulo</th>\n",
       "      <th>estadoEncoded</th>\n",
       "      <th>tipoDeTrabajoEncoded</th>\n",
       "      <th>nivelLaboralEncoded</th>\n",
       "      <th>sexoEncoded</th>\n",
       "      <th>edadEncoded</th>\n",
       "      <th>zonaEncoded</th>\n",
       "    </tr>\n",
       "  </thead>\n",
       "  <tbody>\n",
       "    <tr>\n",
       "      <th>0</th>\n",
       "      <td>Seguridad</td>\n",
       "      <td>1.0</td>\n",
       "      <td>1</td>\n",
       "      <td>Vigilador General con CLU (TURNO NOCTURNO) - V...</td>\n",
       "      <td>1</td>\n",
       "      <td>0</td>\n",
       "      <td>0</td>\n",
       "      <td>1</td>\n",
       "      <td>3.0</td>\n",
       "      <td>0.0</td>\n",
       "    </tr>\n",
       "    <tr>\n",
       "      <th>1</th>\n",
       "      <td>Ventas</td>\n",
       "      <td>1.0</td>\n",
       "      <td>1</td>\n",
       "      <td>Cajero/a-Repositor/a (Capital Federal)</td>\n",
       "      <td>1</td>\n",
       "      <td>0</td>\n",
       "      <td>0</td>\n",
       "      <td>0</td>\n",
       "      <td>4.0</td>\n",
       "      <td>0.0</td>\n",
       "    </tr>\n",
       "    <tr>\n",
       "      <th>2</th>\n",
       "      <td>Recepcionista</td>\n",
       "      <td>2.0</td>\n",
       "      <td>1</td>\n",
       "      <td>RECEPCIONISTA</td>\n",
       "      <td>2</td>\n",
       "      <td>0</td>\n",
       "      <td>1</td>\n",
       "      <td>0</td>\n",
       "      <td>3.0</td>\n",
       "      <td>NaN</td>\n",
       "    </tr>\n",
       "    <tr>\n",
       "      <th>3</th>\n",
       "      <td>Producción</td>\n",
       "      <td>2.0</td>\n",
       "      <td>1</td>\n",
       "      <td>Operarios de depósito</td>\n",
       "      <td>1</td>\n",
       "      <td>0</td>\n",
       "      <td>0</td>\n",
       "      <td>2</td>\n",
       "      <td>3.0</td>\n",
       "      <td>0.0</td>\n",
       "    </tr>\n",
       "    <tr>\n",
       "      <th>4</th>\n",
       "      <td>Secretaria</td>\n",
       "      <td>3.0</td>\n",
       "      <td>1</td>\n",
       "      <td>Secretaria - Part Time / Turno Tarde</td>\n",
       "      <td>0</td>\n",
       "      <td>1</td>\n",
       "      <td>0</td>\n",
       "      <td>0</td>\n",
       "      <td>0.0</td>\n",
       "      <td>0.0</td>\n",
       "    </tr>\n",
       "  </tbody>\n",
       "</table>\n",
       "</div>"
      ],
      "text/plain": [
       "     nombre_area  nombre_sort  se_postulo  \\\n",
       "0      Seguridad          1.0           1   \n",
       "1         Ventas          1.0           1   \n",
       "2  Recepcionista          2.0           1   \n",
       "3     Producción          2.0           1   \n",
       "4     Secretaria          3.0           1   \n",
       "\n",
       "                                              titulo  estadoEncoded  \\\n",
       "0  Vigilador General con CLU (TURNO NOCTURNO) - V...              1   \n",
       "1             Cajero/a-Repositor/a (Capital Federal)              1   \n",
       "2                                      RECEPCIONISTA              2   \n",
       "3                              Operarios de depósito              1   \n",
       "4               Secretaria - Part Time / Turno Tarde              0   \n",
       "\n",
       "   tipoDeTrabajoEncoded  nivelLaboralEncoded  sexoEncoded  edadEncoded  \\\n",
       "0                     0                    0            1          3.0   \n",
       "1                     0                    0            0          4.0   \n",
       "2                     0                    1            0          3.0   \n",
       "3                     0                    0            2          3.0   \n",
       "4                     1                    0            0          0.0   \n",
       "\n",
       "   zonaEncoded  \n",
       "0          0.0  \n",
       "1          0.0  \n",
       "2          NaN  \n",
       "3          0.0  \n",
       "4          0.0  "
      ]
     },
     "execution_count": 7,
     "metadata": {},
     "output_type": "execute_result"
    }
   ],
   "source": [
    "postulations.head()"
   ]
  },
  {
   "cell_type": "code",
   "execution_count": 8,
   "metadata": {},
   "outputs": [],
   "source": [
    "postulations['zonaEncoded'] = postulations['zonaEncoded'].fillna(method = 'bfill')"
   ]
  },
  {
   "cell_type": "code",
   "execution_count": 9,
   "metadata": {},
   "outputs": [
    {
     "data": {
      "text/html": [
       "<div>\n",
       "<style scoped>\n",
       "    .dataframe tbody tr th:only-of-type {\n",
       "        vertical-align: middle;\n",
       "    }\n",
       "\n",
       "    .dataframe tbody tr th {\n",
       "        vertical-align: top;\n",
       "    }\n",
       "\n",
       "    .dataframe thead th {\n",
       "        text-align: right;\n",
       "    }\n",
       "</style>\n",
       "<table border=\"1\" class=\"dataframe\">\n",
       "  <thead>\n",
       "    <tr style=\"text-align: right;\">\n",
       "      <th></th>\n",
       "      <th>nombre_area</th>\n",
       "      <th>nombre_sort</th>\n",
       "      <th>se_postulo</th>\n",
       "      <th>titulo</th>\n",
       "      <th>estadoEncoded</th>\n",
       "      <th>tipoDeTrabajoEncoded</th>\n",
       "      <th>nivelLaboralEncoded</th>\n",
       "      <th>sexoEncoded</th>\n",
       "      <th>edadEncoded</th>\n",
       "      <th>zonaEncoded</th>\n",
       "    </tr>\n",
       "  </thead>\n",
       "  <tbody>\n",
       "    <tr>\n",
       "      <th>5513151</th>\n",
       "      <td>182</td>\n",
       "      <td>1.0</td>\n",
       "      <td>0</td>\n",
       "      <td>13408</td>\n",
       "      <td>1</td>\n",
       "      <td>0</td>\n",
       "      <td>0</td>\n",
       "      <td>0</td>\n",
       "      <td>4.0</td>\n",
       "      <td>0.0</td>\n",
       "    </tr>\n",
       "    <tr>\n",
       "      <th>4796555</th>\n",
       "      <td>182</td>\n",
       "      <td>1.0</td>\n",
       "      <td>0</td>\n",
       "      <td>13408</td>\n",
       "      <td>1</td>\n",
       "      <td>0</td>\n",
       "      <td>0</td>\n",
       "      <td>1</td>\n",
       "      <td>3.0</td>\n",
       "      <td>0.0</td>\n",
       "    </tr>\n",
       "    <tr>\n",
       "      <th>5760872</th>\n",
       "      <td>182</td>\n",
       "      <td>3.0</td>\n",
       "      <td>0</td>\n",
       "      <td>13408</td>\n",
       "      <td>2</td>\n",
       "      <td>0</td>\n",
       "      <td>0</td>\n",
       "      <td>1</td>\n",
       "      <td>4.0</td>\n",
       "      <td>0.0</td>\n",
       "    </tr>\n",
       "    <tr>\n",
       "      <th>923101</th>\n",
       "      <td>0</td>\n",
       "      <td>3.0</td>\n",
       "      <td>1</td>\n",
       "      <td>12348</td>\n",
       "      <td>1</td>\n",
       "      <td>0</td>\n",
       "      <td>0</td>\n",
       "      <td>0</td>\n",
       "      <td>3.0</td>\n",
       "      <td>0.0</td>\n",
       "    </tr>\n",
       "    <tr>\n",
       "      <th>4175548</th>\n",
       "      <td>182</td>\n",
       "      <td>1.0</td>\n",
       "      <td>0</td>\n",
       "      <td>13408</td>\n",
       "      <td>1</td>\n",
       "      <td>0</td>\n",
       "      <td>0</td>\n",
       "      <td>0</td>\n",
       "      <td>3.0</td>\n",
       "      <td>0.0</td>\n",
       "    </tr>\n",
       "  </tbody>\n",
       "</table>\n",
       "</div>"
      ],
      "text/plain": [
       "         nombre_area  nombre_sort  se_postulo  titulo  estadoEncoded  \\\n",
       "5513151          182          1.0           0   13408              1   \n",
       "4796555          182          1.0           0   13408              1   \n",
       "5760872          182          3.0           0   13408              2   \n",
       "923101             0          3.0           1   12348              1   \n",
       "4175548          182          1.0           0   13408              1   \n",
       "\n",
       "         tipoDeTrabajoEncoded  nivelLaboralEncoded  sexoEncoded  edadEncoded  \\\n",
       "5513151                     0                    0            0          4.0   \n",
       "4796555                     0                    0            1          3.0   \n",
       "5760872                     0                    0            1          4.0   \n",
       "923101                      0                    0            0          3.0   \n",
       "4175548                     0                    0            0          3.0   \n",
       "\n",
       "         zonaEncoded  \n",
       "5513151          0.0  \n",
       "4796555          0.0  \n",
       "5760872          0.0  \n",
       "923101           0.0  \n",
       "4175548          0.0  "
      ]
     },
     "execution_count": 9,
     "metadata": {},
     "output_type": "execute_result"
    }
   ],
   "source": [
    "from sklearn import preprocessing\n",
    "le = preprocessing.LabelEncoder()\n",
    "for column in postulations.columns:\n",
    "    if postulations[column].dtype == type(object):\n",
    "        postulations[column] = le.fit_transform(postulations[column].astype(str))\n",
    "\n",
    "postulations.sample(5)"
   ]
  },
  {
   "cell_type": "code",
   "execution_count": 10,
   "metadata": {},
   "outputs": [],
   "source": [
    "postulations = postulations.drop(['nombre_area','titulo'], axis=1)"
   ]
  },
  {
   "cell_type": "code",
   "execution_count": null,
   "metadata": {},
   "outputs": [],
   "source": [
    "#Normalizamos los valores\n",
    "from sklearn.preprocessing import MinMaxScaler\n",
    "\n",
    "scaler = MinMaxScaler() \n",
    "scaled_values = scaler.fit_transform(postulations) \n",
    "total_train.loc[:,:] = scaled_values"
   ]
  },
  {
   "cell_type": "code",
   "execution_count": 11,
   "metadata": {},
   "outputs": [],
   "source": [
    "from sklearn.model_selection import train_test_split\n",
    "\n",
    "X_train, X_test, y_train, y_test = train_test_split(postulations.drop(['se_postulo'], axis=1).values, postulations['se_postulo'], test_size=0.20, random_state=75)"
   ]
  },
  {
   "cell_type": "code",
   "execution_count": null,
   "metadata": {},
   "outputs": [],
   "source": [
    "clf = svm.SVC(probability=True, kernel='sigmoid')\n",
    "clf.fit(X_train, y_train) "
   ]
  },
  {
   "cell_type": "code",
   "execution_count": null,
   "metadata": {},
   "outputs": [],
   "source": [
    "clf.predict(X_test)"
   ]
  },
  {
   "cell_type": "code",
   "execution_count": null,
   "metadata": {},
   "outputs": [],
   "source": [
    "#Pruebo el score para ver si realiza overfitting\n",
    "clf.score(X_test,y_test)"
   ]
  },
  {
   "cell_type": "code",
   "execution_count": null,
   "metadata": {},
   "outputs": [],
   "source": [
    "test = pd.read_csv('../MapDataAnalysis/test_encoded.csv')"
   ]
  },
  {
   "cell_type": "code",
   "execution_count": null,
   "metadata": {},
   "outputs": [],
   "source": [
    "test['zonaEncoded'] = test['zonaEncoded'].fillna(method = 'bfill')"
   ]
  },
  {
   "cell_type": "code",
   "execution_count": null,
   "metadata": {},
   "outputs": [],
   "source": [
    "test = test.drop(['idaviso','idpostulante'],axis=1)"
   ]
  },
  {
   "cell_type": "code",
   "execution_count": null,
   "metadata": {},
   "outputs": [],
   "source": [
    "#Normalizamos los valores\n",
    "from sklearn.preprocessing import MinMaxScaler\n",
    "\n",
    "scaler = MinMaxScaler() \n",
    "scaled_values = scaler.fit_transform(test.drop(columns = ['id'])) \n",
    "test.loc[:,1:] = scaled_values"
   ]
  },
  {
   "cell_type": "code",
   "execution_count": null,
   "metadata": {},
   "outputs": [],
   "source": [
    "test.head()"
   ]
  },
  {
   "cell_type": "code",
   "execution_count": null,
   "metadata": {},
   "outputs": [],
   "source": [
    "result = clf.predict_proba(test.drop(['id'],axis = 1))"
   ]
  },
  {
   "cell_type": "code",
   "execution_count": null,
   "metadata": {},
   "outputs": [],
   "source": [
    "result2 = []\n",
    "for elem in result:\n",
    "    result2.append(elem[1])"
   ]
  },
  {
   "cell_type": "code",
   "execution_count": null,
   "metadata": {},
   "outputs": [],
   "source": [
    "test['sepostulo'] = result2"
   ]
  },
  {
   "cell_type": "code",
   "execution_count": null,
   "metadata": {},
   "outputs": [],
   "source": [
    "test = test[['id','sepostulo']]"
   ]
  },
  {
   "cell_type": "code",
   "execution_count": null,
   "metadata": {},
   "outputs": [],
   "source": [
    "test.head()"
   ]
  },
  {
   "cell_type": "code",
   "execution_count": null,
   "metadata": {},
   "outputs": [],
   "source": [
    "test.to_csv('../Predictions/SVM1v3M.csv', index=False)"
   ]
  },
  {
   "cell_type": "code",
   "execution_count": null,
   "metadata": {},
   "outputs": [],
   "source": []
  }
 ],
 "metadata": {
  "kernelspec": {
   "display_name": "Python 3",
   "language": "python",
   "name": "python3"
  },
  "language_info": {
   "codemirror_mode": {
    "name": "ipython",
    "version": 3
   },
   "file_extension": ".py",
   "mimetype": "text/x-python",
   "name": "python",
   "nbconvert_exporter": "python",
   "pygments_lexer": "ipython3",
   "version": "3.5.2"
  }
 },
 "nbformat": 4,
 "nbformat_minor": 2
}
