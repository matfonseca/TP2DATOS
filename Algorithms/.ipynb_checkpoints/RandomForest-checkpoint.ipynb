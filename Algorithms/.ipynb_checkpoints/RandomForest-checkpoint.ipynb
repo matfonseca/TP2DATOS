{
 "cells": [
  {
   "cell_type": "code",
   "execution_count": 91,
   "metadata": {},
   "outputs": [],
   "source": [
    "import pandas as pd\n",
    "import numpy as np\n",
    "import matplotlib.pyplot as plt\n",
    "from sklearn.model_selection import RandomizedSearchCV\n",
    "from sklearn.ensemble import RandomForestClassifier\n",
    "%matplotlib inline"
   ]
  },
  {
   "cell_type": "code",
   "execution_count": 364,
   "metadata": {},
   "outputs": [],
   "source": [
    "usersDataTrain = pd.read_csv('../setEntrenamiento.csv')"
   ]
  },
  {
   "cell_type": "code",
   "execution_count": 365,
   "metadata": {},
   "outputs": [
    {
     "data": {
      "text/html": [
       "<div>\n",
       "<style scoped>\n",
       "    .dataframe tbody tr th:only-of-type {\n",
       "        vertical-align: middle;\n",
       "    }\n",
       "\n",
       "    .dataframe tbody tr th {\n",
       "        vertical-align: top;\n",
       "    }\n",
       "\n",
       "    .dataframe thead th {\n",
       "        text-align: right;\n",
       "    }\n",
       "</style>\n",
       "<table border=\"1\" class=\"dataframe\">\n",
       "  <thead>\n",
       "    <tr style=\"text-align: right;\">\n",
       "      <th></th>\n",
       "      <th>Unnamed: 0</th>\n",
       "      <th>person</th>\n",
       "      <th>cant_seciones</th>\n",
       "      <th>event_checkout</th>\n",
       "      <th>event_conversion</th>\n",
       "      <th>event_ad campaign hit</th>\n",
       "      <th>event_lead</th>\n",
       "      <th>skus</th>\n",
       "      <th>screen_resolution</th>\n",
       "      <th>Busca_terminos_populares</th>\n",
       "      <th>...</th>\n",
       "      <th>usuario_buscador</th>\n",
       "      <th>usuario_dubitativo</th>\n",
       "      <th>prob_marca_en_base_checkout</th>\n",
       "      <th>prob_model_en_base_checkout</th>\n",
       "      <th>sku_0.0</th>\n",
       "      <th>sku_2831.0</th>\n",
       "      <th>sku_3371.0</th>\n",
       "      <th>sku_6357.0</th>\n",
       "      <th>sku_6371.0</th>\n",
       "      <th>compraPopular</th>\n",
       "    </tr>\n",
       "  </thead>\n",
       "  <tbody>\n",
       "    <tr>\n",
       "      <th>0</th>\n",
       "      <td>0</td>\n",
       "      <td>0008ed71</td>\n",
       "      <td>3</td>\n",
       "      <td>3.0</td>\n",
       "      <td>0.0</td>\n",
       "      <td>0.0</td>\n",
       "      <td>0.0</td>\n",
       "      <td>1</td>\n",
       "      <td>0.0</td>\n",
       "      <td>0</td>\n",
       "      <td>...</td>\n",
       "      <td>0</td>\n",
       "      <td>False</td>\n",
       "      <td>0.213385</td>\n",
       "      <td>0.004279</td>\n",
       "      <td>3.0</td>\n",
       "      <td>0.0</td>\n",
       "      <td>0.0</td>\n",
       "      <td>0.0</td>\n",
       "      <td>0.0</td>\n",
       "      <td>0.0</td>\n",
       "    </tr>\n",
       "    <tr>\n",
       "      <th>1</th>\n",
       "      <td>1</td>\n",
       "      <td>000c79fe</td>\n",
       "      <td>1</td>\n",
       "      <td>1.0</td>\n",
       "      <td>0.0</td>\n",
       "      <td>1.0</td>\n",
       "      <td>0.0</td>\n",
       "      <td>1</td>\n",
       "      <td>0.0</td>\n",
       "      <td>8</td>\n",
       "      <td>...</td>\n",
       "      <td>0</td>\n",
       "      <td>False</td>\n",
       "      <td>0.204938</td>\n",
       "      <td>0.013427</td>\n",
       "      <td>1.0</td>\n",
       "      <td>0.0</td>\n",
       "      <td>0.0</td>\n",
       "      <td>0.0</td>\n",
       "      <td>0.0</td>\n",
       "      <td>1.0</td>\n",
       "    </tr>\n",
       "    <tr>\n",
       "      <th>2</th>\n",
       "      <td>2</td>\n",
       "      <td>001802e4</td>\n",
       "      <td>1</td>\n",
       "      <td>1.0</td>\n",
       "      <td>0.0</td>\n",
       "      <td>5.0</td>\n",
       "      <td>0.0</td>\n",
       "      <td>1</td>\n",
       "      <td>0.0</td>\n",
       "      <td>0</td>\n",
       "      <td>...</td>\n",
       "      <td>0</td>\n",
       "      <td>False</td>\n",
       "      <td>0.204938</td>\n",
       "      <td>0.034579</td>\n",
       "      <td>1.0</td>\n",
       "      <td>0.0</td>\n",
       "      <td>0.0</td>\n",
       "      <td>0.0</td>\n",
       "      <td>0.0</td>\n",
       "      <td>1.0</td>\n",
       "    </tr>\n",
       "    <tr>\n",
       "      <th>3</th>\n",
       "      <td>3</td>\n",
       "      <td>0019e639</td>\n",
       "      <td>21</td>\n",
       "      <td>15.0</td>\n",
       "      <td>2.0</td>\n",
       "      <td>29.0</td>\n",
       "      <td>0.0</td>\n",
       "      <td>1</td>\n",
       "      <td>0.0</td>\n",
       "      <td>3</td>\n",
       "      <td>...</td>\n",
       "      <td>1</td>\n",
       "      <td>True</td>\n",
       "      <td>0.096938</td>\n",
       "      <td>0.000000</td>\n",
       "      <td>15.0</td>\n",
       "      <td>0.0</td>\n",
       "      <td>0.0</td>\n",
       "      <td>0.0</td>\n",
       "      <td>0.0</td>\n",
       "      <td>0.0</td>\n",
       "    </tr>\n",
       "    <tr>\n",
       "      <th>4</th>\n",
       "      <td>4</td>\n",
       "      <td>001b0bf9</td>\n",
       "      <td>1</td>\n",
       "      <td>2.0</td>\n",
       "      <td>1.0</td>\n",
       "      <td>0.0</td>\n",
       "      <td>0.0</td>\n",
       "      <td>1</td>\n",
       "      <td>0.0</td>\n",
       "      <td>0</td>\n",
       "      <td>...</td>\n",
       "      <td>0</td>\n",
       "      <td>False</td>\n",
       "      <td>0.284141</td>\n",
       "      <td>0.000000</td>\n",
       "      <td>2.0</td>\n",
       "      <td>0.0</td>\n",
       "      <td>0.0</td>\n",
       "      <td>0.0</td>\n",
       "      <td>0.0</td>\n",
       "      <td>1.0</td>\n",
       "    </tr>\n",
       "  </tbody>\n",
       "</table>\n",
       "<p>5 rows × 94 columns</p>\n",
       "</div>"
      ],
      "text/plain": [
       "   Unnamed: 0    person  cant_seciones  event_checkout  event_conversion  \\\n",
       "0           0  0008ed71              3             3.0               0.0   \n",
       "1           1  000c79fe              1             1.0               0.0   \n",
       "2           2  001802e4              1             1.0               0.0   \n",
       "3           3  0019e639             21            15.0               2.0   \n",
       "4           4  001b0bf9              1             2.0               1.0   \n",
       "\n",
       "   event_ad campaign hit  event_lead  skus  screen_resolution  \\\n",
       "0                    0.0         0.0     1                0.0   \n",
       "1                    1.0         0.0     1                0.0   \n",
       "2                    5.0         0.0     1                0.0   \n",
       "3                   29.0         0.0     1                0.0   \n",
       "4                    0.0         0.0     1                0.0   \n",
       "\n",
       "   Busca_terminos_populares      ...        usuario_buscador  \\\n",
       "0                         0      ...                       0   \n",
       "1                         8      ...                       0   \n",
       "2                         0      ...                       0   \n",
       "3                         3      ...                       1   \n",
       "4                         0      ...                       0   \n",
       "\n",
       "   usuario_dubitativo  prob_marca_en_base_checkout  \\\n",
       "0               False                     0.213385   \n",
       "1               False                     0.204938   \n",
       "2               False                     0.204938   \n",
       "3                True                     0.096938   \n",
       "4               False                     0.284141   \n",
       "\n",
       "   prob_model_en_base_checkout  sku_0.0  sku_2831.0  sku_3371.0  sku_6357.0  \\\n",
       "0                     0.004279      3.0         0.0         0.0         0.0   \n",
       "1                     0.013427      1.0         0.0         0.0         0.0   \n",
       "2                     0.034579      1.0         0.0         0.0         0.0   \n",
       "3                     0.000000     15.0         0.0         0.0         0.0   \n",
       "4                     0.000000      2.0         0.0         0.0         0.0   \n",
       "\n",
       "   sku_6371.0  compraPopular  \n",
       "0         0.0            0.0  \n",
       "1         0.0            1.0  \n",
       "2         0.0            1.0  \n",
       "3         0.0            0.0  \n",
       "4         0.0            1.0  \n",
       "\n",
       "[5 rows x 94 columns]"
      ]
     },
     "execution_count": 365,
     "metadata": {},
     "output_type": "execute_result"
    }
   ],
   "source": [
    "usersDataTrain.head()"
   ]
  },
  {
   "cell_type": "code",
   "execution_count": 879,
   "metadata": {},
   "outputs": [],
   "source": [
    "total_train= usersDataTrain.drop(['Unnamed: 0', 'person',\n",
    "       'event_ad campaign hit', 'event_lead',\n",
    "       'screen_resolution', 'Busca_terminos_populares',\n",
    "       'otros', 'marca_apple', 'marca_asus', 'marca_lenovo',\n",
    "       'marca_lg', 'marca_motorola', 'marca_samsung', 'marca_sony',\n",
    "       'condition_Bom', 'condition_Bom - Sem Touch ID', 'condition_Excelente',\n",
    "       'condition_Muito Bom', 'version_galaxy j7', 'version_galaxy j5',\n",
    "       'version_galaxy s7', 'version_iphone 6', 'version_iphone 5s',\n",
    "       'version_iphone 6s', 'version_moto g4', 'version_moto g2',\n",
    "       'version_galaxy s6', 'storage_128GB', 'storage_16GB', 'storage_256GB',\n",
    "       'storage_32GB', 'storage_4GB', 'storage_512MB', 'storage_64GB',\n",
    "       'storage_8GB', 'Parte del dia_Madrugada', 'Parte del dia_Mañana',\n",
    "       'Parte del dia_Noche', 'Parte del dia_Tarde','channel_Direct',\n",
    "       'channel_Paid', 'channel_Organic', 'channel_Referral', 'Brasilero',\n",
    "       'color_Preto',\n",
    "       'color_Dourado', 'color_Branco',\n",
    "       'cantidad_De_Compras_De_Mismo_Sku',\n",
    "       'Cantidad_De_Busquedas_Por_Termino', 'search_and_purchase',\n",
    "       'cantidad_de_Url_de_compra', 'cantidadDeStaticPage', 'Prob_Apple',\n",
    "       'Prob_Asus', 'Prob_Lenovo', 'Prob_lg', 'Prob_motorola', 'Prob_quantum',\n",
    "       'Prob_samsung', 'Prob_sony', 'sku_multiple', 'prob_marca',\n",
    "       'prob_model', 'prob_marca_checkout', 'usuario_Checkeador',\n",
    "       'usuario_susceptible_campaign', 'usuario_buscador',\n",
    "       'usuario_dubitativo', 'prob_marca_en_base_checkout',\n",
    "       'prob_model_en_base_checkout', 'sku_0.0', 'sku_2831.0', \n",
    "        'sku_6371.0','count_activity',],axis=1)"
   ]
  },
  {
   "cell_type": "code",
   "execution_count": 880,
   "metadata": {},
   "outputs": [
    {
     "data": {
      "text/plain": [
       "Index(['cant_seciones', 'event_checkout', 'event_conversion', 'skus',\n",
       "       'Computer', 'Smartphone', 'campaign_source_google',\n",
       "       'campaign_source_criteo', 'campaign_source_rtbhouse', 'ventas_region',\n",
       "       'conversiones_15lastdays', 'checkout_15lastdays', 'viewed_15lastday',\n",
       "       'color_Cinza espacial', 'new_15lastdays', 'sku', 'label', 'sku_3371.0',\n",
       "       'sku_6357.0', 'compraPopular'],\n",
       "      dtype='object')"
      ]
     },
     "execution_count": 880,
     "metadata": {},
     "output_type": "execute_result"
    }
   ],
   "source": [
    "total_train.columns\n"
   ]
  },
  {
   "cell_type": "code",
   "execution_count": 881,
   "metadata": {},
   "outputs": [
    {
     "data": {
      "text/plain": [
       "1    980\n",
       "0    980\n",
       "Name: label, dtype: int64"
      ]
     },
     "execution_count": 881,
     "metadata": {},
     "output_type": "execute_result"
    }
   ],
   "source": [
    "users1s = total_train[total_train[\"label\"] == 1]\n",
    "users0s = total_train[total_train[\"label\"] == 0].head(980)\n",
    "total_train = pd.concat([users0s,users1s], ignore_index=True)\n",
    "\n",
    "total_train[\"label\"].value_counts()"
   ]
  },
  {
   "cell_type": "code",
   "execution_count": 882,
   "metadata": {},
   "outputs": [],
   "source": [
    "from sklearn.model_selection import train_test_split\n",
    "X_train, X_test, y_train, y_test = train_test_split(total_train.drop(['label'], axis=1).values, total_train[\"label\"] , test_size=0.20, random_state=75)\n",
    "\n"
   ]
  },
  {
   "cell_type": "code",
   "execution_count": 883,
   "metadata": {},
   "outputs": [
    {
     "name": "stdout",
     "output_type": "stream",
     "text": [
      "{'n_estimators': [200, 227, 255, 282, 310, 337, 365, 393, 420, 448, 475, 503, 531, 558, 586, 613, 641, 668, 696, 724, 751, 779, 806, 834, 862, 889, 917, 944, 972, 1000], 'max_features': ['auto', 'sqrt'], 'max_depth': [10, 26, 43, 60, 76, 93, 110, None], 'min_samples_split': [2, 5, 10], 'min_samples_leaf': [1, 2, 4], 'bootstrap': [True, False]}\n"
     ]
    }
   ],
   "source": [
    "\n",
    "# Number of trees in random forest\n",
    "n_estimators = [int(x) for x in np.linspace(start = 200, stop = 1000, num = 30)]\n",
    "# Number of features to consider at every split\n",
    "max_features = ['auto', 'sqrt']\n",
    "# Maximum number of levels in tree\n",
    "max_depth = [int(x) for x in np.linspace(10, 110, num = 7)]\n",
    "max_depth.append(None)\n",
    "# Minimum number of samples required to split a node\n",
    "min_samples_split = [2, 5, 10]\n",
    "# Minimum number of samples required at each leaf node\n",
    "min_samples_leaf = [1, 2, 4]\n",
    "# Method of selecting samples for training each tree\n",
    "bootstrap = [True, False]\n",
    "# Create the random grid\n",
    "random_grid = {'n_estimators': n_estimators,\n",
    "               'max_features': max_features,\n",
    "               'max_depth': max_depth,\n",
    "               'min_samples_split': min_samples_split,\n",
    "               'min_samples_leaf': min_samples_leaf,\n",
    "               'bootstrap': bootstrap}\n",
    "print(random_grid)"
   ]
  },
  {
   "cell_type": "code",
   "execution_count": 884,
   "metadata": {},
   "outputs": [
    {
     "name": "stdout",
     "output_type": "stream",
     "text": [
      "Fitting 5 folds for each of 300 candidates, totalling 1500 fits\n"
     ]
    },
    {
     "name": "stderr",
     "output_type": "stream",
     "text": [
      "[Parallel(n_jobs=-1)]: Using backend LokyBackend with 8 concurrent workers.\n",
      "[Parallel(n_jobs=-1)]: Done  25 tasks      | elapsed:   10.5s\n",
      "[Parallel(n_jobs=-1)]: Done 146 tasks      | elapsed:   46.1s\n",
      "[Parallel(n_jobs=-1)]: Done 349 tasks      | elapsed:  1.7min\n",
      "[Parallel(n_jobs=-1)]: Done 632 tasks      | elapsed:  3.1min\n",
      "[Parallel(n_jobs=-1)]: Done 997 tasks      | elapsed:  4.8min\n",
      "[Parallel(n_jobs=-1)]: Done 1442 tasks      | elapsed:  6.9min\n",
      "[Parallel(n_jobs=-1)]: Done 1500 out of 1500 | elapsed:  7.2min finished\n"
     ]
    },
    {
     "data": {
      "text/plain": [
       "RandomizedSearchCV(cv=5, error_score='raise-deprecating',\n",
       "          estimator=RandomForestClassifier(bootstrap=True, class_weight=None, criterion='gini',\n",
       "            max_depth=None, max_features='auto', max_leaf_nodes=None,\n",
       "            min_impurity_decrease=0.0, min_impurity_split=None,\n",
       "            min_samples_leaf=1, min_samples_split=2,\n",
       "            min_weight_fraction_leaf=0.0, n_estimators='warn', n_jobs=None,\n",
       "            oob_score=False, random_state=None, verbose=0,\n",
       "            warm_start=False),\n",
       "          fit_params=None, iid='warn', n_iter=300, n_jobs=-1,\n",
       "          param_distributions={'n_estimators': [200, 227, 255, 282, 310, 337, 365, 393, 420, 448, 475, 503, 531, 558, 586, 613, 641, 668, 696, 724, 751, 779, 806, 834, 862, 889, 917, 944, 972, 1000], 'max_features': ['auto', 'sqrt'], 'max_depth': [10, 26, 43, 60, 76, 93, 110, None], 'min_samples_split': [2, 5, 10], 'min_samples_leaf': [1, 2, 4], 'bootstrap': [True, False]},\n",
       "          pre_dispatch='2*n_jobs', random_state=42, refit=True,\n",
       "          return_train_score='warn', scoring=make_scorer(roc_auc_score),\n",
       "          verbose=2)"
      ]
     },
     "execution_count": 884,
     "metadata": {},
     "output_type": "execute_result"
    }
   ],
   "source": [
    "# Use the random grid to search for best hyperparameters\n",
    "# First create the base model to tune\n",
    "# Create a random forest Classifier. By convention, clf means 'Classifier'\n",
    "from sklearn.ensemble import RandomForestClassifier\n",
    "clf = RandomForestClassifier()\n",
    "from sklearn.metrics import make_scorer, roc_auc_score\n",
    "auc = make_scorer(roc_auc_score)\n",
    "\n",
    "# Random search of parameters, using 3 fold cross validation, \n",
    "# search across 100 different combinations, and use all available cores\n",
    "rf_random = RandomizedSearchCV(estimator = clf, param_distributions = random_grid, n_iter = 300, cv = 5, verbose=2, random_state=42, n_jobs = -1,scoring = auc)\n",
    "# Fit the random search model\n",
    "rf_random.fit(X_train, y_train)"
   ]
  },
  {
   "cell_type": "code",
   "execution_count": 885,
   "metadata": {},
   "outputs": [
    {
     "data": {
      "text/plain": [
       "{'n_estimators': 420,\n",
       " 'min_samples_split': 2,\n",
       " 'min_samples_leaf': 4,\n",
       " 'max_features': 'auto',\n",
       " 'max_depth': 93,\n",
       " 'bootstrap': True}"
      ]
     },
     "execution_count": 885,
     "metadata": {},
     "output_type": "execute_result"
    }
   ],
   "source": [
    "rf_random.best_params_"
   ]
  },
  {
   "cell_type": "code",
   "execution_count": 886,
   "metadata": {},
   "outputs": [],
   "source": [
    "clf = RandomForestClassifier(bootstrap= True,\n",
    " max_depth= 93,\n",
    " max_features =  'auto',\n",
    " min_samples_leaf=4,\n",
    " min_samples_split= 2,\n",
    " n_estimators= 420)"
   ]
  },
  {
   "cell_type": "code",
   "execution_count": 887,
   "metadata": {},
   "outputs": [
    {
     "data": {
      "text/plain": [
       "RandomForestClassifier(bootstrap=True, class_weight=None, criterion='gini',\n",
       "            max_depth=93, max_features='auto', max_leaf_nodes=None,\n",
       "            min_impurity_decrease=0.0, min_impurity_split=None,\n",
       "            min_samples_leaf=4, min_samples_split=2,\n",
       "            min_weight_fraction_leaf=0.0, n_estimators=420, n_jobs=None,\n",
       "            oob_score=False, random_state=None, verbose=0,\n",
       "            warm_start=False)"
      ]
     },
     "execution_count": 887,
     "metadata": {},
     "output_type": "execute_result"
    }
   ],
   "source": [
    "clf.fit(X_train, y_train)"
   ]
  },
  {
   "cell_type": "code",
   "execution_count": 888,
   "metadata": {},
   "outputs": [],
   "source": [
    "result = clf.predict_proba(X_test)"
   ]
  },
  {
   "cell_type": "code",
   "execution_count": 889,
   "metadata": {},
   "outputs": [],
   "source": [
    "result2 = []\n",
    "for elem in result:\n",
    "    result2.append(elem[1])"
   ]
  },
  {
   "cell_type": "code",
   "execution_count": 890,
   "metadata": {},
   "outputs": [
    {
     "data": {
      "text/plain": [
       "0.89720623844611658"
      ]
     },
     "execution_count": 890,
     "metadata": {},
     "output_type": "execute_result"
    }
   ],
   "source": [
    "from sklearn import metrics\n",
    "pred = result2\n",
    "fpr, tpr, thresholds = metrics.roc_curve(y_test, pred)\n",
    "metrics.auc(fpr, tpr)"
   ]
  },
  {
   "cell_type": "code",
   "execution_count": 891,
   "metadata": {},
   "outputs": [
    {
     "name": "stdout",
     "output_type": "stream",
     "text": [
      "Feature ranking:\n",
      "1. feature 11 (0.255888)\n",
      "2. feature 1 (0.156727)\n",
      "3. feature 12 (0.124501)\n",
      "4. feature 0 (0.093179)\n",
      "5. feature 18 (0.067913)\n",
      "6. feature 6 (0.053615)\n",
      "7. feature 13 (0.043090)\n",
      "8. feature 14 (0.042770)\n",
      "9. feature 9 (0.026761)\n",
      "10. feature 15 (0.025688)\n",
      "11. feature 4 (0.019602)\n",
      "12. feature 2 (0.018730)\n",
      "13. feature 7 (0.018089)\n",
      "14. feature 5 (0.016427)\n",
      "15. feature 3 (0.015473)\n",
      "16. feature 8 (0.013566)\n",
      "17. feature 10 (0.007946)\n",
      "18. feature 17 (0.000033)\n",
      "19. feature 16 (0.000000)\n"
     ]
    }
   ],
   "source": [
    "from sklearn.datasets import make_classification\n",
    "from sklearn.ensemble import ExtraTreesClassifier\n",
    "importances = clf.feature_importances_\n",
    "std = np.std([tree.feature_importances_ for tree in clf.estimators_],\n",
    "             axis=0)\n",
    "indices = np.argsort(importances)[::-1]\n",
    "\n",
    "# Print the feature ranking\n",
    "print(\"Feature ranking:\")\n",
    "\n",
    "for f in range(X_train.shape[1]):\n",
    "    print(\"%d. feature %d (%f)\" % (f + 1, indices[f], importances[indices[f]]))\n"
   ]
  },
  {
   "cell_type": "code",
   "execution_count": 892,
   "metadata": {},
   "outputs": [],
   "source": [
    "test = pd.read_csv('../setTest.csv')"
   ]
  },
  {
   "cell_type": "code",
   "execution_count": 893,
   "metadata": {},
   "outputs": [],
   "source": [
    "person = test[\"person\"]"
   ]
  },
  {
   "cell_type": "code",
   "execution_count": 894,
   "metadata": {},
   "outputs": [
    {
     "data": {
      "text/html": [
       "<div>\n",
       "<style scoped>\n",
       "    .dataframe tbody tr th:only-of-type {\n",
       "        vertical-align: middle;\n",
       "    }\n",
       "\n",
       "    .dataframe tbody tr th {\n",
       "        vertical-align: top;\n",
       "    }\n",
       "\n",
       "    .dataframe thead th {\n",
       "        text-align: right;\n",
       "    }\n",
       "</style>\n",
       "<table border=\"1\" class=\"dataframe\">\n",
       "  <thead>\n",
       "    <tr style=\"text-align: right;\">\n",
       "      <th></th>\n",
       "      <th>Unnamed: 0</th>\n",
       "      <th>person</th>\n",
       "      <th>cant_seciones</th>\n",
       "      <th>event_checkout</th>\n",
       "      <th>event_conversion</th>\n",
       "      <th>event_ad campaign hit</th>\n",
       "      <th>event_lead</th>\n",
       "      <th>skus</th>\n",
       "      <th>screen_resolution</th>\n",
       "      <th>Busca_terminos_populares</th>\n",
       "      <th>...</th>\n",
       "      <th>sku_0.0</th>\n",
       "      <th>sku_2831.0</th>\n",
       "      <th>sku_3371.0</th>\n",
       "      <th>sku_6357.0</th>\n",
       "      <th>sku_6371.0</th>\n",
       "      <th>compraPopular</th>\n",
       "      <th>usuario_Checkeador</th>\n",
       "      <th>usuario_susceptible_campaign</th>\n",
       "      <th>usuario_buscador</th>\n",
       "      <th>usuario_dubitativo</th>\n",
       "    </tr>\n",
       "  </thead>\n",
       "  <tbody>\n",
       "    <tr>\n",
       "      <th>0</th>\n",
       "      <td>0</td>\n",
       "      <td>4886f805</td>\n",
       "      <td>1</td>\n",
       "      <td>1.0</td>\n",
       "      <td>0.0</td>\n",
       "      <td>0.0</td>\n",
       "      <td>0.0</td>\n",
       "      <td>1</td>\n",
       "      <td>0.0</td>\n",
       "      <td>0</td>\n",
       "      <td>...</td>\n",
       "      <td>1.0</td>\n",
       "      <td>0.0</td>\n",
       "      <td>0.0</td>\n",
       "      <td>0.0</td>\n",
       "      <td>0.0</td>\n",
       "      <td>1.0</td>\n",
       "      <td>0</td>\n",
       "      <td>0</td>\n",
       "      <td>0</td>\n",
       "      <td>False</td>\n",
       "    </tr>\n",
       "    <tr>\n",
       "      <th>1</th>\n",
       "      <td>1</td>\n",
       "      <td>0297fc1e</td>\n",
       "      <td>96</td>\n",
       "      <td>7.0</td>\n",
       "      <td>0.0</td>\n",
       "      <td>29.0</td>\n",
       "      <td>1.0</td>\n",
       "      <td>1</td>\n",
       "      <td>0.0</td>\n",
       "      <td>5</td>\n",
       "      <td>...</td>\n",
       "      <td>6.0</td>\n",
       "      <td>1.0</td>\n",
       "      <td>0.0</td>\n",
       "      <td>0.0</td>\n",
       "      <td>0.0</td>\n",
       "      <td>1.0</td>\n",
       "      <td>1</td>\n",
       "      <td>1</td>\n",
       "      <td>1</td>\n",
       "      <td>True</td>\n",
       "    </tr>\n",
       "    <tr>\n",
       "      <th>2</th>\n",
       "      <td>2</td>\n",
       "      <td>2d681dd8</td>\n",
       "      <td>2</td>\n",
       "      <td>1.0</td>\n",
       "      <td>0.0</td>\n",
       "      <td>1.0</td>\n",
       "      <td>0.0</td>\n",
       "      <td>1</td>\n",
       "      <td>0.0</td>\n",
       "      <td>1</td>\n",
       "      <td>...</td>\n",
       "      <td>1.0</td>\n",
       "      <td>0.0</td>\n",
       "      <td>0.0</td>\n",
       "      <td>0.0</td>\n",
       "      <td>0.0</td>\n",
       "      <td>0.0</td>\n",
       "      <td>0</td>\n",
       "      <td>0</td>\n",
       "      <td>0</td>\n",
       "      <td>False</td>\n",
       "    </tr>\n",
       "    <tr>\n",
       "      <th>3</th>\n",
       "      <td>3</td>\n",
       "      <td>cccea85e</td>\n",
       "      <td>28</td>\n",
       "      <td>1.0</td>\n",
       "      <td>0.0</td>\n",
       "      <td>15.0</td>\n",
       "      <td>0.0</td>\n",
       "      <td>1</td>\n",
       "      <td>0.0</td>\n",
       "      <td>0</td>\n",
       "      <td>...</td>\n",
       "      <td>1.0</td>\n",
       "      <td>0.0</td>\n",
       "      <td>0.0</td>\n",
       "      <td>0.0</td>\n",
       "      <td>0.0</td>\n",
       "      <td>0.0</td>\n",
       "      <td>0</td>\n",
       "      <td>1</td>\n",
       "      <td>1</td>\n",
       "      <td>False</td>\n",
       "    </tr>\n",
       "    <tr>\n",
       "      <th>4</th>\n",
       "      <td>4</td>\n",
       "      <td>4c8a8b93</td>\n",
       "      <td>20</td>\n",
       "      <td>2.0</td>\n",
       "      <td>0.0</td>\n",
       "      <td>14.0</td>\n",
       "      <td>0.0</td>\n",
       "      <td>1</td>\n",
       "      <td>0.0</td>\n",
       "      <td>9</td>\n",
       "      <td>...</td>\n",
       "      <td>2.0</td>\n",
       "      <td>0.0</td>\n",
       "      <td>0.0</td>\n",
       "      <td>0.0</td>\n",
       "      <td>0.0</td>\n",
       "      <td>1.0</td>\n",
       "      <td>0</td>\n",
       "      <td>1</td>\n",
       "      <td>1</td>\n",
       "      <td>False</td>\n",
       "    </tr>\n",
       "  </tbody>\n",
       "</table>\n",
       "<p>5 rows × 93 columns</p>\n",
       "</div>"
      ],
      "text/plain": [
       "   Unnamed: 0    person  cant_seciones  event_checkout  event_conversion  \\\n",
       "0           0  4886f805              1             1.0               0.0   \n",
       "1           1  0297fc1e             96             7.0               0.0   \n",
       "2           2  2d681dd8              2             1.0               0.0   \n",
       "3           3  cccea85e             28             1.0               0.0   \n",
       "4           4  4c8a8b93             20             2.0               0.0   \n",
       "\n",
       "   event_ad campaign hit  event_lead  skus  screen_resolution  \\\n",
       "0                    0.0         0.0     1                0.0   \n",
       "1                   29.0         1.0     1                0.0   \n",
       "2                    1.0         0.0     1                0.0   \n",
       "3                   15.0         0.0     1                0.0   \n",
       "4                   14.0         0.0     1                0.0   \n",
       "\n",
       "   Busca_terminos_populares         ...          sku_0.0  sku_2831.0  \\\n",
       "0                         0         ...              1.0         0.0   \n",
       "1                         5         ...              6.0         1.0   \n",
       "2                         1         ...              1.0         0.0   \n",
       "3                         0         ...              1.0         0.0   \n",
       "4                         9         ...              2.0         0.0   \n",
       "\n",
       "   sku_3371.0  sku_6357.0  sku_6371.0  compraPopular  usuario_Checkeador  \\\n",
       "0         0.0         0.0         0.0            1.0                   0   \n",
       "1         0.0         0.0         0.0            1.0                   1   \n",
       "2         0.0         0.0         0.0            0.0                   0   \n",
       "3         0.0         0.0         0.0            0.0                   0   \n",
       "4         0.0         0.0         0.0            1.0                   0   \n",
       "\n",
       "   usuario_susceptible_campaign  usuario_buscador  usuario_dubitativo  \n",
       "0                             0                 0               False  \n",
       "1                             1                 1                True  \n",
       "2                             0                 0               False  \n",
       "3                             1                 1               False  \n",
       "4                             1                 1               False  \n",
       "\n",
       "[5 rows x 93 columns]"
      ]
     },
     "execution_count": 894,
     "metadata": {},
     "output_type": "execute_result"
    }
   ],
   "source": [
    "test.head()"
   ]
  },
  {
   "cell_type": "code",
   "execution_count": 895,
   "metadata": {},
   "outputs": [],
   "source": [
    "test = test.drop(['Unnamed: 0', 'person',\n",
    "       'event_ad campaign hit', 'event_lead',\n",
    "       'screen_resolution', 'Busca_terminos_populares',\n",
    "       'otros', 'marca_apple', 'marca_asus', 'marca_lenovo',\n",
    "       'marca_lg', 'marca_motorola', 'marca_samsung', 'marca_sony',\n",
    "       'condition_Bom', 'condition_Bom - Sem Touch ID', 'condition_Excelente',\n",
    "       'condition_Muito Bom', 'version_galaxy j7', 'version_galaxy j5',\n",
    "       'version_galaxy s7', 'version_iphone 6', 'version_iphone 5s',\n",
    "       'version_iphone 6s', 'version_moto g4', 'version_moto g2',\n",
    "       'version_galaxy s6', 'storage_128GB', 'storage_16GB', 'storage_256GB',\n",
    "       'storage_32GB', 'storage_4GB', 'storage_512MB', 'storage_64GB',\n",
    "       'storage_8GB', 'Parte del dia_Madrugada', 'Parte del dia_Mañana',\n",
    "       'Parte del dia_Noche', 'Parte del dia_Tarde','channel_Direct',\n",
    "       'channel_Paid', 'channel_Organic', 'channel_Referral', 'Brasilero',\n",
    "       'color_Preto',\n",
    "       'color_Dourado', 'color_Branco',\n",
    "       'cantidad_De_Compras_De_Mismo_Sku',\n",
    "       'Cantidad_De_Busquedas_Por_Termino', 'search_and_purchase',\n",
    "       'cantidad_de_Url_de_compra', 'cantidadDeStaticPage', 'Prob_Apple',\n",
    "       'Prob_Asus', 'Prob_Lenovo', 'Prob_lg', 'Prob_motorola', 'Prob_quantum',\n",
    "       'Prob_samsung', 'Prob_sony', 'sku_multiple', 'prob_marca',\n",
    "       'prob_model', 'prob_marca_checkout', 'usuario_Checkeador',\n",
    "       'usuario_susceptible_campaign', 'usuario_buscador',\n",
    "       'usuario_dubitativo', 'prob_marca_en_base_checkout',\n",
    "       'prob_model_en_base_checkout', 'sku_0.0', 'sku_2831.0', \n",
    "        'sku_6371.0','count_activity',],axis=1)"
   ]
  },
  {
   "cell_type": "code",
   "execution_count": 896,
   "metadata": {},
   "outputs": [
    {
     "data": {
      "text/html": [
       "<div>\n",
       "<style scoped>\n",
       "    .dataframe tbody tr th:only-of-type {\n",
       "        vertical-align: middle;\n",
       "    }\n",
       "\n",
       "    .dataframe tbody tr th {\n",
       "        vertical-align: top;\n",
       "    }\n",
       "\n",
       "    .dataframe thead th {\n",
       "        text-align: right;\n",
       "    }\n",
       "</style>\n",
       "<table border=\"1\" class=\"dataframe\">\n",
       "  <thead>\n",
       "    <tr style=\"text-align: right;\">\n",
       "      <th></th>\n",
       "      <th>cant_seciones</th>\n",
       "      <th>event_checkout</th>\n",
       "      <th>event_conversion</th>\n",
       "      <th>skus</th>\n",
       "      <th>Computer</th>\n",
       "      <th>Smartphone</th>\n",
       "      <th>campaign_source_google</th>\n",
       "      <th>campaign_source_criteo</th>\n",
       "      <th>campaign_source_rtbhouse</th>\n",
       "      <th>ventas_region</th>\n",
       "      <th>conversiones_15lastdays</th>\n",
       "      <th>checkout_15lastdays</th>\n",
       "      <th>viewed_15lastday</th>\n",
       "      <th>color_Cinza espacial</th>\n",
       "      <th>new_15lastdays</th>\n",
       "      <th>sku</th>\n",
       "      <th>sku_3371.0</th>\n",
       "      <th>sku_6357.0</th>\n",
       "      <th>compraPopular</th>\n",
       "    </tr>\n",
       "  </thead>\n",
       "  <tbody>\n",
       "    <tr>\n",
       "      <th>0</th>\n",
       "      <td>1</td>\n",
       "      <td>1.0</td>\n",
       "      <td>0.0</td>\n",
       "      <td>1</td>\n",
       "      <td>0.0</td>\n",
       "      <td>1.0</td>\n",
       "      <td>0.0</td>\n",
       "      <td>0.0</td>\n",
       "      <td>0.0</td>\n",
       "      <td>0.0</td>\n",
       "      <td>0.0</td>\n",
       "      <td>1.0</td>\n",
       "      <td>4.0</td>\n",
       "      <td>0.0</td>\n",
       "      <td>1.0</td>\n",
       "      <td>0.0</td>\n",
       "      <td>0.0</td>\n",
       "      <td>0.0</td>\n",
       "      <td>1.0</td>\n",
       "    </tr>\n",
       "    <tr>\n",
       "      <th>1</th>\n",
       "      <td>96</td>\n",
       "      <td>7.0</td>\n",
       "      <td>0.0</td>\n",
       "      <td>1</td>\n",
       "      <td>0.0</td>\n",
       "      <td>1.0</td>\n",
       "      <td>4.0</td>\n",
       "      <td>5.0</td>\n",
       "      <td>18.0</td>\n",
       "      <td>0.0</td>\n",
       "      <td>0.0</td>\n",
       "      <td>1.0</td>\n",
       "      <td>96.0</td>\n",
       "      <td>86.0</td>\n",
       "      <td>0.0</td>\n",
       "      <td>0.0</td>\n",
       "      <td>0.0</td>\n",
       "      <td>0.0</td>\n",
       "      <td>1.0</td>\n",
       "    </tr>\n",
       "    <tr>\n",
       "      <th>2</th>\n",
       "      <td>2</td>\n",
       "      <td>1.0</td>\n",
       "      <td>0.0</td>\n",
       "      <td>1</td>\n",
       "      <td>1.0</td>\n",
       "      <td>0.0</td>\n",
       "      <td>1.0</td>\n",
       "      <td>0.0</td>\n",
       "      <td>0.0</td>\n",
       "      <td>0.0</td>\n",
       "      <td>0.0</td>\n",
       "      <td>1.0</td>\n",
       "      <td>13.0</td>\n",
       "      <td>0.0</td>\n",
       "      <td>1.0</td>\n",
       "      <td>0.0</td>\n",
       "      <td>0.0</td>\n",
       "      <td>0.0</td>\n",
       "      <td>0.0</td>\n",
       "    </tr>\n",
       "    <tr>\n",
       "      <th>3</th>\n",
       "      <td>28</td>\n",
       "      <td>1.0</td>\n",
       "      <td>0.0</td>\n",
       "      <td>1</td>\n",
       "      <td>1.0</td>\n",
       "      <td>0.0</td>\n",
       "      <td>11.0</td>\n",
       "      <td>2.0</td>\n",
       "      <td>1.0</td>\n",
       "      <td>0.0</td>\n",
       "      <td>0.0</td>\n",
       "      <td>0.0</td>\n",
       "      <td>465.0</td>\n",
       "      <td>0.0</td>\n",
       "      <td>0.0</td>\n",
       "      <td>0.0</td>\n",
       "      <td>0.0</td>\n",
       "      <td>0.0</td>\n",
       "      <td>0.0</td>\n",
       "    </tr>\n",
       "    <tr>\n",
       "      <th>4</th>\n",
       "      <td>20</td>\n",
       "      <td>2.0</td>\n",
       "      <td>0.0</td>\n",
       "      <td>1</td>\n",
       "      <td>0.0</td>\n",
       "      <td>1.0</td>\n",
       "      <td>8.0</td>\n",
       "      <td>0.0</td>\n",
       "      <td>1.0</td>\n",
       "      <td>0.0</td>\n",
       "      <td>0.0</td>\n",
       "      <td>2.0</td>\n",
       "      <td>177.0</td>\n",
       "      <td>24.0</td>\n",
       "      <td>1.0</td>\n",
       "      <td>0.0</td>\n",
       "      <td>0.0</td>\n",
       "      <td>0.0</td>\n",
       "      <td>1.0</td>\n",
       "    </tr>\n",
       "  </tbody>\n",
       "</table>\n",
       "</div>"
      ],
      "text/plain": [
       "   cant_seciones  event_checkout  event_conversion  skus  Computer  \\\n",
       "0              1             1.0               0.0     1       0.0   \n",
       "1             96             7.0               0.0     1       0.0   \n",
       "2              2             1.0               0.0     1       1.0   \n",
       "3             28             1.0               0.0     1       1.0   \n",
       "4             20             2.0               0.0     1       0.0   \n",
       "\n",
       "   Smartphone  campaign_source_google  campaign_source_criteo  \\\n",
       "0         1.0                     0.0                     0.0   \n",
       "1         1.0                     4.0                     5.0   \n",
       "2         0.0                     1.0                     0.0   \n",
       "3         0.0                    11.0                     2.0   \n",
       "4         1.0                     8.0                     0.0   \n",
       "\n",
       "   campaign_source_rtbhouse  ventas_region  conversiones_15lastdays  \\\n",
       "0                       0.0            0.0                      0.0   \n",
       "1                      18.0            0.0                      0.0   \n",
       "2                       0.0            0.0                      0.0   \n",
       "3                       1.0            0.0                      0.0   \n",
       "4                       1.0            0.0                      0.0   \n",
       "\n",
       "   checkout_15lastdays  viewed_15lastday  color_Cinza espacial  \\\n",
       "0                  1.0               4.0                   0.0   \n",
       "1                  1.0              96.0                  86.0   \n",
       "2                  1.0              13.0                   0.0   \n",
       "3                  0.0             465.0                   0.0   \n",
       "4                  2.0             177.0                  24.0   \n",
       "\n",
       "   new_15lastdays  sku  sku_3371.0  sku_6357.0  compraPopular  \n",
       "0             1.0  0.0         0.0         0.0            1.0  \n",
       "1             0.0  0.0         0.0         0.0            1.0  \n",
       "2             1.0  0.0         0.0         0.0            0.0  \n",
       "3             0.0  0.0         0.0         0.0            0.0  \n",
       "4             1.0  0.0         0.0         0.0            1.0  "
      ]
     },
     "execution_count": 896,
     "metadata": {},
     "output_type": "execute_result"
    }
   ],
   "source": [
    "test.head()"
   ]
  },
  {
   "cell_type": "code",
   "execution_count": 897,
   "metadata": {},
   "outputs": [
    {
     "data": {
      "text/plain": [
       "Index(['cant_seciones', 'event_checkout', 'event_conversion', 'skus',\n",
       "       'Computer', 'Smartphone', 'campaign_source_google',\n",
       "       'campaign_source_criteo', 'campaign_source_rtbhouse', 'ventas_region',\n",
       "       'conversiones_15lastdays', 'checkout_15lastdays', 'viewed_15lastday',\n",
       "       'color_Cinza espacial', 'new_15lastdays', 'sku', 'sku_3371.0',\n",
       "       'sku_6357.0', 'compraPopular'],\n",
       "      dtype='object')"
      ]
     },
     "execution_count": 897,
     "metadata": {},
     "output_type": "execute_result"
    }
   ],
   "source": [
    "test.columns"
   ]
  },
  {
   "cell_type": "code",
   "execution_count": 898,
   "metadata": {},
   "outputs": [
    {
     "data": {
      "text/plain": [
       "(19415, 19)"
      ]
     },
     "execution_count": 898,
     "metadata": {},
     "output_type": "execute_result"
    }
   ],
   "source": [
    "test.shape"
   ]
  },
  {
   "cell_type": "code",
   "execution_count": 899,
   "metadata": {},
   "outputs": [
    {
     "name": "stdout",
     "output_type": "stream",
     "text": [
      "['Unnamed: 0', 'person', 'event_ad campaign hit', 'event_lead', 'screen_resolution', 'Busca_terminos_populares', 'otros', 'marca_apple', 'marca_asus', 'marca_lenovo', 'marca_lg', 'marca_motorola', 'marca_samsung', 'marca_sony', 'condition_Bom', 'condition_Bom - Sem Touch ID', 'condition_Excelente', 'condition_Muito Bom', 'version_galaxy j7', 'version_galaxy j5', 'version_galaxy s7', 'version_iphone 6', 'version_iphone 5s', 'version_iphone 6s', 'version_moto g4', 'version_moto g2', 'version_galaxy s6', 'storage_128GB', 'storage_16GB', 'storage_256GB', 'storage_32GB', 'storage_4GB', 'storage_512MB', 'storage_64GB', 'storage_8GB', 'Parte del dia_Madrugada', 'Parte del dia_Mañana', 'Parte del dia_Noche', 'Parte del dia_Tarde', 'channel_Direct', 'channel_Paid', 'channel_Organic', 'channel_Referral', 'Brasilero', 'count_activity', 'color_Preto', 'color_Dourado', 'color_Branco', 'cantidad_De_Compras_De_Mismo_Sku', 'Cantidad_De_Busquedas_Por_Termino', 'search_and_purchase', 'cantidad_de_Url_de_compra', 'cantidadDeStaticPage', 'Prob_Apple', 'Prob_Asus', 'Prob_Lenovo', 'Prob_lg', 'Prob_motorola', 'Prob_quantum', 'Prob_samsung', 'Prob_sony', 'sku_multiple', 'label', 'prob_marca', 'prob_model', 'prob_marca_checkout', 'usuario_Checkeador', 'usuario_susceptible_campaign', 'usuario_buscador', 'usuario_dubitativo', 'prob_marca_en_base_checkout', 'prob_model_en_base_checkout', 'sku_0.0', 'sku_2831.0', 'sku_6371.0']\n",
      "['Unnamed: 0', 'person', 'event_ad campaign hit', 'event_lead', 'screen_resolution', 'Busca_terminos_populares', 'otros', 'marca_apple', 'marca_asus', 'marca_lenovo', 'marca_lg', 'marca_motorola', 'marca_samsung', 'marca_sony', 'condition_Bom', 'condition_Bom - Sem Touch ID', 'condition_Excelente', 'condition_Muito Bom', 'version_galaxy j7', 'version_galaxy j5', 'version_galaxy s7', 'version_iphone 6', 'version_iphone 5s', 'version_iphone 6s', 'version_moto g4', 'version_moto g2', 'version_galaxy s6', 'storage_128GB', 'storage_16GB', 'storage_256GB', 'storage_32GB', 'storage_4GB', 'storage_512MB', 'storage_64GB', 'storage_8GB', 'Parte del dia_Madrugada', 'Parte del dia_Mañana', 'Parte del dia_Noche', 'Parte del dia_Tarde', 'channel_Direct', 'channel_Paid', 'channel_Organic', 'channel_Referral', 'Brasilero', 'count_activity', 'color_Preto', 'color_Dourado', 'color_Branco', 'cantidad_De_Compras_De_Mismo_Sku', 'Cantidad_De_Busquedas_Por_Termino', 'search_and_purchase', 'cantidad_de_Url_de_compra', 'cantidadDeStaticPage', 'Prob_Apple', 'Prob_Asus', 'Prob_Lenovo', 'Prob_lg', 'Prob_motorola', 'Prob_quantum', 'Prob_samsung', 'Prob_sony', 'sku_multiple', 'label', 'prob_marca', 'prob_model', 'prob_marca_checkout', 'usuario_Checkeador', 'usuario_susceptible_campaign', 'usuario_buscador', 'usuario_dubitativo', 'prob_marca_en_base_checkout', 'prob_model_en_base_checkout', 'sku_0.0', 'sku_2831.0', 'sku_6371.0']\n"
     ]
    }
   ],
   "source": [
    "nombreCol = []\n",
    "for namecolumn in usersDataTrain.columns:\n",
    "     if ( not namecolumn in test.columns):\n",
    "            nombreCol.append(namecolumn)\n",
    "print(nombreCol)\n",
    "for namecolumn in test.columns:\n",
    "     if ( not namecolumn in usersDataTrain.columns):\n",
    "            nombreCol.append(namecolumn)\n",
    "print(nombreCol)"
   ]
  },
  {
   "cell_type": "code",
   "execution_count": 900,
   "metadata": {},
   "outputs": [],
   "source": [
    "result = clf.predict_proba(test)"
   ]
  },
  {
   "cell_type": "code",
   "execution_count": 901,
   "metadata": {},
   "outputs": [],
   "source": [
    "result2 = []\n",
    "for elem in result:\n",
    "    result2.append(elem[1])"
   ]
  },
  {
   "cell_type": "code",
   "execution_count": 902,
   "metadata": {},
   "outputs": [],
   "source": [
    "person = person.to_frame()"
   ]
  },
  {
   "cell_type": "code",
   "execution_count": 903,
   "metadata": {},
   "outputs": [],
   "source": [
    "person['label'] = result2"
   ]
  },
  {
   "cell_type": "code",
   "execution_count": 904,
   "metadata": {},
   "outputs": [
    {
     "data": {
      "text/html": [
       "<div>\n",
       "<style scoped>\n",
       "    .dataframe tbody tr th:only-of-type {\n",
       "        vertical-align: middle;\n",
       "    }\n",
       "\n",
       "    .dataframe tbody tr th {\n",
       "        vertical-align: top;\n",
       "    }\n",
       "\n",
       "    .dataframe thead th {\n",
       "        text-align: right;\n",
       "    }\n",
       "</style>\n",
       "<table border=\"1\" class=\"dataframe\">\n",
       "  <thead>\n",
       "    <tr style=\"text-align: right;\">\n",
       "      <th></th>\n",
       "      <th>person</th>\n",
       "      <th>label</th>\n",
       "    </tr>\n",
       "  </thead>\n",
       "  <tbody>\n",
       "    <tr>\n",
       "      <th>0</th>\n",
       "      <td>4886f805</td>\n",
       "      <td>0.031417</td>\n",
       "    </tr>\n",
       "    <tr>\n",
       "      <th>1</th>\n",
       "      <td>0297fc1e</td>\n",
       "      <td>0.505752</td>\n",
       "    </tr>\n",
       "    <tr>\n",
       "      <th>2</th>\n",
       "      <td>2d681dd8</td>\n",
       "      <td>0.129764</td>\n",
       "    </tr>\n",
       "    <tr>\n",
       "      <th>3</th>\n",
       "      <td>cccea85e</td>\n",
       "      <td>0.706335</td>\n",
       "    </tr>\n",
       "    <tr>\n",
       "      <th>4</th>\n",
       "      <td>4c8a8b93</td>\n",
       "      <td>0.598415</td>\n",
       "    </tr>\n",
       "  </tbody>\n",
       "</table>\n",
       "</div>"
      ],
      "text/plain": [
       "     person     label\n",
       "0  4886f805  0.031417\n",
       "1  0297fc1e  0.505752\n",
       "2  2d681dd8  0.129764\n",
       "3  cccea85e  0.706335\n",
       "4  4c8a8b93  0.598415"
      ]
     },
     "execution_count": 904,
     "metadata": {},
     "output_type": "execute_result"
    }
   ],
   "source": [
    "person.head()"
   ]
  },
  {
   "cell_type": "code",
   "execution_count": 905,
   "metadata": {},
   "outputs": [
    {
     "data": {
      "text/plain": [
       "True     13908\n",
       "False     5507\n",
       "Name: label, dtype: int64"
      ]
     },
     "execution_count": 905,
     "metadata": {},
     "output_type": "execute_result"
    }
   ],
   "source": [
    "(person[\"label\"]<0.5).value_counts()"
   ]
  },
  {
   "cell_type": "code",
   "execution_count": 906,
   "metadata": {},
   "outputs": [],
   "source": [
    "kaggle = pd.read_csv('../data/trocafone_kaggle_test.csv')"
   ]
  },
  {
   "cell_type": "code",
   "execution_count": 907,
   "metadata": {},
   "outputs": [
    {
     "data": {
      "text/html": [
       "<div>\n",
       "<style scoped>\n",
       "    .dataframe tbody tr th:only-of-type {\n",
       "        vertical-align: middle;\n",
       "    }\n",
       "\n",
       "    .dataframe tbody tr th {\n",
       "        vertical-align: top;\n",
       "    }\n",
       "\n",
       "    .dataframe thead th {\n",
       "        text-align: right;\n",
       "    }\n",
       "</style>\n",
       "<table border=\"1\" class=\"dataframe\">\n",
       "  <thead>\n",
       "    <tr style=\"text-align: right;\">\n",
       "      <th></th>\n",
       "      <th>person</th>\n",
       "    </tr>\n",
       "  </thead>\n",
       "  <tbody>\n",
       "    <tr>\n",
       "      <th>0</th>\n",
       "      <td>4886f805</td>\n",
       "    </tr>\n",
       "    <tr>\n",
       "      <th>1</th>\n",
       "      <td>0297fc1e</td>\n",
       "    </tr>\n",
       "    <tr>\n",
       "      <th>2</th>\n",
       "      <td>2d681dd8</td>\n",
       "    </tr>\n",
       "    <tr>\n",
       "      <th>3</th>\n",
       "      <td>cccea85e</td>\n",
       "    </tr>\n",
       "    <tr>\n",
       "      <th>4</th>\n",
       "      <td>4c8a8b93</td>\n",
       "    </tr>\n",
       "  </tbody>\n",
       "</table>\n",
       "</div>"
      ],
      "text/plain": [
       "     person\n",
       "0  4886f805\n",
       "1  0297fc1e\n",
       "2  2d681dd8\n",
       "3  cccea85e\n",
       "4  4c8a8b93"
      ]
     },
     "execution_count": 907,
     "metadata": {},
     "output_type": "execute_result"
    }
   ],
   "source": [
    "kaggle.head()"
   ]
  },
  {
   "cell_type": "code",
   "execution_count": 908,
   "metadata": {},
   "outputs": [],
   "source": [
    "resultado = pd.merge(kaggle,person,on=\"person\",how = \"left\")"
   ]
  },
  {
   "cell_type": "code",
   "execution_count": 909,
   "metadata": {},
   "outputs": [
    {
     "data": {
      "text/html": [
       "<div>\n",
       "<style scoped>\n",
       "    .dataframe tbody tr th:only-of-type {\n",
       "        vertical-align: middle;\n",
       "    }\n",
       "\n",
       "    .dataframe tbody tr th {\n",
       "        vertical-align: top;\n",
       "    }\n",
       "\n",
       "    .dataframe thead th {\n",
       "        text-align: right;\n",
       "    }\n",
       "</style>\n",
       "<table border=\"1\" class=\"dataframe\">\n",
       "  <thead>\n",
       "    <tr style=\"text-align: right;\">\n",
       "      <th></th>\n",
       "      <th>person</th>\n",
       "      <th>label</th>\n",
       "    </tr>\n",
       "  </thead>\n",
       "  <tbody>\n",
       "    <tr>\n",
       "      <th>0</th>\n",
       "      <td>4886f805</td>\n",
       "      <td>0.031417</td>\n",
       "    </tr>\n",
       "    <tr>\n",
       "      <th>1</th>\n",
       "      <td>0297fc1e</td>\n",
       "      <td>0.505752</td>\n",
       "    </tr>\n",
       "    <tr>\n",
       "      <th>2</th>\n",
       "      <td>2d681dd8</td>\n",
       "      <td>0.129764</td>\n",
       "    </tr>\n",
       "    <tr>\n",
       "      <th>3</th>\n",
       "      <td>cccea85e</td>\n",
       "      <td>0.706335</td>\n",
       "    </tr>\n",
       "    <tr>\n",
       "      <th>4</th>\n",
       "      <td>4c8a8b93</td>\n",
       "      <td>0.598415</td>\n",
       "    </tr>\n",
       "  </tbody>\n",
       "</table>\n",
       "</div>"
      ],
      "text/plain": [
       "     person     label\n",
       "0  4886f805  0.031417\n",
       "1  0297fc1e  0.505752\n",
       "2  2d681dd8  0.129764\n",
       "3  cccea85e  0.706335\n",
       "4  4c8a8b93  0.598415"
      ]
     },
     "execution_count": 909,
     "metadata": {},
     "output_type": "execute_result"
    }
   ],
   "source": [
    "resultado.head()"
   ]
  },
  {
   "cell_type": "code",
   "execution_count": 910,
   "metadata": {},
   "outputs": [
    {
     "data": {
      "text/plain": [
       "False    19415\n",
       "Name: label, dtype: int64"
      ]
     },
     "execution_count": 910,
     "metadata": {},
     "output_type": "execute_result"
    }
   ],
   "source": [
    "resultado[\"label\"].isnull().value_counts()"
   ]
  },
  {
   "cell_type": "code",
   "execution_count": 911,
   "metadata": {},
   "outputs": [],
   "source": [
    "resultado.to_csv('resultadoRandomForestUnderSamplingUltimo.csv', index=False)"
   ]
  },
  {
   "cell_type": "code",
   "execution_count": null,
   "metadata": {},
   "outputs": [],
   "source": []
  },
  {
   "cell_type": "code",
   "execution_count": null,
   "metadata": {},
   "outputs": [],
   "source": []
  }
 ],
 "metadata": {
  "kernelspec": {
   "display_name": "Python 3",
   "language": "python",
   "name": "python3"
  },
  "language_info": {
   "codemirror_mode": {
    "name": "ipython",
    "version": 3
   },
   "file_extension": ".py",
   "mimetype": "text/x-python",
   "name": "python",
   "nbconvert_exporter": "python",
   "pygments_lexer": "ipython3",
   "version": "3.6.6"
  }
 },
 "nbformat": 4,
 "nbformat_minor": 2
}
