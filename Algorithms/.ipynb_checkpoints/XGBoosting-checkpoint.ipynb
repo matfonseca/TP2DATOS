{
 "cells": [
  {
   "cell_type": "code",
   "execution_count": 376,
   "metadata": {},
   "outputs": [],
   "source": [
    "from xgboost import XGBClassifier\n",
    "from sklearn.model_selection import train_test_split\n",
    "from sklearn.metrics import accuracy_score\n",
    "import pandas as pd\n",
    "import numpy as np\n",
    "import matplotlib.pyplot as plt\n",
    "\n",
    "from sklearn.model_selection import train_test_split\n",
    "from sklearn.model_selection import RandomizedSearchCV\n",
    "\n",
    "%matplotlib inline"
   ]
  },
  {
   "cell_type": "code",
   "execution_count": 463,
   "metadata": {},
   "outputs": [],
   "source": [
    "usersDataTrain = pd.read_csv(\"../setEntrenamiento.csv\")"
   ]
  },
  {
   "cell_type": "code",
   "execution_count": 464,
   "metadata": {},
   "outputs": [
    {
     "data": {
      "text/plain": [
       "Index(['Unnamed: 0', 'person', 'cant_seciones', 'event_checkout',\n",
       "       'event_conversion', 'event_ad campaign hit', 'event_lead', 'skus',\n",
       "       'screen_resolution', 'Busca_terminos_populares', 'Computer',\n",
       "       'Smartphone', 'otros', 'marca_apple', 'marca_asus', 'marca_lenovo',\n",
       "       'marca_lg', 'marca_motorola', 'marca_samsung', 'marca_sony',\n",
       "       'condition_Bom', 'condition_Bom - Sem Touch ID', 'condition_Excelente',\n",
       "       'condition_Muito Bom', 'version_galaxy j7', 'version_galaxy j5',\n",
       "       'version_galaxy s7', 'version_iphone 6', 'version_iphone 5s',\n",
       "       'version_iphone 6s', 'version_moto g4', 'version_moto g2',\n",
       "       'version_galaxy s6', 'storage_128GB', 'storage_16GB', 'storage_256GB',\n",
       "       'storage_32GB', 'storage_4GB', 'storage_512MB', 'storage_64GB',\n",
       "       'storage_8GB', 'Parte del dia_Madrugada', 'Parte del dia_Mañana',\n",
       "       'Parte del dia_Noche', 'Parte del dia_Tarde', 'campaign_source_google',\n",
       "       'campaign_source_criteo', 'campaign_source_rtbhouse', 'channel_Direct',\n",
       "       'channel_Paid', 'channel_Organic', 'channel_Referral', 'Brasilero',\n",
       "       'ventas_region', 'count_activity', 'conversiones_15lastdays',\n",
       "       'checkout_15lastdays', 'viewed_15lastday', 'color_Preto',\n",
       "       'color_Dourado', 'color_Branco', 'color_Cinza espacial',\n",
       "       'new_15lastdays', 'sku', 'cantidad_De_Compras_De_Mismo_Sku',\n",
       "       'Cantidad_De_Busquedas_Por_Termino', 'search_and_purchase',\n",
       "       'cantidad_de_Url_de_compra', 'cantidadDeStaticPage', 'Prob_Apple',\n",
       "       'Prob_Asus', 'Prob_Lenovo', 'Prob_lg', 'Prob_motorola', 'Prob_quantum',\n",
       "       'Prob_samsung', 'Prob_sony', 'sku_multiple', 'label', 'prob_marca',\n",
       "       'prob_model', 'prob_marca_checkout', 'usuario_Checkeador',\n",
       "       'usuario_susceptible_campaign', 'usuario_buscador',\n",
       "       'usuario_dubitativo', 'prob_marca_en_base_checkout',\n",
       "       'prob_model_en_base_checkout', 'sku_0.0', 'sku_2831.0', 'sku_3371.0',\n",
       "       'sku_6357.0', 'sku_6371.0', 'compraPopular'],\n",
       "      dtype='object')"
      ]
     },
     "execution_count": 464,
     "metadata": {},
     "output_type": "execute_result"
    }
   ],
   "source": [
    "usersDataTrain.columns"
   ]
  },
  {
   "cell_type": "code",
   "execution_count": 467,
   "metadata": {},
   "outputs": [],
   "source": [
    "total_train= usersDataTrain.drop(['Unnamed: 0', 'person', 'cant_seciones',\n",
    "       'event_ad campaign hit', 'event_lead', 'skus',\n",
    "       'screen_resolution', 'Busca_terminos_populares',\n",
    "       'otros', 'marca_apple', 'marca_asus', 'marca_lenovo',\n",
    "       'marca_lg', 'marca_motorola', 'marca_samsung', 'marca_sony',\n",
    "       'condition_Bom', 'condition_Bom - Sem Touch ID', 'condition_Excelente',\n",
    "       'condition_Muito Bom', 'version_galaxy j7', 'version_galaxy j5',\n",
    "       'version_galaxy s7', 'version_iphone 6', 'version_iphone 5s',\n",
    "       'version_iphone 6s', 'version_moto g4', 'version_moto g2',\n",
    "       'version_galaxy s6', 'storage_128GB', 'storage_16GB', 'storage_256GB',\n",
    "       'storage_32GB', 'storage_4GB', 'storage_512MB', 'storage_64GB',\n",
    "       'storage_8GB', 'Parte del dia_Madrugada', 'Parte del dia_Mañana',\n",
    "       'Parte del dia_Noche', 'Parte del dia_Tarde','channel_Direct',\n",
    "       'channel_Paid', 'channel_Organic', 'channel_Referral', 'Brasilero',\n",
    "       'color_Preto',\n",
    "       'color_Dourado', 'color_Branco', 'color_Cinza espacial',\n",
    "       'sku', 'cantidad_De_Compras_De_Mismo_Sku',\n",
    "       'Cantidad_De_Busquedas_Por_Termino', 'search_and_purchase',\n",
    "       'cantidad_de_Url_de_compra', 'cantidadDeStaticPage', 'Prob_Apple',\n",
    "       'Prob_Asus', 'Prob_Lenovo', 'Prob_lg', 'Prob_motorola', 'Prob_quantum',\n",
    "       'Prob_samsung', 'Prob_sony', 'sku_multiple', 'prob_marca',\n",
    "       'prob_model', 'prob_marca_checkout', 'usuario_Checkeador',\n",
    "       'usuario_susceptible_campaign', 'usuario_buscador',\n",
    "       'usuario_dubitativo', 'prob_marca_en_base_checkout',\n",
    "       'prob_model_en_base_checkout', 'sku_0.0', 'sku_2831.0', 'sku_3371.0',\n",
    "       'sku_6357.0', 'sku_6371.0', 'compraPopular'],axis=1)"
   ]
  },
  {
   "cell_type": "code",
   "execution_count": 468,
   "metadata": {},
   "outputs": [
    {
     "data": {
      "text/plain": [
       "Index(['event_checkout', 'event_conversion', 'Computer', 'Smartphone',\n",
       "       'campaign_source_google', 'campaign_source_criteo',\n",
       "       'campaign_source_rtbhouse', 'ventas_region', 'count_activity',\n",
       "       'conversiones_15lastdays', 'checkout_15lastdays', 'viewed_15lastday',\n",
       "       'new_15lastdays', 'label'],\n",
       "      dtype='object')"
      ]
     },
     "execution_count": 468,
     "metadata": {},
     "output_type": "execute_result"
    }
   ],
   "source": [
    "total_train.columns"
   ]
  },
  {
   "cell_type": "code",
   "execution_count": 469,
   "metadata": {},
   "outputs": [
    {
     "data": {
      "text/html": [
       "<div>\n",
       "<style scoped>\n",
       "    .dataframe tbody tr th:only-of-type {\n",
       "        vertical-align: middle;\n",
       "    }\n",
       "\n",
       "    .dataframe tbody tr th {\n",
       "        vertical-align: top;\n",
       "    }\n",
       "\n",
       "    .dataframe thead th {\n",
       "        text-align: right;\n",
       "    }\n",
       "</style>\n",
       "<table border=\"1\" class=\"dataframe\">\n",
       "  <thead>\n",
       "    <tr style=\"text-align: right;\">\n",
       "      <th></th>\n",
       "      <th>event_checkout</th>\n",
       "      <th>event_conversion</th>\n",
       "      <th>Computer</th>\n",
       "      <th>Smartphone</th>\n",
       "      <th>campaign_source_google</th>\n",
       "      <th>campaign_source_criteo</th>\n",
       "      <th>campaign_source_rtbhouse</th>\n",
       "      <th>ventas_region</th>\n",
       "      <th>count_activity</th>\n",
       "      <th>conversiones_15lastdays</th>\n",
       "      <th>checkout_15lastdays</th>\n",
       "      <th>viewed_15lastday</th>\n",
       "      <th>new_15lastdays</th>\n",
       "      <th>label</th>\n",
       "    </tr>\n",
       "  </thead>\n",
       "  <tbody>\n",
       "    <tr>\n",
       "      <th>0</th>\n",
       "      <td>3.0</td>\n",
       "      <td>0.0</td>\n",
       "      <td>1.0</td>\n",
       "      <td>0.0</td>\n",
       "      <td>0.0</td>\n",
       "      <td>0.0</td>\n",
       "      <td>0.0</td>\n",
       "      <td>0.0</td>\n",
       "      <td>6.0</td>\n",
       "      <td>0.0</td>\n",
       "      <td>3.0</td>\n",
       "      <td>0.0</td>\n",
       "      <td>1.0</td>\n",
       "      <td>0</td>\n",
       "    </tr>\n",
       "    <tr>\n",
       "      <th>1</th>\n",
       "      <td>1.0</td>\n",
       "      <td>0.0</td>\n",
       "      <td>0.0</td>\n",
       "      <td>1.0</td>\n",
       "      <td>1.0</td>\n",
       "      <td>0.0</td>\n",
       "      <td>0.0</td>\n",
       "      <td>0.0</td>\n",
       "      <td>17.0</td>\n",
       "      <td>0.0</td>\n",
       "      <td>1.0</td>\n",
       "      <td>3.0</td>\n",
       "      <td>1.0</td>\n",
       "      <td>0</td>\n",
       "    </tr>\n",
       "    <tr>\n",
       "      <th>2</th>\n",
       "      <td>1.0</td>\n",
       "      <td>0.0</td>\n",
       "      <td>0.0</td>\n",
       "      <td>1.0</td>\n",
       "      <td>5.0</td>\n",
       "      <td>0.0</td>\n",
       "      <td>0.0</td>\n",
       "      <td>0.0</td>\n",
       "      <td>19.0</td>\n",
       "      <td>0.0</td>\n",
       "      <td>1.0</td>\n",
       "      <td>4.0</td>\n",
       "      <td>1.0</td>\n",
       "      <td>0</td>\n",
       "    </tr>\n",
       "    <tr>\n",
       "      <th>3</th>\n",
       "      <td>15.0</td>\n",
       "      <td>2.0</td>\n",
       "      <td>1.0</td>\n",
       "      <td>0.0</td>\n",
       "      <td>17.0</td>\n",
       "      <td>5.0</td>\n",
       "      <td>7.0</td>\n",
       "      <td>1213.0</td>\n",
       "      <td>202.0</td>\n",
       "      <td>1.0</td>\n",
       "      <td>3.0</td>\n",
       "      <td>89.0</td>\n",
       "      <td>0.0</td>\n",
       "      <td>0</td>\n",
       "    </tr>\n",
       "    <tr>\n",
       "      <th>4</th>\n",
       "      <td>2.0</td>\n",
       "      <td>1.0</td>\n",
       "      <td>0.0</td>\n",
       "      <td>0.0</td>\n",
       "      <td>0.0</td>\n",
       "      <td>0.0</td>\n",
       "      <td>0.0</td>\n",
       "      <td>64.0</td>\n",
       "      <td>7.0</td>\n",
       "      <td>1.0</td>\n",
       "      <td>2.0</td>\n",
       "      <td>2.0</td>\n",
       "      <td>0.0</td>\n",
       "      <td>0</td>\n",
       "    </tr>\n",
       "  </tbody>\n",
       "</table>\n",
       "</div>"
      ],
      "text/plain": [
       "   event_checkout  event_conversion  Computer  Smartphone  \\\n",
       "0             3.0               0.0       1.0         0.0   \n",
       "1             1.0               0.0       0.0         1.0   \n",
       "2             1.0               0.0       0.0         1.0   \n",
       "3            15.0               2.0       1.0         0.0   \n",
       "4             2.0               1.0       0.0         0.0   \n",
       "\n",
       "   campaign_source_google  campaign_source_criteo  campaign_source_rtbhouse  \\\n",
       "0                     0.0                     0.0                       0.0   \n",
       "1                     1.0                     0.0                       0.0   \n",
       "2                     5.0                     0.0                       0.0   \n",
       "3                    17.0                     5.0                       7.0   \n",
       "4                     0.0                     0.0                       0.0   \n",
       "\n",
       "   ventas_region  count_activity  conversiones_15lastdays  \\\n",
       "0            0.0             6.0                      0.0   \n",
       "1            0.0            17.0                      0.0   \n",
       "2            0.0            19.0                      0.0   \n",
       "3         1213.0           202.0                      1.0   \n",
       "4           64.0             7.0                      1.0   \n",
       "\n",
       "   checkout_15lastdays  viewed_15lastday  new_15lastdays  label  \n",
       "0                  3.0               0.0             1.0      0  \n",
       "1                  1.0               3.0             1.0      0  \n",
       "2                  1.0               4.0             1.0      0  \n",
       "3                  3.0              89.0             0.0      0  \n",
       "4                  2.0               2.0             0.0      0  "
      ]
     },
     "execution_count": 469,
     "metadata": {},
     "output_type": "execute_result"
    }
   ],
   "source": [
    "total_train.head()"
   ]
  },
  {
   "cell_type": "code",
   "execution_count": 470,
   "metadata": {},
   "outputs": [
    {
     "data": {
      "text/plain": [
       "1    980\n",
       "0    980\n",
       "Name: label, dtype: int64"
      ]
     },
     "execution_count": 470,
     "metadata": {},
     "output_type": "execute_result"
    }
   ],
   "source": [
    "users1s = total_train[total_train[\"label\"] == 1]\n",
    "users0s = total_train[total_train[\"label\"] == 0].head(980)\n",
    "total_train = pd.concat([users0s,users1s], ignore_index=True)\n",
    "\n",
    "total_train[\"label\"].value_counts()"
   ]
  },
  {
   "cell_type": "code",
   "execution_count": 471,
   "metadata": {},
   "outputs": [],
   "source": [
    "from sklearn.model_selection import train_test_split\n",
    "X_train, X_test, y_train, y_test = train_test_split(total_train.drop(['label'], axis=1).values, total_train[\"label\"] , test_size=0.20, random_state=75)\n",
    "\n",
    "\n"
   ]
  },
  {
   "cell_type": "code",
   "execution_count": 472,
   "metadata": {},
   "outputs": [],
   "source": [
    "from sklearn.preprocessing import MinMaxScaler\n",
    "\n",
    "scaler = MinMaxScaler()\n",
    "X_train_scale = scaler.fit_transform(X_train)\n",
    "X_test_scale = scaler.transform(X_test)"
   ]
  },
  {
   "cell_type": "code",
   "execution_count": 473,
   "metadata": {},
   "outputs": [],
   "source": [
    "parameters = {\n",
    " \"n_estimators\":[50,100,150,200,250,300,350,400,450,500,550,600,650,700,750,800],\n",
    " \"max_depth\":[2,3,4,5,6,7,8,9,10,11,12,13,14],\n",
    " \"min_child_weight\":[2,3,4,5,6,7,8],\n",
    " \"colsample_bytree\":[0.2,0.6,0.8],\n",
    " \"colsample_bylevel\":[0.2,0.6,0.8],\n",
    " \"gamma\":[i/10.0 for i in range(0,10)],\n",
    " \"silent\":[True,False],\n",
    " \"learning_rate\":[0.01, 0.025, 0.05, 0.075, 0.1, 0.15, 0.2],\n",
    "}\n"
   ]
  },
  {
   "cell_type": "code",
   "execution_count": 507,
   "metadata": {},
   "outputs": [
    {
     "name": "stdout",
     "output_type": "stream",
     "text": [
      "Fitting 3 folds for each of 300 candidates, totalling 900 fits\n"
     ]
    },
    {
     "name": "stderr",
     "output_type": "stream",
     "text": [
      "[Parallel(n_jobs=-1)]: Using backend LokyBackend with 8 concurrent workers.\n",
      "[Parallel(n_jobs=-1)]: Done  25 tasks      | elapsed:    5.5s\n",
      "[Parallel(n_jobs=-1)]: Done 146 tasks      | elapsed:   13.8s\n",
      "[Parallel(n_jobs=-1)]: Done 349 tasks      | elapsed:   25.2s\n",
      "[Parallel(n_jobs=-1)]: Done 632 tasks      | elapsed:   39.5s\n"
     ]
    },
    {
     "name": "stdout",
     "output_type": "stream",
     "text": [
      "[02:30:55] src/tree/updater_prune.cc:74: tree pruning end, 1 roots, 2 extra nodes, 0 pruned nodes, max_depth=1\n",
      "[02:30:55] src/tree/updater_prune.cc:74: tree pruning end, 1 roots, 2 extra nodes, 0 pruned nodes, max_depth=1\n",
      "[02:30:55] src/tree/updater_prune.cc:74: tree pruning end, 1 roots, 14 extra nodes, 2 pruned nodes, max_depth=5\n",
      "[02:30:55] src/tree/updater_prune.cc:74: tree pruning end, 1 roots, 2 extra nodes, 0 pruned nodes, max_depth=1\n",
      "[02:30:55] src/tree/updater_prune.cc:74: tree pruning end, 1 roots, 8 extra nodes, 0 pruned nodes, max_depth=3\n",
      "[02:30:55] src/tree/updater_prune.cc:74: tree pruning end, 1 roots, 30 extra nodes, 4 pruned nodes, max_depth=6\n",
      "[02:30:55] src/tree/updater_prune.cc:74: tree pruning end, 1 roots, 6 extra nodes, 0 pruned nodes, max_depth=2\n",
      "[02:30:55] src/tree/updater_prune.cc:74: tree pruning end, 1 roots, 6 extra nodes, 0 pruned nodes, max_depth=3\n",
      "[02:30:55] src/tree/updater_prune.cc:74: tree pruning end, 1 roots, 8 extra nodes, 0 pruned nodes, max_depth=3\n",
      "[02:30:55] src/tree/updater_prune.cc:74: tree pruning end, 1 roots, 4 extra nodes, 0 pruned nodes, max_depth=2\n",
      "[02:30:55] src/tree/updater_prune.cc:74: tree pruning end, 1 roots, 6 extra nodes, 2 pruned nodes, max_depth=3\n",
      "[02:30:55] src/tree/updater_prune.cc:74: tree pruning end, 1 roots, 16 extra nodes, 0 pruned nodes, max_depth=5\n",
      "[02:30:55] src/tree/updater_prune.cc:74: tree pruning end, 1 roots, 10 extra nodes, 0 pruned nodes, max_depth=4\n",
      "[02:30:55] src/tree/updater_prune.cc:74: tree pruning end, 1 roots, 10 extra nodes, 0 pruned nodes, max_depth=3\n",
      "[02:30:55] src/tree/updater_prune.cc:74: tree pruning end, 1 roots, 4 extra nodes, 2 pruned nodes, max_depth=2\n",
      "[02:30:55] src/tree/updater_prune.cc:74: tree pruning end, 1 roots, 6 extra nodes, 0 pruned nodes, max_depth=2\n",
      "[02:30:55] src/tree/updater_prune.cc:74: tree pruning end, 1 roots, 2 extra nodes, 0 pruned nodes, max_depth=1\n",
      "[02:30:55] src/tree/updater_prune.cc:74: tree pruning end, 1 roots, 6 extra nodes, 0 pruned nodes, max_depth=2\n",
      "[02:30:55] src/tree/updater_prune.cc:74: tree pruning end, 1 roots, 6 extra nodes, 0 pruned nodes, max_depth=2\n",
      "[02:30:55] src/tree/updater_prune.cc:74: tree pruning end, 1 roots, 2 extra nodes, 6 pruned nodes, max_depth=1\n",
      "[02:30:55] src/tree/updater_prune.cc:74: tree pruning end, 1 roots, 6 extra nodes, 0 pruned nodes, max_depth=2\n",
      "[02:30:55] src/tree/updater_prune.cc:74: tree pruning end, 1 roots, 10 extra nodes, 2 pruned nodes, max_depth=5\n",
      "[02:30:55] src/tree/updater_prune.cc:74: tree pruning end, 1 roots, 6 extra nodes, 0 pruned nodes, max_depth=2\n",
      "[02:30:55] src/tree/updater_prune.cc:74: tree pruning end, 1 roots, 2 extra nodes, 0 pruned nodes, max_depth=1\n",
      "[02:30:55] src/tree/updater_prune.cc:74: tree pruning end, 1 roots, 8 extra nodes, 2 pruned nodes, max_depth=4\n",
      "[02:30:55] src/tree/updater_prune.cc:74: tree pruning end, 1 roots, 12 extra nodes, 2 pruned nodes, max_depth=4\n",
      "[02:30:55] src/tree/updater_prune.cc:74: tree pruning end, 1 roots, 16 extra nodes, 8 pruned nodes, max_depth=5\n",
      "[02:30:55] src/tree/updater_prune.cc:74: tree pruning end, 1 roots, 6 extra nodes, 0 pruned nodes, max_depth=2\n",
      "[02:30:55] src/tree/updater_prune.cc:74: tree pruning end, 1 roots, 2 extra nodes, 0 pruned nodes, max_depth=1\n",
      "[02:30:55] src/tree/updater_prune.cc:74: tree pruning end, 1 roots, 12 extra nodes, 2 pruned nodes, max_depth=6\n",
      "[02:30:55] src/tree/updater_prune.cc:74: tree pruning end, 1 roots, 6 extra nodes, 0 pruned nodes, max_depth=2\n",
      "[02:30:55] src/tree/updater_prune.cc:74: tree pruning end, 1 roots, 10 extra nodes, 2 pruned nodes, max_depth=3\n",
      "[02:30:55] src/tree/updater_prune.cc:74: tree pruning end, 1 roots, 26 extra nodes, 2 pruned nodes, max_depth=5\n",
      "[02:30:55] src/tree/updater_prune.cc:74: tree pruning end, 1 roots, 6 extra nodes, 0 pruned nodes, max_depth=2\n",
      "[02:30:55] src/tree/updater_prune.cc:74: tree pruning end, 1 roots, 12 extra nodes, 10 pruned nodes, max_depth=4\n",
      "[02:30:55] src/tree/updater_prune.cc:74: tree pruning end, 1 roots, 14 extra nodes, 2 pruned nodes, max_depth=5\n",
      "[02:30:55] src/tree/updater_prune.cc:74: tree pruning end, 1 roots, 14 extra nodes, 2 pruned nodes, max_depth=4\n",
      "[02:30:55] src/tree/updater_prune.cc:74: tree pruning end, 1 roots, 2 extra nodes, 0 pruned nodes, max_depth=1\n",
      "[02:30:55] src/tree/updater_prune.cc:74: tree pruning end, 1 roots, 4 extra nodes, 0 pruned nodes, max_depth=2\n",
      "[02:30:55] src/tree/updater_prune.cc:74: tree pruning end, 1 roots, 12 extra nodes, 4 pruned nodes, max_depth=5\n",
      "[02:30:55] src/tree/updater_prune.cc:74: tree pruning end, 1 roots, 6 extra nodes, 6 pruned nodes, max_depth=3\n",
      "[02:30:55] src/tree/updater_prune.cc:74: tree pruning end, 1 roots, 16 extra nodes, 0 pruned nodes, max_depth=4\n",
      "[02:30:55] src/tree/updater_prune.cc:74: tree pruning end, 1 roots, 12 extra nodes, 2 pruned nodes, max_depth=3\n",
      "[02:30:55] src/tree/updater_prune.cc:74: tree pruning end, 1 roots, 6 extra nodes, 0 pruned nodes, max_depth=2\n",
      "[02:30:55] src/tree/updater_prune.cc:74: tree pruning end, 1 roots, 4 extra nodes, 2 pruned nodes, max_depth=2\n",
      "[02:30:55] src/tree/updater_prune.cc:74: tree pruning end, 1 roots, 12 extra nodes, 2 pruned nodes, max_depth=4\n",
      "[02:30:55] src/tree/updater_prune.cc:74: tree pruning end, 1 roots, 12 extra nodes, 8 pruned nodes, max_depth=3\n",
      "[02:30:55] src/tree/updater_prune.cc:74: tree pruning end, 1 roots, 32 extra nodes, 6 pruned nodes, max_depth=5\n",
      "[02:30:55] src/tree/updater_prune.cc:74: tree pruning end, 1 roots, 8 extra nodes, 6 pruned nodes, max_depth=4\n",
      "[02:30:55] src/tree/updater_prune.cc:74: tree pruning end, 1 roots, 12 extra nodes, 4 pruned nodes, max_depth=5\n"
     ]
    },
    {
     "name": "stderr",
     "output_type": "stream",
     "text": [
      "[Parallel(n_jobs=-1)]: Done 900 out of 900 | elapsed:   54.1s finished\n"
     ]
    },
    {
     "data": {
      "text/plain": [
       "RandomizedSearchCV(cv=3, error_score='raise-deprecating',\n",
       "          estimator=XGBClassifier(base_score=0.5, booster='gbtree', colsample_bylevel=1,\n",
       "       colsample_bytree=1, gamma=0, learning_rate=0.1, max_delta_step=0,\n",
       "       max_depth=3, min_child_weight=1, missing=None, n_estimators=100,\n",
       "       n_jobs=1, nthread=None, objective='binary:logistic', random_state=0,\n",
       "       reg_alpha=0, reg_lambda=1, scale_pos_weight=1, seed=None,\n",
       "       silent=True, subsample=1),\n",
       "          fit_params=None, iid='warn', n_iter=300, n_jobs=-1,\n",
       "          param_distributions={'n_estimators': [50, 100, 150, 200, 250, 300, 350, 400, 450, 500, 550, 600, 650, 700, 750, 800], 'max_depth': [2, 3, 4, 5, 6, 7, 8, 9, 10, 11, 12, 13, 14], 'min_child_weight': [2, 3, 4, 5, 6, 7, 8], 'colsample_bytree': [0.2, 0.6, 0.8], 'colsample_bylevel': [0.2, 0.6, 0.8], 'gamma': [0.0, 0.1, 0.2, 0.3, 0.4, 0.5, 0.6, 0.7, 0.8, 0.9], 'silent': [True, False], 'learning_rate': [0.01, 0.025, 0.05, 0.075, 0.1, 0.15, 0.2]},\n",
       "          pre_dispatch='2*n_jobs', random_state=42, refit=True,\n",
       "          return_train_score='warn', scoring=make_scorer(roc_auc_score),\n",
       "          verbose=2)"
      ]
     },
     "execution_count": 507,
     "metadata": {},
     "output_type": "execute_result"
    }
   ],
   "source": [
    "# Use the random grid to search for best hyperparameters\n",
    "# First create the base model to tune\n",
    "# Create a random forest Classifier. By convention, clf means 'Classifier'\n",
    "\n",
    "clf =XGBClassifier()\n",
    "\n",
    "# Random search of parameters, using 3 fold cross validation, \n",
    "# search across 100 different combinations, and use all available cores\n",
    "from sklearn.metrics import make_scorer, roc_auc_score\n",
    "auc = make_scorer(roc_auc_score)\n",
    "\n",
    "\n",
    "rf_random = RandomizedSearchCV(estimator = clf, param_distributions = parameters, n_iter = 300, cv = 3, verbose=2, random_state=42, n_jobs = -1,scoring = auc)\n",
    "# Fit the random search model\n",
    "rf_random.fit(X_train_scale, y_train)"
   ]
  },
  {
   "cell_type": "code",
   "execution_count": 508,
   "metadata": {},
   "outputs": [
    {
     "data": {
      "text/plain": [
       "{'silent': False,\n",
       " 'n_estimators': 50,\n",
       " 'min_child_weight': 4,\n",
       " 'max_depth': 6,\n",
       " 'learning_rate': 0.1,\n",
       " 'gamma': 0.8,\n",
       " 'colsample_bytree': 0.2,\n",
       " 'colsample_bylevel': 0.6}"
      ]
     },
     "execution_count": 508,
     "metadata": {},
     "output_type": "execute_result"
    }
   ],
   "source": [
    "rf_random.best_params_"
   ]
  },
  {
   "cell_type": "code",
   "execution_count": 509,
   "metadata": {},
   "outputs": [],
   "source": [
    "clf =XGBClassifier(\n",
    " silent= False,\n",
    " n_estimators= 50,\n",
    " min_child_weight= 4,\n",
    " max_depth= 6, \n",
    " learning_rate= 0.1,\n",
    " gamma= 0.8,\n",
    " colsample_bytree= 0.2,\n",
    " colsample_bylevel= 0.6\n",
    ")\n"
   ]
  },
  {
   "cell_type": "code",
   "execution_count": 510,
   "metadata": {},
   "outputs": [
    {
     "name": "stdout",
     "output_type": "stream",
     "text": [
      "[02:31:19] src/tree/updater_prune.cc:74: tree pruning end, 1 roots, 2 extra nodes, 0 pruned nodes, max_depth=1\n",
      "[02:31:19] src/tree/updater_prune.cc:74: tree pruning end, 1 roots, 2 extra nodes, 0 pruned nodes, max_depth=1\n",
      "[02:31:19] src/tree/updater_prune.cc:74: tree pruning end, 1 roots, 14 extra nodes, 2 pruned nodes, max_depth=5\n",
      "[02:31:19] src/tree/updater_prune.cc:74: tree pruning end, 1 roots, 2 extra nodes, 0 pruned nodes, max_depth=1\n",
      "[02:31:19] src/tree/updater_prune.cc:74: tree pruning end, 1 roots, 8 extra nodes, 0 pruned nodes, max_depth=3\n",
      "[02:31:19] src/tree/updater_prune.cc:74: tree pruning end, 1 roots, 30 extra nodes, 4 pruned nodes, max_depth=6\n",
      "[02:31:19] src/tree/updater_prune.cc:74: tree pruning end, 1 roots, 6 extra nodes, 0 pruned nodes, max_depth=2\n",
      "[02:31:19] src/tree/updater_prune.cc:74: tree pruning end, 1 roots, 6 extra nodes, 0 pruned nodes, max_depth=3\n",
      "[02:31:19] src/tree/updater_prune.cc:74: tree pruning end, 1 roots, 8 extra nodes, 0 pruned nodes, max_depth=3\n",
      "[02:31:19] src/tree/updater_prune.cc:74: tree pruning end, 1 roots, 4 extra nodes, 0 pruned nodes, max_depth=2\n",
      "[02:31:19] src/tree/updater_prune.cc:74: tree pruning end, 1 roots, 6 extra nodes, 2 pruned nodes, max_depth=3\n",
      "[02:31:19] src/tree/updater_prune.cc:74: tree pruning end, 1 roots, 16 extra nodes, 0 pruned nodes, max_depth=5\n",
      "[02:31:19] src/tree/updater_prune.cc:74: tree pruning end, 1 roots, 10 extra nodes, 0 pruned nodes, max_depth=4\n",
      "[02:31:19] src/tree/updater_prune.cc:74: tree pruning end, 1 roots, 10 extra nodes, 0 pruned nodes, max_depth=3\n",
      "[02:31:19] src/tree/updater_prune.cc:74: tree pruning end, 1 roots, 4 extra nodes, 2 pruned nodes, max_depth=2\n",
      "[02:31:19] src/tree/updater_prune.cc:74: tree pruning end, 1 roots, 6 extra nodes, 0 pruned nodes, max_depth=2\n",
      "[02:31:19] src/tree/updater_prune.cc:74: tree pruning end, 1 roots, 2 extra nodes, 0 pruned nodes, max_depth=1\n",
      "[02:31:19] src/tree/updater_prune.cc:74: tree pruning end, 1 roots, 6 extra nodes, 0 pruned nodes, max_depth=2\n",
      "[02:31:19] src/tree/updater_prune.cc:74: tree pruning end, 1 roots, 6 extra nodes, 0 pruned nodes, max_depth=2\n",
      "[02:31:19] src/tree/updater_prune.cc:74: tree pruning end, 1 roots, 2 extra nodes, 6 pruned nodes, max_depth=1\n",
      "[02:31:19] src/tree/updater_prune.cc:74: tree pruning end, 1 roots, 6 extra nodes, 0 pruned nodes, max_depth=2\n",
      "[02:31:19] src/tree/updater_prune.cc:74: tree pruning end, 1 roots, 10 extra nodes, 2 pruned nodes, max_depth=5\n",
      "[02:31:19] src/tree/updater_prune.cc:74: tree pruning end, 1 roots, 6 extra nodes, 0 pruned nodes, max_depth=2\n",
      "[02:31:19] src/tree/updater_prune.cc:74: tree pruning end, 1 roots, 2 extra nodes, 0 pruned nodes, max_depth=1\n",
      "[02:31:19] src/tree/updater_prune.cc:74: tree pruning end, 1 roots, 8 extra nodes, 2 pruned nodes, max_depth=4\n",
      "[02:31:19] src/tree/updater_prune.cc:74: tree pruning end, 1 roots, 12 extra nodes, 2 pruned nodes, max_depth=4\n",
      "[02:31:19] src/tree/updater_prune.cc:74: tree pruning end, 1 roots, 16 extra nodes, 8 pruned nodes, max_depth=5\n",
      "[02:31:19] src/tree/updater_prune.cc:74: tree pruning end, 1 roots, 6 extra nodes, 0 pruned nodes, max_depth=2\n",
      "[02:31:19] src/tree/updater_prune.cc:74: tree pruning end, 1 roots, 2 extra nodes, 0 pruned nodes, max_depth=1\n",
      "[02:31:19] src/tree/updater_prune.cc:74: tree pruning end, 1 roots, 12 extra nodes, 2 pruned nodes, max_depth=6\n",
      "[02:31:19] src/tree/updater_prune.cc:74: tree pruning end, 1 roots, 6 extra nodes, 0 pruned nodes, max_depth=2\n",
      "[02:31:19] src/tree/updater_prune.cc:74: tree pruning end, 1 roots, 10 extra nodes, 2 pruned nodes, max_depth=3\n",
      "[02:31:19] src/tree/updater_prune.cc:74: tree pruning end, 1 roots, 26 extra nodes, 2 pruned nodes, max_depth=5\n",
      "[02:31:19] src/tree/updater_prune.cc:74: tree pruning end, 1 roots, 6 extra nodes, 0 pruned nodes, max_depth=2\n",
      "[02:31:19] src/tree/updater_prune.cc:74: tree pruning end, 1 roots, 12 extra nodes, 10 pruned nodes, max_depth=4\n",
      "[02:31:19] src/tree/updater_prune.cc:74: tree pruning end, 1 roots, 14 extra nodes, 2 pruned nodes, max_depth=5\n",
      "[02:31:19] src/tree/updater_prune.cc:74: tree pruning end, 1 roots, 14 extra nodes, 2 pruned nodes, max_depth=4\n",
      "[02:31:19] src/tree/updater_prune.cc:74: tree pruning end, 1 roots, 2 extra nodes, 0 pruned nodes, max_depth=1\n",
      "[02:31:19] src/tree/updater_prune.cc:74: tree pruning end, 1 roots, 4 extra nodes, 0 pruned nodes, max_depth=2\n",
      "[02:31:19] src/tree/updater_prune.cc:74: tree pruning end, 1 roots, 12 extra nodes, 4 pruned nodes, max_depth=5\n",
      "[02:31:19] src/tree/updater_prune.cc:74: tree pruning end, 1 roots, 6 extra nodes, 6 pruned nodes, max_depth=3\n",
      "[02:31:19] src/tree/updater_prune.cc:74: tree pruning end, 1 roots, 16 extra nodes, 0 pruned nodes, max_depth=4\n",
      "[02:31:19] src/tree/updater_prune.cc:74: tree pruning end, 1 roots, 12 extra nodes, 2 pruned nodes, max_depth=3\n",
      "[02:31:19] src/tree/updater_prune.cc:74: tree pruning end, 1 roots, 6 extra nodes, 0 pruned nodes, max_depth=2\n",
      "[02:31:19] src/tree/updater_prune.cc:74: tree pruning end, 1 roots, 4 extra nodes, 2 pruned nodes, max_depth=2\n",
      "[02:31:19] src/tree/updater_prune.cc:74: tree pruning end, 1 roots, 12 extra nodes, 2 pruned nodes, max_depth=4\n",
      "[02:31:19] src/tree/updater_prune.cc:74: tree pruning end, 1 roots, 12 extra nodes, 8 pruned nodes, max_depth=3\n",
      "[02:31:19] src/tree/updater_prune.cc:74: tree pruning end, 1 roots, 32 extra nodes, 6 pruned nodes, max_depth=5\n",
      "[02:31:19] src/tree/updater_prune.cc:74: tree pruning end, 1 roots, 8 extra nodes, 6 pruned nodes, max_depth=4\n",
      "[02:31:19] src/tree/updater_prune.cc:74: tree pruning end, 1 roots, 12 extra nodes, 4 pruned nodes, max_depth=5\n"
     ]
    },
    {
     "data": {
      "text/plain": [
       "XGBClassifier(base_score=0.5, booster='gbtree', colsample_bylevel=0.6,\n",
       "       colsample_bytree=0.2, gamma=0.8, learning_rate=0.1,\n",
       "       max_delta_step=0, max_depth=6, min_child_weight=4, missing=None,\n",
       "       n_estimators=50, n_jobs=1, nthread=None,\n",
       "       objective='binary:logistic', random_state=0, reg_alpha=0,\n",
       "       reg_lambda=1, scale_pos_weight=1, seed=None, silent=False,\n",
       "       subsample=1)"
      ]
     },
     "execution_count": 510,
     "metadata": {},
     "output_type": "execute_result"
    }
   ],
   "source": [
    "clf.fit(X_train_scale, y_train)"
   ]
  },
  {
   "cell_type": "code",
   "execution_count": 511,
   "metadata": {},
   "outputs": [],
   "source": [
    "result = clf.predict_proba(X_test_scale)"
   ]
  },
  {
   "cell_type": "code",
   "execution_count": 512,
   "metadata": {},
   "outputs": [],
   "source": [
    "result2 = []\n",
    "for elem in result:\n",
    "    result2.append(elem[1])"
   ]
  },
  {
   "cell_type": "code",
   "execution_count": 513,
   "metadata": {},
   "outputs": [
    {
     "data": {
      "text/plain": [
       "0.88394042752623225"
      ]
     },
     "execution_count": 513,
     "metadata": {},
     "output_type": "execute_result"
    }
   ],
   "source": [
    "from sklearn import metrics\n",
    "pred = result2\n",
    "fpr, tpr, thresholds = metrics.roc_curve(y_test, pred)\n",
    "metrics.auc(fpr, tpr)"
   ]
  },
  {
   "cell_type": "code",
   "execution_count": 514,
   "metadata": {},
   "outputs": [
    {
     "data": {
      "image/png": "[encoded data removed]",
      "text/plain": [
       "<Figure size 432x288 with 1 Axes>"
      ]
     },
     "metadata": {
      "needs_background": "light"
     },
     "output_type": "display_data"
    }
   ],
   "source": [
    "from xgboost import plot_importance\n",
    "from matplotlib import pyplot\n",
    "from matplotlib.pyplot import figure\n",
    "\n",
    "\n",
    "plot_importance(clf)\n",
    "pyplot.show()"
   ]
  },
  {
   "cell_type": "code",
   "execution_count": 515,
   "metadata": {},
   "outputs": [
    {
     "name": "stdout",
     "output_type": "stream",
     "text": [
      "[ 0.09649123  0.05263158  0.0745614   0.03947368  0.1008772   0.06578948\n",
      "  0.05701754  0.05701754  0.12280702  0.07017544  0.19736843  0.01754386\n",
      "  0.04824561]\n"
     ]
    },
    {
     "data": {
      "image/png": "[encoded data removed]",
      "text/plain": [
       "<Figure size 432x288 with 1 Axes>"
      ]
     },
     "metadata": {
      "needs_background": "light"
     },
     "output_type": "display_data"
    }
   ],
   "source": [
    "from matplotlib import pyplot\n",
    "# feature importance\n",
    "print(clf.feature_importances_)\n",
    "# plot\n",
    "pyplot.bar(range(len(clf.feature_importances_)), clf.feature_importances_)\n",
    "pyplot.show()"
   ]
  },
  {
   "cell_type": "code",
   "execution_count": 516,
   "metadata": {},
   "outputs": [],
   "source": [
    "test = pd.read_csv('../setTest.csv')"
   ]
  },
  {
   "cell_type": "code",
   "execution_count": 517,
   "metadata": {},
   "outputs": [],
   "source": [
    "person = test[\"person\"]"
   ]
  },
  {
   "cell_type": "code",
   "execution_count": 518,
   "metadata": {},
   "outputs": [
    {
     "data": {
      "text/plain": [
       "0    4886f805\n",
       "1    0297fc1e\n",
       "2    2d681dd8\n",
       "3    cccea85e\n",
       "4    4c8a8b93\n",
       "Name: person, dtype: object"
      ]
     },
     "execution_count": 518,
     "metadata": {},
     "output_type": "execute_result"
    }
   ],
   "source": [
    "person.head()"
   ]
  },
  {
   "cell_type": "code",
   "execution_count": 519,
   "metadata": {},
   "outputs": [],
   "source": [
    "test = test.drop(['Unnamed: 0', 'person', 'cant_seciones',\n",
    "       'event_ad campaign hit', 'event_lead', 'skus',\n",
    "       'screen_resolution', 'Busca_terminos_populares',\n",
    "       'otros', 'marca_apple', 'marca_asus', 'marca_lenovo',\n",
    "       'marca_lg', 'marca_motorola', 'marca_samsung', 'marca_sony',\n",
    "       'condition_Bom', 'condition_Bom - Sem Touch ID', 'condition_Excelente',\n",
    "       'condition_Muito Bom', 'version_galaxy j7', 'version_galaxy j5',\n",
    "       'version_galaxy s7', 'version_iphone 6', 'version_iphone 5s',\n",
    "       'version_iphone 6s', 'version_moto g4', 'version_moto g2',\n",
    "       'version_galaxy s6', 'storage_128GB', 'storage_16GB', 'storage_256GB',\n",
    "       'storage_32GB', 'storage_4GB', 'storage_512MB', 'storage_64GB',\n",
    "       'storage_8GB', 'Parte del dia_Madrugada', 'Parte del dia_Mañana',\n",
    "       'Parte del dia_Noche', 'Parte del dia_Tarde','channel_Direct',\n",
    "       'channel_Paid', 'channel_Organic', 'channel_Referral', 'Brasilero',\n",
    "       'color_Preto',\n",
    "       'color_Dourado', 'color_Branco', 'color_Cinza espacial',\n",
    "       'sku', 'cantidad_De_Compras_De_Mismo_Sku',\n",
    "       'Cantidad_De_Busquedas_Por_Termino', 'search_and_purchase',\n",
    "       'cantidad_de_Url_de_compra', 'cantidadDeStaticPage', 'Prob_Apple',\n",
    "       'Prob_Asus', 'Prob_Lenovo', 'Prob_lg', 'Prob_motorola', 'Prob_quantum',\n",
    "       'Prob_samsung', 'Prob_sony', 'sku_multiple', 'prob_marca',\n",
    "       'prob_model', 'prob_marca_checkout', 'usuario_Checkeador',\n",
    "       'usuario_susceptible_campaign', 'usuario_buscador',\n",
    "       'usuario_dubitativo', 'prob_marca_en_base_checkout',\n",
    "       'prob_model_en_base_checkout', 'sku_0.0', 'sku_2831.0', 'sku_3371.0',\n",
    "       'sku_6357.0', 'sku_6371.0', 'compraPopular'],axis=1)"
   ]
  },
  {
   "cell_type": "code",
   "execution_count": 520,
   "metadata": {},
   "outputs": [
    {
     "name": "stdout",
     "output_type": "stream",
     "text": [
      "['label']\n",
      "['label']\n"
     ]
    }
   ],
   "source": [
    "nombreCol = []\n",
    "for namecolumn in total_train.columns:\n",
    "     if ( not namecolumn in test.columns):\n",
    "            nombreCol.append(namecolumn)\n",
    "print(nombreCol)\n",
    "for namecolumn in test.columns:\n",
    "     if ( not namecolumn in total_train.columns):\n",
    "            nombreCol.append(namecolumn)\n",
    "print(nombreCol)"
   ]
  },
  {
   "cell_type": "code",
   "execution_count": 521,
   "metadata": {},
   "outputs": [],
   "source": [
    "from sklearn.preprocessing import MinMaxScaler\n",
    "\n",
    "scaler = MinMaxScaler()\n",
    "test_scale = scaler.fit_transform(test)\n"
   ]
  },
  {
   "cell_type": "code",
   "execution_count": 522,
   "metadata": {},
   "outputs": [
    {
     "data": {
      "text/html": [
       "<div>\n",
       "<style scoped>\n",
       "    .dataframe tbody tr th:only-of-type {\n",
       "        vertical-align: middle;\n",
       "    }\n",
       "\n",
       "    .dataframe tbody tr th {\n",
       "        vertical-align: top;\n",
       "    }\n",
       "\n",
       "    .dataframe thead th {\n",
       "        text-align: right;\n",
       "    }\n",
       "</style>\n",
       "<table border=\"1\" class=\"dataframe\">\n",
       "  <thead>\n",
       "    <tr style=\"text-align: right;\">\n",
       "      <th></th>\n",
       "      <th>event_checkout</th>\n",
       "      <th>event_conversion</th>\n",
       "      <th>Computer</th>\n",
       "      <th>Smartphone</th>\n",
       "      <th>campaign_source_google</th>\n",
       "      <th>campaign_source_criteo</th>\n",
       "      <th>campaign_source_rtbhouse</th>\n",
       "      <th>ventas_region</th>\n",
       "      <th>count_activity</th>\n",
       "      <th>conversiones_15lastdays</th>\n",
       "      <th>checkout_15lastdays</th>\n",
       "      <th>viewed_15lastday</th>\n",
       "      <th>new_15lastdays</th>\n",
       "    </tr>\n",
       "  </thead>\n",
       "  <tbody>\n",
       "    <tr>\n",
       "      <th>0</th>\n",
       "      <td>1.0</td>\n",
       "      <td>0.0</td>\n",
       "      <td>0.0</td>\n",
       "      <td>1.0</td>\n",
       "      <td>0.0</td>\n",
       "      <td>0.0</td>\n",
       "      <td>0.0</td>\n",
       "      <td>0.0</td>\n",
       "      <td>9.0</td>\n",
       "      <td>0.0</td>\n",
       "      <td>1.0</td>\n",
       "      <td>4.0</td>\n",
       "      <td>1.0</td>\n",
       "    </tr>\n",
       "    <tr>\n",
       "      <th>1</th>\n",
       "      <td>7.0</td>\n",
       "      <td>0.0</td>\n",
       "      <td>0.0</td>\n",
       "      <td>1.0</td>\n",
       "      <td>4.0</td>\n",
       "      <td>5.0</td>\n",
       "      <td>18.0</td>\n",
       "      <td>0.0</td>\n",
       "      <td>126.0</td>\n",
       "      <td>0.0</td>\n",
       "      <td>1.0</td>\n",
       "      <td>96.0</td>\n",
       "      <td>0.0</td>\n",
       "    </tr>\n",
       "    <tr>\n",
       "      <th>2</th>\n",
       "      <td>1.0</td>\n",
       "      <td>0.0</td>\n",
       "      <td>1.0</td>\n",
       "      <td>0.0</td>\n",
       "      <td>1.0</td>\n",
       "      <td>0.0</td>\n",
       "      <td>0.0</td>\n",
       "      <td>0.0</td>\n",
       "      <td>26.0</td>\n",
       "      <td>0.0</td>\n",
       "      <td>1.0</td>\n",
       "      <td>13.0</td>\n",
       "      <td>1.0</td>\n",
       "    </tr>\n",
       "    <tr>\n",
       "      <th>3</th>\n",
       "      <td>1.0</td>\n",
       "      <td>0.0</td>\n",
       "      <td>1.0</td>\n",
       "      <td>0.0</td>\n",
       "      <td>11.0</td>\n",
       "      <td>2.0</td>\n",
       "      <td>1.0</td>\n",
       "      <td>0.0</td>\n",
       "      <td>519.0</td>\n",
       "      <td>0.0</td>\n",
       "      <td>0.0</td>\n",
       "      <td>465.0</td>\n",
       "      <td>0.0</td>\n",
       "    </tr>\n",
       "    <tr>\n",
       "      <th>4</th>\n",
       "      <td>2.0</td>\n",
       "      <td>0.0</td>\n",
       "      <td>0.0</td>\n",
       "      <td>1.0</td>\n",
       "      <td>8.0</td>\n",
       "      <td>0.0</td>\n",
       "      <td>1.0</td>\n",
       "      <td>0.0</td>\n",
       "      <td>257.0</td>\n",
       "      <td>0.0</td>\n",
       "      <td>2.0</td>\n",
       "      <td>177.0</td>\n",
       "      <td>1.0</td>\n",
       "    </tr>\n",
       "  </tbody>\n",
       "</table>\n",
       "</div>"
      ],
      "text/plain": [
       "   event_checkout  event_conversion  Computer  Smartphone  \\\n",
       "0             1.0               0.0       0.0         1.0   \n",
       "1             7.0               0.0       0.0         1.0   \n",
       "2             1.0               0.0       1.0         0.0   \n",
       "3             1.0               0.0       1.0         0.0   \n",
       "4             2.0               0.0       0.0         1.0   \n",
       "\n",
       "   campaign_source_google  campaign_source_criteo  campaign_source_rtbhouse  \\\n",
       "0                     0.0                     0.0                       0.0   \n",
       "1                     4.0                     5.0                      18.0   \n",
       "2                     1.0                     0.0                       0.0   \n",
       "3                    11.0                     2.0                       1.0   \n",
       "4                     8.0                     0.0                       1.0   \n",
       "\n",
       "   ventas_region  count_activity  conversiones_15lastdays  \\\n",
       "0            0.0             9.0                      0.0   \n",
       "1            0.0           126.0                      0.0   \n",
       "2            0.0            26.0                      0.0   \n",
       "3            0.0           519.0                      0.0   \n",
       "4            0.0           257.0                      0.0   \n",
       "\n",
       "   checkout_15lastdays  viewed_15lastday  new_15lastdays  \n",
       "0                  1.0               4.0             1.0  \n",
       "1                  1.0              96.0             0.0  \n",
       "2                  1.0              13.0             1.0  \n",
       "3                  0.0             465.0             0.0  \n",
       "4                  2.0             177.0             1.0  "
      ]
     },
     "execution_count": 522,
     "metadata": {},
     "output_type": "execute_result"
    }
   ],
   "source": [
    "test.head()"
   ]
  },
  {
   "cell_type": "code",
   "execution_count": 523,
   "metadata": {},
   "outputs": [
    {
     "data": {
      "text/plain": [
       "(['skus',\n",
       "  'Busca_terminos_populares',\n",
       "  'Computer',\n",
       "  'conversiones_15lastdays',\n",
       "  'checkout_15lastdays',\n",
       "  'viewed_15lastday',\n",
       "  'index',\n",
       "  'color_Cinza espacial',\n",
       "  'new_15lastdays',\n",
       "  'sku',\n",
       "  'cantidad_De_Compras_De_Mismo_Sku',\n",
       "  'Prob_Apple',\n",
       "  'Prob_Asus',\n",
       "  'Prob_Lenovo',\n",
       "  'Prob_lg',\n",
       "  'Prob_motorola',\n",
       "  'Prob_quantum',\n",
       "  'Prob_samsung',\n",
       "  'Prob_sony',\n",
       "  'label',\n",
       "  'prob_marca',\n",
       "  'prob_model',\n",
       "  'prob_marca_checkout',\n",
       "  'prob_marca_en_base_checkout',\n",
       "  'prob_model_en_base_checkout',\n",
       "  'sku_0.0',\n",
       "  'sku_2831.0',\n",
       "  'sku_3371.0',\n",
       "  'sku_6357.0',\n",
       "  'sku_6371.0'],)"
      ]
     },
     "execution_count": 523,
     "metadata": {},
     "output_type": "execute_result"
    }
   ],
   "source": [
    "test.columns\n",
    "['skus', 'Busca_terminos_populares', 'Computer',\n",
    "       'conversiones_15lastdays', 'checkout_15lastdays', 'viewed_15lastday',\n",
    "       'index', 'color_Cinza espacial', 'new_15lastdays', 'sku',\n",
    "       'cantidad_De_Compras_De_Mismo_Sku', 'Prob_Apple', 'Prob_Asus',\n",
    "       'Prob_Lenovo', 'Prob_lg', 'Prob_motorola', 'Prob_quantum',\n",
    "       'Prob_samsung', 'Prob_sony', 'label', 'prob_marca', 'prob_model',\n",
    "       'prob_marca_checkout', 'prob_marca_en_base_checkout',\n",
    "       'prob_model_en_base_checkout', 'sku_0.0', 'sku_2831.0', 'sku_3371.0',\n",
    "       'sku_6357.0', 'sku_6371.0'],"
   ]
  },
  {
   "cell_type": "code",
   "execution_count": 524,
   "metadata": {},
   "outputs": [],
   "source": [
    "result = clf.predict_proba(test_scale)"
   ]
  },
  {
   "cell_type": "code",
   "execution_count": 525,
   "metadata": {},
   "outputs": [],
   "source": [
    "result2 = []\n",
    "for elem in result:\n",
    "    result2.append(elem[1])"
   ]
  },
  {
   "cell_type": "code",
   "execution_count": 526,
   "metadata": {},
   "outputs": [],
   "source": [
    "person = person.to_frame()"
   ]
  },
  {
   "cell_type": "code",
   "execution_count": 527,
   "metadata": {},
   "outputs": [],
   "source": [
    "person['label'] = result2"
   ]
  },
  {
   "cell_type": "code",
   "execution_count": 528,
   "metadata": {},
   "outputs": [
    {
     "data": {
      "text/html": [
       "<div>\n",
       "<style scoped>\n",
       "    .dataframe tbody tr th:only-of-type {\n",
       "        vertical-align: middle;\n",
       "    }\n",
       "\n",
       "    .dataframe tbody tr th {\n",
       "        vertical-align: top;\n",
       "    }\n",
       "\n",
       "    .dataframe thead th {\n",
       "        text-align: right;\n",
       "    }\n",
       "</style>\n",
       "<table border=\"1\" class=\"dataframe\">\n",
       "  <thead>\n",
       "    <tr style=\"text-align: right;\">\n",
       "      <th></th>\n",
       "      <th>person</th>\n",
       "      <th>label</th>\n",
       "    </tr>\n",
       "  </thead>\n",
       "  <tbody>\n",
       "    <tr>\n",
       "      <th>0</th>\n",
       "      <td>4886f805</td>\n",
       "      <td>0.238673</td>\n",
       "    </tr>\n",
       "    <tr>\n",
       "      <th>1</th>\n",
       "      <td>0297fc1e</td>\n",
       "      <td>0.356977</td>\n",
       "    </tr>\n",
       "    <tr>\n",
       "      <th>2</th>\n",
       "      <td>2d681dd8</td>\n",
       "      <td>0.333384</td>\n",
       "    </tr>\n",
       "    <tr>\n",
       "      <th>3</th>\n",
       "      <td>cccea85e</td>\n",
       "      <td>0.787462</td>\n",
       "    </tr>\n",
       "    <tr>\n",
       "      <th>4</th>\n",
       "      <td>4c8a8b93</td>\n",
       "      <td>0.198428</td>\n",
       "    </tr>\n",
       "  </tbody>\n",
       "</table>\n",
       "</div>"
      ],
      "text/plain": [
       "     person     label\n",
       "0  4886f805  0.238673\n",
       "1  0297fc1e  0.356977\n",
       "2  2d681dd8  0.333384\n",
       "3  cccea85e  0.787462\n",
       "4  4c8a8b93  0.198428"
      ]
     },
     "execution_count": 528,
     "metadata": {},
     "output_type": "execute_result"
    }
   ],
   "source": [
    "person.head()"
   ]
  },
  {
   "cell_type": "code",
   "execution_count": 529,
   "metadata": {},
   "outputs": [
    {
     "data": {
      "text/plain": [
       "True     15047\n",
       "False     4368\n",
       "Name: label, dtype: int64"
      ]
     },
     "execution_count": 529,
     "metadata": {},
     "output_type": "execute_result"
    }
   ],
   "source": [
    "(person[\"label\"]<0.5).value_counts()"
   ]
  },
  {
   "cell_type": "code",
   "execution_count": 530,
   "metadata": {},
   "outputs": [],
   "source": [
    "kaggle = pd.read_csv('../data/trocafone_kaggle_test.csv')"
   ]
  },
  {
   "cell_type": "code",
   "execution_count": 531,
   "metadata": {},
   "outputs": [],
   "source": [
    "resultado = pd.merge(kaggle,person,on=\"person\",how = \"left\")"
   ]
  },
  {
   "cell_type": "code",
   "execution_count": 532,
   "metadata": {},
   "outputs": [
    {
     "data": {
      "text/plain": [
       "False    19415\n",
       "Name: label, dtype: int64"
      ]
     },
     "execution_count": 532,
     "metadata": {},
     "output_type": "execute_result"
    }
   ],
   "source": [
    "resultado[\"label\"].isnull().value_counts()"
   ]
  },
  {
   "cell_type": "code",
   "execution_count": 533,
   "metadata": {},
   "outputs": [],
   "source": [
    "resultado.to_csv('resultadoXGBoosting3.csv', index=False)"
   ]
  },
  {
   "cell_type": "code",
   "execution_count": null,
   "metadata": {},
   "outputs": [],
   "source": []
  },
  {
   "cell_type": "code",
   "execution_count": null,
   "metadata": {},
   "outputs": [],
   "source": []
  }
 ],
 "metadata": {
  "kernelspec": {
   "display_name": "Python 3",
   "language": "python",
   "name": "python3"
  },
  "language_info": {
   "codemirror_mode": {
    "name": "ipython",
    "version": 3
   },
   "file_extension": ".py",
   "mimetype": "text/x-python",
   "name": "python",
   "nbconvert_exporter": "python",
   "pygments_lexer": "ipython3",
   "version": "3.6.6"
  }
 },
 "nbformat": 4,
 "nbformat_minor": 2
}
