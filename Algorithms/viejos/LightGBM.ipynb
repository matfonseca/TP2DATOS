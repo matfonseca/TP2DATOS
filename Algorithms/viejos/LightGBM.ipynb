{
 "cells": [
  {
   "cell_type": "code",
   "execution_count": 35,
   "metadata": {},
   "outputs": [],
   "source": [
    "import numpy as np\n",
    "import pandas as pd\n",
    "import seaborn as sb\n",
    "import matplotlib.pyplot as plt\n",
    "%matplotlib inline\n",
    "import lightgbm as lgb"
   ]
  },
  {
   "cell_type": "code",
   "execution_count": 74,
   "metadata": {},
   "outputs": [],
   "source": [
    "usersDataTrain = pd.read_csv('../setEntrenamiento.csv')"
   ]
  },
  {
   "cell_type": "code",
   "execution_count": 75,
   "metadata": {},
   "outputs": [],
   "source": [
    "usersDataTrain = usersDataTrain.drop(['level_0','Unnamed: 0', 'person', 'cant_seciones',\n",
    "       'event_ad campaign hit',\n",
    "       'screen_resolution', 'Busca_terminos_populares',\n",
    "       'otros', 'marca_apple', 'marca_asus', 'marca_lenovo',\n",
    "       'marca_lg', 'marca_motorola', 'marca_samsung', 'marca_sony',\n",
    "       'condition_Bom', 'condition_Bom - Sem Touch ID', 'condition_Excelente',\n",
    "       'condition_Muito Bom', 'version_galaxy j7', 'version_galaxy j5',\n",
    "       'version_galaxy s7', 'version_iphone 6', 'version_iphone 5s',\n",
    "       'version_iphone 6s', 'version_moto g4', 'version_moto g2',\n",
    "       'version_galaxy s6', 'storage_128GB', 'storage_16GB', 'storage_256GB',\n",
    "       'storage_32GB', 'storage_4GB', 'storage_512MB', 'storage_64GB',\n",
    "       'storage_8GB', 'Parte del dia_Madrugada', 'Parte del dia_Mañana',\n",
    "       'Parte del dia_Noche', 'Parte del dia_Tarde','channel_Direct',\n",
    "       'channel_Paid', 'channel_Organic', 'channel_Referral', 'Brasilero',\n",
    "       'color_Preto',\n",
    "       'color_Dourado', 'color_Branco', 'color_Cinza espacial',\n",
    "       'sku', 'cantidad_De_Compras_De_Mismo_Sku',\n",
    "       'Cantidad_De_Busquedas_Por_Termino', 'search_and_purchase',\n",
    "       'cantidad_de_Url_de_compra', 'cantidadDeStaticPage', 'Prob_Apple',\n",
    "       'Prob_Asus', 'Prob_Lenovo', 'Prob_lg', 'Prob_motorola', 'Prob_quantum',\n",
    "       'Prob_samsung', 'Prob_sony', 'sku_multiple', 'prob_marca',\n",
    "       'prob_model', 'prob_marca_checkout', 'usuario_Checkeador',\n",
    "       'usuario_susceptible_campaign',\n",
    "       'usuario_dubitativo', 'prob_marca_en_base_checkout',\n",
    "       'prob_model_en_base_checkout', 'sku_0.0', 'sku_2831.0', 'sku_3371.0',\n",
    "       'sku_6357.0', 'sku_6371.0', 'compraPopular','index'],axis=1)"
   ]
  },
  {
   "cell_type": "code",
   "execution_count": 89,
   "metadata": {},
   "outputs": [
    {
     "data": {
      "text/plain": [
       "Index(['event_checkout', 'event_conversion', 'event_lead', 'skus', 'Computer',\n",
       "       'Smartphone', 'campaign_source_google', 'campaign_source_criteo',\n",
       "       'campaign_source_rtbhouse', 'ventas_region', 'count_activity',\n",
       "       'conversiones_15lastdays', 'checkout_15lastdays', 'viewed_15lastday',\n",
       "       'new_15lastdays', 'label', 'usuario_buscador'],\n",
       "      dtype='object')"
      ]
     },
     "execution_count": 89,
     "metadata": {},
     "output_type": "execute_result"
    }
   ],
   "source": [
    "usersDataTrain.columns"
   ]
  },
  {
   "cell_type": "code",
   "execution_count": 77,
   "metadata": {},
   "outputs": [
    {
     "ename": "IndentationError",
     "evalue": "unexpected indent (<ipython-input-77-cacb75eeb454>, line 2)",
     "output_type": "error",
     "traceback": [
      "\u001b[1;36m  File \u001b[1;32m\"<ipython-input-77-cacb75eeb454>\"\u001b[1;36m, line \u001b[1;32m2\u001b[0m\n\u001b[1;33m    'Smartphone', 'campaign_source_google', 'campaign_source_criteo',\u001b[0m\n\u001b[1;37m    ^\u001b[0m\n\u001b[1;31mIndentationError\u001b[0m\u001b[1;31m:\u001b[0m unexpected indent\n"
     ]
    }
   ],
   "source": [
    "'event_checkout', 'event_conversion', 'event_lead', 'skus', 'Computer',\n",
    "       'Smartphone', 'campaign_source_google', 'campaign_source_criteo',\n",
    "       'campaign_source_rtbhouse', 'ventas_region', 'count_activity',\n",
    "       'conversiones_15lastdays', 'checkout_15lastdays', 'viewed_15lastday',\n",
    "       'new_15lastdays', 'usuario_buscador'"
   ]
  },
  {
   "cell_type": "code",
   "execution_count": null,
   "metadata": {},
   "outputs": [],
   "source": [
    "from sklearn.model_selection import train_test_split\n",
    "X_train, X_test, y_train, y_test = train_test_split(total_train.drop(['label'], axis=1).values, total_train[\"label\"] , test_size=0.20, random_state=75)\n"
   ]
  },
  {
   "cell_type": "code",
   "execution_count": 92,
   "metadata": {},
   "outputs": [
    {
     "data": {
      "text/plain": [
       "LGBMClassifier(boosting_type='gbdt', class_weight=None, colsample_bytree=1.0,\n",
       "        importance_type='split', learning_rate=0.01, max_depth=19,\n",
       "        min_child_samples=20, min_child_weight=0.001, min_split_gain=0.0,\n",
       "        n_estimators=100, n_jobs=-1, num_leaves=3000, objective='binary',\n",
       "        random_state=None, reg_alpha=0.0, reg_lambda=0.0, silent=True,\n",
       "        subsample=1.0, subsample_for_bin=200000, subsample_freq=0)"
      ]
     },
     "execution_count": 92,
     "metadata": {},
     "output_type": "execute_result"
    }
   ],
   "source": [
    "clf.fit(X_train,y_train)"
   ]
  },
  {
   "cell_type": "code",
   "execution_count": 93,
   "metadata": {},
   "outputs": [
    {
     "data": {
      "text/plain": [
       "array([0, 0, 0, ..., 0, 0, 0], dtype=int64)"
      ]
     },
     "execution_count": 93,
     "metadata": {},
     "output_type": "execute_result"
    }
   ],
   "source": [
    "clf.predict(X_test)"
   ]
  },
  {
   "cell_type": "code",
   "execution_count": 94,
   "metadata": {},
   "outputs": [
    {
     "data": {
      "text/plain": [
       "0.94772083440638677"
      ]
     },
     "execution_count": 94,
     "metadata": {},
     "output_type": "execute_result"
    }
   ],
   "source": [
    "#Pruebo el score para ver si realiza overfitting\n",
    "clf.score(X_test,y_test)"
   ]
  },
  {
   "cell_type": "code",
   "execution_count": 102,
   "metadata": {},
   "outputs": [],
   "source": [
    "result = clf.predict_proba(X_test)"
   ]
  },
  {
   "cell_type": "code",
   "execution_count": 103,
   "metadata": {},
   "outputs": [],
   "source": [
    "result2 = []\n",
    "for elem in result:\n",
    "    result2.append(elem[1])"
   ]
  },
  {
   "cell_type": "code",
   "execution_count": 104,
   "metadata": {},
   "outputs": [
    {
     "data": {
      "text/plain": [
       "0.81191991936232566"
      ]
     },
     "execution_count": 104,
     "metadata": {},
     "output_type": "execute_result"
    }
   ],
   "source": [
    "from sklearn import metrics\n",
    "pred = result2\n",
    "fpr, tpr, thresholds = metrics.roc_curve(y_test, pred)\n",
    "metrics.auc(fpr, tpr)"
   ]
  },
  {
   "cell_type": "code",
   "execution_count": 95,
   "metadata": {},
   "outputs": [],
   "source": [
    "test = pd.read_csv('../setTest.csv')"
   ]
  },
  {
   "cell_type": "code",
   "execution_count": 96,
   "metadata": {},
   "outputs": [
    {
     "data": {
      "text/plain": [
       "Index(['Unnamed: 0', 'person', 'cant_seciones', 'event_checkout',\n",
       "       'event_conversion', 'event_ad campaign hit', 'event_lead', 'skus',\n",
       "       'screen_resolution', 'Busca_terminos_populares', 'Computer',\n",
       "       'Smartphone', 'otros', 'marca_apple', 'marca_asus', 'marca_lenovo',\n",
       "       'marca_lg', 'marca_motorola', 'marca_samsung', 'marca_sony',\n",
       "       'condition_Bom', 'condition_Bom - Sem Touch ID', 'condition_Excelente',\n",
       "       'condition_Muito Bom', 'version_galaxy j7', 'version_galaxy j5',\n",
       "       'version_galaxy s7', 'version_iphone 6', 'version_iphone 5s',\n",
       "       'version_iphone 6s', 'version_moto g4', 'version_moto g2',\n",
       "       'version_galaxy s6', 'storage_128GB', 'storage_16GB', 'storage_256GB',\n",
       "       'storage_32GB', 'storage_4GB', 'storage_512MB', 'storage_64GB',\n",
       "       'storage_8GB', 'Parte del dia_Madrugada', 'Parte del dia_Mañana',\n",
       "       'Parte del dia_Noche', 'Parte del dia_Tarde', 'campaign_source_google',\n",
       "       'campaign_source_criteo', 'campaign_source_rtbhouse', 'channel_Direct',\n",
       "       'channel_Paid', 'channel_Organic', 'channel_Referral', 'Brasilero',\n",
       "       'ventas_region', 'count_activity', 'conversiones_15lastdays',\n",
       "       'checkout_15lastdays', 'viewed_15lastday', 'level_0', 'index',\n",
       "       'color_Preto', 'color_Dourado', 'color_Branco', 'color_Cinza espacial',\n",
       "       'new_15lastdays', 'sku', 'cantidad_De_Compras_De_Mismo_Sku',\n",
       "       'Cantidad_De_Busquedas_Por_Termino', 'search_and_purchase',\n",
       "       'cantidad_de_Url_de_compra', 'cantidadDeStaticPage', 'Prob_Apple',\n",
       "       'Prob_Asus', 'Prob_Lenovo', 'Prob_lg', 'Prob_motorola', 'Prob_quantum',\n",
       "       'Prob_samsung', 'Prob_sony', 'sku_multiple', 'prob_marca', 'prob_model',\n",
       "       'prob_marca_checkout', 'prob_marca_en_base_checkout',\n",
       "       'prob_model_en_base_checkout', 'sku_0.0', 'sku_2831.0', 'sku_3371.0',\n",
       "       'sku_6357.0', 'sku_6371.0', 'compraPopular', 'usuario_Checkeador',\n",
       "       'usuario_susceptible_campaign', 'usuario_buscador',\n",
       "       'usuario_dubitativo'],\n",
       "      dtype='object')"
      ]
     },
     "execution_count": 96,
     "metadata": {},
     "output_type": "execute_result"
    }
   ],
   "source": [
    "test.columns"
   ]
  },
  {
   "cell_type": "code",
   "execution_count": 97,
   "metadata": {},
   "outputs": [],
   "source": [
    "test = test.drop(['level_0','Unnamed: 0', 'person', 'cant_seciones',\n",
    "       'event_ad campaign hit',\n",
    "       'screen_resolution', 'Busca_terminos_populares',\n",
    "       'otros', 'marca_apple', 'marca_asus', 'marca_lenovo',\n",
    "       'marca_lg', 'marca_motorola', 'marca_samsung', 'marca_sony',\n",
    "       'condition_Bom', 'condition_Bom - Sem Touch ID', 'condition_Excelente',\n",
    "       'condition_Muito Bom', 'version_galaxy j7', 'version_galaxy j5',\n",
    "       'version_galaxy s7', 'version_iphone 6', 'version_iphone 5s',\n",
    "       'version_iphone 6s', 'version_moto g4', 'version_moto g2',\n",
    "       'version_galaxy s6', 'storage_128GB', 'storage_16GB', 'storage_256GB',\n",
    "       'storage_32GB', 'storage_4GB', 'storage_512MB', 'storage_64GB',\n",
    "       'storage_8GB', 'Parte del dia_Madrugada', 'Parte del dia_Mañana',\n",
    "       'Parte del dia_Noche', 'Parte del dia_Tarde','channel_Direct',\n",
    "       'channel_Paid', 'channel_Organic', 'channel_Referral', 'Brasilero',\n",
    "       'color_Preto',\n",
    "       'color_Dourado', 'color_Branco', 'color_Cinza espacial',\n",
    "       'sku', 'cantidad_De_Compras_De_Mismo_Sku',\n",
    "       'Cantidad_De_Busquedas_Por_Termino', 'search_and_purchase',\n",
    "       'cantidad_de_Url_de_compra', 'cantidadDeStaticPage', 'Prob_Apple',\n",
    "       'Prob_Asus', 'Prob_Lenovo', 'Prob_lg', 'Prob_motorola', 'Prob_quantum',\n",
    "       'Prob_samsung', 'Prob_sony', 'sku_multiple', 'prob_marca',\n",
    "       'prob_model', 'prob_marca_checkout', 'usuario_Checkeador',\n",
    "       'usuario_susceptible_campaign',\n",
    "       'usuario_dubitativo', 'prob_marca_en_base_checkout',\n",
    "       'prob_model_en_base_checkout', 'sku_0.0', 'sku_2831.0', 'sku_3371.0',\n",
    "       'sku_6357.0', 'sku_6371.0', 'compraPopular','index'],axis=1)"
   ]
  },
  {
   "cell_type": "code",
   "execution_count": 100,
   "metadata": {},
   "outputs": [],
   "source": [
    "result2 = []\n",
    "for elem in result:\n",
    "    result2.append(elem[1])"
   ]
  },
  {
   "cell_type": "code",
   "execution_count": null,
   "metadata": {},
   "outputs": [],
   "source": []
  },
  {
   "cell_type": "code",
   "execution_count": 163,
   "metadata": {},
   "outputs": [],
   "source": [
    "test.to_csv('Predictions/Lightgbm6Mv6.csv', index=False)"
   ]
  }
 ],
 "metadata": {
  "kernelspec": {
   "display_name": "Python 3",
   "language": "python",
   "name": "python3"
  },
  "language_info": {
   "codemirror_mode": {
    "name": "ipython",
    "version": 3
   },
   "file_extension": ".py",
   "mimetype": "text/x-python",
   "name": "python",
   "nbconvert_exporter": "python",
   "pygments_lexer": "ipython3",
   "version": "3.6.6"
  }
 },
 "nbformat": 4,
 "nbformat_minor": 2
}
