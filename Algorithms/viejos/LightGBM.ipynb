{
 "cells": [
  {
   "cell_type": "code",
   "execution_count": 1,
   "metadata": {},
   "outputs": [],
   "source": [
    "import numpy as np\n",
    "import pandas as pd\n",
    "import seaborn as sb\n",
    "import matplotlib.pyplot as plt\n",
    "%matplotlib inline\n",
    "import lightgbm as lgb"
   ]
  },
  {
   "cell_type": "code",
   "execution_count": 2,
   "metadata": {},
   "outputs": [],
   "source": [
    "from sklearn.base import TransformerMixin\n",
    "\n",
    "class DataFrameImputer(TransformerMixin):\n",
    "\n",
    "    def __init__(self):\n",
    "        \"\"\"Impute missing values.\n",
    "\n",
    "        Columns of dtype object are imputed with the most frequent value \n",
    "        in column.\n",
    "\n",
    "        Columns of other types are imputed with mean of column.\n",
    "\n",
    "        \"\"\"\n",
    "    def fit(self, X, y=None):\n",
    "\n",
    "        self.fill = pd.Series([X[c].value_counts().index[0]\n",
    "            if X[c].dtype == np.dtype('O') else X[c].mean() for c in X],\n",
    "            index=X.columns)\n",
    "\n",
    "        return self\n",
    "\n",
    "    def transform(self, X, y=None):\n",
    "        return X.fillna(self.fill)"
   ]
  },
  {
   "cell_type": "code",
   "execution_count": 3,
   "metadata": {},
   "outputs": [
    {
     "name": "stdout",
     "output_type": "stream",
     "text": [
      "/home/olix/Documentos/datos/tp2master/OrgaDatos/TP2\n"
     ]
    }
   ],
   "source": [
    "cd .."
   ]
  },
  {
   "cell_type": "code",
   "execution_count": 4,
   "metadata": {},
   "outputs": [],
   "source": [
    "total_train = pd.read_csv('DataAnalysis/postulaciones_nopostulaciones3Mv2.csv')"
   ]
  },
  {
   "cell_type": "code",
   "execution_count": 5,
   "metadata": {},
   "outputs": [],
   "source": [
    "total_train = DataFrameImputer().fit_transform(total_train)"
   ]
  },
  {
   "cell_type": "code",
   "execution_count": 6,
   "metadata": {},
   "outputs": [],
   "source": [
    "def cambiar_cero(x):\n",
    "    if x == '0.0':\n",
    "        return 'NO_DECLARA'\n",
    "    return x"
   ]
  },
  {
   "cell_type": "code",
   "execution_count": 7,
   "metadata": {},
   "outputs": [],
   "source": [
    "total_train['sexo'] = total_train['sexo'].map(lambda x: cambiar_cero(x))"
   ]
  },
  {
   "cell_type": "code",
   "execution_count": 8,
   "metadata": {},
   "outputs": [
    {
     "data": {
      "text/plain": [
       "FEM           3010717\n",
       "MASC          2765521\n",
       "NO_DECLARA     184892\n",
       "Name: sexo, dtype: int64"
      ]
     },
     "execution_count": 8,
     "metadata": {},
     "output_type": "execute_result"
    }
   ],
   "source": [
    "total_train['sexo'].value_counts()"
   ]
  },
  {
   "cell_type": "code",
   "execution_count": 9,
   "metadata": {},
   "outputs": [],
   "source": [
    "#Paso los valores a categoricos\n",
    "total_train['nombre_sort'] = total_train['nombre_sort'].astype('category')\n",
    "total_train['estado'] = total_train['estado'].astype('category')\n",
    "total_train['sexo'] = total_train['sexo'].astype('category')\n",
    "total_train['nombre_zona'] = total_train['nombre_zona'].astype('category')\n",
    "total_train['nivel_laboral'] = total_train['nivel_laboral'].astype('category')\n",
    "total_train['tipo_de_trabajo'] = total_train['tipo_de_trabajo'].astype('category')\n",
    "\n",
    "\n"
   ]
  },
  {
   "cell_type": "code",
   "execution_count": 10,
   "metadata": {},
   "outputs": [],
   "source": [
    "total_train = total_train.drop(columns = ['idaviso','idpostulante'])"
   ]
  },
  {
   "cell_type": "code",
   "execution_count": 12,
   "metadata": {},
   "outputs": [
    {
     "data": {
      "text/html": [
       "<div>\n",
       "<style scoped>\n",
       "    .dataframe tbody tr th:only-of-type {\n",
       "        vertical-align: middle;\n",
       "    }\n",
       "\n",
       "    .dataframe tbody tr th {\n",
       "        vertical-align: top;\n",
       "    }\n",
       "\n",
       "    .dataframe thead th {\n",
       "        text-align: right;\n",
       "    }\n",
       "</style>\n",
       "<table border=\"1\" class=\"dataframe\">\n",
       "  <thead>\n",
       "    <tr style=\"text-align: right;\">\n",
       "      <th></th>\n",
       "      <th>cantPostulaciones</th>\n",
       "      <th>cantVistas</th>\n",
       "      <th>descripcion</th>\n",
       "      <th>estado</th>\n",
       "      <th>fechanacimiento</th>\n",
       "      <th>nivel_laboral</th>\n",
       "      <th>nombre_sort</th>\n",
       "      <th>nombre_zona</th>\n",
       "      <th>postulantes</th>\n",
       "      <th>se_postulo</th>\n",
       "      <th>sexo</th>\n",
       "      <th>tipo_de_trabajo</th>\n",
       "    </tr>\n",
       "  </thead>\n",
       "  <tbody>\n",
       "    <tr>\n",
       "      <th>0</th>\n",
       "      <td>36.0</td>\n",
       "      <td>1.0</td>\n",
       "      <td>0</td>\n",
       "      <td>En Curso</td>\n",
       "      <td>1996-01-12</td>\n",
       "      <td>Senior / Semi-Senior</td>\n",
       "      <td>3.0</td>\n",
       "      <td>Gran Buenos Aires</td>\n",
       "      <td>1080.0</td>\n",
       "      <td>1</td>\n",
       "      <td>FEM</td>\n",
       "      <td>Full-time</td>\n",
       "    </tr>\n",
       "    <tr>\n",
       "      <th>1</th>\n",
       "      <td>9.0</td>\n",
       "      <td>2.0</td>\n",
       "      <td>0</td>\n",
       "      <td>Graduado</td>\n",
       "      <td>1992-12-18</td>\n",
       "      <td>Senior / Semi-Senior</td>\n",
       "      <td>3.0</td>\n",
       "      <td>Gran Buenos Aires</td>\n",
       "      <td>1080.0</td>\n",
       "      <td>1</td>\n",
       "      <td>MASC</td>\n",
       "      <td>Full-time</td>\n",
       "    </tr>\n",
       "    <tr>\n",
       "      <th>2</th>\n",
       "      <td>5.0</td>\n",
       "      <td>4.0</td>\n",
       "      <td>0</td>\n",
       "      <td>Graduado</td>\n",
       "      <td>1991-10-12</td>\n",
       "      <td>Senior / Semi-Senior</td>\n",
       "      <td>3.0</td>\n",
       "      <td>Gran Buenos Aires</td>\n",
       "      <td>1080.0</td>\n",
       "      <td>1</td>\n",
       "      <td>FEM</td>\n",
       "      <td>Full-time</td>\n",
       "    </tr>\n",
       "    <tr>\n",
       "      <th>3</th>\n",
       "      <td>1067.0</td>\n",
       "      <td>2.0</td>\n",
       "      <td>0</td>\n",
       "      <td>Abandonado</td>\n",
       "      <td>1973-05-17</td>\n",
       "      <td>Senior / Semi-Senior</td>\n",
       "      <td>1.0</td>\n",
       "      <td>Gran Buenos Aires</td>\n",
       "      <td>1080.0</td>\n",
       "      <td>1</td>\n",
       "      <td>MASC</td>\n",
       "      <td>Full-time</td>\n",
       "    </tr>\n",
       "    <tr>\n",
       "      <th>4</th>\n",
       "      <td>16.0</td>\n",
       "      <td>1.0</td>\n",
       "      <td>0</td>\n",
       "      <td>Graduado</td>\n",
       "      <td>1986-05-09</td>\n",
       "      <td>Senior / Semi-Senior</td>\n",
       "      <td>2.0</td>\n",
       "      <td>Gran Buenos Aires</td>\n",
       "      <td>1080.0</td>\n",
       "      <td>1</td>\n",
       "      <td>MASC</td>\n",
       "      <td>Full-time</td>\n",
       "    </tr>\n",
       "  </tbody>\n",
       "</table>\n",
       "</div>"
      ],
      "text/plain": [
       "   cantPostulaciones  cantVistas  descripcion      estado fechanacimiento  \\\n",
       "0               36.0         1.0            0    En Curso      1996-01-12   \n",
       "1                9.0         2.0            0    Graduado      1992-12-18   \n",
       "2                5.0         4.0            0    Graduado      1991-10-12   \n",
       "3             1067.0         2.0            0  Abandonado      1973-05-17   \n",
       "4               16.0         1.0            0    Graduado      1986-05-09   \n",
       "\n",
       "          nivel_laboral nombre_sort        nombre_zona  postulantes  \\\n",
       "0  Senior / Semi-Senior         3.0  Gran Buenos Aires       1080.0   \n",
       "1  Senior / Semi-Senior         3.0  Gran Buenos Aires       1080.0   \n",
       "2  Senior / Semi-Senior         3.0  Gran Buenos Aires       1080.0   \n",
       "3  Senior / Semi-Senior         1.0  Gran Buenos Aires       1080.0   \n",
       "4  Senior / Semi-Senior         2.0  Gran Buenos Aires       1080.0   \n",
       "\n",
       "   se_postulo  sexo tipo_de_trabajo  \n",
       "0           1   FEM       Full-time  \n",
       "1           1  MASC       Full-time  \n",
       "2           1   FEM       Full-time  \n",
       "3           1  MASC       Full-time  \n",
       "4           1  MASC       Full-time  "
      ]
     },
     "execution_count": 12,
     "metadata": {},
     "output_type": "execute_result"
    }
   ],
   "source": [
    "total_train.head()"
   ]
  },
  {
   "cell_type": "code",
   "execution_count": 11,
   "metadata": {},
   "outputs": [],
   "source": [
    "def datetime(date,format_string):\n",
    "    return pd.to_datetime(date,format= format_string,errors='coerce')"
   ]
  },
  {
   "cell_type": "code",
   "execution_count": 12,
   "metadata": {},
   "outputs": [],
   "source": [
    "total_train['edadPostulante'] = datetime(total_train['fechanacimiento'],'%Y-%m-%d')"
   ]
  },
  {
   "cell_type": "code",
   "execution_count": 13,
   "metadata": {},
   "outputs": [],
   "source": [
    "total_train['edadPostulante'] = total_train['edadPostulante'].map(lambda x: 2018 - x.year)"
   ]
  },
  {
   "cell_type": "code",
   "execution_count": 14,
   "metadata": {},
   "outputs": [],
   "source": [
    "total_train.drop(columns = ['fechanacimiento'],inplace= True)"
   ]
  },
  {
   "cell_type": "code",
   "execution_count": 122,
   "metadata": {},
   "outputs": [],
   "source": [
    "from sklearn.model_selection import train_test_split\n",
    "\n",
    "X_train, X_test, y_train, y_test = train_test_split(total_train[['edadPostulante','cantVistas','cantPostulaciones','postulantes']], total_train['se_postulo'], test_size=0.20, random_state=75)"
   ]
  },
  {
   "cell_type": "code",
   "execution_count": 143,
   "metadata": {},
   "outputs": [],
   "source": [
    "clf=lgb.LGBMClassifier(learning_rate=0.01,objective='binary',num_leaves=3000,max_depth=19,n_estimators=100,n_jobs=-1)"
   ]
  },
  {
   "cell_type": "code",
   "execution_count": 19,
   "metadata": {},
   "outputs": [
    {
     "data": {
      "text/html": [
       "<div>\n",
       "<style scoped>\n",
       "    .dataframe tbody tr th:only-of-type {\n",
       "        vertical-align: middle;\n",
       "    }\n",
       "\n",
       "    .dataframe tbody tr th {\n",
       "        vertical-align: top;\n",
       "    }\n",
       "\n",
       "    .dataframe thead th {\n",
       "        text-align: right;\n",
       "    }\n",
       "</style>\n",
       "<table border=\"1\" class=\"dataframe\">\n",
       "  <thead>\n",
       "    <tr style=\"text-align: right;\">\n",
       "      <th></th>\n",
       "      <th>edadPostulante</th>\n",
       "      <th>cantVistas</th>\n",
       "      <th>nivel_laboral</th>\n",
       "      <th>tipo_de_trabajo</th>\n",
       "      <th>nombre_zona</th>\n",
       "      <th>cantPostulaciones</th>\n",
       "      <th>postulantes</th>\n",
       "      <th>sexo</th>\n",
       "      <th>estado</th>\n",
       "    </tr>\n",
       "  </thead>\n",
       "  <tbody>\n",
       "    <tr>\n",
       "      <th>2514671</th>\n",
       "      <td>23.0</td>\n",
       "      <td>1.0</td>\n",
       "      <td>Senior / Semi-Senior</td>\n",
       "      <td>Full-time</td>\n",
       "      <td>Gran Buenos Aires</td>\n",
       "      <td>70.0</td>\n",
       "      <td>731.0</td>\n",
       "      <td>MASC</td>\n",
       "      <td>Graduado</td>\n",
       "    </tr>\n",
       "    <tr>\n",
       "      <th>443372</th>\n",
       "      <td>28.0</td>\n",
       "      <td>4.0</td>\n",
       "      <td>Senior / Semi-Senior</td>\n",
       "      <td>Full-time</td>\n",
       "      <td>Gran Buenos Aires</td>\n",
       "      <td>160.0</td>\n",
       "      <td>3647.0</td>\n",
       "      <td>FEM</td>\n",
       "      <td>Abandonado</td>\n",
       "    </tr>\n",
       "    <tr>\n",
       "      <th>1074501</th>\n",
       "      <td>30.0</td>\n",
       "      <td>1.0</td>\n",
       "      <td>Otro</td>\n",
       "      <td>Part-time</td>\n",
       "      <td>Gran Buenos Aires</td>\n",
       "      <td>44.0</td>\n",
       "      <td>617.0</td>\n",
       "      <td>FEM</td>\n",
       "      <td>En Curso</td>\n",
       "    </tr>\n",
       "    <tr>\n",
       "      <th>963103</th>\n",
       "      <td>31.0</td>\n",
       "      <td>1.0</td>\n",
       "      <td>Senior / Semi-Senior</td>\n",
       "      <td>Full-time</td>\n",
       "      <td>Gran Buenos Aires</td>\n",
       "      <td>16.0</td>\n",
       "      <td>206.0</td>\n",
       "      <td>FEM</td>\n",
       "      <td>Graduado</td>\n",
       "    </tr>\n",
       "    <tr>\n",
       "      <th>979921</th>\n",
       "      <td>23.0</td>\n",
       "      <td>1.0</td>\n",
       "      <td>Senior / Semi-Senior</td>\n",
       "      <td>Full-time</td>\n",
       "      <td>Gran Buenos Aires</td>\n",
       "      <td>200.0</td>\n",
       "      <td>563.0</td>\n",
       "      <td>MASC</td>\n",
       "      <td>Graduado</td>\n",
       "    </tr>\n",
       "  </tbody>\n",
       "</table>\n",
       "</div>"
      ],
      "text/plain": [
       "         edadPostulante  cantVistas         nivel_laboral tipo_de_trabajo  \\\n",
       "2514671            23.0         1.0  Senior / Semi-Senior       Full-time   \n",
       "443372             28.0         4.0  Senior / Semi-Senior       Full-time   \n",
       "1074501            30.0         1.0                  Otro       Part-time   \n",
       "963103             31.0         1.0  Senior / Semi-Senior       Full-time   \n",
       "979921             23.0         1.0  Senior / Semi-Senior       Full-time   \n",
       "\n",
       "               nombre_zona  cantPostulaciones  postulantes  sexo      estado  \n",
       "2514671  Gran Buenos Aires               70.0        731.0  MASC    Graduado  \n",
       "443372   Gran Buenos Aires              160.0       3647.0   FEM  Abandonado  \n",
       "1074501  Gran Buenos Aires               44.0        617.0   FEM    En Curso  \n",
       "963103   Gran Buenos Aires               16.0        206.0   FEM    Graduado  \n",
       "979921   Gran Buenos Aires              200.0        563.0  MASC    Graduado  "
      ]
     },
     "execution_count": 19,
     "metadata": {},
     "output_type": "execute_result"
    }
   ],
   "source": [
    "X_train.sample(5)"
   ]
  },
  {
   "cell_type": "code",
   "execution_count": 144,
   "metadata": {},
   "outputs": [
    {
     "data": {
      "text/plain": [
       "LGBMClassifier(boosting_type='gbdt', class_weight=None, colsample_bytree=1.0,\n",
       "        learning_rate=0.01, max_depth=19, min_child_samples=20,\n",
       "        min_child_weight=0.001, min_split_gain=0.0, n_estimators=100,\n",
       "        n_jobs=-1, num_leaves=3000, objective='binary', random_state=None,\n",
       "        reg_alpha=0.0, reg_lambda=0.0, silent=True, subsample=1.0,\n",
       "        subsample_for_bin=200000, subsample_freq=0)"
      ]
     },
     "execution_count": 144,
     "metadata": {},
     "output_type": "execute_result"
    }
   ],
   "source": [
    "clf.fit(X_train,y_train)"
   ]
  },
  {
   "cell_type": "code",
   "execution_count": 145,
   "metadata": {},
   "outputs": [
    {
     "name": "stderr",
     "output_type": "stream",
     "text": [
      "/home/olix/.local/lib/python3.5/site-packages/sklearn/preprocessing/label.py:151: DeprecationWarning: The truth value of an empty array is ambiguous. Returning False, but in future this will result in an error. Use `array.size > 0` to check that an array is not empty.\n",
      "  if diff:\n"
     ]
    },
    {
     "data": {
      "text/plain": [
       "array([1, 1, 1, ..., 0, 0, 0])"
      ]
     },
     "execution_count": 145,
     "metadata": {},
     "output_type": "execute_result"
    }
   ],
   "source": [
    "clf.predict(X_test)"
   ]
  },
  {
   "cell_type": "code",
   "execution_count": 146,
   "metadata": {},
   "outputs": [
    {
     "name": "stderr",
     "output_type": "stream",
     "text": [
      "/home/olix/.local/lib/python3.5/site-packages/sklearn/preprocessing/label.py:151: DeprecationWarning: The truth value of an empty array is ambiguous. Returning False, but in future this will result in an error. Use `array.size > 0` to check that an array is not empty.\n",
      "  if diff:\n"
     ]
    },
    {
     "data": {
      "text/plain": [
       "0.9998456668450445"
      ]
     },
     "execution_count": 146,
     "metadata": {},
     "output_type": "execute_result"
    }
   ],
   "source": [
    "#Pruebo el score para ver si realiza overfitting\n",
    "clf.score(X_test,y_test)"
   ]
  },
  {
   "cell_type": "code",
   "execution_count": 147,
   "metadata": {},
   "outputs": [],
   "source": [
    "test = pd.read_csv('test_vistas_MFWv2.csv')"
   ]
  },
  {
   "cell_type": "code",
   "execution_count": 148,
   "metadata": {},
   "outputs": [],
   "source": [
    "test = test.drop(['idaviso','idpostulante','titulo','denominacion_empresa','idpais','nombre_area'],axis=1)"
   ]
  },
  {
   "cell_type": "code",
   "execution_count": 149,
   "metadata": {},
   "outputs": [],
   "source": [
    "test.drop(columns = ['mapacalle'],inplace = True)"
   ]
  },
  {
   "cell_type": "code",
   "execution_count": 150,
   "metadata": {},
   "outputs": [],
   "source": [
    "test['edadPostulante'] = datetime(test['fechanacimiento'],'%Y-%m-%d')"
   ]
  },
  {
   "cell_type": "code",
   "execution_count": 151,
   "metadata": {},
   "outputs": [],
   "source": [
    "test['edadPostulante'] = test['edadPostulante'].map(lambda x: 2018 - x.year)"
   ]
  },
  {
   "cell_type": "code",
   "execution_count": 152,
   "metadata": {},
   "outputs": [],
   "source": [
    "test.drop(columns = ['fechanacimiento'],inplace= True)"
   ]
  },
  {
   "cell_type": "code",
   "execution_count": 153,
   "metadata": {},
   "outputs": [],
   "source": [
    "test.drop(columns = ['ciudad'],inplace= True)"
   ]
  },
  {
   "cell_type": "code",
   "execution_count": 154,
   "metadata": {},
   "outputs": [],
   "source": [
    "test = DataFrameImputer().fit_transform(test)"
   ]
  },
  {
   "cell_type": "code",
   "execution_count": 155,
   "metadata": {},
   "outputs": [
    {
     "data": {
      "text/html": [
       "<div>\n",
       "<style scoped>\n",
       "    .dataframe tbody tr th:only-of-type {\n",
       "        vertical-align: middle;\n",
       "    }\n",
       "\n",
       "    .dataframe tbody tr th {\n",
       "        vertical-align: top;\n",
       "    }\n",
       "\n",
       "    .dataframe thead th {\n",
       "        text-align: right;\n",
       "    }\n",
       "</style>\n",
       "<table border=\"1\" class=\"dataframe\">\n",
       "  <thead>\n",
       "    <tr style=\"text-align: right;\">\n",
       "      <th></th>\n",
       "      <th>id</th>\n",
       "      <th>nombre</th>\n",
       "      <th>estado</th>\n",
       "      <th>nombre_sort</th>\n",
       "      <th>sexo</th>\n",
       "      <th>descripcion</th>\n",
       "      <th>nivel_laboral</th>\n",
       "      <th>nombre_zona</th>\n",
       "      <th>tipo_de_trabajo</th>\n",
       "      <th>cantVistas</th>\n",
       "      <th>postulantes</th>\n",
       "      <th>cantPostulaciones</th>\n",
       "      <th>edadPostulante</th>\n",
       "    </tr>\n",
       "  </thead>\n",
       "  <tbody>\n",
       "    <tr>\n",
       "      <th>67695</th>\n",
       "      <td>43924</td>\n",
       "      <td>Secundario</td>\n",
       "      <td>Graduado</td>\n",
       "      <td>1.0</td>\n",
       "      <td>FEM</td>\n",
       "      <td>1</td>\n",
       "      <td>Junior</td>\n",
       "      <td>Gran Buenos Aires</td>\n",
       "      <td>Part-time</td>\n",
       "      <td>0.0</td>\n",
       "      <td>0.0</td>\n",
       "      <td>0.0</td>\n",
       "      <td>26.0</td>\n",
       "    </tr>\n",
       "    <tr>\n",
       "      <th>18269</th>\n",
       "      <td>65449</td>\n",
       "      <td>Universitario</td>\n",
       "      <td>En Curso</td>\n",
       "      <td>3.0</td>\n",
       "      <td>MASC</td>\n",
       "      <td>0</td>\n",
       "      <td>Senior / Semi-Senior</td>\n",
       "      <td>Gran Buenos Aires</td>\n",
       "      <td>Full-time</td>\n",
       "      <td>2.0</td>\n",
       "      <td>157.0</td>\n",
       "      <td>308.0</td>\n",
       "      <td>25.0</td>\n",
       "    </tr>\n",
       "    <tr>\n",
       "      <th>49655</th>\n",
       "      <td>19194</td>\n",
       "      <td>Posgrado</td>\n",
       "      <td>En Curso</td>\n",
       "      <td>4.0</td>\n",
       "      <td>MASC</td>\n",
       "      <td>0</td>\n",
       "      <td>Senior / Semi-Senior</td>\n",
       "      <td>Gran Buenos Aires</td>\n",
       "      <td>Full-time</td>\n",
       "      <td>0.0</td>\n",
       "      <td>0.0</td>\n",
       "      <td>0.0</td>\n",
       "      <td>32.0</td>\n",
       "    </tr>\n",
       "    <tr>\n",
       "      <th>78597</th>\n",
       "      <td>63292</td>\n",
       "      <td>Universitario</td>\n",
       "      <td>En Curso</td>\n",
       "      <td>3.0</td>\n",
       "      <td>FEM</td>\n",
       "      <td>0</td>\n",
       "      <td>Senior / Semi-Senior</td>\n",
       "      <td>Gran Buenos Aires</td>\n",
       "      <td>Full-time</td>\n",
       "      <td>0.0</td>\n",
       "      <td>0.0</td>\n",
       "      <td>0.0</td>\n",
       "      <td>25.0</td>\n",
       "    </tr>\n",
       "    <tr>\n",
       "      <th>3477</th>\n",
       "      <td>19539</td>\n",
       "      <td>Universitario</td>\n",
       "      <td>Graduado</td>\n",
       "      <td>3.0</td>\n",
       "      <td>FEM</td>\n",
       "      <td>0</td>\n",
       "      <td>Senior / Semi-Senior</td>\n",
       "      <td>Gran Buenos Aires</td>\n",
       "      <td>Full-time</td>\n",
       "      <td>4.0</td>\n",
       "      <td>704.0</td>\n",
       "      <td>16.0</td>\n",
       "      <td>42.0</td>\n",
       "    </tr>\n",
       "  </tbody>\n",
       "</table>\n",
       "</div>"
      ],
      "text/plain": [
       "          id         nombre    estado  nombre_sort  sexo  descripcion  \\\n",
       "67695  43924     Secundario  Graduado          1.0   FEM            1   \n",
       "18269  65449  Universitario  En Curso          3.0  MASC            0   \n",
       "49655  19194       Posgrado  En Curso          4.0  MASC            0   \n",
       "78597  63292  Universitario  En Curso          3.0   FEM            0   \n",
       "3477   19539  Universitario  Graduado          3.0   FEM            0   \n",
       "\n",
       "              nivel_laboral        nombre_zona tipo_de_trabajo  cantVistas  \\\n",
       "67695                Junior  Gran Buenos Aires       Part-time         0.0   \n",
       "18269  Senior / Semi-Senior  Gran Buenos Aires       Full-time         2.0   \n",
       "49655  Senior / Semi-Senior  Gran Buenos Aires       Full-time         0.0   \n",
       "78597  Senior / Semi-Senior  Gran Buenos Aires       Full-time         0.0   \n",
       "3477   Senior / Semi-Senior  Gran Buenos Aires       Full-time         4.0   \n",
       "\n",
       "       postulantes  cantPostulaciones  edadPostulante  \n",
       "67695          0.0                0.0            26.0  \n",
       "18269        157.0              308.0            25.0  \n",
       "49655          0.0                0.0            32.0  \n",
       "78597          0.0                0.0            25.0  \n",
       "3477         704.0               16.0            42.0  "
      ]
     },
     "execution_count": 155,
     "metadata": {},
     "output_type": "execute_result"
    }
   ],
   "source": [
    "test.sample(5)"
   ]
  },
  {
   "cell_type": "code",
   "execution_count": 156,
   "metadata": {},
   "outputs": [],
   "source": [
    "#Paso los valores a categoricos\n",
    "test['nombre'] = test['nombre'].astype('category')\n",
    "test['estado'] = test['estado'].astype('category')\n",
    "test['sexo'] = test['sexo'].astype('category')\n",
    "test['nombre_zona'] = test['nombre_zona'].astype('category')\n",
    "test['nivel_laboral'] = test['nivel_laboral'].astype('category')\n",
    "test['tipo_de_trabajo'] = test['tipo_de_trabajo'].astype('category')\n"
   ]
  },
  {
   "cell_type": "code",
   "execution_count": 157,
   "metadata": {},
   "outputs": [],
   "source": [
    "result = clf.predict_proba(test[['edadPostulante','cantVistas','cantPostulaciones','postulantes']])"
   ]
  },
  {
   "cell_type": "code",
   "execution_count": 158,
   "metadata": {},
   "outputs": [],
   "source": [
    "    result2 = []\n",
    "    for elem in result:\n",
    "        result2.append(elem[1])"
   ]
  },
  {
   "cell_type": "code",
   "execution_count": 159,
   "metadata": {},
   "outputs": [],
   "source": [
    "test['sepostulo'] = result2"
   ]
  },
  {
   "cell_type": "code",
   "execution_count": 160,
   "metadata": {},
   "outputs": [],
   "source": [
    "test = test[['id','sepostulo']]"
   ]
  },
  {
   "cell_type": "code",
   "execution_count": 161,
   "metadata": {},
   "outputs": [
    {
     "data": {
      "text/html": [
       "<div>\n",
       "<style scoped>\n",
       "    .dataframe tbody tr th:only-of-type {\n",
       "        vertical-align: middle;\n",
       "    }\n",
       "\n",
       "    .dataframe tbody tr th {\n",
       "        vertical-align: top;\n",
       "    }\n",
       "\n",
       "    .dataframe thead th {\n",
       "        text-align: right;\n",
       "    }\n",
       "</style>\n",
       "<table border=\"1\" class=\"dataframe\">\n",
       "  <thead>\n",
       "    <tr style=\"text-align: right;\">\n",
       "      <th></th>\n",
       "      <th>id</th>\n",
       "      <th>sepostulo</th>\n",
       "    </tr>\n",
       "  </thead>\n",
       "  <tbody>\n",
       "    <tr>\n",
       "      <th>48446</th>\n",
       "      <td>17357</td>\n",
       "      <td>0.182416</td>\n",
       "    </tr>\n",
       "    <tr>\n",
       "      <th>67653</th>\n",
       "      <td>43831</td>\n",
       "      <td>0.182416</td>\n",
       "    </tr>\n",
       "    <tr>\n",
       "      <th>52129</th>\n",
       "      <td>22469</td>\n",
       "      <td>0.182416</td>\n",
       "    </tr>\n",
       "    <tr>\n",
       "      <th>32624</th>\n",
       "      <td>44109</td>\n",
       "      <td>0.182416</td>\n",
       "    </tr>\n",
       "    <tr>\n",
       "      <th>97745</th>\n",
       "      <td>97745</td>\n",
       "      <td>0.182416</td>\n",
       "    </tr>\n",
       "  </tbody>\n",
       "</table>\n",
       "</div>"
      ],
      "text/plain": [
       "          id  sepostulo\n",
       "48446  17357   0.182416\n",
       "67653  43831   0.182416\n",
       "52129  22469   0.182416\n",
       "32624  44109   0.182416\n",
       "97745  97745   0.182416"
      ]
     },
     "execution_count": 161,
     "metadata": {},
     "output_type": "execute_result"
    }
   ],
   "source": [
    "test.sample(5)"
   ]
  },
  {
   "cell_type": "code",
   "execution_count": 162,
   "metadata": {},
   "outputs": [
    {
     "data": {
      "text/plain": [
       "0.35088252579096896"
      ]
     },
     "execution_count": 162,
     "metadata": {},
     "output_type": "execute_result"
    }
   ],
   "source": [
    "#Verificamos como nos fue aproximadamente\n",
    "test['sepostulo'].mean()"
   ]
  },
  {
   "cell_type": "code",
   "execution_count": 163,
   "metadata": {},
   "outputs": [],
   "source": [
    "test.to_csv('Predictions/Lightgbm6Mv6.csv', index=False)"
   ]
  },
  {
   "cell_type": "code",
   "execution_count": null,
   "metadata": {},
   "outputs": [],
   "source": []
  }
 ],
 "metadata": {
  "kernelspec": {
   "display_name": "Python 3",
   "language": "python",
   "name": "python3"
  },
  "language_info": {
   "codemirror_mode": {
    "name": "ipython",
    "version": 3
   },
   "file_extension": ".py",
   "mimetype": "text/x-python",
   "name": "python",
   "nbconvert_exporter": "python",
   "pygments_lexer": "ipython3",
   "version": "3.5.2"
  }
 },
 "nbformat": 4,
 "nbformat_minor": 2
}
