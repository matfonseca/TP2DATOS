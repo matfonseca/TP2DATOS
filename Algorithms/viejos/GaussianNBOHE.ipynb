{
 "cells": [
  {
   "cell_type": "code",
   "execution_count": null,
   "metadata": {},
   "outputs": [],
   "source": [
    "import numpy as np\n",
    "import pandas as pd\n",
    "import seaborn as sb\n",
    "import matplotlib.pyplot as plt\n",
    "%matplotlib inline\n",
    "from sklearn.naive_bayes import GaussianNB"
   ]
  },
  {
   "cell_type": "code",
   "execution_count": 2,
   "metadata": {},
   "outputs": [],
   "source": [
    "#La primer version tiene mas filas pero por la cantidad de columnas tuve que quedarme con una version\n",
    "#mas reducida aun\n",
    "total_train = pd.read_csv('entrenamiento6Mohev2.csv')"
   ]
  },
  {
   "cell_type": "code",
   "execution_count": 15,
   "metadata": {},
   "outputs": [
    {
     "data": {
      "text/plain": [
       "se_postulo           3500000\n",
       "estado_0             3500000\n",
       "estado_1             3500000\n",
       "estado_2             3500000\n",
       "nivel_laboral_0      3500000\n",
       "nivel_laboral_1      3500000\n",
       "nivel_laboral_2      3500000\n",
       "nivel_laboral_3      3500000\n",
       "nivel_laboral_4      3500000\n",
       "nombre_sort_0.0      3500000\n",
       "nombre_sort_1.0      3500000\n",
       "nombre_sort_2.0      3500000\n",
       "nombre_sort_3.0      3500000\n",
       "nombre_sort_4.0      3500000\n",
       "nombre_sort_5.0      3500000\n",
       "nombre_sort_6.0      3500000\n",
       "nombre_zona_0        3500000\n",
       "nombre_zona_1        3500000\n",
       "nombre_zona_2        3500000\n",
       "nombre_zona_3        3500000\n",
       "sexo_0               3500000\n",
       "sexo_1               3500000\n",
       "sexo_2               3500000\n",
       "sexo_3               3500000\n",
       "tipo_de_trabajo_0    3500000\n",
       "tipo_de_trabajo_1    3500000\n",
       "tipo_de_trabajo_2    3500000\n",
       "tipo_de_trabajo_3    3500000\n",
       "tipo_de_trabajo_4    3500000\n",
       "tipo_de_trabajo_5    3500000\n",
       "tipo_de_trabajo_6    3500000\n",
       "tipo_de_trabajo_7    3500000\n",
       "tipo_de_trabajo_8    3500000\n",
       "tipo_de_trabajo_9    3500000\n",
       "edadEncoded_0.0      3500000\n",
       "edadEncoded_1.0      3500000\n",
       "edadEncoded_2.0      3500000\n",
       "edadEncoded_3.0      3500000\n",
       "edadEncoded_4.0      3500000\n",
       "dtype: int64"
      ]
     },
     "execution_count": 15,
     "metadata": {},
     "output_type": "execute_result"
    }
   ],
   "source": [
    "total_train.count()"
   ]
  },
  {
   "cell_type": "code",
   "execution_count": 3,
   "metadata": {},
   "outputs": [
    {
     "data": {
      "text/html": [
       "<div>\n",
       "<style scoped>\n",
       "    .dataframe tbody tr th:only-of-type {\n",
       "        vertical-align: middle;\n",
       "    }\n",
       "\n",
       "    .dataframe tbody tr th {\n",
       "        vertical-align: top;\n",
       "    }\n",
       "\n",
       "    .dataframe thead th {\n",
       "        text-align: right;\n",
       "    }\n",
       "</style>\n",
       "<table border=\"1\" class=\"dataframe\">\n",
       "  <thead>\n",
       "    <tr style=\"text-align: right;\">\n",
       "      <th></th>\n",
       "      <th>se_postulo</th>\n",
       "      <th>estado_0</th>\n",
       "      <th>estado_1</th>\n",
       "      <th>estado_2</th>\n",
       "      <th>nivel_laboral_0</th>\n",
       "      <th>nivel_laboral_1</th>\n",
       "      <th>nivel_laboral_2</th>\n",
       "      <th>nivel_laboral_3</th>\n",
       "      <th>nivel_laboral_4</th>\n",
       "      <th>nombre_sort_0.0</th>\n",
       "      <th>...</th>\n",
       "      <th>tipo_de_trabajo_5</th>\n",
       "      <th>tipo_de_trabajo_6</th>\n",
       "      <th>tipo_de_trabajo_7</th>\n",
       "      <th>tipo_de_trabajo_8</th>\n",
       "      <th>tipo_de_trabajo_9</th>\n",
       "      <th>edadEncoded_0.0</th>\n",
       "      <th>edadEncoded_1.0</th>\n",
       "      <th>edadEncoded_2.0</th>\n",
       "      <th>edadEncoded_3.0</th>\n",
       "      <th>edadEncoded_4.0</th>\n",
       "    </tr>\n",
       "  </thead>\n",
       "  <tbody>\n",
       "    <tr>\n",
       "      <th>0</th>\n",
       "      <td>1</td>\n",
       "      <td>0</td>\n",
       "      <td>1</td>\n",
       "      <td>0</td>\n",
       "      <td>0</td>\n",
       "      <td>0</td>\n",
       "      <td>0</td>\n",
       "      <td>0</td>\n",
       "      <td>1</td>\n",
       "      <td>0</td>\n",
       "      <td>...</td>\n",
       "      <td>0</td>\n",
       "      <td>0</td>\n",
       "      <td>0</td>\n",
       "      <td>0</td>\n",
       "      <td>0</td>\n",
       "      <td>0</td>\n",
       "      <td>0</td>\n",
       "      <td>1</td>\n",
       "      <td>0</td>\n",
       "      <td>0</td>\n",
       "    </tr>\n",
       "    <tr>\n",
       "      <th>1</th>\n",
       "      <td>0</td>\n",
       "      <td>0</td>\n",
       "      <td>1</td>\n",
       "      <td>0</td>\n",
       "      <td>1</td>\n",
       "      <td>0</td>\n",
       "      <td>0</td>\n",
       "      <td>0</td>\n",
       "      <td>0</td>\n",
       "      <td>0</td>\n",
       "      <td>...</td>\n",
       "      <td>0</td>\n",
       "      <td>0</td>\n",
       "      <td>0</td>\n",
       "      <td>0</td>\n",
       "      <td>0</td>\n",
       "      <td>0</td>\n",
       "      <td>0</td>\n",
       "      <td>0</td>\n",
       "      <td>1</td>\n",
       "      <td>0</td>\n",
       "    </tr>\n",
       "    <tr>\n",
       "      <th>2</th>\n",
       "      <td>0</td>\n",
       "      <td>0</td>\n",
       "      <td>1</td>\n",
       "      <td>0</td>\n",
       "      <td>0</td>\n",
       "      <td>0</td>\n",
       "      <td>0</td>\n",
       "      <td>0</td>\n",
       "      <td>1</td>\n",
       "      <td>0</td>\n",
       "      <td>...</td>\n",
       "      <td>0</td>\n",
       "      <td>0</td>\n",
       "      <td>0</td>\n",
       "      <td>0</td>\n",
       "      <td>0</td>\n",
       "      <td>0</td>\n",
       "      <td>1</td>\n",
       "      <td>0</td>\n",
       "      <td>0</td>\n",
       "      <td>0</td>\n",
       "    </tr>\n",
       "    <tr>\n",
       "      <th>3</th>\n",
       "      <td>0</td>\n",
       "      <td>0</td>\n",
       "      <td>1</td>\n",
       "      <td>0</td>\n",
       "      <td>0</td>\n",
       "      <td>1</td>\n",
       "      <td>0</td>\n",
       "      <td>0</td>\n",
       "      <td>0</td>\n",
       "      <td>0</td>\n",
       "      <td>...</td>\n",
       "      <td>0</td>\n",
       "      <td>0</td>\n",
       "      <td>0</td>\n",
       "      <td>0</td>\n",
       "      <td>0</td>\n",
       "      <td>0</td>\n",
       "      <td>1</td>\n",
       "      <td>0</td>\n",
       "      <td>0</td>\n",
       "      <td>0</td>\n",
       "    </tr>\n",
       "    <tr>\n",
       "      <th>4</th>\n",
       "      <td>0</td>\n",
       "      <td>0</td>\n",
       "      <td>0</td>\n",
       "      <td>1</td>\n",
       "      <td>0</td>\n",
       "      <td>0</td>\n",
       "      <td>1</td>\n",
       "      <td>0</td>\n",
       "      <td>0</td>\n",
       "      <td>0</td>\n",
       "      <td>...</td>\n",
       "      <td>0</td>\n",
       "      <td>0</td>\n",
       "      <td>0</td>\n",
       "      <td>0</td>\n",
       "      <td>0</td>\n",
       "      <td>0</td>\n",
       "      <td>0</td>\n",
       "      <td>0</td>\n",
       "      <td>1</td>\n",
       "      <td>0</td>\n",
       "    </tr>\n",
       "  </tbody>\n",
       "</table>\n",
       "<p>5 rows × 39 columns</p>\n",
       "</div>"
      ],
      "text/plain": [
       "   se_postulo  estado_0  estado_1  estado_2  nivel_laboral_0  nivel_laboral_1  \\\n",
       "0           1         0         1         0                0                0   \n",
       "1           0         0         1         0                1                0   \n",
       "2           0         0         1         0                0                0   \n",
       "3           0         0         1         0                0                1   \n",
       "4           0         0         0         1                0                0   \n",
       "\n",
       "   nivel_laboral_2  nivel_laboral_3  nivel_laboral_4  nombre_sort_0.0  \\\n",
       "0                0                0                1                0   \n",
       "1                0                0                0                0   \n",
       "2                0                0                1                0   \n",
       "3                0                0                0                0   \n",
       "4                1                0                0                0   \n",
       "\n",
       "        ...         tipo_de_trabajo_5  tipo_de_trabajo_6  tipo_de_trabajo_7  \\\n",
       "0       ...                         0                  0                  0   \n",
       "1       ...                         0                  0                  0   \n",
       "2       ...                         0                  0                  0   \n",
       "3       ...                         0                  0                  0   \n",
       "4       ...                         0                  0                  0   \n",
       "\n",
       "   tipo_de_trabajo_8  tipo_de_trabajo_9  edadEncoded_0.0  edadEncoded_1.0  \\\n",
       "0                  0                  0                0                0   \n",
       "1                  0                  0                0                0   \n",
       "2                  0                  0                0                1   \n",
       "3                  0                  0                0                1   \n",
       "4                  0                  0                0                0   \n",
       "\n",
       "   edadEncoded_2.0  edadEncoded_3.0  edadEncoded_4.0  \n",
       "0                1                0                0  \n",
       "1                0                1                0  \n",
       "2                0                0                0  \n",
       "3                0                0                0  \n",
       "4                0                1                0  \n",
       "\n",
       "[5 rows x 39 columns]"
      ]
     },
     "execution_count": 3,
     "metadata": {},
     "output_type": "execute_result"
    }
   ],
   "source": [
    "#Disminuyo mas la cantidad de filas a 3.500.000, manteniendo aprox la proporciones de postulaciones\n",
    "#no postulaciones en un 50-50\n",
    "total_train = total_train.sample(3500000)\n",
    "total_train.reset_index(inplace = True,drop = True)\n",
    "total_train.head()"
   ]
  },
  {
   "cell_type": "code",
   "execution_count": 4,
   "metadata": {},
   "outputs": [],
   "source": [
    "#Como no esta en el set de test lo elimino\n",
    "total_train.drop(columns = ['sexo_3'],inplace = True)"
   ]
  },
  {
   "cell_type": "code",
   "execution_count": 5,
   "metadata": {},
   "outputs": [],
   "source": [
    "from sklearn.model_selection import train_test_split\n",
    "\n",
    "X_train, X_test, y_train, y_test = train_test_split(total_train.drop(['se_postulo'], axis=1).values, total_train['se_postulo'], test_size=0.20, random_state=42)"
   ]
  },
  {
   "cell_type": "code",
   "execution_count": 6,
   "metadata": {},
   "outputs": [],
   "source": [
    "clf = GaussianNB()"
   ]
  },
  {
   "cell_type": "code",
   "execution_count": 7,
   "metadata": {},
   "outputs": [
    {
     "data": {
      "text/plain": [
       "GaussianNB(priors=None)"
      ]
     },
     "execution_count": 7,
     "metadata": {},
     "output_type": "execute_result"
    }
   ],
   "source": [
    "clf.fit(X_train, y_train) "
   ]
  },
  {
   "cell_type": "code",
   "execution_count": 8,
   "metadata": {},
   "outputs": [
    {
     "data": {
      "text/plain": [
       "array([1, 1, 1, ..., 1, 1, 1])"
      ]
     },
     "execution_count": 8,
     "metadata": {},
     "output_type": "execute_result"
    }
   ],
   "source": [
    "clf.predict(X_test)"
   ]
  },
  {
   "cell_type": "code",
   "execution_count": 9,
   "metadata": {},
   "outputs": [
    {
     "data": {
      "text/plain": [
       "0.5609228571428572"
      ]
     },
     "execution_count": 9,
     "metadata": {},
     "output_type": "execute_result"
    }
   ],
   "source": [
    "#Pruebo el score para ver si realiza overfitting\n",
    "clf.score(X_test,y_test)"
   ]
  },
  {
   "cell_type": "code",
   "execution_count": 10,
   "metadata": {},
   "outputs": [],
   "source": [
    "test = pd.read_csv('test6Mohe.csv')"
   ]
  },
  {
   "cell_type": "code",
   "execution_count": 11,
   "metadata": {},
   "outputs": [],
   "source": [
    "#Como no esta en el set de train elimino las columnas\n",
    "test.drop(columns = ['nivel_laboral_5',\n",
    "'nivel_laboral_6','nombre_zona_4','nombre_zona_5','nombre_zona_6','nombre_zona_7','nombre_zona_8','nombre_zona_9','nombre_zona_10','nombre_zona_11',\n",
    "                     'nombre_zona_12','nombre_zona_13','nombre_zona_14','nombre_zona_15','nombre_zona_16','nombre_zona_17','tipo_de_trabajo_10'],inplace = True)"
   ]
  },
  {
   "cell_type": "code",
   "execution_count": 12,
   "metadata": {},
   "outputs": [],
   "source": [
    "test = test.drop(['idaviso','idpostulante'],axis=1)"
   ]
  },
  {
   "cell_type": "code",
   "execution_count": 13,
   "metadata": {},
   "outputs": [],
   "source": [
    "result = clf.predict(test.drop(['id'],axis = 1))"
   ]
  },
  {
   "cell_type": "code",
   "execution_count": 14,
   "metadata": {},
   "outputs": [],
   "source": [
    "test['sepostulo'] = result"
   ]
  },
  {
   "cell_type": "code",
   "execution_count": 16,
   "metadata": {},
   "outputs": [],
   "source": [
    "test = test[['id','sepostulo']]"
   ]
  },
  {
   "cell_type": "code",
   "execution_count": 17,
   "metadata": {},
   "outputs": [
    {
     "data": {
      "text/html": [
       "<div>\n",
       "<style scoped>\n",
       "    .dataframe tbody tr th:only-of-type {\n",
       "        vertical-align: middle;\n",
       "    }\n",
       "\n",
       "    .dataframe tbody tr th {\n",
       "        vertical-align: top;\n",
       "    }\n",
       "\n",
       "    .dataframe thead th {\n",
       "        text-align: right;\n",
       "    }\n",
       "</style>\n",
       "<table border=\"1\" class=\"dataframe\">\n",
       "  <thead>\n",
       "    <tr style=\"text-align: right;\">\n",
       "      <th></th>\n",
       "      <th>id</th>\n",
       "      <th>sepostulo</th>\n",
       "    </tr>\n",
       "  </thead>\n",
       "  <tbody>\n",
       "    <tr>\n",
       "      <th>0</th>\n",
       "      <td>0</td>\n",
       "      <td>0</td>\n",
       "    </tr>\n",
       "    <tr>\n",
       "      <th>1</th>\n",
       "      <td>1</td>\n",
       "      <td>1</td>\n",
       "    </tr>\n",
       "    <tr>\n",
       "      <th>2</th>\n",
       "      <td>2</td>\n",
       "      <td>0</td>\n",
       "    </tr>\n",
       "    <tr>\n",
       "      <th>3</th>\n",
       "      <td>3</td>\n",
       "      <td>1</td>\n",
       "    </tr>\n",
       "    <tr>\n",
       "      <th>4</th>\n",
       "      <td>4</td>\n",
       "      <td>0</td>\n",
       "    </tr>\n",
       "  </tbody>\n",
       "</table>\n",
       "</div>"
      ],
      "text/plain": [
       "   id  sepostulo\n",
       "0   0          0\n",
       "1   1          1\n",
       "2   2          0\n",
       "3   3          1\n",
       "4   4          0"
      ]
     },
     "execution_count": 17,
     "metadata": {},
     "output_type": "execute_result"
    }
   ],
   "source": [
    "test.head()"
   ]
  },
  {
   "cell_type": "code",
   "execution_count": 18,
   "metadata": {},
   "outputs": [
    {
     "data": {
      "text/plain": [
       "1    50957\n",
       "0    49043\n",
       "Name: sepostulo, dtype: int64"
      ]
     },
     "execution_count": 18,
     "metadata": {},
     "output_type": "execute_result"
    }
   ],
   "source": [
    "#Verificamos como nos fue aproximadamente\n",
    "test['sepostulo'].value_counts()"
   ]
  },
  {
   "cell_type": "code",
   "execution_count": 19,
   "metadata": {},
   "outputs": [],
   "source": [
    "GaussianNB3 = test.to_csv('GaussianNB4OHE.csv', index=False)"
   ]
  },
  {
   "cell_type": "code",
   "execution_count": null,
   "metadata": {},
   "outputs": [],
   "source": []
  }
 ],
 "metadata": {
  "kernelspec": {
   "display_name": "Python 3",
   "language": "python",
   "name": "python3"
  },
  "language_info": {
   "codemirror_mode": {
    "name": "ipython",
    "version": 3
   },
   "file_extension": ".py",
   "mimetype": "text/x-python",
   "name": "python",
   "nbconvert_exporter": "python",
   "pygments_lexer": "ipython3",
   "version": "3.5.2"
  }
 },
 "nbformat": 4,
 "nbformat_minor": 2
}
